{
 "cells": [
  {
   "cell_type": "markdown",
   "metadata": {},
   "source": [
    "## 역전파 학습법을 이용한 심층 신경망 학습"
   ]
  },
  {
   "cell_type": "markdown",
   "metadata": {},
   "source": [
    "## Import modules"
   ]
  },
  {
   "cell_type": "code",
   "execution_count": 1,
   "metadata": {},
   "outputs": [],
   "source": [
    "import time\n",
    "import numpy as np"
   ]
  },
  {
   "cell_type": "markdown",
   "metadata": {},
   "source": [
    "## 유틸리티 함수"
   ]
  },
  {
   "cell_type": "code",
   "execution_count": 2,
   "metadata": {},
   "outputs": [],
   "source": [
    "def _t(x):\n",
    "    return np.transpose(x)\n",
    "\n",
    "def _m(A, B):\n",
    "    return np.matmul(A, B)"
   ]
  },
  {
   "cell_type": "markdown",
   "metadata": {},
   "source": [
    "## Sigmoid 구현"
   ]
  },
  {
   "cell_type": "code",
   "execution_count": 3,
   "metadata": {},
   "outputs": [],
   "source": [
    "class Sigmoid:\n",
    "    def __init__(self):\n",
    "        self.last_o = 1\n",
    "\n",
    "    def __call__(self, x):\n",
    "        self.last_o = 1.0 / (1.0 + np.exp(-x))\n",
    "        return self.last_o\n",
    "\n",
    "    def grad(self): # sigmoid(x)(1 - sigmoid(x))\n",
    "        return self.last_o * (1.0 - self.last_o)"
   ]
  },
  {
   "cell_type": "markdown",
   "metadata": {},
   "source": [
    "## Mean Squared Error 구현"
   ]
  },
  {
   "cell_type": "code",
   "execution_count": 4,
   "metadata": {},
   "outputs": [],
   "source": [
    "class MeanSquaredError: # 1/2 * mean((h - y)^2)  --> h - y\n",
    "    def __init__(self):\n",
    "        self.dh = 1\n",
    "        self.last_diff = 1\n",
    "\n",
    "    def __call__(self, h, y):\n",
    "        self.last_diff = h - y\n",
    "        return 1 / 2 * np.mean(np.square(self.last_diff))\n",
    "\n",
    "    def grad(self):\n",
    "        return self.last_diff"
   ]
  },
  {
   "cell_type": "markdown",
   "metadata": {},
   "source": [
    "## Dense Layer 구현"
   ]
  },
  {
   "cell_type": "code",
   "execution_count": 5,
   "metadata": {},
   "outputs": [],
   "source": [
    "class Dense:\n",
    "    def __init__(self, W, b, a_obj):\n",
    "        self.W = W\n",
    "        self.b = b\n",
    "        self.a = a_obj()\n",
    "        \n",
    "        self.dW = np.zeros_like(self.W)\n",
    "        self.db = np.zeros_like(self.b)\n",
    "        self.dh = np.zeros_like(_t(self.W))\n",
    "        \n",
    "        self.last_x = np.zeros((self.W.shape[0]))\n",
    "        self.last_h = np.zeros((self.W.shape[1]))\n",
    "        \n",
    "\n",
    "    def __call__(self, x):\n",
    "        self.last_x = x\n",
    "        self.last_h = _m(_t(self.W), x) + self.b\n",
    "        return self.a(self.last_h)\n",
    "\n",
    "    def grad(self): # dy/dh = W\n",
    "        return self.W * self.a.grad()\n",
    "\n",
    "    def grad_W(self, dh):\n",
    "        grad = np.ones_like(self.W)\n",
    "        grad_a = self.a.grad()\n",
    "        for j in range(grad.shape[1]): # dy/dw = x\n",
    "            grad[:, j] = dh[j] * grad_a[j] * self.last_x\n",
    "        return grad\n",
    "\n",
    "    def grad_b(self, dh): # dy/db = 1\n",
    "        return dh * self.a.grad()"
   ]
  },
  {
   "cell_type": "markdown",
   "metadata": {},
   "source": [
    "## 심층신경망 구현"
   ]
  },
  {
   "cell_type": "code",
   "execution_count": 6,
   "metadata": {},
   "outputs": [],
   "source": [
    "class DNN:\n",
    "    def __init__(self, hidden_depth, num_neuron, input, output, activation=Sigmoid):\n",
    "        def init_var(i, o):\n",
    "            return np.random.normal(0.0, 0.01, (i, o)), np.zeros((o,))\n",
    "\n",
    "        self.sequence = list()\n",
    "        # First hidden layer\n",
    "        W, b = init_var(input, num_neuron)\n",
    "        self.sequence.append(Dense(W, b, activation))\n",
    "\n",
    "        # Hidden Layers\n",
    "        for index in range(hidden_depth):\n",
    "            W, b = init_var(num_neuron, num_neuron)\n",
    "            self.sequence.append(Dense(W, b, activation))\n",
    "\n",
    "        # Output Layer\n",
    "        W, b = init_var(num_neuron, output)\n",
    "        self.sequence.append(Dense(W, b, activation))\n",
    "\n",
    "    def __call__(self, x):\n",
    "        for layer in self.sequence:\n",
    "            x = layer(x)\n",
    "        return x\n",
    "\n",
    "    def calc_gradient(self, loss_obj):\n",
    "        loss_obj.dh = loss_obj.grad()\n",
    "        self.sequence.append(loss_obj)\n",
    "        \n",
    "        # back-prop loop\n",
    "        for i in range(len(self.sequence) - 1, 0, -1):\n",
    "            l1 = self.sequence[i]\n",
    "            l0 = self.sequence[i - 1]\n",
    "            \n",
    "            l0.dh = _m(l0.grad(), l1.dh)\n",
    "            l0.dW = l0.grad_W(l1.dh)\n",
    "            l0.db = l0.grad_b(l1.dh)\n",
    "        \n",
    "        self.sequence.remove(loss_obj)"
   ]
  },
  {
   "cell_type": "markdown",
   "metadata": {},
   "source": [
    "## 경사하강 학습법"
   ]
  },
  {
   "cell_type": "code",
   "execution_count": 7,
   "metadata": {},
   "outputs": [],
   "source": [
    "def gradient_descent(network, x, y, loss_obj, alpha=0.01):\n",
    "    loss = loss_obj(network(x), y)  # Forward inference\n",
    "    network.calc_gradient(loss_obj)  # Back-propagation\n",
    "    for layer in network.sequence:\n",
    "        layer.W += -alpha * layer.dW\n",
    "        layer.b += -alpha * layer.db\n",
    "    return loss"
   ]
  },
  {
   "cell_type": "markdown",
   "metadata": {},
   "source": [
    "## 동작 테스트"
   ]
  },
  {
   "cell_type": "code",
   "execution_count": 10,
   "metadata": {},
   "outputs": [
    {
     "name": "stdout",
     "output_type": "stream",
     "text": [
      "Epoch 0: Test loss 0.3103067735508177\n",
      "Epoch 1: Test loss 0.30682173087301284\n",
      "Epoch 2: Test loss 0.3033783731307761\n",
      "Epoch 3: Test loss 0.29997732144044054\n",
      "Epoch 4: Test loss 0.29661912577351235\n",
      "Epoch 5: Test loss 0.29330426629054834\n",
      "Epoch 6: Test loss 0.2900331549008945\n",
      "Epoch 7: Test loss 0.28680613702580565\n",
      "Epoch 8: Test loss 0.28362349354220634\n",
      "Epoch 9: Test loss 0.28048544288438143\n",
      "Epoch 10: Test loss 0.27739214328116246\n",
      "Epoch 11: Test loss 0.2743436951066839\n",
      "Epoch 12: Test loss 0.27134014332348777\n",
      "Epoch 13: Test loss 0.2683814799976345\n",
      "Epoch 14: Test loss 0.2654676468664947\n",
      "Epoch 15: Test loss 0.26259853794102933\n",
      "Epoch 16: Test loss 0.2597740021255882\n",
      "Epoch 17: Test loss 0.2569938458395332\n",
      "Epoch 18: Test loss 0.2542578356263166\n",
      "Epoch 19: Test loss 0.25156570073698103\n",
      "Epoch 20: Test loss 0.2489171356763779\n",
      "Epoch 21: Test loss 0.2463118027017247\n",
      "Epoch 22: Test loss 0.24374933426439693\n",
      "Epoch 23: Test loss 0.24122933538709312\n",
      "Epoch 24: Test loss 0.2387513859696939\n",
      "Epoch 25: Test loss 0.23631504301825212\n",
      "Epoch 26: Test loss 0.23391984279261085\n",
      "Epoch 27: Test loss 0.23156530286911572\n",
      "Epoch 28: Test loss 0.2292509241158006\n",
      "Epoch 29: Test loss 0.22697619257824864\n",
      "Epoch 30: Test loss 0.22474058127508467\n",
      "Epoch 31: Test loss 0.22254355190273178\n",
      "Epoch 32: Test loss 0.22038455644966926\n",
      "Epoch 33: Test loss 0.2182630387209638\n",
      "Epoch 34: Test loss 0.21617843577431167\n",
      "Epoch 35: Test loss 0.21413017926923522\n",
      "Epoch 36: Test loss 0.21211769673142128\n",
      "Epoch 37: Test loss 0.2101404127344778\n",
      "Epoch 38: Test loss 0.20819775000162583\n",
      "Epoch 39: Test loss 0.2062891304300322\n",
      "Epoch 40: Test loss 0.20441397604064332\n",
      "Epoch 41: Test loss 0.20257170985648598\n",
      "Epoch 42: Test loss 0.20076175671248275\n",
      "Epoch 43: Test loss 0.19898354399987217\n",
      "Epoch 44: Test loss 0.19723650234834653\n",
      "Epoch 45: Test loss 0.19552006624901264\n",
      "Epoch 46: Test loss 0.1938336746212594\n",
      "Epoch 47: Test loss 0.1921767713265704\n",
      "Epoch 48: Test loss 0.19054880563226523\n",
      "Epoch 49: Test loss 0.1889492326280829\n",
      "Epoch 50: Test loss 0.18737751359843854\n",
      "Epoch 51: Test loss 0.18583311635310062\n",
      "Epoch 52: Test loss 0.18431551551893705\n",
      "Epoch 53: Test loss 0.18282419279528161\n",
      "Epoch 54: Test loss 0.18135863717536857\n",
      "Epoch 55: Test loss 0.1799183451361776\n",
      "Epoch 56: Test loss 0.17850282079892518\n",
      "Epoch 57: Test loss 0.17711157606233185\n",
      "Epoch 58: Test loss 0.17574413071068928\n",
      "Epoch 59: Test loss 0.1744000124986455\n",
      "Epoch 60: Test loss 0.17307875721452387\n",
      "Epoch 61: Test loss 0.1717799087238918\n",
      "Epoch 62: Test loss 0.1705030189949951\n",
      "Epoch 63: Test loss 0.1692476481075816\n",
      "Epoch 64: Test loss 0.16801336424654423\n",
      "Epoch 65: Test loss 0.16679974368172448\n",
      "Epoch 66: Test loss 0.1656063707351364\n",
      "Epoch 67: Test loss 0.16443283773678405\n",
      "Epoch 68: Test loss 0.16327874497017436\n",
      "Epoch 69: Test loss 0.1621437006085482\n",
      "Epoch 70: Test loss 0.16102732064278513\n",
      "Epoch 71: Test loss 0.15992922880186977\n",
      "Epoch 72: Test loss 0.15884905646674471\n",
      "Epoch 73: Test loss 0.15778644257831564\n",
      "Epoch 74: Test loss 0.1567410335403167\n",
      "Epoch 75: Test loss 0.1557124831176935\n",
      "Epoch 76: Test loss 0.15470045233110769\n",
      "Epoch 77: Test loss 0.15370460934812416\n",
      "Epoch 78: Test loss 0.15272462937159453\n",
      "Epoch 79: Test loss 0.1517601945257109\n",
      "Epoch 80: Test loss 0.15081099374016535\n",
      "Epoch 81: Test loss 0.14987672263281293\n",
      "Epoch 82: Test loss 0.1489570833912047\n",
      "Epoch 83: Test loss 0.1480517846533233\n",
      "Epoch 84: Test loss 0.14716054138782567\n",
      "Epoch 85: Test loss 0.14628307477406993\n",
      "Epoch 86: Test loss 0.1454191120821778\n",
      "Epoch 87: Test loss 0.14456838655336035\n",
      "Epoch 88: Test loss 0.14373063728071322\n",
      "Epoch 89: Test loss 0.14290560909066663\n",
      "Epoch 90: Test loss 0.1420930524252573\n",
      "Epoch 91: Test loss 0.14129272322537126\n",
      "Epoch 92: Test loss 0.14050438281509098\n",
      "Epoch 93: Test loss 0.1397277977872652\n",
      "Epoch 94: Test loss 0.1389627398904058\n",
      "Epoch 95: Test loss 0.13820898591700406\n",
      "Epoch 96: Test loss 0.1374663175933461\n",
      "Epoch 97: Test loss 0.13673452147089776\n",
      "Epoch 98: Test loss 0.13601338881931754\n",
      "Epoch 99: Test loss 0.13530271552114995\n",
      "0.13962697982788086 seconds elapsed.\n"
     ]
    }
   ],
   "source": [
    "x = np.random.normal(0.0, 1.0, (10,))\n",
    "y = np.random.normal(0.0, 1.0, (2,))\n",
    "\n",
    "t = time.time()\n",
    "dnn = DNN(hidden_depth=5, num_neuron=32, input=10, output=2, activation=Sigmoid)\n",
    "loss_obj = MeanSquaredError()\n",
    "for epoch in range(100):\n",
    "    loss = gradient_descent(dnn, x, y, loss_obj, alpha=0.01)\n",
    "    print('Epoch {}: Test loss {}'.format(epoch, loss))\n",
    "print('{} seconds elapsed.'.format(time.time() - t))"
   ]
  },
  {
   "cell_type": "code",
   "execution_count": null,
   "metadata": {},
   "outputs": [],
   "source": []
  }
 ],
 "metadata": {
  "kernelspec": {
   "display_name": "Python 3",
   "language": "python",
   "name": "python3"
  },
  "language_info": {
   "codemirror_mode": {
    "name": "ipython",
    "version": 3
   },
   "file_extension": ".py",
   "mimetype": "text/x-python",
   "name": "python",
   "nbconvert_exporter": "python",
   "pygments_lexer": "ipython3",
   "version": "3.7.1"
  }
 },
 "nbformat": 4,
 "nbformat_minor": 2
}
