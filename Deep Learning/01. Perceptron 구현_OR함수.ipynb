{
 "cells": [
  {
   "cell_type": "markdown",
   "metadata": {},
   "source": [
    "# Perceptron 구현 (OR 함수 구현)"
   ]
  },
  {
   "cell_type": "markdown",
   "metadata": {},
   "source": [
    "## Import modules"
   ]
  },
  {
   "cell_type": "code",
   "execution_count": 1,
   "metadata": {},
   "outputs": [],
   "source": [
    "import tensorflow as tf\n",
    "import numpy as np"
   ]
  },
  {
   "cell_type": "markdown",
   "metadata": {},
   "source": [
    "## Perceptron 구현"
   ]
  },
  {
   "cell_type": "code",
   "execution_count": 2,
   "metadata": {},
   "outputs": [],
   "source": [
    "# class를 만들어서 구현하는 방식은 tf 2.0에서 제안하는 방식\n",
    "class Perceptron:\n",
    "    def __init__(self, w, b): # Perceptron은 weight와 bias를 필요\n",
    "        self.w = tf.Variable(w, dtype=tf.float32) # weight를 어떻게 할 건지 Variable로 저장해둠\n",
    "        self.b = tf.Variable(b, dtype=tf.float32) # bias로 마찬가지\n",
    "    # tf.Variable(): 입력은 외부에서 numpy로 입력해줄 것이기 때문에 tensor로 변환해주는 작업\n",
    "    \n",
    "    def __call__(self, x): # Perceptron을 통과했을 때 어떤 출력이 나올 것인지 정의\n",
    "        return tf.sign(tf.reduce_sum(self.w * x) + self.b)\n",
    "    # weight와 입력을 곱해서 전부 다 합쳐 => 하나의 스칼라로 만들어줌\n",
    "    # 그리고 bias로 더해주고, 마지막엔 sign function을 통과시켜서 +1 또는 -1로 바꾸어줌"
   ]
  },
  {
   "cell_type": "markdown",
   "metadata": {},
   "source": [
    "## Utility 함수 구현"
   ]
  },
  {
   "cell_type": "code",
   "execution_count": 3,
   "metadata": {},
   "outputs": [],
   "source": [
    "# 약간의 Tip - numpy 쉽게 사용, 코드 짧게\n",
    "def v(*args): \n",
    "    # 벡터를 표현할 때 np.array()를 이용하는데 *args로 여러개를 받으면 알아서 튜플형태로 묶여서 들어옴\n",
    "    # 묶여들어온 튜플을 가지고 np.array()를 적용해서 벡터로 만들어줄 수 있음\n",
    "    return np.array(args)"
   ]
  },
  {
   "cell_type": "markdown",
   "metadata": {},
   "source": [
    "## Perceptron 정의"
   ]
  },
  {
   "cell_type": "code",
   "execution_count": 4,
   "metadata": {},
   "outputs": [],
   "source": [
    "# Perceptron에 들어가는 weight와 bias 정의\n",
    "# 현재 우리는 OR함수 정의 중\n",
    "w = v(1, 1) # weight가 2개, 둘 다 1인 벡터 \n",
    "b = 0.5\n",
    "\n",
    "perceptron = Perceptron(w, b)"
   ]
  },
  {
   "cell_type": "markdown",
   "metadata": {},
   "source": [
    "## Perceptron 동작 확인"
   ]
  },
  {
   "cell_type": "code",
   "execution_count": 7,
   "metadata": {},
   "outputs": [
    {
     "name": "stdout",
     "output_type": "stream",
     "text": [
      "1.0 1.0\n",
      "-1.0 1.0\n"
     ]
    }
   ],
   "source": [
    "# (1, 1), (-1, 1), (1, -1), (-1, -1) 총 4가지 입력을 통해 확인\n",
    "# 1을 true, -1을 false\n",
    "\n",
    "# 위에서 만든 perceptron (w=v(1,1), b=0.5)으로부터 출력 확인\n",
    "p1 = perceptron(v(1, 1)) # 1 사분면, T, T\n",
    "p2 = perceptron(v(-1, 1)) # 2 사분면, F, T\n",
    "p3 = perceptron(v(-1, -1)) # 3 사분면, F, F\n",
    "p4 = perceptron(v(1, -1)) # 4 사분면, T, F\n",
    "\n",
    "# 4 분면에 맞춰서 그린 것\n",
    "print(p2.numpy(), p1.numpy())\n",
    "print(p3.numpy(), p4.numpy())"
   ]
  },
  {
   "cell_type": "code",
   "execution_count": null,
   "metadata": {},
   "outputs": [],
   "source": []
  }
 ],
 "metadata": {
  "kernelspec": {
   "display_name": "Python 3",
   "language": "python",
   "name": "python3"
  },
  "language_info": {
   "codemirror_mode": {
    "name": "ipython",
    "version": 3
   },
   "file_extension": ".py",
   "mimetype": "text/x-python",
   "name": "python",
   "nbconvert_exporter": "python",
   "pygments_lexer": "ipython3",
   "version": "3.7.1"
  }
 },
 "nbformat": 4,
 "nbformat_minor": 2
}
