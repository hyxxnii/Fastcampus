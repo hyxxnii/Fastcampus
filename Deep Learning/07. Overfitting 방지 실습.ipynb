{
 "cells": [
  {
   "cell_type": "markdown",
   "metadata": {},
   "source": [
    "# Overfitting 방지 실습"
   ]
  },
  {
   "cell_type": "markdown",
   "metadata": {},
   "source": [
    "## Import modules"
   ]
  },
  {
   "cell_type": "code",
   "execution_count": 1,
   "metadata": {},
   "outputs": [],
   "source": [
    "import tensorflow as tf\n",
    "import numpy as np\n",
    "import matplotlib.pyplot as plt # 학습이 어떻게 되고있는지 시각화"
   ]
  },
  {
   "cell_type": "markdown",
   "metadata": {},
   "source": [
    "## 하이퍼파라미터 정의"
   ]
  },
  {
   "cell_type": "code",
   "execution_count": 2,
   "metadata": {},
   "outputs": [],
   "source": [
    "EPOCHS = 50"
   ]
  },
  {
   "cell_type": "markdown",
   "metadata": {},
   "source": [
    "## 네트워크 구조 정의"
   ]
  },
  {
   "cell_type": "code",
   "execution_count": 11,
   "metadata": {},
   "outputs": [],
   "source": [
    "class MyModel(tf.keras.Model):\n",
    "    def __init__(self):\n",
    "        super(MyModel, self).__init__()\n",
    "        self.flatten = tf.keras.layers.Flatten() # 28x28 = 784\n",
    "        # 뉴런 수 64개 -> 많은 건 아니여서 Drop-Out 1개만 해보자\n",
    "        # 전부 다 적용하면 underfitting이 일어날 수 있기때문에 마지막 layer에만 적용해보자\n",
    "        self.dense1 = tf.keras.layers.Dense(64, activation='relu')\n",
    "        self.dense2 = tf.keras.layers.Dense(64, activation='relu')\n",
    "        self.dense3 = tf.keras.layers.Dense(64, activation='relu')\n",
    "        self.dense4 = tf.keras.layers.Dense(128, activation='relu')\n",
    "        \n",
    "        # Drop-Out 1개만 적용\n",
    "        self.dropout4 = tf.keras.layers.Dropout(0.5)\n",
    "        # 만약 Drop-Out 적용했는데 underfitting이 일어나면\n",
    "        # 4번째 layer의 뉴런 수를 64개가 아닌 128개로 올려주면 복잡도를 좀 더 가지겠지\n",
    "        # (지금은 강사님이 이미 128개로 올려놓았음)\n",
    "        self.dense5 = tf.keras.layers.Dense(10, activation='softmax') # 10\n",
    "    \n",
    "    # __init__에서는 keras layer를 정의만 해주고 실제 사용하는 건 __call__에서 \n",
    "    \n",
    "    def call(self, x, training=False, mask=None):\n",
    "        h = self.flatten(x)\n",
    "        h = self.dense1(h)\n",
    "        h = self.dense2(h)\n",
    "        h = self.dense3(h)\n",
    "        h = self.dense4(h)\n",
    "        h = self.dropout4(h)\n",
    "        # 4번째 dense layer 출력 중에 Drop-Out 적용해서\n",
    "        # 0.5확률로 뉴런 쓸까말까 정해서 5번째 dense layer를 사용한다고 보면 됨\n",
    "        return self.dense5(h)"
   ]
  },
  {
   "cell_type": "markdown",
   "metadata": {},
   "source": [
    "## 데이터 불러오기"
   ]
  },
  {
   "cell_type": "code",
   "execution_count": 12,
   "metadata": {},
   "outputs": [],
   "source": [
    "fashion_mnist = tf.keras.datasets.fashion_mnist # 28x28 영상, 0~9까지 9가지 class(신발, 옷, 바지, 치마 등등)\n",
    "\n",
    "(x_train, y_train), (x_test, y_test) = fashion_mnist.load_data()\n",
    "x_train, x_test = x_train / 255.0, x_test / 255.0\n",
    "\n",
    "x_train = x_train.astype(np.float32)\n",
    "x_test = x_test.astype(np.float32)\n",
    "\n",
    "train_ds = tf.data.Dataset.from_tensor_slices((x_train, y_train)).shuffle(10000).batch(32).prefetch(2048)\n",
    "test_ds = tf.data.Dataset.from_tensor_slices((x_test, y_test)).batch(32).prefetch(2048)"
   ]
  },
  {
   "cell_type": "markdown",
   "metadata": {},
   "source": [
    "## 모델 생성"
   ]
  },
  {
   "cell_type": "code",
   "execution_count": 13,
   "metadata": {},
   "outputs": [],
   "source": [
    "model = MyModel()\n",
    "\n",
    "# tensorflow 2.0이 아닌 keras를 이용\n",
    "# keras 이용 장점: model.compile과 model.fit으로 손쉽게 모델 학습 가능\n",
    "model.compile(optimizer='adam',\n",
    "              loss='sparse_categorical_crossentropy',\n",
    "              metrics=['accuracy'])"
   ]
  },
  {
   "cell_type": "markdown",
   "metadata": {},
   "source": [
    "# Early Stopping Callback\n",
    "- keras이용해서 학습할 땐 학습하는 과정에 관여하기가 쉽지않아\n",
    "- model compile해서 어떻게 모델을 쓸 건지, 학습할 건지 해주고\n",
    "- model fit을 해서 결과를 기다리는 것이기 때문에 중간에 끼어들기가 쉽지않아\n",
    "- tensorflow 2.0에서 training step이나 test step을 직접 구현해서 사용할 경우에는 중간중간 원하는 결과 찍어볼 수 있고 다른 동작도 넣어줄 수가 있는데 keras는 그걸 허용하고 있지 않아\n",
    "- 그래서 Callback을 사용함. 다양한 Callback 제공함\n",
    "- tensorboard callback, early stopping callback 등등\n",
    "- Callback : 모델 학습하는 과정에서 한번 batch가 끝날 때나 시작할 때, epoch가 시작할 때 끝날 때, training/validation이 끝날 때나 시작할 때, evaluation이 끝날 때나 시작할 때 등등 특정 동작을 할 수 있게끔 하는 것"
   ]
  },
  {
   "cell_type": "markdown",
   "metadata": {},
   "source": [
    "- early stopping말고 또 다른 generalization 방법은 **Drop-Out**\n",
    "- Drop-Out은 FC layer 사이에서 사용가능, 중간에 있는 뉴런들을 일부 사용하지않고 학습을 함으로써 특정 뉴런들에 너무 의존하지않게끔"
   ]
  },
  {
   "cell_type": "code",
   "execution_count": 15,
   "metadata": {},
   "outputs": [],
   "source": [
    "earlystopper = tf.keras.callbacks.EarlyStopping(monitor='val_loss', patience=10, verbose=1)\n",
    "# monitor='' : 어떤 variable을 monitoring할 건지\n",
    "# val_loss가 증가하는 게 바람직하지않다고 보고 있기 때문에 monitor='val_loss'\n",
    "# patience : 몇 epoch까지 감소하지 않는 것을 용인할 것인가, 얼만큼 참아줄 것이냐\n",
    "# verbose : 언제 EarlyStopping에 의해 멈췄는지 알기위해, verbose를 on해주면 출력을 많이 내어줄 것이냐 레벨을 통해 정할 수 있음\n",
    "# verbose = 0 ;아무것도 안해 1; warning 띄어줌 2;warning과 진행상황 띄움 등등 (tip)"
   ]
  },
  {
   "cell_type": "markdown",
   "metadata": {},
   "source": [
    "## 모델 학습"
   ]
  },
  {
   "cell_type": "code",
   "execution_count": 16,
   "metadata": {
    "scrolled": false
   },
   "outputs": [
    {
     "name": "stdout",
     "output_type": "stream",
     "text": [
      "Train for 1875 steps, validate for 313 steps\n",
      "Epoch 1/50\n",
      "1875/1875 [==============================] - 8s 4ms/step - loss: 0.3777 - accuracy: 0.8642 - val_loss: 0.3840 - val_accuracy: 0.8654\n",
      "Epoch 2/50\n",
      "1875/1875 [==============================] - 7s 4ms/step - loss: 0.3586 - accuracy: 0.8711 - val_loss: 0.3840 - val_accuracy: 0.8573\n",
      "Epoch 3/50\n",
      "1875/1875 [==============================] - 7s 4ms/step - loss: 0.3343 - accuracy: 0.8802 - val_loss: 0.3832 - val_accuracy: 0.8642\n",
      "Epoch 4/50\n",
      "1875/1875 [==============================] - 7s 4ms/step - loss: 0.3202 - accuracy: 0.8849 - val_loss: 0.3736 - val_accuracy: 0.8683\n",
      "Epoch 5/50\n",
      "1875/1875 [==============================] - 5s 3ms/step - loss: 0.3118 - accuracy: 0.8860 - val_loss: 0.3760 - val_accuracy: 0.8655\n",
      "Epoch 6/50\n",
      "1875/1875 [==============================] - 5s 3ms/step - loss: 0.2967 - accuracy: 0.8915 - val_loss: 0.3541 - val_accuracy: 0.8754\n",
      "Epoch 7/50\n",
      "1875/1875 [==============================] - 5s 3ms/step - loss: 0.2924 - accuracy: 0.8931 - val_loss: 0.3524 - val_accuracy: 0.8742\n",
      "Epoch 8/50\n",
      "1875/1875 [==============================] - 5s 3ms/step - loss: 0.2826 - accuracy: 0.8971 - val_loss: 0.3965 - val_accuracy: 0.8555\n",
      "Epoch 9/50\n",
      "1875/1875 [==============================] - 5s 3ms/step - loss: 0.2762 - accuracy: 0.8987 - val_loss: 0.3590 - val_accuracy: 0.8815\n",
      "Epoch 10/50\n",
      "1875/1875 [==============================] - 5s 3ms/step - loss: 0.2686 - accuracy: 0.9011 - val_loss: 0.3419 - val_accuracy: 0.8795\n",
      "Epoch 11/50\n",
      "1875/1875 [==============================] - 5s 2ms/step - loss: 0.2660 - accuracy: 0.9018 - val_loss: 0.3834 - val_accuracy: 0.8797\n",
      "Epoch 12/50\n",
      "1875/1875 [==============================] - 7s 4ms/step - loss: 0.2586 - accuracy: 0.9049 - val_loss: 0.3990 - val_accuracy: 0.8729\n",
      "Epoch 13/50\n",
      "1875/1875 [==============================] - 8s 4ms/step - loss: 0.2574 - accuracy: 0.9049 - val_loss: 0.3817 - val_accuracy: 0.8729\n",
      "Epoch 14/50\n",
      "1875/1875 [==============================] - 7s 4ms/step - loss: 0.2475 - accuracy: 0.9064 - val_loss: 0.3758 - val_accuracy: 0.8722\n",
      "Epoch 15/50\n",
      "1875/1875 [==============================] - 7s 4ms/step - loss: 0.2449 - accuracy: 0.9097 - val_loss: 0.3752 - val_accuracy: 0.8820\n",
      "Epoch 16/50\n",
      "1875/1875 [==============================] - 7s 4ms/step - loss: 0.2389 - accuracy: 0.9109 - val_loss: 0.3652 - val_accuracy: 0.8800\n",
      "Epoch 17/50\n",
      "1875/1875 [==============================] - 7s 4ms/step - loss: 0.2360 - accuracy: 0.9121 - val_loss: 0.3779 - val_accuracy: 0.8777\n",
      "Epoch 18/50\n",
      "1875/1875 [==============================] - 7s 4ms/step - loss: 0.2340 - accuracy: 0.9128 - val_loss: 0.3781 - val_accuracy: 0.8811\n",
      "Epoch 19/50\n",
      "1875/1875 [==============================] - 10s 5ms/step - loss: 0.2313 - accuracy: 0.9136 - val_loss: 0.3963 - val_accuracy: 0.8773\n",
      "Epoch 20/50\n",
      "1875/1875 [==============================] - 9s 5ms/step - loss: 0.2259 - accuracy: 0.9142 - val_loss: 0.3965 - val_accuracy: 0.8815\n",
      "Epoch 00020: early stopping\n"
     ]
    }
   ],
   "source": [
    "history = model.fit(train_ds, validation_data=test_ds, epochs=EPOCHS, callbacks=[earlystopper])\n",
    "# history 저장한 이유는 matplotlib을 이용해서 train loss와 validation loss plot해보기위해"
   ]
  },
  {
   "cell_type": "markdown",
   "metadata": {},
   "source": [
    "## Matplotlib을 이용한 시각화"
   ]
  },
  {
   "cell_type": "code",
   "execution_count": 17,
   "metadata": {},
   "outputs": [
    {
     "data": {
      "image/png": "[encoded data removed]",
      "text/plain": [
       "<Figure size 432x288 with 1 Axes>"
      ]
     },
     "metadata": {
      "needs_background": "light"
     },
     "output_type": "display_data"
    }
   ],
   "source": [
    "loss = history.history['loss'] # loss는 위의 model.fit에서 loss란 이름\n",
    "val_loss = history.history['val_loss'] # 마찬가지로 위의 model.fit에서 확인가능\n",
    "\n",
    "plt.figure() # figure창 만들어줘\n",
    "plt.plot(loss, 'ro--')\n",
    "plt.plot(val_loss, 'bo--')\n",
    "plt.ylabel('Cross Entropy')\n",
    "plt.xlabel('Epoch')\n",
    "plt.title('Training and Validation Loss')\n",
    "plt.show()"
   ]
  },
  {
   "cell_type": "markdown",
   "metadata": {},
   "source": [
    "- training loss 점점 감소\n",
    "- validation loss는 흔들리면서 감소하는 듯 싶더니 증가하는 추세\n",
    "- 어느정도 underfitting, optimize, overfitting zone이 있다는 걸 명확히 확인 가능하지\n",
    "- model을 수정해서 위 상황을 개선해보자\n",
    "- 1. early stopping 사용해보자\n",
    "- 2. Drop out\n",
    "<br>\n",
    "<br>\n",
    "- *<early stopping 사용 후 결과>*\n",
    "- validation이 처음부터 학습이 안됐다고 나옴\n",
    "- val_loss 약 0.5 정도\n",
    "<br>\n",
    "<br>\n",
    "- *<Drop-Out 사용 후 결과>*\n",
    "- val_loss가 약 0.4수준에서 끝났음\n",
    "- Drop-Out 적용하기 전이랑 비슷한 수준임 (Drop-Out이 힘을 잘 못 썼다고 볼 수 있음)\n",
    "- 힘을 잘 쓸 수 있게 self.dense4의 뉴런 수를 128로 올려서 해보자\n",
    "- 아까 0.4보다는 더 나은 수준으로 학습이 되었음\n",
    "- 하지만 dramatic하게 좋아지진 않았음\n",
    "- 이렇게 generalization 문제를 푸는 건 굉장히 어려운 일\n",
    "- 여러가지 기법들도 있음, Regualization이나 Batch normalization 사용한다는 등"
   ]
  }
 ],
 "metadata": {
  "kernelspec": {
   "display_name": "Python 3",
   "language": "python",
   "name": "python3"
  },
  "language_info": {
   "codemirror_mode": {
    "name": "ipython",
    "version": 3
   },
   "file_extension": ".py",
   "mimetype": "text/x-python",
   "name": "python",
   "nbconvert_exporter": "python",
   "pygments_lexer": "ipython3",
   "version": "3.7.1"
  }
 },
 "nbformat": 4,
 "nbformat_minor": 2
}
