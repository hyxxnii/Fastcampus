{
 "cells": [
  {
   "cell_type": "markdown",
   "metadata": {},
   "source": [
    "# 네이버 뉴스 데이터 가져오기\n",
    "\n",
    "> 1. 네이버 오픈 API로 기사 URL 크롤링\n",
    "> 2. bs4 + selenium으로 기사 제목 및 내용 크롤링"
   ]
  },
  {
   "cell_type": "code",
   "execution_count": 15,
   "metadata": {},
   "outputs": [],
   "source": [
    "# 검색 API 사용예제 https://developers.naver.com/docs/search/blog/\n",
    "\n",
    "import os\n",
    "import sys\n",
    "import urllib.request\n",
    "import requests\n",
    "\n",
    "news_data = []\n",
    "\n",
    "client_id = \"jeNMpofTMshM4WUgct_o\"\n",
    "client_secret = \"zB7DowAiIL\" # 발급받은 client_secret\n",
    "encText = urllib.parse.quote(\"빅데이터\") # encText : 실제 url에 \"파이썬\" 단어를 붙여주는 코드\n",
    "# id와 secret을 가지고 오픈api를 사용한다는 것은 \n",
    "# 네이버 서버에 ~~를 검색할 것이라고 요청을 보내는 것\n",
    "# id와 secret를 발급받은 이유는 코드 상에서 돌리는 내용들이 네이버가 검증을 실제로 할 수 있음\n",
    "# query를 날릴 때(request 보낼 때) id와 secret 동시에 보내줘야해\n",
    "\n",
    "url = \"https://openapi.naver.com/v1/search/news?query=\" + encText # json 결과\n",
    "# url = \"https://openapi.naver.com/v1/search/blog.xml?query=\" + encText # xml 결과\n",
    "# blog가 아닌 news기사를 가져오고싶기때문에 news라고 바꿔줌\n",
    "# query= + encText : 실제로 \"파이썬\"단어를 검색한 것과 똑같은 url 만들어줌\n",
    "\n",
    "\n",
    "# urllib.request 라이브러리는 말그대로 네이버 서버에 ~내용 좀 줘 요청하는 것\n",
    "# 이 라이브러리 필요한 것: 어디에 접속할 건지 접속 url줘야하고, url의 정보를 줘야해\n",
    "# request보낼 때 나는 openapi를 받은 사람이야라고 인증을 위한 키를 들고가야겠지\n",
    "# 어디에 주냐 -> requset의 header 정보에 client id와 secret을 들고 request를 보내면 ok해주는 코드\n",
    "request = urllib.request.Request(url)\n",
    "request.add_header(\"X-Naver-Client-Id\", client_id)\n",
    "request.add_header(\"X-Naver-Client-Secret\", client_secret)\n",
    "# urlopen: request를 보냈을 때 url이 연결되면, 연결을 열어줌(접속이 됐다라는 뜻)\n",
    "# 그럼 이제 데이터를 받아올 수 있지\n",
    "response = urllib.request.urlopen(request)\n",
    "# getcode(): 첫번째로 code를 받아와\n",
    "rescode = response.getcode()\n",
    "\n",
    "\n",
    "# 실제로 네트워크같은 것은 예를 들어, 노트북에서 request보내면 wifi의 무선 랜카드를 통해서 실제로 정보를 물리적으로 전파를 통해 보내줌\n",
    "# 그럼 wifi 단말기로 전달되고, 외부 네트워크로 뻗어나감. 그 뻗어나간 외부 네트워크를 통해 네이버의 서버로 가\n",
    "# 만약 네트워크가 가는 도중에 길을 잃었어. 다른 패키지와 충돌이 나는 등 또는 인증을 못한 경우(오타, 사용량 제한)\n",
    "# request가 안됐다는 것을 어떻게 아냐 -> response code 정보로 줌(너 request 도착안했어, 왔는데 ~가 잘못됐어, 너 일일사용량 넘었어 등등)\n",
    "# 홈페이지에 error 코드 숫자 나와있음\n",
    "\n",
    "\n",
    "if(rescode==200): # 성공\n",
    "#    강사님이 따로 수정한 코드\n",
    "#    response_body = response.read() # 기존 코드\n",
    "    result = requests.get(response.geturl(),\n",
    "                          headers={\"X-Naver-Client-Id\":client_id,\n",
    "                                   \"X-Naver-Client-Secret\":client_secret}\n",
    "                         )\n",
    "    # requests.get(): url주소 던져주면 내용을 받아오는 함수\n",
    "    \n",
    "    news_data.append(result.json())\n",
    "    # json(): javascript object notation의 약자\n",
    "    # 파이썬 입장에서 딕셔너리처럼 key,value의 형태로 저장됨\n",
    "    # 즉 결과를 딕셔너리 형태로 저장해줌\n",
    "    # result.json(): 통째로 하나로 가져옴\n",
    "    \n",
    "#    print(response_body.decode('utf-8')) # 기존 코드\n",
    "else: # 실패\n",
    "    print(\"Error Code:\" + rescode)\n",
    "    \n",
    "\n",
    "    \n",
    "# 검색 api는 본문을 제공해주지 않아\n",
    "# decription이라고 되어있는 속성에다가 전체 뉴스기사의 요약본(요약알고리즘 쓴 것 같음)을 가져옴\n",
    "# decription을 key sentence라고 봐도되는데, 읽어보니까 그건 아닌 것 같음..\n",
    "# 중요한 건 어쨌든 본문 내용 가져올 수 없고, 가져오려면 따로 뉴스기사에 접속해서 가져와야해\n",
    "# 그래서 openapi를 통해 주소만 가져와서 쓸 거야\n",
    "# 즉 데이터를 사용하기 위해 결과를 저장하는 코드로 변경함"
   ]
  },
  {
   "cell_type": "markdown",
   "metadata": {},
   "source": [
    "### 네이버 OPEN API를 통해 가져온 데이터 확인하기."
   ]
  },
  {
   "cell_type": "code",
   "execution_count": 16,
   "metadata": {},
   "outputs": [
    {
     "data": {
      "text/plain": [
       "[{'lastBuildDate': 'Mon, 01 Jun 2020 19:33:55 +0900',\n",
       "  'total': 732559,\n",
       "  'start': 1,\n",
       "  'display': 10,\n",
       "  'items': [{'title': '[PRNewswire] Shanghai Electric, SEunicloud 업그레이드 통해 산업 디지털화...',\n",
       "    'originallink': 'http://yna.kr/AKR20200601167600009?did=1195m',\n",
       "    'link': 'https://news.naver.com/main/read.nhn?mode=LSD&mid=sec&sid1=104&oid=001&aid=0011648367',\n",
       "    'description': \"이 전자상거래 플랫폼은 <b>빅 데이터</b> 분석을 통해 지능형 맞춤 제품과 서비스를 위한 통합적인 데이터 중심 솔루션 양성이라는 희망을 키운다. Shanghai Electric 그룹 이사 및 사장 Huang Ou는 &quot;자사는 '새로운... \",\n",
       "    'pubDate': 'Mon, 01 Jun 2020 19:30:00 +0900'},\n",
       "   {'title': '경북도 인재개발원, 6월 1일부터 공무원교육 본격 재개',\n",
       "    'originallink': 'http://www.ccreview.co.kr/news/articleView.html?idxno=262861',\n",
       "    'link': 'http://www.ccreview.co.kr/news/articleView.html?idxno=262861',\n",
       "    'description': '한편, 도 인재개발원은 금년도 「변화를 선도하는 창의적 인재양성」을 목표로 ▲창의적‧실용적 교육 ▲개방형 교육을 통한 도정시책 공유 ▲새로운 트렌드를 반영하는 스마트 교육 ▲<b>빅데이터</b> 활용능력 확보... ',\n",
       "    'pubDate': 'Mon, 01 Jun 2020 19:28:00 +0900'},\n",
       "   {'title': \"인천대 제3대 총장 최종 후보에 '이찬근 무역학부 교수'\",\n",
       "    'originallink': 'http://www.kyeonggi.com/news/articleView.html?idxno=2291771',\n",
       "    'link': 'http://www.kyeonggi.com/news/articleView.html?idxno=2291771',\n",
       "    'description': \"가장 많은 불만을 제기한 '인사' 분야를 원칙적으로 처리 하겠다는 공약을 내 걸었다. 또 양질의 취업을 위한 교육환경 조성과 <b>빅데이터</b> 기반의 학생 개인별 진로·취업·창업 밀착지원 시스템 구축 등도 약속했다.\",\n",
       "    'pubDate': 'Mon, 01 Jun 2020 19:26:00 +0900'},\n",
       "   {'title': \"영탁, 막걸리 광고촬영 현장서 콘서트…'니가 왜 거기서 나와' 열창 '눈길'\",\n",
       "    'originallink': 'http://www.topstarnews.net/news/articleView.html?idxno=795737',\n",
       "    'link': 'http://www.topstarnews.net/news/articleView.html?idxno=795737',\n",
       "    'description': '한편 영탁은 가수 브랜드평판 2020년 5월 <b>빅데이터</b> 분석결과에서 3위를 차지했다. 1위는 방탄소년단, 2위는 임영웅으로 영탁은\\xa0 참여지수 2,621,769 미디어지수 2,083,852 소통지수 1,237,989 커뮤니티지수 1,232,422가 되면서... ',\n",
       "    'pubDate': 'Mon, 01 Jun 2020 19:23:00 +0900'},\n",
       "   {'title': \"'165조원'항암시장 선점···첨단의료복합단지도 '청신호'\",\n",
       "    'originallink': 'http://www.honam.co.kr/detail/0kIA7d/604526',\n",
       "    'link': 'http://www.honam.co.kr/detail/0kIA7d/604526',\n",
       "    'description': '2029년까지 AI·<b>빅데이터</b> 등 4차 산업혁명과 의료·휴양자원을 융합한 바이오 메디컬 허브 구축 프로젝트를 추진하고 있는 전남도는 1차적으로 2022년까지 신약·의료기기 개발 등 의료R&amp;D인프라 구축 및 휴양과 치유를... ',\n",
       "    'pubDate': 'Mon, 01 Jun 2020 19:22:00 +0900'},\n",
       "   {'title': \"정부 '한국판 뉴딜'에 5년간 76조 투입…일자리 55만개 만든다\",\n",
       "    'originallink': 'http://www.upkorea.net/news/articleView.html?idxno=745227',\n",
       "    'link': 'http://www.upkorea.net/news/articleView.html?idxno=745227',\n",
       "    'description': '데이터·네트워크·인공지능(AI) 생태계를 파격적으로 키우고, 초·중·고 교실에 와이파이를 까는 등... 먼저 디지털 뉴딜을 보면 <b>빅데이터</b> 플랫폼 구축, 공공데이터 개방, 국가망 5G 전환, 5G·AI\\xa0융합,\\xa0AI·소프트웨어... ',\n",
       "    'pubDate': 'Mon, 01 Jun 2020 19:16:00 +0900'},\n",
       "   {'title': '전남도, 해상풍력발전 조기 활성화 총력',\n",
       "    'originallink': 'http://www.gwangnam.co.kr/read.php3?aid=1591006148357600010',\n",
       "    'link': 'http://www.gwangnam.co.kr/read.php3?aid=1591006148357600010',\n",
       "    'description': '관련 R&amp;D에는 150억원, 3단계(2026~2027년) 인공지능과 <b>빅데이터</b>, AR/VR, 지능로봇, 드론 등 4차산업혁명 핵심 기술기반 융복합산업 고도화에는 300억원 등 총 900억원대 사업비가 필요할 것으로 예상되고 있다. 광남일보',\n",
       "    'pubDate': 'Mon, 01 Jun 2020 19:12:00 +0900'},\n",
       "   {'title': \"정부, 포스트 코로나 '한국판 뉴딜'에 5년간 76조원 투입\",\n",
       "    'originallink': 'http://www.newscj.com/news/articleView.html?idxno=743364',\n",
       "    'link': 'http://www.newscj.com/news/articleView.html?idxno=743364',\n",
       "    'description': '먼저 디지털 뉴딜을 보면 <b>빅데이터</b> 플랫폼 구축, 공공데이터 개방, 국가망 5G 전환, 5G·AI 융합, AI·소프트웨어 인재 양성 등 2022년까지 가장 많은 6조 5천억원을 투입해 일자리 22만 2천개를 만든다는 계획이다. 모든 초... ',\n",
       "    'pubDate': 'Mon, 01 Jun 2020 19:12:00 +0900'},\n",
       "   {'title': '신테카바이오, 코로나19 치료약 후보물질 특허출원',\n",
       "    'originallink': 'http://hellodd.com/?md=news&mt=view&pid=71972',\n",
       "    'link': 'http://hellodd.com/?md=news&mt=view&pid=71972',\n",
       "    'description': '이를 통해 <b>빅데이터</b> 기반 알고리즘 개인유전체맵 플랫폼 기술을 보유하고 있다. 이번 성과도 회사의... 또 렘데시비르와 비교시 안전성 데이터가 확보돼 있다. 경구제로 복약이 편리한 장점도 있다는게 회사 관계자의... ',\n",
       "    'pubDate': 'Mon, 01 Jun 2020 19:08:00 +0900'},\n",
       "   {'title': \"서울 지하철, 시민편의공간 '생활물류 지원센터' 100여곳 구축\",\n",
       "    'originallink': 'http://www.ccreview.co.kr/news/articleView.html?idxno=262828',\n",
       "    'link': 'http://www.ccreview.co.kr/news/articleView.html?idxno=262828',\n",
       "    'description': '공사는 지역별 인구・상업・시설・물류 특성이 담긴 <b>빅데이터</b>를 활용, 사업 대상지를 분류해 역사별 맞춤... 분석은 소상공인시장진흥공단의 상권분석시스템 데이터를 근거로 진행했다. 공사는 생활물류 지원센터... ',\n",
       "    'pubDate': 'Mon, 01 Jun 2020 19:08:00 +0900'}]}]"
      ]
     },
     "execution_count": 16,
     "metadata": {},
     "output_type": "execute_result"
    }
   ],
   "source": [
    "news_data\n",
    "# 우리가 필요한 건 링크가 필요해\n",
    "# 어떻게 갖고오냐가 문젠데, json으로 가져왔는데 리스트 원소가 지금 하나야\n",
    "# 그래서 news_data[0]을 하면 큰 리스트가 벗겨 짐 -> 10개가 한꺼번에 저장됨"
   ]
  },
  {
   "cell_type": "code",
   "execution_count": 17,
   "metadata": {},
   "outputs": [
    {
     "data": {
      "text/plain": [
       "{'lastBuildDate': 'Mon, 01 Jun 2020 19:33:55 +0900',\n",
       " 'total': 732559,\n",
       " 'start': 1,\n",
       " 'display': 10,\n",
       " 'items': [{'title': '[PRNewswire] Shanghai Electric, SEunicloud 업그레이드 통해 산업 디지털화...',\n",
       "   'originallink': 'http://yna.kr/AKR20200601167600009?did=1195m',\n",
       "   'link': 'https://news.naver.com/main/read.nhn?mode=LSD&mid=sec&sid1=104&oid=001&aid=0011648367',\n",
       "   'description': \"이 전자상거래 플랫폼은 <b>빅 데이터</b> 분석을 통해 지능형 맞춤 제품과 서비스를 위한 통합적인 데이터 중심 솔루션 양성이라는 희망을 키운다. Shanghai Electric 그룹 이사 및 사장 Huang Ou는 &quot;자사는 '새로운... \",\n",
       "   'pubDate': 'Mon, 01 Jun 2020 19:30:00 +0900'},\n",
       "  {'title': '경북도 인재개발원, 6월 1일부터 공무원교육 본격 재개',\n",
       "   'originallink': 'http://www.ccreview.co.kr/news/articleView.html?idxno=262861',\n",
       "   'link': 'http://www.ccreview.co.kr/news/articleView.html?idxno=262861',\n",
       "   'description': '한편, 도 인재개발원은 금년도 「변화를 선도하는 창의적 인재양성」을 목표로 ▲창의적‧실용적 교육 ▲개방형 교육을 통한 도정시책 공유 ▲새로운 트렌드를 반영하는 스마트 교육 ▲<b>빅데이터</b> 활용능력 확보... ',\n",
       "   'pubDate': 'Mon, 01 Jun 2020 19:28:00 +0900'},\n",
       "  {'title': \"인천대 제3대 총장 최종 후보에 '이찬근 무역학부 교수'\",\n",
       "   'originallink': 'http://www.kyeonggi.com/news/articleView.html?idxno=2291771',\n",
       "   'link': 'http://www.kyeonggi.com/news/articleView.html?idxno=2291771',\n",
       "   'description': \"가장 많은 불만을 제기한 '인사' 분야를 원칙적으로 처리 하겠다는 공약을 내 걸었다. 또 양질의 취업을 위한 교육환경 조성과 <b>빅데이터</b> 기반의 학생 개인별 진로·취업·창업 밀착지원 시스템 구축 등도 약속했다.\",\n",
       "   'pubDate': 'Mon, 01 Jun 2020 19:26:00 +0900'},\n",
       "  {'title': \"영탁, 막걸리 광고촬영 현장서 콘서트…'니가 왜 거기서 나와' 열창 '눈길'\",\n",
       "   'originallink': 'http://www.topstarnews.net/news/articleView.html?idxno=795737',\n",
       "   'link': 'http://www.topstarnews.net/news/articleView.html?idxno=795737',\n",
       "   'description': '한편 영탁은 가수 브랜드평판 2020년 5월 <b>빅데이터</b> 분석결과에서 3위를 차지했다. 1위는 방탄소년단, 2위는 임영웅으로 영탁은\\xa0 참여지수 2,621,769 미디어지수 2,083,852 소통지수 1,237,989 커뮤니티지수 1,232,422가 되면서... ',\n",
       "   'pubDate': 'Mon, 01 Jun 2020 19:23:00 +0900'},\n",
       "  {'title': \"'165조원'항암시장 선점···첨단의료복합단지도 '청신호'\",\n",
       "   'originallink': 'http://www.honam.co.kr/detail/0kIA7d/604526',\n",
       "   'link': 'http://www.honam.co.kr/detail/0kIA7d/604526',\n",
       "   'description': '2029년까지 AI·<b>빅데이터</b> 등 4차 산업혁명과 의료·휴양자원을 융합한 바이오 메디컬 허브 구축 프로젝트를 추진하고 있는 전남도는 1차적으로 2022년까지 신약·의료기기 개발 등 의료R&amp;D인프라 구축 및 휴양과 치유를... ',\n",
       "   'pubDate': 'Mon, 01 Jun 2020 19:22:00 +0900'},\n",
       "  {'title': \"정부 '한국판 뉴딜'에 5년간 76조 투입…일자리 55만개 만든다\",\n",
       "   'originallink': 'http://www.upkorea.net/news/articleView.html?idxno=745227',\n",
       "   'link': 'http://www.upkorea.net/news/articleView.html?idxno=745227',\n",
       "   'description': '데이터·네트워크·인공지능(AI) 생태계를 파격적으로 키우고, 초·중·고 교실에 와이파이를 까는 등... 먼저 디지털 뉴딜을 보면 <b>빅데이터</b> 플랫폼 구축, 공공데이터 개방, 국가망 5G 전환, 5G·AI\\xa0융합,\\xa0AI·소프트웨어... ',\n",
       "   'pubDate': 'Mon, 01 Jun 2020 19:16:00 +0900'},\n",
       "  {'title': '전남도, 해상풍력발전 조기 활성화 총력',\n",
       "   'originallink': 'http://www.gwangnam.co.kr/read.php3?aid=1591006148357600010',\n",
       "   'link': 'http://www.gwangnam.co.kr/read.php3?aid=1591006148357600010',\n",
       "   'description': '관련 R&amp;D에는 150억원, 3단계(2026~2027년) 인공지능과 <b>빅데이터</b>, AR/VR, 지능로봇, 드론 등 4차산업혁명 핵심 기술기반 융복합산업 고도화에는 300억원 등 총 900억원대 사업비가 필요할 것으로 예상되고 있다. 광남일보',\n",
       "   'pubDate': 'Mon, 01 Jun 2020 19:12:00 +0900'},\n",
       "  {'title': \"정부, 포스트 코로나 '한국판 뉴딜'에 5년간 76조원 투입\",\n",
       "   'originallink': 'http://www.newscj.com/news/articleView.html?idxno=743364',\n",
       "   'link': 'http://www.newscj.com/news/articleView.html?idxno=743364',\n",
       "   'description': '먼저 디지털 뉴딜을 보면 <b>빅데이터</b> 플랫폼 구축, 공공데이터 개방, 국가망 5G 전환, 5G·AI 융합, AI·소프트웨어 인재 양성 등 2022년까지 가장 많은 6조 5천억원을 투입해 일자리 22만 2천개를 만든다는 계획이다. 모든 초... ',\n",
       "   'pubDate': 'Mon, 01 Jun 2020 19:12:00 +0900'},\n",
       "  {'title': '신테카바이오, 코로나19 치료약 후보물질 특허출원',\n",
       "   'originallink': 'http://hellodd.com/?md=news&mt=view&pid=71972',\n",
       "   'link': 'http://hellodd.com/?md=news&mt=view&pid=71972',\n",
       "   'description': '이를 통해 <b>빅데이터</b> 기반 알고리즘 개인유전체맵 플랫폼 기술을 보유하고 있다. 이번 성과도 회사의... 또 렘데시비르와 비교시 안전성 데이터가 확보돼 있다. 경구제로 복약이 편리한 장점도 있다는게 회사 관계자의... ',\n",
       "   'pubDate': 'Mon, 01 Jun 2020 19:08:00 +0900'},\n",
       "  {'title': \"서울 지하철, 시민편의공간 '생활물류 지원센터' 100여곳 구축\",\n",
       "   'originallink': 'http://www.ccreview.co.kr/news/articleView.html?idxno=262828',\n",
       "   'link': 'http://www.ccreview.co.kr/news/articleView.html?idxno=262828',\n",
       "   'description': '공사는 지역별 인구・상업・시설・물류 특성이 담긴 <b>빅데이터</b>를 활용, 사업 대상지를 분류해 역사별 맞춤... 분석은 소상공인시장진흥공단의 상권분석시스템 데이터를 근거로 진행했다. 공사는 생활물류 지원센터... ',\n",
       "   'pubDate': 'Mon, 01 Jun 2020 19:08:00 +0900'}]}"
      ]
     },
     "execution_count": 17,
     "metadata": {},
     "output_type": "execute_result"
    }
   ],
   "source": [
    "news_data[0]\n",
    "# items라는 속성안에 리스트로 쭉 있음"
   ]
  },
  {
   "cell_type": "code",
   "execution_count": 26,
   "metadata": {},
   "outputs": [
    {
     "data": {
      "text/plain": [
       "[{'title': '[PRNewswire] Shanghai Electric, SEunicloud 업그레이드 통해 산업 디지털화...',\n",
       "  'originallink': 'http://yna.kr/AKR20200601167600009?did=1195m',\n",
       "  'link': 'https://news.naver.com/main/read.nhn?mode=LSD&mid=sec&sid1=104&oid=001&aid=0011648367',\n",
       "  'description': \"이 전자상거래 플랫폼은 <b>빅 데이터</b> 분석을 통해 지능형 맞춤 제품과 서비스를 위한 통합적인 데이터 중심 솔루션 양성이라는 희망을 키운다. Shanghai Electric 그룹 이사 및 사장 Huang Ou는 &quot;자사는 '새로운... \",\n",
       "  'pubDate': 'Mon, 01 Jun 2020 19:30:00 +0900'},\n",
       " {'title': '경북도 인재개발원, 6월 1일부터 공무원교육 본격 재개',\n",
       "  'originallink': 'http://www.ccreview.co.kr/news/articleView.html?idxno=262861',\n",
       "  'link': 'http://www.ccreview.co.kr/news/articleView.html?idxno=262861',\n",
       "  'description': '한편, 도 인재개발원은 금년도 「변화를 선도하는 창의적 인재양성」을 목표로 ▲창의적‧실용적 교육 ▲개방형 교육을 통한 도정시책 공유 ▲새로운 트렌드를 반영하는 스마트 교육 ▲<b>빅데이터</b> 활용능력 확보... ',\n",
       "  'pubDate': 'Mon, 01 Jun 2020 19:28:00 +0900'},\n",
       " {'title': \"인천대 제3대 총장 최종 후보에 '이찬근 무역학부 교수'\",\n",
       "  'originallink': 'http://www.kyeonggi.com/news/articleView.html?idxno=2291771',\n",
       "  'link': 'http://www.kyeonggi.com/news/articleView.html?idxno=2291771',\n",
       "  'description': \"가장 많은 불만을 제기한 '인사' 분야를 원칙적으로 처리 하겠다는 공약을 내 걸었다. 또 양질의 취업을 위한 교육환경 조성과 <b>빅데이터</b> 기반의 학생 개인별 진로·취업·창업 밀착지원 시스템 구축 등도 약속했다.\",\n",
       "  'pubDate': 'Mon, 01 Jun 2020 19:26:00 +0900'},\n",
       " {'title': \"영탁, 막걸리 광고촬영 현장서 콘서트…'니가 왜 거기서 나와' 열창 '눈길'\",\n",
       "  'originallink': 'http://www.topstarnews.net/news/articleView.html?idxno=795737',\n",
       "  'link': 'http://www.topstarnews.net/news/articleView.html?idxno=795737',\n",
       "  'description': '한편 영탁은 가수 브랜드평판 2020년 5월 <b>빅데이터</b> 분석결과에서 3위를 차지했다. 1위는 방탄소년단, 2위는 임영웅으로 영탁은\\xa0 참여지수 2,621,769 미디어지수 2,083,852 소통지수 1,237,989 커뮤니티지수 1,232,422가 되면서... ',\n",
       "  'pubDate': 'Mon, 01 Jun 2020 19:23:00 +0900'},\n",
       " {'title': \"'165조원'항암시장 선점···첨단의료복합단지도 '청신호'\",\n",
       "  'originallink': 'http://www.honam.co.kr/detail/0kIA7d/604526',\n",
       "  'link': 'http://www.honam.co.kr/detail/0kIA7d/604526',\n",
       "  'description': '2029년까지 AI·<b>빅데이터</b> 등 4차 산업혁명과 의료·휴양자원을 융합한 바이오 메디컬 허브 구축 프로젝트를 추진하고 있는 전남도는 1차적으로 2022년까지 신약·의료기기 개발 등 의료R&amp;D인프라 구축 및 휴양과 치유를... ',\n",
       "  'pubDate': 'Mon, 01 Jun 2020 19:22:00 +0900'},\n",
       " {'title': \"정부 '한국판 뉴딜'에 5년간 76조 투입…일자리 55만개 만든다\",\n",
       "  'originallink': 'http://www.upkorea.net/news/articleView.html?idxno=745227',\n",
       "  'link': 'http://www.upkorea.net/news/articleView.html?idxno=745227',\n",
       "  'description': '데이터·네트워크·인공지능(AI) 생태계를 파격적으로 키우고, 초·중·고 교실에 와이파이를 까는 등... 먼저 디지털 뉴딜을 보면 <b>빅데이터</b> 플랫폼 구축, 공공데이터 개방, 국가망 5G 전환, 5G·AI\\xa0융합,\\xa0AI·소프트웨어... ',\n",
       "  'pubDate': 'Mon, 01 Jun 2020 19:16:00 +0900'},\n",
       " {'title': '전남도, 해상풍력발전 조기 활성화 총력',\n",
       "  'originallink': 'http://www.gwangnam.co.kr/read.php3?aid=1591006148357600010',\n",
       "  'link': 'http://www.gwangnam.co.kr/read.php3?aid=1591006148357600010',\n",
       "  'description': '관련 R&amp;D에는 150억원, 3단계(2026~2027년) 인공지능과 <b>빅데이터</b>, AR/VR, 지능로봇, 드론 등 4차산업혁명 핵심 기술기반 융복합산업 고도화에는 300억원 등 총 900억원대 사업비가 필요할 것으로 예상되고 있다. 광남일보',\n",
       "  'pubDate': 'Mon, 01 Jun 2020 19:12:00 +0900'},\n",
       " {'title': \"정부, 포스트 코로나 '한국판 뉴딜'에 5년간 76조원 투입\",\n",
       "  'originallink': 'http://www.newscj.com/news/articleView.html?idxno=743364',\n",
       "  'link': 'http://www.newscj.com/news/articleView.html?idxno=743364',\n",
       "  'description': '먼저 디지털 뉴딜을 보면 <b>빅데이터</b> 플랫폼 구축, 공공데이터 개방, 국가망 5G 전환, 5G·AI 융합, AI·소프트웨어 인재 양성 등 2022년까지 가장 많은 6조 5천억원을 투입해 일자리 22만 2천개를 만든다는 계획이다. 모든 초... ',\n",
       "  'pubDate': 'Mon, 01 Jun 2020 19:12:00 +0900'},\n",
       " {'title': '신테카바이오, 코로나19 치료약 후보물질 특허출원',\n",
       "  'originallink': 'http://hellodd.com/?md=news&mt=view&pid=71972',\n",
       "  'link': 'http://hellodd.com/?md=news&mt=view&pid=71972',\n",
       "  'description': '이를 통해 <b>빅데이터</b> 기반 알고리즘 개인유전체맵 플랫폼 기술을 보유하고 있다. 이번 성과도 회사의... 또 렘데시비르와 비교시 안전성 데이터가 확보돼 있다. 경구제로 복약이 편리한 장점도 있다는게 회사 관계자의... ',\n",
       "  'pubDate': 'Mon, 01 Jun 2020 19:08:00 +0900'},\n",
       " {'title': \"서울 지하철, 시민편의공간 '생활물류 지원센터' 100여곳 구축\",\n",
       "  'originallink': 'http://www.ccreview.co.kr/news/articleView.html?idxno=262828',\n",
       "  'link': 'http://www.ccreview.co.kr/news/articleView.html?idxno=262828',\n",
       "  'description': '공사는 지역별 인구・상업・시설・물류 특성이 담긴 <b>빅데이터</b>를 활용, 사업 대상지를 분류해 역사별 맞춤... 분석은 소상공인시장진흥공단의 상권분석시스템 데이터를 근거로 진행했다. 공사는 생활물류 지원센터... ',\n",
       "  'pubDate': 'Mon, 01 Jun 2020 19:08:00 +0900'}]"
      ]
     },
     "execution_count": 26,
     "metadata": {},
     "output_type": "execute_result"
    }
   ],
   "source": [
    "news_data[0]['items'] # 딕셔너리의 인덱싱 방법이지"
   ]
  },
  {
   "cell_type": "code",
   "execution_count": 19,
   "metadata": {
    "scrolled": true
   },
   "outputs": [
    {
     "name": "stdout",
     "output_type": "stream",
     "text": [
      "https://news.naver.com/main/read.nhn?mode=LSD&mid=sec&sid1=104&oid=001&aid=0011648367\n"
     ]
    }
   ],
   "source": [
    "print(news_data[0]['items'][0]['link'])\n",
    "# items도 리스트야\n",
    "# 이중에서 link를 가지고와야하니까 [0] 첫번째 원소에 ['link']\n",
    "\n",
    "# Tip: 파이썬에서 print()를 통해 url찍으면 바로 접속가능함\n",
    "\n",
    "# 네이버 기사 웹크롤링 할 때 가장 중요한 점\n",
    "# 네이버 기사 종류가 너무 많아서 기사를 하나하나 전부 가져오기가 굉장히 힘들어\n",
    "# 기사마다 tag 이름/종류가 다 달라서 무조건 다 가져와야겠다하면 하나하나 코드로 다 가져와야함\n",
    "# 실제론 여러 트릭을 쓰는데, 보통 쓰는게 모바일 접속환경으로 들어가 (m.news.~~)\n",
    "# 모바일 규격을 일정하게 만들어서 publish해줘야해서 규격을 맞추는 작업때문에 네이버 뉴스 템플릿으로 많이 바뀌어서 보임\n",
    "# 일단 네이버 뉴스만 가져옴(url로 따지면 news.naver.com만) (tag 동일하게 가져오기위해)"
   ]
  },
  {
   "cell_type": "markdown",
   "metadata": {},
   "source": [
    "### 가져온 URL이 네이버 뉴스인지 확인하기."
   ]
  },
  {
   "cell_type": "code",
   "execution_count": 27,
   "metadata": {},
   "outputs": [
    {
     "data": {
      "text/plain": [
       "1"
      ]
     },
     "execution_count": 27,
     "metadata": {},
     "output_type": "execute_result"
    }
   ],
   "source": [
    "page_news_link = []\n",
    "\n",
    "for item in news_data[0]['items']:\n",
    "    link = item['link']\n",
    "    if 'naver' in link :\n",
    "        page_news_link.append(link)\n",
    "            \n",
    "len(page_news_link)"
   ]
  },
  {
   "cell_type": "markdown",
   "metadata": {},
   "source": [
    "### 네이버 뉴스 기사 크롤링"
   ]
  },
  {
   "cell_type": "code",
   "execution_count": null,
   "metadata": {},
   "outputs": [],
   "source": [
    "# url을 위처럼 10페이지가 아닌 여러 페이지에서 가져올 수 있는 방법"
   ]
  },
  {
   "cell_type": "code",
   "execution_count": 29,
   "metadata": {},
   "outputs": [],
   "source": [
    "news_data = []\n",
    "page_count = 3 # 몇 페이지 가져올 것인지\n",
    "\n",
    "client_id = \"jeNMpofTMshM4WUgct_o\"\n",
    "client_secret = \"zB7DowAiIL\" # 발급받은 client_secret\n",
    "encText = urllib.parse.quote(\"빅데이터\")\n",
    "\n",
    "for idx in range(page_count):\n",
    "    # 10씩 더해주는데 1에다가 더해줘, inx는 0부터 시작하지\n",
    "    # => idx * 10 + 1\n",
    "    \n",
    "    url = \"https://openapi.naver.com/v1/search/news?query=\" + encText + \"&start=\" + str(idx * 10 + 1) # json 결과\n",
    "    # \"&start=\" : 규칙, 알고있자\n",
    "    \n",
    "    request = urllib.request.Request(url)\n",
    "    request.add_header(\"X-Naver-Client-Id\", client_id)\n",
    "    request.add_header(\"X-Naver-Client-Secret\", client_secret)\n",
    "    response = urllib.request.urlopen(request)\n",
    "    rescode = response.getcode()\n",
    "    \n",
    "    # page별로 관리하고싶으면 2차원리스트 만들어서 page당 링크를 저장하면 됨\n",
    "    # 굳이 안 그러고 싶으면 통째로 저장해도됨\n",
    "\n",
    "    if(rescode==200): # 성공\n",
    "    #    response_body = response.read() # 기존 코드\n",
    "        result = requests.get(response.geturl(),\n",
    "                              headers={\"X-Naver-Client-Id\":client_id,\n",
    "                                       \"X-Naver-Client-Secret\":client_secret}\n",
    "                             )\n",
    "\n",
    "        news_data.append(result.json())\n",
    "\n",
    "    #    print(response_body.decode('utf-8')) # 기존 코드\n",
    "    else: # 실패\n",
    "        print(\"Error Code:\" + rescode)"
   ]
  },
  {
   "cell_type": "code",
   "execution_count": 33,
   "metadata": {},
   "outputs": [
    {
     "name": "stdout",
     "output_type": "stream",
     "text": [
      "https://platum.kr/archives/142346\n",
      "3\n"
     ]
    }
   ],
   "source": [
    "print(news_data[0]['items'][0]['link'])\n",
    "print(len(news_data))"
   ]
  },
  {
   "cell_type": "code",
   "execution_count": 34,
   "metadata": {},
   "outputs": [
    {
     "name": "stdout",
     "output_type": "stream",
     "text": [
      "3\n"
     ]
    }
   ],
   "source": [
    "# page별로 관리하는 코드로 바꾸자\n",
    "naver_news_link = []\n",
    "\n",
    "# 아까는 뉴스 데이터가 1개 리스트, 지금은 아니야 (3개)\n",
    "for page in news_data: # page : news_data의 [0]번째부터 가져온다고 생각하면 돼\n",
    "    \n",
    "    page_news_link = []\n",
    "\n",
    "    for item in page['items']:\n",
    "        link = item['link']\n",
    "        if 'naver' in link:\n",
    "            page_news_link.append(link)\n",
    "\n",
    "    naver_news_link.append(page_news_link)\n",
    "    \n",
    "print(len(naver_news_link))"
   ]
  },
  {
   "cell_type": "code",
   "execution_count": 45,
   "metadata": {},
   "outputs": [
    {
     "name": "stdout",
     "output_type": "stream",
     "text": [
      "3\n",
      "https://news.naver.com/main/read.nhn?mode=LSD&mid=sec&sid1=101&oid=629&aid=0000027777\n",
      "http://www.segyebiz.com/newsView/20200601516070?OutUrl=naver\n",
      "https://news.naver.com/main/read.nhn?mode=LSD&mid=sec&sid1=104&oid=001&aid=0011648367\n",
      "https://news.naver.com/main/read.nhn?mode=LSD&mid=sec&sid1=101&oid=022&aid=0003470640\n",
      "https://news.naver.com/main/read.nhn?mode=LSD&mid=sec&sid1=101&oid=082&aid=0001006400\n",
      "https://news.naver.com/main/read.nhn?mode=LSD&mid=sec&sid1=102&oid=082&aid=0001006395\n",
      "https://news.naver.com/main/read.nhn?mode=LSD&mid=sec&sid1=101&oid=417&aid=0000549680\n",
      "https://news.naver.com/main/read.nhn?mode=LSD&mid=sec&sid1=105&oid=011&aid=0003747027\n",
      "https://news.naver.com/main/read.nhn?mode=LSD&mid=sec&sid1=101&oid=055&aid=0000818481\n",
      "https://news.naver.com/main/read.nhn?mode=LSD&mid=sec&sid1=101&oid=014&aid=0004435246\n"
     ]
    }
   ],
   "source": [
    "naver_news_link = []\n",
    "\n",
    "for page in news_data:\n",
    "    \n",
    "    page_news_link = []\n",
    "\n",
    "    for item in page['items']:\n",
    "        link = item['link']\n",
    "        if 'naver' in link:\n",
    "            page_news_link.append(link)\n",
    "\n",
    "    naver_news_link.append(page_news_link)\n",
    "    \n",
    "print(len(naver_news_link))\n",
    "\n",
    "for page in naver_news_link:\n",
    "    for link in page:\n",
    "        print(link)"
   ]
  },
  {
   "cell_type": "code",
   "execution_count": 28,
   "metadata": {},
   "outputs": [],
   "source": [
    "import pandas as pd\n",
    "import numpy as np\n",
    "from selenium import webdriver\n",
    "from tqdm import tqdm_notebook\n",
    "import requests\n",
    "import pickle\n",
    "import re\n",
    "import ast\n",
    "\n",
    "from bs4 import BeautifulSoup \n",
    "from urllib.request import urlopen\n",
    "import urllib\n",
    "import time"
   ]
  },
  {
   "cell_type": "code",
   "execution_count": 47,
   "metadata": {},
   "outputs": [],
   "source": [
    "# 가상 크롬드라이버를 불러옴.\n",
    "# 윈도우 10의 경우 chromedriver.exe\n",
    "driver = webdriver.Chrome(\"./driver/chromedriver\")"
   ]
  },
  {
   "cell_type": "code",
   "execution_count": 51,
   "metadata": {},
   "outputs": [
    {
     "name": "stderr",
     "output_type": "stream",
     "text": [
      "C:\\Users\\hyun\\lib\\site-packages\\ipykernel_launcher.py:6: TqdmDeprecationWarning: This function will be removed in tqdm==5.0.0\n",
      "Please use `tqdm.notebook.tqdm` instead of `tqdm.tqdm_notebook`\n",
      "  \n"
     ]
    },
    {
     "data": {
      "application/vnd.jupyter.widget-view+json": {
       "model_id": "96929d1b72114acda161deb073759616",
       "version_major": 2,
       "version_minor": 0
      },
      "text/plain": [
       "HBox(children=(IntProgress(value=0, max=3), HTML(value='')))"
      ]
     },
     "metadata": {},
     "output_type": "display_data"
    },
    {
     "name": "stderr",
     "output_type": "stream",
     "text": [
      "C:\\Users\\hyun\\lib\\site-packages\\ipykernel_launcher.py:11: TqdmDeprecationWarning: This function will be removed in tqdm==5.0.0\n",
      "Please use `tqdm.notebook.tqdm` instead of `tqdm.tqdm_notebook`\n",
      "  # This is added back by InteractiveShellApp.init_path()\n"
     ]
    },
    {
     "data": {
      "application/vnd.jupyter.widget-view+json": {
       "model_id": "bb0c3ebd4a3545c186bfbcdfcb65c670",
       "version_major": 2,
       "version_minor": 0
      },
      "text/plain": [
       "HBox(children=(IntProgress(value=0, max=3), HTML(value='')))"
      ]
     },
     "metadata": {},
     "output_type": "display_data"
    },
    {
     "name": "stdout",
     "output_type": "stream",
     "text": [
      "https://news.naver.com/main/read.nhn?mode=LSD&mid=sec&sid1=101&oid=629&aid=0000027777\n",
      "http://www.segyebiz.com/newsView/20200601516070?OutUrl=naver\n",
      "https://news.naver.com/main/read.nhn?mode=LSD&mid=sec&sid1=104&oid=001&aid=0011648367\n",
      "\n"
     ]
    },
    {
     "data": {
      "application/vnd.jupyter.widget-view+json": {
       "model_id": "48e0f5dacf04421e981476216930b6cc",
       "version_major": 2,
       "version_minor": 0
      },
      "text/plain": [
       "HBox(children=(IntProgress(value=0, max=2), HTML(value='')))"
      ]
     },
     "metadata": {},
     "output_type": "display_data"
    },
    {
     "name": "stdout",
     "output_type": "stream",
     "text": [
      "https://news.naver.com/main/read.nhn?mode=LSD&mid=sec&sid1=101&oid=022&aid=0003470640\n",
      "https://news.naver.com/main/read.nhn?mode=LSD&mid=sec&sid1=101&oid=082&aid=0001006400\n",
      "\n"
     ]
    },
    {
     "data": {
      "application/vnd.jupyter.widget-view+json": {
       "model_id": "da29b9ac66e54d109e61ce7e042cc3bb",
       "version_major": 2,
       "version_minor": 0
      },
      "text/plain": [
       "HBox(children=(IntProgress(value=0, max=5), HTML(value='')))"
      ]
     },
     "metadata": {},
     "output_type": "display_data"
    },
    {
     "name": "stdout",
     "output_type": "stream",
     "text": [
      "https://news.naver.com/main/read.nhn?mode=LSD&mid=sec&sid1=102&oid=082&aid=0001006395\n",
      "https://news.naver.com/main/read.nhn?mode=LSD&mid=sec&sid1=101&oid=417&aid=0000549680\n",
      "https://news.naver.com/main/read.nhn?mode=LSD&mid=sec&sid1=105&oid=011&aid=0003747027\n",
      "https://news.naver.com/main/read.nhn?mode=LSD&mid=sec&sid1=101&oid=055&aid=0000818481\n",
      "https://news.naver.com/main/read.nhn?mode=LSD&mid=sec&sid1=101&oid=014&aid=0004435246\n",
      "\n",
      "\n",
      "[\"'76조 투입' 한국판 뉴딜에 어떤 내용 담겼나\", 'OUTLINK', '[PRNewswire] Shanghai Electric, SEunicloud 업그레이드 통해 산업 디지털화 가속']\n",
      "==================================\n",
      "[\"   본문 내용     TV플레이어     // TV플레이어     // flash 오류를 우회하기 위한 함수 추가 function _flash_removeCallback() {}    정부가 '디지털 뉴딜'과 '그린 뉴딜' 등으로 나눈 한국판 뉴딜에 오는 2025년까지 총 76조 원을 투입한다고 1일 밝혔다. 사진은 홍남기 경제부총리 겸 기획재정부 장관. /이동률 기자 정부, 한국판 뉴딜 '디지털·그린'에 76조 원 투입 [더팩트ㅣ이성락 기자] '포스트 코로나' 시대를 대비하고 장기적으로 한국 경제의 도약을 준비하는 프로젝트인 '한국판 뉴딜'에 오는 2025년까지 총 76조 원이 투입된다. 정부가 1일 발표한 한국판 뉴딜은 '디지털 뉴딜'과 '그린 뉴딜'을 양대 축으로, '고용안전망 강화' 토대 위에서 추진된다. 이날 정부는 기획재정부 등 관계 부처 합동으로 발표한 '2020년 하반기 경제정책방향'(하경정)을 통해 한국판 뉴딜 추진 방침을 발표했다. 정부는 한국판 뉴딜 추진에 문재인 정부 임기 말인 2022년까지 31조3000억 원을 투자해 55만 개 수준의 일자리를 창출한다는 계획이다. 또한, 한국판 뉴딜 완성을 위해 문재인 정부 이후인 2023년부터 2025년까지 45조 원 추가 투입해 국가 산업 재편과 디지털 강국의 입지를 공고히 하겠다는 방침이다. 구체적으로 디지털 뉴딜 중점 과제는 △ D.N.A.  생태계 강화 △디지털 포용 및 안전망 구축 △비대면 산업 육성 △사회간접자본( SOC ) 디지털화 등이다. 우선 정부는 2020년까지 6조4000억 원을 투입해  D.N.A.  생태계 강화에 나선다. 데이터( Data )와 네트워크( Network ), 인공지능( AI ) 사업을 키워 약 22만2000개의 일자리를 창출한다는 계획이다. 정부는 금융·환경·문화·교통·헬스케어 등 국민생활과 밀접한 15개 분야 빅데이터 플랫폼을 구축하고, 14만 개 공공데이터를 개방하기로 했다. 또  AI  학습용 데이터 700종을 추가 구축하기로 했다. 5G 조기 구축과 융합 산업 활성화를 위해서는 국가망을 5G와 클라우드로 전환하는 시범 사업을 추진한다. 이와 함께 행정정보시스템의 15%를 클라우드 서버 기반으로 전환한다는 계획이다. 이를 위해 정부는 이동통신사가 무선국을 신설할 경우 등록면허세를 감면해주는 방안을 검토하고 있다. 디지털 포용 및 안전망 구축에는 2022년까지 8000억 원을 투입한다. 농어촌 초고속 인터넷망과 공공시설 와이파이( WiFi ) 구축, 도서·벽지 등 농어촌 마을 1300개에 초고속 인터넷망 보급 등을 내용에 담고 있다.  K- 사이버 보안체계 구축, 중소기업 2500개 대상 보안 컨설팅·보안 시스템 고도화 지원, 철도·항공 등 소프트웨어 안전 관련 450종 디지털 시스템 선제적 점검 등도 추진한다. 정부는 1조4000억 원의 재정을 투입해 비대면 사업 육성에도 나설 예정이다. 전국 초중고 38만 교실에 와이파이존을 구축하고, 전국 38개 국립대 노후 서버 및 네트워크 장비 등을 전면 교체한다. 10개 권역별 미래교육센터·원격교육지원센터 등도 설치하기로 했다. 이밖에 코로나19 사태에 따른 감염병 대비를 위해 2021년까지 호흡기 전담클리닉 1000개소를 설치한다. SOC  디지털화에는 4조8000억 원을 투입한다. 정부는 주요 도로 간선망 지능형 교통체계와 국도정밀지도를 2022년까지 조기 완수하고, 국가 하천, 27개 권역 국가관리 저수지 등에는 원격 수문제어 시스템을 도입하기로 했다. 전체 공동구(322 km ) 가운데 노후된 24 km 에 대한 스마트관리 시범 사업도 추진한다. 또 인구 20만 이상의 모든 도시를 대상으로 교통·방범·방재 등 통합관리플랫폼 구축을 기존 2022년에서 2020년으로 앞당겼다. 산업단지에도 5 G· 사물인터넷( IoT )·지능형 폐쇄회로( CC ) TV 를 도입한 통합관제센터를 설치한다. 그린 뉴딜은 크게 △도시·공간·생활 인프라 녹색 전환 △녹색산업 혁신 생태계 구축 △저탄소·분산형 에너지 확산 등 3대 축으로 나뉜다. 도시·공간·생활 인프라 녹색 전환에는 2022년까지 재정 5조8000억 원을 투입한다. 어린이집(1058개), 보건소(1045개), 의료기관(67개), 공공 임대주택(18만6000호) 등 4대 노후 공공 건축물에 대해 리모델링을 진행한다. 또 48개 전체 광역상수도·161개 지자체 지방상수도 관련 전 과정에  ICT 와  AI  기술을 도입한다. 1조7000억 원이 들어가는 녹색산업 혁신 생태계 구축에는 그린 뉴딜 선도 100대 유망 기업과 5대 선도 녹색산업 육성·창업 스타트업 지원을 확대하겠다는 내용이 포함됐다. 유망 기업에는 연구개발·실증·사업화 등 사업의 전 단계를 지원할 계획이다. 유망 녹색융합기술 분야 전문 녹색 인재 5000명을 양성하고, 기술력 기반 유망 환경 기업 대상 융자에 1조 원을 공급한다. 저탄소·분산형 에너지 확산에는 5조4000억 원을 투입한다. 먼저 아파트 500만호에 양방향 통신이 가능한 지능형 전력계량기를 설치한다. 15년 이상 노후 아파트 3000동에 대해서는 에너지 진단을 실시하고 빅데이터 플랫폼을 구축하기로 했다. 태양광·풍력·수소 등 3대 신재생에너지 확산 기반 구축과 온실가스 저감 효과가 큰 친환경 차량·선박으로의 조기 전환 등도 추진한다. 이러한 한국판 뉴딜 사업은 전 국민 고용안전망 구축을 기반으로 추진한다. 고용보험 사각지대를 축소하는 것이 1번째 과제다. 미래적응형 직업훈련체계로의 개편, 산업안전 및 근무환경 혁신 등을 위해서도 재정을 투입한다. 청년들을 위해서는 단기채용 기업에 인건비를 지원하는 등의 방안도 추진한다. 정부는 이러한 한국판 뉴딜 추진에 필요한 추가 과제를 보완·확대한다는 방침이다. 관련 내용을 담은 종합 계획은 다음 달 중으로 발표할 계획이다. rocky @ tf.co.kr - 더팩트 뮤직어워즈는 언제? [알림받기▶]   - 내 아이돌 응원하기 [팬앤스타▶]   저작권자 ⓒ 특종에 강한 더팩트 &  tf.co.kr  무단 전재 및 재배포 금지 \\t  // 본문 내용   \", 'OUTLINK', '   본문 내용     TV플레이어     // TV플레이어     // flash 오류를 우회하기 위한 함수 추가 function _flash_removeCallback() {}   \\t \\t(상하이 2020년 6월 1일  PRNewswire =연합뉴스) 발전 및 산업 장비 부문의 세계 선도적인 제조·공급기업  Shanghai   Electric 이 업무 재개를 가속화하고 업계 재편을 도모하고자 자사의 디지털 솔루션 플랫폼  SEunicloud 를 업그레이드했다고 발표했다.  Shanghai   Electric   Digital   Technology   Co. ,  Ltd. 가 개발하고 2019년에 공식 출시된  SEunicloud  플랫폼은 지능형 풍력 발전소 가동, 원격 화 발전소 가동, 공작기계의 유지관리, 에너지 저장 및 분산을 포함하는 다양한 시나리오에서 설치 가능하다. 이 플랫폼은 다양한 시나리오에서 발생하는 수요를 충족하고자 문제 해결, 원격 가동, 유지관리 및 에너지 계획 같은 효율적인 솔루션을 제공해왔다.  Shanghai   Electric   SEunicloud  플랫폼의 지능형 공급망 솔루션은 공장 생산과 발전소 수요를 직접적으로 매칭하도록 설계됐다.  Shanghai   Electric 은 온라인에서 1,781건의 조달 프로젝트를 확립하고, 2월 업무 재개 이후 최종적으로 8억 위안이 넘는 입찰량을 기록했다.  다면적 첨단 디지털 플랫폼인  SEunicloud 를 통해, 사용자는 원격으로 장비를 진단함으로써 꽉 죄인 공급망 스트레스를 해소하고, 이를 통해 재건설 과정을 가속화 할 수 있다. 그뿐만 아니라 공급망을 조달 및 관리하고, 공급업체 계약, 소스 입찰, 온라인 구매 및 주문 조정을 모니터링할 수도 있다. 또한, 지능형 공급망 플랫폼인  SEunicloud 는 조달 가격 정책 과정에서 지난 데이터 분석을 통해 판매자와 구매자를 매칭시키고, 공급업체의 과거 실적을 자동으로 추적 및 기록한다. 그 과정에서 자산 실사를 위해 전반적인 공급망 관리 과정을 고려한다.  SEunicloud  플랫폼의  DES-PSO  에너지 계획 솔루션은  Shanghai   Electric   Distributed   Energy   Co. ,  Ltd. 와  Lawrence   Berkeley   National   Laboratory 가 공동으로 개발한 솔루션이다. 이 솔루션은 설계 및 기획, 투자 분석 및 위험 평가 기능을 제공하며, 고객이 건설을 의뢰하기 전에 대규모 에너지 생산 프로젝트의 재정적 시행 가능성을 평가할 수 있도록 지원한다.  Shanghai   Electric   SEunicloud  플랫폼의 전자상거래 솔루션은 발전소의 \\'필수\\' 예비부품 중 90%를 커버하며, 예비부품, 유지관리 서비스, 변혁 최적화 등을 갖춘 원스톱 플랫폼이다. 이 솔루션은 22,000개가 넘는 예비 부품 제품과 70개의 표준 수리 패키지의 온라인 배송을 촉진하는데, 모두 공장도 가격만큼 저렴하게 책정된다. 고객은 요건에 맞는 표준화된 형식을 사용할 수 있어, 덕분에 구매자와 판매자 간에 의사소통 과정을 능률화함으로써 거래 효율성을 높일 수 있다. 이 전자상거래 플랫폼은 빅 데이터 분석을 통해 지능형 맞춤 제품과 서비스를 위한 통합적인 데이터 중심 솔루션 양성이라는 희망을 키운다.  Shanghai   Electric  그룹 이사 및 사장  Huang   Ou 는 \"자사는 \\'새로운 기반시설\\'이라는 큰 그림에 따라 여러 파이프라인에서 빅 데이터 경쟁 우위를 이용하고, 전체 발전 산업을 위한 통합적인 플랫폼 기반 솔루션을 위한 길을 열고 있다\"라며 \"자사의 목적은 가까운 미래에 여러 산업에서 기업들에 이 기술을 부여하는 것\"이라고 말했다. Shanghai   Electric  소개    Shanghai   Electric   Group   Company   Limited ( SEHK : 02727,  SSE : 601727)는 주로 발전 장비와 산업 장비의 설계, 제조 및 판매 부문에 종사한다.  Shanghai   Electric 이 중점을 두는 주요 사업 부문은 에너지 장비 사업(석탄화력발전 장비, 가스화력발전 장비, 핵발전 장비, 풍력발전 장비, 에너지 저장 장비, 고급 화학 장비, 전력 그리드 및 산업 지능형 전력 공급 시스템 솔류션의 제조 및 판매), 산업 장비 사업(엘리베이터, 중·대형 전동기, 지능형 제조 장비, 산업 기본 부품, 환경보호 장비, 건설산업 장비의 생산 및 판매), 통합 서비스 사업(에너지, 환경보호와 자동화 공학 및 서비스, 산업 인터넷 서비스, 재무 서비스, 국제 무역 서비스, 고급 부동산 서비스 등)이다. 로고 -  https : / / photos.prnasia.com / prnh / 20200424/2786026-1 -LOGO   Logo 영상 -  https : / / cdn 5 .prnasia.com / 202006 / shec / video.mp 4  출처:  Shanghai   Electric [편집자 주] 본고는 자료 제공사에서 제공한 것으로, 연합뉴스는 내용에 대해 어떠한 편집도 하지 않았음을 밝혀 드립니다. ▶코로나19 속보는 네이버 연합뉴스에서 [구독 클릭] ▶[팩트체크] \\'정신대\\' 단체가 \\'위안부\\' 이용? ▶제보하기    // 본문 내용   ']\n"
     ]
    }
   ],
   "source": [
    "# naver_news_link에 있는 url 하나하나에 접속해서 타이틀과 본문 가져오자\n",
    "\n",
    "naver_news_title = []\n",
    "naver_news_content = []\n",
    "\n",
    "for n in tqdm_notebook(range(len(naver_news_link))):\n",
    "    #print(n)\n",
    "    news_page_title = []\n",
    "    news_page_content = []\n",
    "    \n",
    "    for idx in tqdm_notebook(range(len(naver_news_link[n]))):\n",
    "          \n",
    "    ########### 긁어온 URL로 접속하기 ############    \n",
    "        try:\n",
    "            driver.get(naver_news_link[n][idx])\n",
    "            print(naver_news_link[n][idx])\n",
    "            \n",
    "        except:\n",
    "            print(\"Timeout!\")\n",
    "            continue\n",
    "            \n",
    "# try,except쓴 이유는 실제로 크롤링할 때 에러가 많이 뜸\n",
    "# 네트워크 때문에, 실제 기사가 있었다가 없어진 이유 등등        \n",
    "        \n",
    "        try:\n",
    "            response = driver.page_source\n",
    "            \n",
    "        except UnexpectedAlertPresentException:\n",
    "            driver.switch_to_alert().accept()\n",
    "            print(\"게시글이 삭제된 경우입니다.\")\n",
    "            continue\n",
    "        \n",
    "        soup = BeautifulSoup(response, \"html.parser\")\n",
    "        \n",
    "        ###### 뉴스 타이틀 긁어오기 ######\n",
    "        \n",
    "        title = None\n",
    "        \n",
    "        try:\n",
    "            item = soup.find('div', class_=\"article_info\")\n",
    "            title = item.find('h3', class_=\"tts_head\").get_text()\n",
    "            #print(title)\n",
    "\n",
    "        except:\n",
    "            title = \"OUTLINK\"\n",
    "        \n",
    "        #print(title)\n",
    "        news_page_title.append(title)\n",
    "        \n",
    "        \n",
    "        ###### 뉴스 본문 긁어오기 ######\n",
    " # 본문 가져오는 방법 되게 다양함. 강사님은 이 코드가 어려운데 가장 잘 된대\n",
    "        \n",
    "        doc = None\n",
    "        text = \"\"\n",
    "                \n",
    "        data = soup.find_all(\"div\", {\"class\" : \"_article_body_contents\"})\n",
    "         # class가 _article_body_contents인 것을 find_all -> 모두 다 가져온 다음에\n",
    "        # 그중에서 text만 가져오는 것\n",
    "        \n",
    "        if data:\n",
    "            for item in data:\n",
    "\n",
    "                text = text + str(item.find_all(text=True)).strip()\n",
    "                text = ast.literal_eval(text)\n",
    "                doc = ' '.join(text)\n",
    "   \n",
    "        else:\n",
    "            doc = \"OUTLINK\"\n",
    "            \n",
    "        news_page_content.append(doc.replace('\\n', ' '))\n",
    "\n",
    "                \n",
    "    naver_news_title.append(news_page_title)\n",
    "    naver_news_content.append(news_page_content)\n",
    "\n",
    "    time.sleep(2) # 이거 안해주면 디도스?같은 걸로 인식해서 막아버린대\n",
    "    \n",
    "    \n",
    "print(naver_news_title[0])\n",
    "print(\"==================================\")\n",
    "print(naver_news_content[0])"
   ]
  },
  {
   "cell_type": "markdown",
   "metadata": {},
   "source": [
    "### 크롤링 결과 확인하기."
   ]
  },
  {
   "cell_type": "code",
   "execution_count": 52,
   "metadata": {},
   "outputs": [
    {
     "name": "stdout",
     "output_type": "stream",
     "text": [
      "[\"'76조 투입' 한국판 뉴딜에 어떤 내용 담겼나\", 'OUTLINK', '[PRNewswire] Shanghai Electric, SEunicloud 업그레이드 통해 산업 디지털화 가속']\n"
     ]
    }
   ],
   "source": [
    "print(naver_news_title[0])"
   ]
  },
  {
   "cell_type": "code",
   "execution_count": 53,
   "metadata": {},
   "outputs": [
    {
     "name": "stdout",
     "output_type": "stream",
     "text": [
      "[\"   본문 내용     TV플레이어     // TV플레이어     // flash 오류를 우회하기 위한 함수 추가 function _flash_removeCallback() {}    정부가 '디지털 뉴딜'과 '그린 뉴딜' 등으로 나눈 한국판 뉴딜에 오는 2025년까지 총 76조 원을 투입한다고 1일 밝혔다. 사진은 홍남기 경제부총리 겸 기획재정부 장관. /이동률 기자 정부, 한국판 뉴딜 '디지털·그린'에 76조 원 투입 [더팩트ㅣ이성락 기자] '포스트 코로나' 시대를 대비하고 장기적으로 한국 경제의 도약을 준비하는 프로젝트인 '한국판 뉴딜'에 오는 2025년까지 총 76조 원이 투입된다. 정부가 1일 발표한 한국판 뉴딜은 '디지털 뉴딜'과 '그린 뉴딜'을 양대 축으로, '고용안전망 강화' 토대 위에서 추진된다. 이날 정부는 기획재정부 등 관계 부처 합동으로 발표한 '2020년 하반기 경제정책방향'(하경정)을 통해 한국판 뉴딜 추진 방침을 발표했다. 정부는 한국판 뉴딜 추진에 문재인 정부 임기 말인 2022년까지 31조3000억 원을 투자해 55만 개 수준의 일자리를 창출한다는 계획이다. 또한, 한국판 뉴딜 완성을 위해 문재인 정부 이후인 2023년부터 2025년까지 45조 원 추가 투입해 국가 산업 재편과 디지털 강국의 입지를 공고히 하겠다는 방침이다. 구체적으로 디지털 뉴딜 중점 과제는 △ D.N.A.  생태계 강화 △디지털 포용 및 안전망 구축 △비대면 산업 육성 △사회간접자본( SOC ) 디지털화 등이다. 우선 정부는 2020년까지 6조4000억 원을 투입해  D.N.A.  생태계 강화에 나선다. 데이터( Data )와 네트워크( Network ), 인공지능( AI ) 사업을 키워 약 22만2000개의 일자리를 창출한다는 계획이다. 정부는 금융·환경·문화·교통·헬스케어 등 국민생활과 밀접한 15개 분야 빅데이터 플랫폼을 구축하고, 14만 개 공공데이터를 개방하기로 했다. 또  AI  학습용 데이터 700종을 추가 구축하기로 했다. 5G 조기 구축과 융합 산업 활성화를 위해서는 국가망을 5G와 클라우드로 전환하는 시범 사업을 추진한다. 이와 함께 행정정보시스템의 15%를 클라우드 서버 기반으로 전환한다는 계획이다. 이를 위해 정부는 이동통신사가 무선국을 신설할 경우 등록면허세를 감면해주는 방안을 검토하고 있다. 디지털 포용 및 안전망 구축에는 2022년까지 8000억 원을 투입한다. 농어촌 초고속 인터넷망과 공공시설 와이파이( WiFi ) 구축, 도서·벽지 등 농어촌 마을 1300개에 초고속 인터넷망 보급 등을 내용에 담고 있다.  K- 사이버 보안체계 구축, 중소기업 2500개 대상 보안 컨설팅·보안 시스템 고도화 지원, 철도·항공 등 소프트웨어 안전 관련 450종 디지털 시스템 선제적 점검 등도 추진한다. 정부는 1조4000억 원의 재정을 투입해 비대면 사업 육성에도 나설 예정이다. 전국 초중고 38만 교실에 와이파이존을 구축하고, 전국 38개 국립대 노후 서버 및 네트워크 장비 등을 전면 교체한다. 10개 권역별 미래교육센터·원격교육지원센터 등도 설치하기로 했다. 이밖에 코로나19 사태에 따른 감염병 대비를 위해 2021년까지 호흡기 전담클리닉 1000개소를 설치한다. SOC  디지털화에는 4조8000억 원을 투입한다. 정부는 주요 도로 간선망 지능형 교통체계와 국도정밀지도를 2022년까지 조기 완수하고, 국가 하천, 27개 권역 국가관리 저수지 등에는 원격 수문제어 시스템을 도입하기로 했다. 전체 공동구(322 km ) 가운데 노후된 24 km 에 대한 스마트관리 시범 사업도 추진한다. 또 인구 20만 이상의 모든 도시를 대상으로 교통·방범·방재 등 통합관리플랫폼 구축을 기존 2022년에서 2020년으로 앞당겼다. 산업단지에도 5 G· 사물인터넷( IoT )·지능형 폐쇄회로( CC ) TV 를 도입한 통합관제센터를 설치한다. 그린 뉴딜은 크게 △도시·공간·생활 인프라 녹색 전환 △녹색산업 혁신 생태계 구축 △저탄소·분산형 에너지 확산 등 3대 축으로 나뉜다. 도시·공간·생활 인프라 녹색 전환에는 2022년까지 재정 5조8000억 원을 투입한다. 어린이집(1058개), 보건소(1045개), 의료기관(67개), 공공 임대주택(18만6000호) 등 4대 노후 공공 건축물에 대해 리모델링을 진행한다. 또 48개 전체 광역상수도·161개 지자체 지방상수도 관련 전 과정에  ICT 와  AI  기술을 도입한다. 1조7000억 원이 들어가는 녹색산업 혁신 생태계 구축에는 그린 뉴딜 선도 100대 유망 기업과 5대 선도 녹색산업 육성·창업 스타트업 지원을 확대하겠다는 내용이 포함됐다. 유망 기업에는 연구개발·실증·사업화 등 사업의 전 단계를 지원할 계획이다. 유망 녹색융합기술 분야 전문 녹색 인재 5000명을 양성하고, 기술력 기반 유망 환경 기업 대상 융자에 1조 원을 공급한다. 저탄소·분산형 에너지 확산에는 5조4000억 원을 투입한다. 먼저 아파트 500만호에 양방향 통신이 가능한 지능형 전력계량기를 설치한다. 15년 이상 노후 아파트 3000동에 대해서는 에너지 진단을 실시하고 빅데이터 플랫폼을 구축하기로 했다. 태양광·풍력·수소 등 3대 신재생에너지 확산 기반 구축과 온실가스 저감 효과가 큰 친환경 차량·선박으로의 조기 전환 등도 추진한다. 이러한 한국판 뉴딜 사업은 전 국민 고용안전망 구축을 기반으로 추진한다. 고용보험 사각지대를 축소하는 것이 1번째 과제다. 미래적응형 직업훈련체계로의 개편, 산업안전 및 근무환경 혁신 등을 위해서도 재정을 투입한다. 청년들을 위해서는 단기채용 기업에 인건비를 지원하는 등의 방안도 추진한다. 정부는 이러한 한국판 뉴딜 추진에 필요한 추가 과제를 보완·확대한다는 방침이다. 관련 내용을 담은 종합 계획은 다음 달 중으로 발표할 계획이다. rocky @ tf.co.kr - 더팩트 뮤직어워즈는 언제? [알림받기▶]   - 내 아이돌 응원하기 [팬앤스타▶]   저작권자 ⓒ 특종에 강한 더팩트 &  tf.co.kr  무단 전재 및 재배포 금지 \\t  // 본문 내용   \", 'OUTLINK', '   본문 내용     TV플레이어     // TV플레이어     // flash 오류를 우회하기 위한 함수 추가 function _flash_removeCallback() {}   \\t \\t(상하이 2020년 6월 1일  PRNewswire =연합뉴스) 발전 및 산업 장비 부문의 세계 선도적인 제조·공급기업  Shanghai   Electric 이 업무 재개를 가속화하고 업계 재편을 도모하고자 자사의 디지털 솔루션 플랫폼  SEunicloud 를 업그레이드했다고 발표했다.  Shanghai   Electric   Digital   Technology   Co. ,  Ltd. 가 개발하고 2019년에 공식 출시된  SEunicloud  플랫폼은 지능형 풍력 발전소 가동, 원격 화 발전소 가동, 공작기계의 유지관리, 에너지 저장 및 분산을 포함하는 다양한 시나리오에서 설치 가능하다. 이 플랫폼은 다양한 시나리오에서 발생하는 수요를 충족하고자 문제 해결, 원격 가동, 유지관리 및 에너지 계획 같은 효율적인 솔루션을 제공해왔다.  Shanghai   Electric   SEunicloud  플랫폼의 지능형 공급망 솔루션은 공장 생산과 발전소 수요를 직접적으로 매칭하도록 설계됐다.  Shanghai   Electric 은 온라인에서 1,781건의 조달 프로젝트를 확립하고, 2월 업무 재개 이후 최종적으로 8억 위안이 넘는 입찰량을 기록했다.  다면적 첨단 디지털 플랫폼인  SEunicloud 를 통해, 사용자는 원격으로 장비를 진단함으로써 꽉 죄인 공급망 스트레스를 해소하고, 이를 통해 재건설 과정을 가속화 할 수 있다. 그뿐만 아니라 공급망을 조달 및 관리하고, 공급업체 계약, 소스 입찰, 온라인 구매 및 주문 조정을 모니터링할 수도 있다. 또한, 지능형 공급망 플랫폼인  SEunicloud 는 조달 가격 정책 과정에서 지난 데이터 분석을 통해 판매자와 구매자를 매칭시키고, 공급업체의 과거 실적을 자동으로 추적 및 기록한다. 그 과정에서 자산 실사를 위해 전반적인 공급망 관리 과정을 고려한다.  SEunicloud  플랫폼의  DES-PSO  에너지 계획 솔루션은  Shanghai   Electric   Distributed   Energy   Co. ,  Ltd. 와  Lawrence   Berkeley   National   Laboratory 가 공동으로 개발한 솔루션이다. 이 솔루션은 설계 및 기획, 투자 분석 및 위험 평가 기능을 제공하며, 고객이 건설을 의뢰하기 전에 대규모 에너지 생산 프로젝트의 재정적 시행 가능성을 평가할 수 있도록 지원한다.  Shanghai   Electric   SEunicloud  플랫폼의 전자상거래 솔루션은 발전소의 \\'필수\\' 예비부품 중 90%를 커버하며, 예비부품, 유지관리 서비스, 변혁 최적화 등을 갖춘 원스톱 플랫폼이다. 이 솔루션은 22,000개가 넘는 예비 부품 제품과 70개의 표준 수리 패키지의 온라인 배송을 촉진하는데, 모두 공장도 가격만큼 저렴하게 책정된다. 고객은 요건에 맞는 표준화된 형식을 사용할 수 있어, 덕분에 구매자와 판매자 간에 의사소통 과정을 능률화함으로써 거래 효율성을 높일 수 있다. 이 전자상거래 플랫폼은 빅 데이터 분석을 통해 지능형 맞춤 제품과 서비스를 위한 통합적인 데이터 중심 솔루션 양성이라는 희망을 키운다.  Shanghai   Electric  그룹 이사 및 사장  Huang   Ou 는 \"자사는 \\'새로운 기반시설\\'이라는 큰 그림에 따라 여러 파이프라인에서 빅 데이터 경쟁 우위를 이용하고, 전체 발전 산업을 위한 통합적인 플랫폼 기반 솔루션을 위한 길을 열고 있다\"라며 \"자사의 목적은 가까운 미래에 여러 산업에서 기업들에 이 기술을 부여하는 것\"이라고 말했다. Shanghai   Electric  소개    Shanghai   Electric   Group   Company   Limited ( SEHK : 02727,  SSE : 601727)는 주로 발전 장비와 산업 장비의 설계, 제조 및 판매 부문에 종사한다.  Shanghai   Electric 이 중점을 두는 주요 사업 부문은 에너지 장비 사업(석탄화력발전 장비, 가스화력발전 장비, 핵발전 장비, 풍력발전 장비, 에너지 저장 장비, 고급 화학 장비, 전력 그리드 및 산업 지능형 전력 공급 시스템 솔류션의 제조 및 판매), 산업 장비 사업(엘리베이터, 중·대형 전동기, 지능형 제조 장비, 산업 기본 부품, 환경보호 장비, 건설산업 장비의 생산 및 판매), 통합 서비스 사업(에너지, 환경보호와 자동화 공학 및 서비스, 산업 인터넷 서비스, 재무 서비스, 국제 무역 서비스, 고급 부동산 서비스 등)이다. 로고 -  https : / / photos.prnasia.com / prnh / 20200424/2786026-1 -LOGO   Logo 영상 -  https : / / cdn 5 .prnasia.com / 202006 / shec / video.mp 4  출처:  Shanghai   Electric [편집자 주] 본고는 자료 제공사에서 제공한 것으로, 연합뉴스는 내용에 대해 어떠한 편집도 하지 않았음을 밝혀 드립니다. ▶코로나19 속보는 네이버 연합뉴스에서 [구독 클릭] ▶[팩트체크] \\'정신대\\' 단체가 \\'위안부\\' 이용? ▶제보하기    // 본문 내용   ']\n"
     ]
    }
   ],
   "source": [
    "print(naver_news_content[0])"
   ]
  },
  {
   "cell_type": "code",
   "execution_count": 54,
   "metadata": {},
   "outputs": [
    {
     "name": "stdout",
     "output_type": "stream",
     "text": [
      "3\n",
      "3\n"
     ]
    }
   ],
   "source": [
    "print(len(naver_news_title[0]))\n",
    "print(len(naver_news_content[0]))"
   ]
  },
  {
   "cell_type": "markdown",
   "metadata": {},
   "source": [
    "### 크롤링 결과 저장하기"
   ]
  },
  {
   "cell_type": "code",
   "execution_count": 55,
   "metadata": {},
   "outputs": [],
   "source": [
    "# 보통은 텍스트 파일로 만드는데, 데이터가 적은 경우 용이한 pickle 사용\n",
    "# pickle 쓰는 이유는 저장된 리스트 그자체를 저장해서 그자체를 이용하려고\n",
    "with open(\"naver_news_title.pk\", \"wb\") as f:\n",
    "    pickle.dump(naver_news_title, f)\n",
    "    \n",
    "with open(\"naver_news_contecnt.pk\", \"wb\") as f:\n",
    "    pickle.dump(naver_news_content, f)"
   ]
  },
  {
   "cell_type": "markdown",
   "metadata": {},
   "source": [
    "- 이제 크롤링한 것들을 형태소 분석기를 불러와서 konlpy 설치하고\n",
    "- konlpy 불러와서 정제하고, 토픽모델링하는 것까지 하나하나 배워보자"
   ]
  }
 ],
 "metadata": {
  "kernelspec": {
   "display_name": "Python 3",
   "language": "python",
   "name": "python3"
  },
  "language_info": {
   "codemirror_mode": {
    "name": "ipython",
    "version": 3
   },
   "file_extension": ".py",
   "mimetype": "text/x-python",
   "name": "python",
   "nbconvert_exporter": "python",
   "pygments_lexer": "ipython3",
   "version": "3.7.1"
  }
 },
 "nbformat": 4,
 "nbformat_minor": 2
}
