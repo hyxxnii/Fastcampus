{
  "nbformat": 4,
  "nbformat_minor": 0,
  "metadata": {
    "kernelspec": {
      "display_name": "Python 3",
      "language": "python",
      "name": "python3"
    },
    "language_info": {
      "codemirror_mode": {
        "name": "ipython",
        "version": 3
      },
      "file_extension": ".py",
      "mimetype": "text/x-python",
      "name": "python",
      "nbconvert_exporter": "python",
      "pygments_lexer": "ipython3",
      "version": "3.7.7"
    },
    "colab": {
      "name": "Chapter 1 - 자동으로 모은 데이터는 분석하기 어렵다면서? 자동으로 모은 중고 자동차 데이터를 분석해보자!(문제).ipynb",
      "provenance": [],
      "collapsed_sections": []
    }
  },
  "cells": [
    {
      "cell_type": "markdown",
      "metadata": {
        "id": "NqqLNJZjfi8U"
      },
      "source": [
        "# 주제 : 자동으로 모은 데이터는 분석하기 어렵다면서? 자동으로 모은 중고 자동차 데이터를 분석해보자!\n",
        "----------\n",
        "\n",
        "## 데이터 소개\n",
        "    - 이번 주제는 Used Cars Dataset을 사용합니다.\n",
        "    - 파일은 한 개이며, 각각의 컬럼은 아래와 같습니다.\n",
        "    \n",
        "    - vehicles.csv\n",
        "    id : 중고차 거래의 아이디\n",
        "    url : 중고차 거래 페이지\n",
        "    region : 해당 거래의 관리 지점\n",
        "    region_url : 거래 관리 지점의 홈페이지\n",
        "    price : 기입된 자동차의 거래가\n",
        "    year : 거래가 기입된 년도\n",
        "    manufacturer : 자동차를 생산한 회사\n",
        "    model : 자동차 모델명\n",
        "    condition : 자동차의 상태\n",
        "    cylinders : 자동차의 기통 수\n",
        "    fuel : 자동차의 연료 타입\n",
        "    odometer : 자동차의 운행 마일 수\n",
        "    title_status : 자동차의 타이틀 상태 (소유주 등록 상태)\n",
        "    transmission : 자동차의 트랜스미션 종류\n",
        "    vin : 자동차의 식별 번호 (vehicle identification number)\n",
        "    drive : 자동차의 구동 타입\n",
        "    size : 자동차 크기\n",
        "    type : 자동차의 일반 타입 (세단, ...)\n",
        "    paint_color : 자동차 색상\n",
        "    image_url : 자동차 이미지\n",
        "    description : 세부 설명\n",
        "    county : 실수로 생성된 미사용 컬럼\n",
        "    state : 거래가 업로드된 미 주\n",
        "    lat : 거래가 업로드된 곳의 위도\n",
        "    long : 거래가 업로드된 곳의 경도\n",
        "    \n",
        "    \n",
        "- 데이터 출처: https://www.kaggle.com/austinreese/craigslist-carstrucks-data\n",
        "\n",
        "## 최종 목표\n",
        "    - 스크래핑된 dirty 데이터 클리닝 방법 이해\n",
        "    - 다양한 종류의 데이터 정규화 방법 습득\n",
        "    - 데이터 시각화를 통한 인사이트 습득 방법의 이해\n",
        "    - Scikit-learn 기반의 모델 학습 방법 습득\n",
        "    - XGBoost, LightGBM 기반의 모델 학습 방법 습득\n",
        "    - 학습된 모델의 평가 방법 및 시각화 방법 습득\n",
        "\n",
        "- 출제자 : 신제용 강사\n",
        "---"
      ]
    },
    {
      "cell_type": "markdown",
      "metadata": {
        "id": "IRssoNrgP7So"
      },
      "source": [
        "## Step 1. 데이터셋 준비하기"
      ]
    },
    {
      "cell_type": "code",
      "metadata": {
        "id": "g49RuFGrBvt7"
      },
      "source": [
        "import pandas as pd\n",
        "import numpy as np\n",
        "import matplotlib.pyplot as plt\n",
        "import seaborn as sns"
      ],
      "execution_count": 1,
      "outputs": []
    },
    {
      "cell_type": "markdown",
      "metadata": {
        "id": "paInbv8Ys-Qy"
      },
      "source": [
        "### 문제 1. Colab Notebook에 Kaggle API 세팅하기\n"
      ]
    },
    {
      "cell_type": "code",
      "metadata": {
        "id": "RRXGYV60B7FX"
      },
      "source": [
        "import os"
      ],
      "execution_count": 2,
      "outputs": []
    },
    {
      "cell_type": "code",
      "metadata": {
        "id": "mMKFOC0OBtHO"
      },
      "source": [
        "# os.environ을 이용하여 Kaggle API Username, Key 세팅하기\n",
        "os.environ['KAGGLE_USERNAME'] = 'hyuns6100'\n",
        "os.environ['KAGGLE_KEY'] = '6d9031012cd0958b26935f306ae56161'"
      ],
      "execution_count": 3,
      "outputs": []
    },
    {
      "cell_type": "markdown",
      "metadata": {
        "id": "zvbeoB_WtBi-"
      },
      "source": [
        "### 문제 2. 데이터 다운로드 및 압축 해제하기\n"
      ]
    },
    {
      "cell_type": "code",
      "metadata": {
        "id": "JSblp2NsCGbh",
        "colab": {
          "base_uri": "https://localhost:8080/"
        },
        "outputId": "3a33eef5-7b64-4aa1-d5d9-4af7dca5b6c4"
      },
      "source": [
        "# Linux 명령어로 Kaggle API를 이용하여 데이터셋 다운로드하기 (!kaggle ~)\n",
        "# Linux 명령어로 압축 해제하기\n",
        "\n",
        "!rm *.*\n",
        "!kaggle datasets download -d austinreese/craigslist-carstrucks-data\n",
        "!unzip '*.zip'"
      ],
      "execution_count": 4,
      "outputs": [
        {
          "output_type": "stream",
          "text": [
            "Downloading craigslist-carstrucks-data.zip to /content\n",
            " 96% 252M/262M [00:01<00:00, 208MB/s]\n",
            "100% 262M/262M [00:01<00:00, 205MB/s]\n",
            "Archive:  craigslist-carstrucks-data.zip\n",
            "  inflating: vehicles.csv            \n"
          ],
          "name": "stdout"
        }
      ]
    },
    {
      "cell_type": "markdown",
      "metadata": {
        "id": "aJ34SovLtFI8"
      },
      "source": [
        "### 문제 3. Pandas 라이브러리로 csv파일 읽어들이기\n"
      ]
    },
    {
      "cell_type": "code",
      "metadata": {
        "id": "RnJv-4YwCMSx"
      },
      "source": [
        "df = pd.read_csv('./vehicles.csv')"
      ],
      "execution_count": 5,
      "outputs": []
    },
    {
      "cell_type": "markdown",
      "metadata": {
        "id": "9L3BNVM7tHN5"
      },
      "source": [
        "## Step 2. EDA 및 데이터 기초 통계 분석\n"
      ]
    },
    {
      "cell_type": "markdown",
      "metadata": {
        "id": "HyFm33tNtVn7"
      },
      "source": [
        "### 문제 4. 불필요한 데이터 데이터프레임에서 제거하기\n"
      ]
    },
    {
      "cell_type": "code",
      "metadata": {
        "id": "YcR9BX23DIFW",
        "colab": {
          "base_uri": "https://localhost:8080/",
          "height": 258
        },
        "outputId": "d1d13af8-647e-437d-f807-cb3ae161502d"
      },
      "source": [
        "# DataFrame에서 제공하는 메소드를 이용하여 각 데이터프레임의 구조 분석하기 (head(), info(), describe())\n",
        "# 데이터프레임에서 불필요한 컬럼 제거하기\n",
        "# 'year' 컬럼을 'age' 컬럼으로 변경하기\n",
        "df.head()"
      ],
      "execution_count": 6,
      "outputs": [
        {
          "output_type": "execute_result",
          "data": {
            "text/html": [
              "<div>\n",
              "<style scoped>\n",
              "    .dataframe tbody tr th:only-of-type {\n",
              "        vertical-align: middle;\n",
              "    }\n",
              "\n",
              "    .dataframe tbody tr th {\n",
              "        vertical-align: top;\n",
              "    }\n",
              "\n",
              "    .dataframe thead th {\n",
              "        text-align: right;\n",
              "    }\n",
              "</style>\n",
              "<table border=\"1\" class=\"dataframe\">\n",
              "  <thead>\n",
              "    <tr style=\"text-align: right;\">\n",
              "      <th></th>\n",
              "      <th>id</th>\n",
              "      <th>url</th>\n",
              "      <th>region</th>\n",
              "      <th>region_url</th>\n",
              "      <th>price</th>\n",
              "      <th>year</th>\n",
              "      <th>manufacturer</th>\n",
              "      <th>model</th>\n",
              "      <th>condition</th>\n",
              "      <th>cylinders</th>\n",
              "      <th>fuel</th>\n",
              "      <th>odometer</th>\n",
              "      <th>title_status</th>\n",
              "      <th>transmission</th>\n",
              "      <th>VIN</th>\n",
              "      <th>drive</th>\n",
              "      <th>size</th>\n",
              "      <th>type</th>\n",
              "      <th>paint_color</th>\n",
              "      <th>image_url</th>\n",
              "      <th>description</th>\n",
              "      <th>county</th>\n",
              "      <th>state</th>\n",
              "      <th>lat</th>\n",
              "      <th>long</th>\n",
              "      <th>posting_date</th>\n",
              "    </tr>\n",
              "  </thead>\n",
              "  <tbody>\n",
              "    <tr>\n",
              "      <th>0</th>\n",
              "      <td>7222695916</td>\n",
              "      <td>https://prescott.craigslist.org/cto/d/prescott...</td>\n",
              "      <td>prescott</td>\n",
              "      <td>https://prescott.craigslist.org</td>\n",
              "      <td>6000</td>\n",
              "      <td>NaN</td>\n",
              "      <td>NaN</td>\n",
              "      <td>NaN</td>\n",
              "      <td>NaN</td>\n",
              "      <td>NaN</td>\n",
              "      <td>NaN</td>\n",
              "      <td>NaN</td>\n",
              "      <td>NaN</td>\n",
              "      <td>NaN</td>\n",
              "      <td>NaN</td>\n",
              "      <td>NaN</td>\n",
              "      <td>NaN</td>\n",
              "      <td>NaN</td>\n",
              "      <td>NaN</td>\n",
              "      <td>NaN</td>\n",
              "      <td>NaN</td>\n",
              "      <td>NaN</td>\n",
              "      <td>az</td>\n",
              "      <td>NaN</td>\n",
              "      <td>NaN</td>\n",
              "      <td>NaN</td>\n",
              "    </tr>\n",
              "    <tr>\n",
              "      <th>1</th>\n",
              "      <td>7218891961</td>\n",
              "      <td>https://fayar.craigslist.org/ctd/d/bentonville...</td>\n",
              "      <td>fayetteville</td>\n",
              "      <td>https://fayar.craigslist.org</td>\n",
              "      <td>11900</td>\n",
              "      <td>NaN</td>\n",
              "      <td>NaN</td>\n",
              "      <td>NaN</td>\n",
              "      <td>NaN</td>\n",
              "      <td>NaN</td>\n",
              "      <td>NaN</td>\n",
              "      <td>NaN</td>\n",
              "      <td>NaN</td>\n",
              "      <td>NaN</td>\n",
              "      <td>NaN</td>\n",
              "      <td>NaN</td>\n",
              "      <td>NaN</td>\n",
              "      <td>NaN</td>\n",
              "      <td>NaN</td>\n",
              "      <td>NaN</td>\n",
              "      <td>NaN</td>\n",
              "      <td>NaN</td>\n",
              "      <td>ar</td>\n",
              "      <td>NaN</td>\n",
              "      <td>NaN</td>\n",
              "      <td>NaN</td>\n",
              "    </tr>\n",
              "    <tr>\n",
              "      <th>2</th>\n",
              "      <td>7221797935</td>\n",
              "      <td>https://keys.craigslist.org/cto/d/summerland-k...</td>\n",
              "      <td>florida keys</td>\n",
              "      <td>https://keys.craigslist.org</td>\n",
              "      <td>21000</td>\n",
              "      <td>NaN</td>\n",
              "      <td>NaN</td>\n",
              "      <td>NaN</td>\n",
              "      <td>NaN</td>\n",
              "      <td>NaN</td>\n",
              "      <td>NaN</td>\n",
              "      <td>NaN</td>\n",
              "      <td>NaN</td>\n",
              "      <td>NaN</td>\n",
              "      <td>NaN</td>\n",
              "      <td>NaN</td>\n",
              "      <td>NaN</td>\n",
              "      <td>NaN</td>\n",
              "      <td>NaN</td>\n",
              "      <td>NaN</td>\n",
              "      <td>NaN</td>\n",
              "      <td>NaN</td>\n",
              "      <td>fl</td>\n",
              "      <td>NaN</td>\n",
              "      <td>NaN</td>\n",
              "      <td>NaN</td>\n",
              "    </tr>\n",
              "    <tr>\n",
              "      <th>3</th>\n",
              "      <td>7222270760</td>\n",
              "      <td>https://worcester.craigslist.org/cto/d/west-br...</td>\n",
              "      <td>worcester / central MA</td>\n",
              "      <td>https://worcester.craigslist.org</td>\n",
              "      <td>1500</td>\n",
              "      <td>NaN</td>\n",
              "      <td>NaN</td>\n",
              "      <td>NaN</td>\n",
              "      <td>NaN</td>\n",
              "      <td>NaN</td>\n",
              "      <td>NaN</td>\n",
              "      <td>NaN</td>\n",
              "      <td>NaN</td>\n",
              "      <td>NaN</td>\n",
              "      <td>NaN</td>\n",
              "      <td>NaN</td>\n",
              "      <td>NaN</td>\n",
              "      <td>NaN</td>\n",
              "      <td>NaN</td>\n",
              "      <td>NaN</td>\n",
              "      <td>NaN</td>\n",
              "      <td>NaN</td>\n",
              "      <td>ma</td>\n",
              "      <td>NaN</td>\n",
              "      <td>NaN</td>\n",
              "      <td>NaN</td>\n",
              "    </tr>\n",
              "    <tr>\n",
              "      <th>4</th>\n",
              "      <td>7210384030</td>\n",
              "      <td>https://greensboro.craigslist.org/cto/d/trinit...</td>\n",
              "      <td>greensboro</td>\n",
              "      <td>https://greensboro.craigslist.org</td>\n",
              "      <td>4900</td>\n",
              "      <td>NaN</td>\n",
              "      <td>NaN</td>\n",
              "      <td>NaN</td>\n",
              "      <td>NaN</td>\n",
              "      <td>NaN</td>\n",
              "      <td>NaN</td>\n",
              "      <td>NaN</td>\n",
              "      <td>NaN</td>\n",
              "      <td>NaN</td>\n",
              "      <td>NaN</td>\n",
              "      <td>NaN</td>\n",
              "      <td>NaN</td>\n",
              "      <td>NaN</td>\n",
              "      <td>NaN</td>\n",
              "      <td>NaN</td>\n",
              "      <td>NaN</td>\n",
              "      <td>NaN</td>\n",
              "      <td>nc</td>\n",
              "      <td>NaN</td>\n",
              "      <td>NaN</td>\n",
              "      <td>NaN</td>\n",
              "    </tr>\n",
              "  </tbody>\n",
              "</table>\n",
              "</div>"
            ],
            "text/plain": [
              "           id  ... posting_date\n",
              "0  7222695916  ...          NaN\n",
              "1  7218891961  ...          NaN\n",
              "2  7221797935  ...          NaN\n",
              "3  7222270760  ...          NaN\n",
              "4  7210384030  ...          NaN\n",
              "\n",
              "[5 rows x 26 columns]"
            ]
          },
          "metadata": {
            "tags": []
          },
          "execution_count": 6
        }
      ]
    },
    {
      "cell_type": "code",
      "metadata": {
        "id": "9wsMfRHsDcW2",
        "colab": {
          "base_uri": "https://localhost:8080/"
        },
        "outputId": "0c7a6d05-6f47-4fd8-d87b-abcda125d286"
      },
      "source": [
        "df.info()"
      ],
      "execution_count": 7,
      "outputs": [
        {
          "output_type": "stream",
          "text": [
            "<class 'pandas.core.frame.DataFrame'>\n",
            "RangeIndex: 426880 entries, 0 to 426879\n",
            "Data columns (total 26 columns):\n",
            " #   Column        Non-Null Count   Dtype  \n",
            "---  ------        --------------   -----  \n",
            " 0   id            426880 non-null  int64  \n",
            " 1   url           426880 non-null  object \n",
            " 2   region        426880 non-null  object \n",
            " 3   region_url    426880 non-null  object \n",
            " 4   price         426880 non-null  int64  \n",
            " 5   year          425675 non-null  float64\n",
            " 6   manufacturer  409234 non-null  object \n",
            " 7   model         421603 non-null  object \n",
            " 8   condition     252776 non-null  object \n",
            " 9   cylinders     249202 non-null  object \n",
            " 10  fuel          423867 non-null  object \n",
            " 11  odometer      422480 non-null  float64\n",
            " 12  title_status  418638 non-null  object \n",
            " 13  transmission  424324 non-null  object \n",
            " 14  VIN           265838 non-null  object \n",
            " 15  drive         296313 non-null  object \n",
            " 16  size          120519 non-null  object \n",
            " 17  type          334022 non-null  object \n",
            " 18  paint_color   296677 non-null  object \n",
            " 19  image_url     426812 non-null  object \n",
            " 20  description   426810 non-null  object \n",
            " 21  county        0 non-null       float64\n",
            " 22  state         426880 non-null  object \n",
            " 23  lat           420331 non-null  float64\n",
            " 24  long          420331 non-null  float64\n",
            " 25  posting_date  426812 non-null  object \n",
            "dtypes: float64(5), int64(2), object(19)\n",
            "memory usage: 84.7+ MB\n"
          ],
          "name": "stdout"
        }
      ]
    },
    {
      "cell_type": "code",
      "metadata": {
        "id": "ZNUzWhreDgfB",
        "colab": {
          "base_uri": "https://localhost:8080/"
        },
        "outputId": "241409ef-c223-44e1-b47f-0cf946722796"
      },
      "source": [
        "df.isna().sum()"
      ],
      "execution_count": 8,
      "outputs": [
        {
          "output_type": "execute_result",
          "data": {
            "text/plain": [
              "id                   0\n",
              "url                  0\n",
              "region               0\n",
              "region_url           0\n",
              "price                0\n",
              "year              1205\n",
              "manufacturer     17646\n",
              "model             5277\n",
              "condition       174104\n",
              "cylinders       177678\n",
              "fuel              3013\n",
              "odometer          4400\n",
              "title_status      8242\n",
              "transmission      2556\n",
              "VIN             161042\n",
              "drive           130567\n",
              "size            306361\n",
              "type             92858\n",
              "paint_color     130203\n",
              "image_url           68\n",
              "description         70\n",
              "county          426880\n",
              "state                0\n",
              "lat               6549\n",
              "long              6549\n",
              "posting_date        68\n",
              "dtype: int64"
            ]
          },
          "metadata": {
            "tags": []
          },
          "execution_count": 8
        }
      ]
    },
    {
      "cell_type": "code",
      "metadata": {
        "id": "KiOkf86EDliQ",
        "colab": {
          "base_uri": "https://localhost:8080/",
          "height": 297
        },
        "outputId": "4eabee8c-ff36-4de0-e938-0bf66ffb3fba"
      },
      "source": [
        "df.describe()"
      ],
      "execution_count": 9,
      "outputs": [
        {
          "output_type": "execute_result",
          "data": {
            "text/html": [
              "<div>\n",
              "<style scoped>\n",
              "    .dataframe tbody tr th:only-of-type {\n",
              "        vertical-align: middle;\n",
              "    }\n",
              "\n",
              "    .dataframe tbody tr th {\n",
              "        vertical-align: top;\n",
              "    }\n",
              "\n",
              "    .dataframe thead th {\n",
              "        text-align: right;\n",
              "    }\n",
              "</style>\n",
              "<table border=\"1\" class=\"dataframe\">\n",
              "  <thead>\n",
              "    <tr style=\"text-align: right;\">\n",
              "      <th></th>\n",
              "      <th>id</th>\n",
              "      <th>price</th>\n",
              "      <th>year</th>\n",
              "      <th>odometer</th>\n",
              "      <th>county</th>\n",
              "      <th>lat</th>\n",
              "      <th>long</th>\n",
              "    </tr>\n",
              "  </thead>\n",
              "  <tbody>\n",
              "    <tr>\n",
              "      <th>count</th>\n",
              "      <td>4.268800e+05</td>\n",
              "      <td>4.268800e+05</td>\n",
              "      <td>425675.000000</td>\n",
              "      <td>4.224800e+05</td>\n",
              "      <td>0.0</td>\n",
              "      <td>420331.000000</td>\n",
              "      <td>420331.000000</td>\n",
              "    </tr>\n",
              "    <tr>\n",
              "      <th>mean</th>\n",
              "      <td>7.311487e+09</td>\n",
              "      <td>7.519903e+04</td>\n",
              "      <td>2011.235191</td>\n",
              "      <td>9.804333e+04</td>\n",
              "      <td>NaN</td>\n",
              "      <td>38.493940</td>\n",
              "      <td>-94.748599</td>\n",
              "    </tr>\n",
              "    <tr>\n",
              "      <th>std</th>\n",
              "      <td>4.473170e+06</td>\n",
              "      <td>1.218228e+07</td>\n",
              "      <td>9.452120</td>\n",
              "      <td>2.138815e+05</td>\n",
              "      <td>NaN</td>\n",
              "      <td>5.841533</td>\n",
              "      <td>18.365462</td>\n",
              "    </tr>\n",
              "    <tr>\n",
              "      <th>min</th>\n",
              "      <td>7.207408e+09</td>\n",
              "      <td>0.000000e+00</td>\n",
              "      <td>1900.000000</td>\n",
              "      <td>0.000000e+00</td>\n",
              "      <td>NaN</td>\n",
              "      <td>-84.122245</td>\n",
              "      <td>-159.827728</td>\n",
              "    </tr>\n",
              "    <tr>\n",
              "      <th>25%</th>\n",
              "      <td>7.308143e+09</td>\n",
              "      <td>5.900000e+03</td>\n",
              "      <td>2008.000000</td>\n",
              "      <td>3.770400e+04</td>\n",
              "      <td>NaN</td>\n",
              "      <td>34.601900</td>\n",
              "      <td>-111.939847</td>\n",
              "    </tr>\n",
              "    <tr>\n",
              "      <th>50%</th>\n",
              "      <td>7.312621e+09</td>\n",
              "      <td>1.395000e+04</td>\n",
              "      <td>2013.000000</td>\n",
              "      <td>8.554800e+04</td>\n",
              "      <td>NaN</td>\n",
              "      <td>39.150100</td>\n",
              "      <td>-88.432600</td>\n",
              "    </tr>\n",
              "    <tr>\n",
              "      <th>75%</th>\n",
              "      <td>7.315254e+09</td>\n",
              "      <td>2.648575e+04</td>\n",
              "      <td>2017.000000</td>\n",
              "      <td>1.335425e+05</td>\n",
              "      <td>NaN</td>\n",
              "      <td>42.398900</td>\n",
              "      <td>-80.832039</td>\n",
              "    </tr>\n",
              "    <tr>\n",
              "      <th>max</th>\n",
              "      <td>7.317101e+09</td>\n",
              "      <td>3.736929e+09</td>\n",
              "      <td>2022.000000</td>\n",
              "      <td>1.000000e+07</td>\n",
              "      <td>NaN</td>\n",
              "      <td>82.390818</td>\n",
              "      <td>173.885502</td>\n",
              "    </tr>\n",
              "  </tbody>\n",
              "</table>\n",
              "</div>"
            ],
            "text/plain": [
              "                 id         price  ...            lat           long\n",
              "count  4.268800e+05  4.268800e+05  ...  420331.000000  420331.000000\n",
              "mean   7.311487e+09  7.519903e+04  ...      38.493940     -94.748599\n",
              "std    4.473170e+06  1.218228e+07  ...       5.841533      18.365462\n",
              "min    7.207408e+09  0.000000e+00  ...     -84.122245    -159.827728\n",
              "25%    7.308143e+09  5.900000e+03  ...      34.601900    -111.939847\n",
              "50%    7.312621e+09  1.395000e+04  ...      39.150100     -88.432600\n",
              "75%    7.315254e+09  2.648575e+04  ...      42.398900     -80.832039\n",
              "max    7.317101e+09  3.736929e+09  ...      82.390818     173.885502\n",
              "\n",
              "[8 rows x 7 columns]"
            ]
          },
          "metadata": {
            "tags": []
          },
          "execution_count": 9
        }
      ]
    },
    {
      "cell_type": "code",
      "metadata": {
        "id": "wgIPcKmNDt6e",
        "colab": {
          "base_uri": "https://localhost:8080/"
        },
        "outputId": "37f3e272-8941-43a6-a4b5-f4e7f3ecf79b"
      },
      "source": [
        "df.columns"
      ],
      "execution_count": 10,
      "outputs": [
        {
          "output_type": "execute_result",
          "data": {
            "text/plain": [
              "Index(['id', 'url', 'region', 'region_url', 'price', 'year', 'manufacturer',\n",
              "       'model', 'condition', 'cylinders', 'fuel', 'odometer', 'title_status',\n",
              "       'transmission', 'VIN', 'drive', 'size', 'type', 'paint_color',\n",
              "       'image_url', 'description', 'county', 'state', 'lat', 'long',\n",
              "       'posting_date'],\n",
              "      dtype='object')"
            ]
          },
          "metadata": {
            "tags": []
          },
          "execution_count": 10
        }
      ]
    },
    {
      "cell_type": "code",
      "metadata": {
        "id": "bpsaxcwfDu1j"
      },
      "source": [
        "df.drop(['id', 'url', 'region_url', 'VIN',\n",
        "         'image_url', 'description', 'state', 'lat', \n",
        "         'long', 'posting_date'], axis=1, inplace=True)"
      ],
      "execution_count": 11,
      "outputs": []
    },
    {
      "cell_type": "code",
      "metadata": {
        "id": "zphKiNBJEkyo"
      },
      "source": [
        "df['age'] = 2021 - df['year']\n",
        "df.drop(['year'], axis=1, inplace=True)"
      ],
      "execution_count": 12,
      "outputs": []
    },
    {
      "cell_type": "code",
      "metadata": {
        "id": "raVkxPjEESi0",
        "colab": {
          "base_uri": "https://localhost:8080/",
          "height": 575
        },
        "outputId": "d00c97a9-c235-4dca-b9c4-db751741125b"
      },
      "source": [
        "df"
      ],
      "execution_count": 13,
      "outputs": [
        {
          "output_type": "execute_result",
          "data": {
            "text/html": [
              "<div>\n",
              "<style scoped>\n",
              "    .dataframe tbody tr th:only-of-type {\n",
              "        vertical-align: middle;\n",
              "    }\n",
              "\n",
              "    .dataframe tbody tr th {\n",
              "        vertical-align: top;\n",
              "    }\n",
              "\n",
              "    .dataframe thead th {\n",
              "        text-align: right;\n",
              "    }\n",
              "</style>\n",
              "<table border=\"1\" class=\"dataframe\">\n",
              "  <thead>\n",
              "    <tr style=\"text-align: right;\">\n",
              "      <th></th>\n",
              "      <th>region</th>\n",
              "      <th>price</th>\n",
              "      <th>manufacturer</th>\n",
              "      <th>model</th>\n",
              "      <th>condition</th>\n",
              "      <th>cylinders</th>\n",
              "      <th>fuel</th>\n",
              "      <th>odometer</th>\n",
              "      <th>title_status</th>\n",
              "      <th>transmission</th>\n",
              "      <th>drive</th>\n",
              "      <th>size</th>\n",
              "      <th>type</th>\n",
              "      <th>paint_color</th>\n",
              "      <th>county</th>\n",
              "      <th>age</th>\n",
              "    </tr>\n",
              "  </thead>\n",
              "  <tbody>\n",
              "    <tr>\n",
              "      <th>0</th>\n",
              "      <td>prescott</td>\n",
              "      <td>6000</td>\n",
              "      <td>NaN</td>\n",
              "      <td>NaN</td>\n",
              "      <td>NaN</td>\n",
              "      <td>NaN</td>\n",
              "      <td>NaN</td>\n",
              "      <td>NaN</td>\n",
              "      <td>NaN</td>\n",
              "      <td>NaN</td>\n",
              "      <td>NaN</td>\n",
              "      <td>NaN</td>\n",
              "      <td>NaN</td>\n",
              "      <td>NaN</td>\n",
              "      <td>NaN</td>\n",
              "      <td>NaN</td>\n",
              "    </tr>\n",
              "    <tr>\n",
              "      <th>1</th>\n",
              "      <td>fayetteville</td>\n",
              "      <td>11900</td>\n",
              "      <td>NaN</td>\n",
              "      <td>NaN</td>\n",
              "      <td>NaN</td>\n",
              "      <td>NaN</td>\n",
              "      <td>NaN</td>\n",
              "      <td>NaN</td>\n",
              "      <td>NaN</td>\n",
              "      <td>NaN</td>\n",
              "      <td>NaN</td>\n",
              "      <td>NaN</td>\n",
              "      <td>NaN</td>\n",
              "      <td>NaN</td>\n",
              "      <td>NaN</td>\n",
              "      <td>NaN</td>\n",
              "    </tr>\n",
              "    <tr>\n",
              "      <th>2</th>\n",
              "      <td>florida keys</td>\n",
              "      <td>21000</td>\n",
              "      <td>NaN</td>\n",
              "      <td>NaN</td>\n",
              "      <td>NaN</td>\n",
              "      <td>NaN</td>\n",
              "      <td>NaN</td>\n",
              "      <td>NaN</td>\n",
              "      <td>NaN</td>\n",
              "      <td>NaN</td>\n",
              "      <td>NaN</td>\n",
              "      <td>NaN</td>\n",
              "      <td>NaN</td>\n",
              "      <td>NaN</td>\n",
              "      <td>NaN</td>\n",
              "      <td>NaN</td>\n",
              "    </tr>\n",
              "    <tr>\n",
              "      <th>3</th>\n",
              "      <td>worcester / central MA</td>\n",
              "      <td>1500</td>\n",
              "      <td>NaN</td>\n",
              "      <td>NaN</td>\n",
              "      <td>NaN</td>\n",
              "      <td>NaN</td>\n",
              "      <td>NaN</td>\n",
              "      <td>NaN</td>\n",
              "      <td>NaN</td>\n",
              "      <td>NaN</td>\n",
              "      <td>NaN</td>\n",
              "      <td>NaN</td>\n",
              "      <td>NaN</td>\n",
              "      <td>NaN</td>\n",
              "      <td>NaN</td>\n",
              "      <td>NaN</td>\n",
              "    </tr>\n",
              "    <tr>\n",
              "      <th>4</th>\n",
              "      <td>greensboro</td>\n",
              "      <td>4900</td>\n",
              "      <td>NaN</td>\n",
              "      <td>NaN</td>\n",
              "      <td>NaN</td>\n",
              "      <td>NaN</td>\n",
              "      <td>NaN</td>\n",
              "      <td>NaN</td>\n",
              "      <td>NaN</td>\n",
              "      <td>NaN</td>\n",
              "      <td>NaN</td>\n",
              "      <td>NaN</td>\n",
              "      <td>NaN</td>\n",
              "      <td>NaN</td>\n",
              "      <td>NaN</td>\n",
              "      <td>NaN</td>\n",
              "    </tr>\n",
              "    <tr>\n",
              "      <th>...</th>\n",
              "      <td>...</td>\n",
              "      <td>...</td>\n",
              "      <td>...</td>\n",
              "      <td>...</td>\n",
              "      <td>...</td>\n",
              "      <td>...</td>\n",
              "      <td>...</td>\n",
              "      <td>...</td>\n",
              "      <td>...</td>\n",
              "      <td>...</td>\n",
              "      <td>...</td>\n",
              "      <td>...</td>\n",
              "      <td>...</td>\n",
              "      <td>...</td>\n",
              "      <td>...</td>\n",
              "      <td>...</td>\n",
              "    </tr>\n",
              "    <tr>\n",
              "      <th>426875</th>\n",
              "      <td>wyoming</td>\n",
              "      <td>23590</td>\n",
              "      <td>nissan</td>\n",
              "      <td>maxima s sedan 4d</td>\n",
              "      <td>good</td>\n",
              "      <td>6 cylinders</td>\n",
              "      <td>gas</td>\n",
              "      <td>32226.0</td>\n",
              "      <td>clean</td>\n",
              "      <td>other</td>\n",
              "      <td>fwd</td>\n",
              "      <td>NaN</td>\n",
              "      <td>sedan</td>\n",
              "      <td>NaN</td>\n",
              "      <td>NaN</td>\n",
              "      <td>2.0</td>\n",
              "    </tr>\n",
              "    <tr>\n",
              "      <th>426876</th>\n",
              "      <td>wyoming</td>\n",
              "      <td>30590</td>\n",
              "      <td>volvo</td>\n",
              "      <td>s60 t5 momentum sedan 4d</td>\n",
              "      <td>good</td>\n",
              "      <td>NaN</td>\n",
              "      <td>gas</td>\n",
              "      <td>12029.0</td>\n",
              "      <td>clean</td>\n",
              "      <td>other</td>\n",
              "      <td>fwd</td>\n",
              "      <td>NaN</td>\n",
              "      <td>sedan</td>\n",
              "      <td>red</td>\n",
              "      <td>NaN</td>\n",
              "      <td>1.0</td>\n",
              "    </tr>\n",
              "    <tr>\n",
              "      <th>426877</th>\n",
              "      <td>wyoming</td>\n",
              "      <td>34990</td>\n",
              "      <td>cadillac</td>\n",
              "      <td>xt4 sport suv 4d</td>\n",
              "      <td>good</td>\n",
              "      <td>NaN</td>\n",
              "      <td>diesel</td>\n",
              "      <td>4174.0</td>\n",
              "      <td>clean</td>\n",
              "      <td>other</td>\n",
              "      <td>NaN</td>\n",
              "      <td>NaN</td>\n",
              "      <td>hatchback</td>\n",
              "      <td>white</td>\n",
              "      <td>NaN</td>\n",
              "      <td>1.0</td>\n",
              "    </tr>\n",
              "    <tr>\n",
              "      <th>426878</th>\n",
              "      <td>wyoming</td>\n",
              "      <td>28990</td>\n",
              "      <td>lexus</td>\n",
              "      <td>es 350 sedan 4d</td>\n",
              "      <td>good</td>\n",
              "      <td>6 cylinders</td>\n",
              "      <td>gas</td>\n",
              "      <td>30112.0</td>\n",
              "      <td>clean</td>\n",
              "      <td>other</td>\n",
              "      <td>fwd</td>\n",
              "      <td>NaN</td>\n",
              "      <td>sedan</td>\n",
              "      <td>silver</td>\n",
              "      <td>NaN</td>\n",
              "      <td>3.0</td>\n",
              "    </tr>\n",
              "    <tr>\n",
              "      <th>426879</th>\n",
              "      <td>wyoming</td>\n",
              "      <td>30590</td>\n",
              "      <td>bmw</td>\n",
              "      <td>4 series 430i gran coupe</td>\n",
              "      <td>good</td>\n",
              "      <td>NaN</td>\n",
              "      <td>gas</td>\n",
              "      <td>22716.0</td>\n",
              "      <td>clean</td>\n",
              "      <td>other</td>\n",
              "      <td>rwd</td>\n",
              "      <td>NaN</td>\n",
              "      <td>coupe</td>\n",
              "      <td>NaN</td>\n",
              "      <td>NaN</td>\n",
              "      <td>2.0</td>\n",
              "    </tr>\n",
              "  </tbody>\n",
              "</table>\n",
              "<p>426880 rows × 16 columns</p>\n",
              "</div>"
            ],
            "text/plain": [
              "                        region  price manufacturer  ... paint_color county  age\n",
              "0                     prescott   6000          NaN  ...         NaN    NaN  NaN\n",
              "1                 fayetteville  11900          NaN  ...         NaN    NaN  NaN\n",
              "2                 florida keys  21000          NaN  ...         NaN    NaN  NaN\n",
              "3       worcester / central MA   1500          NaN  ...         NaN    NaN  NaN\n",
              "4                   greensboro   4900          NaN  ...         NaN    NaN  NaN\n",
              "...                        ...    ...          ...  ...         ...    ...  ...\n",
              "426875                 wyoming  23590       nissan  ...         NaN    NaN  2.0\n",
              "426876                 wyoming  30590        volvo  ...         red    NaN  1.0\n",
              "426877                 wyoming  34990     cadillac  ...       white    NaN  1.0\n",
              "426878                 wyoming  28990        lexus  ...      silver    NaN  3.0\n",
              "426879                 wyoming  30590          bmw  ...         NaN    NaN  2.0\n",
              "\n",
              "[426880 rows x 16 columns]"
            ]
          },
          "metadata": {
            "tags": []
          },
          "execution_count": 13
        }
      ]
    },
    {
      "cell_type": "markdown",
      "metadata": {
        "id": "HGHvPwkNtXgj"
      },
      "source": [
        "### 문제 5. 범주형 데이터의 통계 분석하기\n"
      ]
    },
    {
      "cell_type": "code",
      "metadata": {
        "id": "6l62lQrKEt5T",
        "colab": {
          "base_uri": "https://localhost:8080/"
        },
        "outputId": "16937060-967c-41be-bab7-02bfe6b167f0"
      },
      "source": [
        "df.columns"
      ],
      "execution_count": 14,
      "outputs": [
        {
          "output_type": "execute_result",
          "data": {
            "text/plain": [
              "Index(['region', 'price', 'manufacturer', 'model', 'condition', 'cylinders',\n",
              "       'fuel', 'odometer', 'title_status', 'transmission', 'drive', 'size',\n",
              "       'type', 'paint_color', 'county', 'age'],\n",
              "      dtype='object')"
            ]
          },
          "metadata": {
            "tags": []
          },
          "execution_count": 14
        }
      ]
    },
    {
      "cell_type": "code",
      "metadata": {
        "id": "b_zcrUDF7khF",
        "colab": {
          "base_uri": "https://localhost:8080/"
        },
        "outputId": "bc4980b1-5a35-4c73-cab4-e73bb530456b"
      },
      "source": [
        "# 범주형 데이터의 값의 범위, 기초 통계 분석하기\n",
        "df['manufacturer'].value_counts()"
      ],
      "execution_count": 15,
      "outputs": [
        {
          "output_type": "execute_result",
          "data": {
            "text/plain": [
              "ford               70985\n",
              "chevrolet          55064\n",
              "toyota             34202\n",
              "honda              21269\n",
              "nissan             19067\n",
              "jeep               19014\n",
              "ram                18342\n",
              "gmc                16785\n",
              "bmw                14699\n",
              "dodge              13707\n",
              "mercedes-benz      11817\n",
              "hyundai            10338\n",
              "subaru              9495\n",
              "volkswagen          9345\n",
              "kia                 8457\n",
              "lexus               8200\n",
              "audi                7573\n",
              "cadillac            6953\n",
              "chrysler            6031\n",
              "acura               5978\n",
              "buick               5501\n",
              "mazda               5427\n",
              "infiniti            4802\n",
              "lincoln             4220\n",
              "volvo               3374\n",
              "mitsubishi          3292\n",
              "mini                2376\n",
              "pontiac             2288\n",
              "rover               2113\n",
              "jaguar              1946\n",
              "porsche             1384\n",
              "mercury             1184\n",
              "saturn              1090\n",
              "alfa-romeo           897\n",
              "tesla                868\n",
              "fiat                 792\n",
              "harley-davidson      153\n",
              "ferrari               95\n",
              "datsun                63\n",
              "aston-martin          24\n",
              "land rover            21\n",
              "morgan                 3\n",
              "Name: manufacturer, dtype: int64"
            ]
          },
          "metadata": {
            "tags": []
          },
          "execution_count": 15
        }
      ]
    },
    {
      "cell_type": "code",
      "metadata": {
        "id": "N578Nl4vH0m9",
        "colab": {
          "base_uri": "https://localhost:8080/"
        },
        "outputId": "8056c0b2-4231-41d4-c4c7-cb3a5ef894b0"
      },
      "source": [
        "df['manufacturer'].isna().sum()"
      ],
      "execution_count": 16,
      "outputs": [
        {
          "output_type": "execute_result",
          "data": {
            "text/plain": [
              "17646"
            ]
          },
          "metadata": {
            "tags": []
          },
          "execution_count": 16
        }
      ]
    },
    {
      "cell_type": "code",
      "metadata": {
        "id": "Kt1NGaEhGI0y",
        "colab": {
          "base_uri": "https://localhost:8080/",
          "height": 623
        },
        "outputId": "97b9ec86-bb78-479e-a059-e66634c7c84b"
      },
      "source": [
        "fig = plt.figure(figsize=(8,10))\n",
        "sns.countplot(y='manufacturer', data=df.fillna('n/a'), order=df.fillna('n/a')['manufacturer'].value_counts().index)"
      ],
      "execution_count": 17,
      "outputs": [
        {
          "output_type": "execute_result",
          "data": {
            "text/plain": [
              "<matplotlib.axes._subplots.AxesSubplot at 0x7fd76878bf10>"
            ]
          },
          "metadata": {
            "tags": []
          },
          "execution_count": 17
        },
        {
          "output_type": "display_data",
          "data": {
            "image/png": "[encoded data removed]",
            "text/plain": [
              "<Figure size 576x720 with 1 Axes>"
            ]
          },
          "metadata": {
            "tags": [],
            "needs_background": "light"
          }
        }
      ]
    },
    {
      "cell_type": "code",
      "metadata": {
        "id": "nvuG-PzQIL1A",
        "colab": {
          "base_uri": "https://localhost:8080/"
        },
        "outputId": "9e646423-d83a-48c6-f713-482be707891b"
      },
      "source": [
        "df.columns"
      ],
      "execution_count": 18,
      "outputs": [
        {
          "output_type": "execute_result",
          "data": {
            "text/plain": [
              "Index(['region', 'price', 'manufacturer', 'model', 'condition', 'cylinders',\n",
              "       'fuel', 'odometer', 'title_status', 'transmission', 'drive', 'size',\n",
              "       'type', 'paint_color', 'county', 'age'],\n",
              "      dtype='object')"
            ]
          },
          "metadata": {
            "tags": []
          },
          "execution_count": 18
        }
      ]
    },
    {
      "cell_type": "code",
      "metadata": {
        "id": "QXkmVdyUIMhd"
      },
      "source": [
        "for model, num in zip(df['model'].value_counts().index, df['model'].value_counts()):\n",
        "  print(model, num)"
      ],
      "execution_count": null,
      "outputs": []
    },
    {
      "cell_type": "code",
      "metadata": {
        "id": "-Vpl8kODIsAX",
        "colab": {
          "base_uri": "https://localhost:8080/"
        },
        "outputId": "5cb7fa6e-c7e7-408f-b41e-8beb5e3c85e1"
      },
      "source": [
        "df['condition'].isna().sum()"
      ],
      "execution_count": 20,
      "outputs": [
        {
          "output_type": "execute_result",
          "data": {
            "text/plain": [
              "174104"
            ]
          },
          "metadata": {
            "tags": []
          },
          "execution_count": 20
        }
      ]
    },
    {
      "cell_type": "code",
      "metadata": {
        "id": "Zc7kjMI_IcMg",
        "colab": {
          "base_uri": "https://localhost:8080/",
          "height": 296
        },
        "outputId": "c49db5bd-eb61-464a-83e6-3a23064d392b"
      },
      "source": [
        "sns.countplot(y='condition', data=df.fillna('n/a'), order=df.fillna('n/a')['condition'].value_counts().index)"
      ],
      "execution_count": 21,
      "outputs": [
        {
          "output_type": "execute_result",
          "data": {
            "text/plain": [
              "<matplotlib.axes._subplots.AxesSubplot at 0x7fd773e9c950>"
            ]
          },
          "metadata": {
            "tags": []
          },
          "execution_count": 21
        },
        {
          "output_type": "display_data",
          "data": {
            "image/png": "[encoded data removed]",
            "text/plain": [
              "<Figure size 432x288 with 1 Axes>"
            ]
          },
          "metadata": {
            "tags": [],
            "needs_background": "light"
          }
        }
      ]
    },
    {
      "cell_type": "code",
      "metadata": {
        "id": "lsuwJmvTIbmQ",
        "colab": {
          "base_uri": "https://localhost:8080/",
          "height": 296
        },
        "outputId": "8a39b2f3-835a-448c-c8a5-39f29c54c796"
      },
      "source": [
        "sns.countplot(y='cylinders', data=df.fillna('n/a'), order=df.fillna('n/a')['cylinders'].value_counts().index)"
      ],
      "execution_count": 22,
      "outputs": [
        {
          "output_type": "execute_result",
          "data": {
            "text/plain": [
              "<matplotlib.axes._subplots.AxesSubplot at 0x7fd768455810>"
            ]
          },
          "metadata": {
            "tags": []
          },
          "execution_count": 22
        },
        {
          "output_type": "display_data",
          "data": {
            "image/png": "[encoded data removed]",
            "text/plain": [
              "<Figure size 432x288 with 1 Axes>"
            ]
          },
          "metadata": {
            "tags": [],
            "needs_background": "light"
          }
        }
      ]
    },
    {
      "cell_type": "code",
      "metadata": {
        "id": "qRHSfXjUIb9e",
        "colab": {
          "base_uri": "https://localhost:8080/",
          "height": 296
        },
        "outputId": "f09c7f14-5868-4331-c835-f984ac5a02b9"
      },
      "source": [
        "sns.countplot(y='fuel', data=df.fillna('n/a'), order=df.fillna('n/a')['fuel'].value_counts().index)"
      ],
      "execution_count": 23,
      "outputs": [
        {
          "output_type": "execute_result",
          "data": {
            "text/plain": [
              "<matplotlib.axes._subplots.AxesSubplot at 0x7fd764a3c410>"
            ]
          },
          "metadata": {
            "tags": []
          },
          "execution_count": 23
        },
        {
          "output_type": "display_data",
          "data": {
            "image/png": "[encoded data removed]",
            "text/plain": [
              "<Figure size 432x288 with 1 Axes>"
            ]
          },
          "metadata": {
            "tags": [],
            "needs_background": "light"
          }
        }
      ]
    },
    {
      "cell_type": "code",
      "metadata": {
        "id": "BzRsPuwnJIHi",
        "colab": {
          "base_uri": "https://localhost:8080/",
          "height": 296
        },
        "outputId": "cf65a961-1e13-4eab-fdfa-c6e5869868e8"
      },
      "source": [
        "sns.countplot(y='transmission', data=df.fillna('n/a'), order=df.fillna('n/a')['transmission'].value_counts().index)"
      ],
      "execution_count": 24,
      "outputs": [
        {
          "output_type": "execute_result",
          "data": {
            "text/plain": [
              "<matplotlib.axes._subplots.AxesSubplot at 0x7fd765896490>"
            ]
          },
          "metadata": {
            "tags": []
          },
          "execution_count": 24
        },
        {
          "output_type": "display_data",
          "data": {
            "image/png": "[encoded data removed]",
            "text/plain": [
              "<Figure size 432x288 with 1 Axes>"
            ]
          },
          "metadata": {
            "tags": [],
            "needs_background": "light"
          }
        }
      ]
    },
    {
      "cell_type": "code",
      "metadata": {
        "id": "aUiC8IEfJTAj",
        "colab": {
          "base_uri": "https://localhost:8080/",
          "height": 296
        },
        "outputId": "d49281a0-fce0-4c49-fdcf-7aa621baeb80"
      },
      "source": [
        "sns.countplot(y='drive', data=df.fillna('n/a'), order=df.fillna('n/a')['drive'].value_counts().index)"
      ],
      "execution_count": 25,
      "outputs": [
        {
          "output_type": "execute_result",
          "data": {
            "text/plain": [
              "<matplotlib.axes._subplots.AxesSubplot at 0x7fd767602f10>"
            ]
          },
          "metadata": {
            "tags": []
          },
          "execution_count": 25
        },
        {
          "output_type": "display_data",
          "data": {
            "image/png": "[encoded data removed]",
            "text/plain": [
              "<Figure size 432x288 with 1 Axes>"
            ]
          },
          "metadata": {
            "tags": [],
            "needs_background": "light"
          }
        }
      ]
    },
    {
      "cell_type": "code",
      "metadata": {
        "id": "Ur0k3WtQJXJl",
        "colab": {
          "base_uri": "https://localhost:8080/",
          "height": 296
        },
        "outputId": "a5fdaab1-b0e7-4202-8f7c-66c25f95e3c8"
      },
      "source": [
        "sns.countplot(y='size', data=df.fillna('n/a'), order=df.fillna('n/a')['size'].value_counts().index)"
      ],
      "execution_count": 26,
      "outputs": [
        {
          "output_type": "execute_result",
          "data": {
            "text/plain": [
              "<matplotlib.axes._subplots.AxesSubplot at 0x7fd767a9c9d0>"
            ]
          },
          "metadata": {
            "tags": []
          },
          "execution_count": 26
        },
        {
          "output_type": "display_data",
          "data": {
            "image/png": "[encoded data removed]",
            "text/plain": [
              "<Figure size 432x288 with 1 Axes>"
            ]
          },
          "metadata": {
            "tags": [],
            "needs_background": "light"
          }
        }
      ]
    },
    {
      "cell_type": "code",
      "metadata": {
        "id": "j7KqSE_IJe0w",
        "colab": {
          "base_uri": "https://localhost:8080/",
          "height": 296
        },
        "outputId": "9ea6e23f-a0c8-4515-9165-8157e36f57d7"
      },
      "source": [
        "sns.countplot(y='type', data=df.fillna('n/a'), order=df.fillna('n/a')['type'].value_counts().index)"
      ],
      "execution_count": 27,
      "outputs": [
        {
          "output_type": "execute_result",
          "data": {
            "text/plain": [
              "<matplotlib.axes._subplots.AxesSubplot at 0x7fd764a2ee50>"
            ]
          },
          "metadata": {
            "tags": []
          },
          "execution_count": 27
        },
        {
          "output_type": "display_data",
          "data": {
            "image/png": "[encoded data removed]",
            "text/plain": [
              "<Figure size 432x288 with 1 Axes>"
            ]
          },
          "metadata": {
            "tags": [],
            "needs_background": "light"
          }
        }
      ]
    },
    {
      "cell_type": "code",
      "metadata": {
        "id": "Y7TWhL3nJghs",
        "colab": {
          "base_uri": "https://localhost:8080/",
          "height": 296
        },
        "outputId": "06a80e19-1bcf-4522-9f56-4886fb987dd5"
      },
      "source": [
        "sns.countplot(y='paint_color', data=df.fillna('n/a'), order=df.fillna('n/a')['paint_color'].value_counts().index)"
      ],
      "execution_count": 28,
      "outputs": [
        {
          "output_type": "execute_result",
          "data": {
            "text/plain": [
              "<matplotlib.axes._subplots.AxesSubplot at 0x7fd765e34f50>"
            ]
          },
          "metadata": {
            "tags": []
          },
          "execution_count": 28
        },
        {
          "output_type": "display_data",
          "data": {
            "image/png": "[encoded data removed]",
            "text/plain": [
              "<Figure size 432x288 with 1 Axes>"
            ]
          },
          "metadata": {
            "tags": [],
            "needs_background": "light"
          }
        }
      ]
    },
    {
      "cell_type": "markdown",
      "metadata": {
        "id": "amkU5Y6g7Dp4"
      },
      "source": [
        "### 문제 6. 수치형 데이터의 통계 분석하기"
      ]
    },
    {
      "cell_type": "code",
      "metadata": {
        "id": "gR_ZEj1ZJj8c",
        "colab": {
          "base_uri": "https://localhost:8080/"
        },
        "outputId": "5c658888-dda8-4406-8875-90539e265b76"
      },
      "source": [
        "df.columns"
      ],
      "execution_count": 29,
      "outputs": [
        {
          "output_type": "execute_result",
          "data": {
            "text/plain": [
              "Index(['region', 'price', 'manufacturer', 'model', 'condition', 'cylinders',\n",
              "       'fuel', 'odometer', 'title_status', 'transmission', 'drive', 'size',\n",
              "       'type', 'paint_color', 'county', 'age'],\n",
              "      dtype='object')"
            ]
          },
          "metadata": {
            "tags": []
          },
          "execution_count": 29
        }
      ]
    },
    {
      "cell_type": "code",
      "metadata": {
        "id": "GZXSBFPyDh6R",
        "colab": {
          "base_uri": "https://localhost:8080/",
          "height": 188
        },
        "outputId": "c92e98da-6e41-45ac-d9ec-ffd5219da8b5"
      },
      "source": [
        "# 수치형 데이터의 값의 범위, 기초 통계 분석하기\n",
        "fig = plt.figure(figsize=(8,2))\n",
        "sns.rugplot(x='price', data=df, height=1)\n",
        "\n",
        "# 통계를 알 수 없는 상황 -> 데이터 클리닝을 통해 "
      ],
      "execution_count": 30,
      "outputs": [
        {
          "output_type": "execute_result",
          "data": {
            "text/plain": [
              "<matplotlib.axes._subplots.AxesSubplot at 0x7fd764837f10>"
            ]
          },
          "metadata": {
            "tags": []
          },
          "execution_count": 30
        },
        {
          "output_type": "display_data",
          "data": {
            "image/png": "[encoded data removed]",
            "text/plain": [
              "<Figure size 576x144 with 1 Axes>"
            ]
          },
          "metadata": {
            "tags": [],
            "needs_background": "light"
          }
        }
      ]
    },
    {
      "cell_type": "code",
      "metadata": {
        "id": "jeSUSAd1KXQh",
        "colab": {
          "base_uri": "https://localhost:8080/",
          "height": 188
        },
        "outputId": "01dd1ff2-1da3-4417-dd6d-3a77de3d6b79"
      },
      "source": [
        "fig = plt.figure(figsize=(8,2))\n",
        "sns.rugplot(x='odometer', data=df, height=1)"
      ],
      "execution_count": 31,
      "outputs": [
        {
          "output_type": "execute_result",
          "data": {
            "text/plain": [
              "<matplotlib.axes._subplots.AxesSubplot at 0x7fd759c35650>"
            ]
          },
          "metadata": {
            "tags": []
          },
          "execution_count": 31
        },
        {
          "output_type": "display_data",
          "data": {
            "image/png": "[encoded data removed]",
            "text/plain": [
              "<Figure size 576x144 with 1 Axes>"
            ]
          },
          "metadata": {
            "tags": [],
            "needs_background": "light"
          }
        }
      ]
    },
    {
      "cell_type": "code",
      "metadata": {
        "id": "NTy-Vh0VKXNC",
        "colab": {
          "base_uri": "https://localhost:8080/",
          "height": 300
        },
        "outputId": "7a6926ac-c4b1-40af-fdf9-df3fb6e2d49b"
      },
      "source": [
        "sns.histplot(x='age', data=df, bins=18, kde=True)\n",
        "# 5~10년이 피크 "
      ],
      "execution_count": 32,
      "outputs": [
        {
          "output_type": "execute_result",
          "data": {
            "text/plain": [
              "<matplotlib.axes._subplots.AxesSubplot at 0x7fd743e97790>"
            ]
          },
          "metadata": {
            "tags": []
          },
          "execution_count": 32
        },
        {
          "output_type": "display_data",
          "data": {
            "image/png": "[encoded data removed]",
            "text/plain": [
              "<Figure size 432x288 with 1 Axes>"
            ]
          },
          "metadata": {
            "tags": [],
            "needs_background": "light"
          }
        }
      ]
    },
    {
      "cell_type": "markdown",
      "metadata": {
        "id": "izztXKpllMss"
      },
      "source": [
        "## Step 3. 데이터 클리닝 수행하기"
      ]
    },
    {
      "cell_type": "markdown",
      "metadata": {
        "id": "KywGh9sjtYl9"
      },
      "source": [
        "### 문제 7. 범주형 데이터 시각화하여 분석하기"
      ]
    },
    {
      "cell_type": "code",
      "metadata": {
        "id": "-hKV98ZrK5Yp",
        "colab": {
          "base_uri": "https://localhost:8080/"
        },
        "outputId": "8f78e4d5-3463-4c52-9434-962e6ec08f35"
      },
      "source": [
        "df.columns"
      ],
      "execution_count": 33,
      "outputs": [
        {
          "output_type": "execute_result",
          "data": {
            "text/plain": [
              "Index(['region', 'price', 'manufacturer', 'model', 'condition', 'cylinders',\n",
              "       'fuel', 'odometer', 'title_status', 'transmission', 'drive', 'size',\n",
              "       'type', 'paint_color', 'county', 'age'],\n",
              "      dtype='object')"
            ]
          },
          "metadata": {
            "tags": []
          },
          "execution_count": 33
        }
      ]
    },
    {
      "cell_type": "code",
      "metadata": {
        "id": "TqXkwW8JDxhH",
        "colab": {
          "base_uri": "https://localhost:8080/",
          "height": 307
        },
        "outputId": "0f185a84-7593-44bd-d6ac-9a397fd11c4b"
      },
      "source": [
        "# Boxplot 계열로 범주형 데이터를 시각화하여 분석하기\n",
        "sns.boxplot(x='manufacturer', y='price', data=df.fillna('n/a'))\n",
        "# 알아볼 수가 없지"
      ],
      "execution_count": 34,
      "outputs": [
        {
          "output_type": "execute_result",
          "data": {
            "text/plain": [
              "<matplotlib.axes._subplots.AxesSubplot at 0x7fd759c357d0>"
            ]
          },
          "metadata": {
            "tags": []
          },
          "execution_count": 34
        },
        {
          "output_type": "display_data",
          "data": {
            "image/png": "[encoded data removed]",
            "text/plain": [
              "<Figure size 432x288 with 1 Axes>"
            ]
          },
          "metadata": {
            "tags": [],
            "needs_background": "light"
          }
        }
      ]
    },
    {
      "cell_type": "code",
      "metadata": {
        "id": "DUsG_7wSLMAu",
        "colab": {
          "base_uri": "https://localhost:8080/",
          "height": 307
        },
        "outputId": "f3591c31-caa2-459e-9d81-ffbc93680ebe"
      },
      "source": [
        "sns.boxplot(x='fuel', y='price', data=df.fillna('n/a'))\n",
        "# 이 변수들을 가지고 분석을 진행하고 싶은데 outlier가 너무 많아서 제대로 분석할 수가 없는 상황\n",
        "# => 클리닝을 한 후 다시 boxplot을 진행해야할 것 같음"
      ],
      "execution_count": 35,
      "outputs": [
        {
          "output_type": "execute_result",
          "data": {
            "text/plain": [
              "<matplotlib.axes._subplots.AxesSubplot at 0x7fd7432e9110>"
            ]
          },
          "metadata": {
            "tags": []
          },
          "execution_count": 35
        },
        {
          "output_type": "display_data",
          "data": {
            "image/png": "[encoded data removed]",
            "text/plain": [
              "<Figure size 432x288 with 1 Axes>"
            ]
          },
          "metadata": {
            "tags": [],
            "needs_background": "light"
          }
        }
      ]
    },
    {
      "cell_type": "markdown",
      "metadata": {
        "id": "CXLd43EZ9EgS"
      },
      "source": [
        "### 문제 8. 범주형 데이터 클리닝하기"
      ]
    },
    {
      "cell_type": "code",
      "metadata": {
        "id": "m-pC_HUcLdgA",
        "colab": {
          "base_uri": "https://localhost:8080/"
        },
        "outputId": "5305ed48-9cce-4a8c-9a9c-1f0c75984675"
      },
      "source": [
        "df.columns"
      ],
      "execution_count": 36,
      "outputs": [
        {
          "output_type": "execute_result",
          "data": {
            "text/plain": [
              "Index(['region', 'price', 'manufacturer', 'model', 'condition', 'cylinders',\n",
              "       'fuel', 'odometer', 'title_status', 'transmission', 'drive', 'size',\n",
              "       'type', 'paint_color', 'county', 'age'],\n",
              "      dtype='object')"
            ]
          },
          "metadata": {
            "tags": []
          },
          "execution_count": 36
        }
      ]
    },
    {
      "cell_type": "code",
      "metadata": {
        "id": "8HbUtvqs9C-C",
        "colab": {
          "base_uri": "https://localhost:8080/"
        },
        "outputId": "f5f3f15f-6ffc-4c90-e190-93b5b3a0c873"
      },
      "source": [
        "# 범주형 데이터를 아래 방법 중 적절히 판단하여 처리하기\n",
        "# 1. 결손 데이터가 포함된 Row를 제거\n",
        "# 2. 결손 데이터를 others 범주로 변경하기\n",
        "# 3. 지나치게 소수로 이루어진 범주를 others 범주로 변경하기\n",
        "# (4. Classifier를 학습하여 결손 데이터를 추정하여 채워넣기)\n",
        "\n",
        "df['manufacturer'].fillna('others').value_counts()"
      ],
      "execution_count": 37,
      "outputs": [
        {
          "output_type": "execute_result",
          "data": {
            "text/plain": [
              "ford               70985\n",
              "chevrolet          55064\n",
              "toyota             34202\n",
              "honda              21269\n",
              "nissan             19067\n",
              "jeep               19014\n",
              "ram                18342\n",
              "others             17646\n",
              "gmc                16785\n",
              "bmw                14699\n",
              "dodge              13707\n",
              "mercedes-benz      11817\n",
              "hyundai            10338\n",
              "subaru              9495\n",
              "volkswagen          9345\n",
              "kia                 8457\n",
              "lexus               8200\n",
              "audi                7573\n",
              "cadillac            6953\n",
              "chrysler            6031\n",
              "acura               5978\n",
              "buick               5501\n",
              "mazda               5427\n",
              "infiniti            4802\n",
              "lincoln             4220\n",
              "volvo               3374\n",
              "mitsubishi          3292\n",
              "mini                2376\n",
              "pontiac             2288\n",
              "rover               2113\n",
              "jaguar              1946\n",
              "porsche             1384\n",
              "mercury             1184\n",
              "saturn              1090\n",
              "alfa-romeo           897\n",
              "tesla                868\n",
              "fiat                 792\n",
              "harley-davidson      153\n",
              "ferrari               95\n",
              "datsun                63\n",
              "aston-martin          24\n",
              "land rover            21\n",
              "morgan                 3\n",
              "Name: manufacturer, dtype: int64"
            ]
          },
          "metadata": {
            "tags": []
          },
          "execution_count": 37
        }
      ]
    },
    {
      "cell_type": "code",
      "metadata": {
        "id": "nAbzV2LgRisY"
      },
      "source": [
        "df.drop('title_status', axis=1, inplace=True)"
      ],
      "execution_count": 38,
      "outputs": []
    },
    {
      "cell_type": "code",
      "metadata": {
        "id": "R_MkAPQbMFNK",
        "colab": {
          "base_uri": "https://localhost:8080/",
          "height": 282
        },
        "outputId": "968bf18c-31c1-4dd8-a7e9-28574967603a"
      },
      "source": [
        "col = 'paint_color'\n",
        "counts = df[col].fillna('others').value_counts()\n",
        "plt.grid()\n",
        "plt.plot(range(len(counts)), counts)"
      ],
      "execution_count": 39,
      "outputs": [
        {
          "output_type": "execute_result",
          "data": {
            "text/plain": [
              "[<matplotlib.lines.Line2D at 0x7fd741128610>]"
            ]
          },
          "metadata": {
            "tags": []
          },
          "execution_count": 39
        },
        {
          "output_type": "display_data",
          "data": {
            "image/png": "[encoded data removed]",
            "text/plain": [
              "<Figure size 432x288 with 1 Axes>"
            ]
          },
          "metadata": {
            "tags": [],
            "needs_background": "light"
          }
        }
      ]
    },
    {
      "cell_type": "code",
      "metadata": {
        "id": "WuuTvnd-M2vB"
      },
      "source": [
        "# 몇개 남기고 나머지를 others로 할건지 => 급격히 감소하는 지점을 threshold로\n",
        "n_categorical = 7\n",
        "# 속한 애들이면 others, 그렇지 않으면 그대로 유지하게끔\n",
        "others = counts.index[n_categorical:]\n",
        "df[col] = df[col].apply(lambda s: s if str(s) not in others else 'others')"
      ],
      "execution_count": 40,
      "outputs": []
    },
    {
      "cell_type": "code",
      "metadata": {
        "id": "17JHkx87MFJW",
        "colab": {
          "base_uri": "https://localhost:8080/"
        },
        "outputId": "508b3625-5bc4-4a92-ee73-e3ebf3ffc6a0"
      },
      "source": [
        "df[col].value_counts() # ohters 포함 10개만 남기게 "
      ],
      "execution_count": 41,
      "outputs": [
        {
          "output_type": "execute_result",
          "data": {
            "text/plain": [
              "white     79285\n",
              "black     62861\n",
              "silver    42970\n",
              "blue      31223\n",
              "red       30473\n",
              "others    25449\n",
              "grey      24416\n",
              "Name: paint_color, dtype: int64"
            ]
          },
          "metadata": {
            "tags": []
          },
          "execution_count": 41
        }
      ]
    },
    {
      "cell_type": "code",
      "metadata": {
        "id": "JNHEmRJxTKuO"
      },
      "source": [
        "df.loc[df[col] == 'other', col] = 'others'"
      ],
      "execution_count": 42,
      "outputs": []
    },
    {
      "cell_type": "code",
      "metadata": {
        "id": "pNh2OHXWMFFJ"
      },
      "source": [
        "df[col].fillna('others', inplace=True)"
      ],
      "execution_count": 43,
      "outputs": []
    },
    {
      "cell_type": "code",
      "metadata": {
        "id": "PD_BiVeMME6V"
      },
      "source": [
        ""
      ],
      "execution_count": 43,
      "outputs": []
    },
    {
      "cell_type": "markdown",
      "metadata": {
        "id": "2Z62otW9lgtX"
      },
      "source": [
        "### 문제 9. 수치형 데이터 시각화하여 분석하기"
      ]
    },
    {
      "cell_type": "code",
      "metadata": {
        "id": "NW-QEym6lgtX",
        "colab": {
          "base_uri": "https://localhost:8080/",
          "height": 188
        },
        "outputId": "826a9c52-5d21-4305-deb9-060751fa00a0"
      },
      "source": [
        "# Seaborn을 이용하여 범주형 데이터를 시각화하여 분석하기\n",
        "# 값의 범위가 너무 넓을 경우 histplot() 등이 잘 동작하지 않으므로, rugplot을 활용\n",
        "fig = plt.figure(figsize=(8, 2))\n",
        "sns.rugplot(x='price', data=df, height=1)"
      ],
      "execution_count": 44,
      "outputs": [
        {
          "output_type": "execute_result",
          "data": {
            "text/plain": [
              "<matplotlib.axes._subplots.AxesSubplot at 0x7fd7416a1390>"
            ]
          },
          "metadata": {
            "tags": []
          },
          "execution_count": 44
        },
        {
          "output_type": "display_data",
          "data": {
            "image/png": "[encoded data removed]",
            "text/plain": [
              "<Figure size 576x144 with 1 Axes>"
            ]
          },
          "metadata": {
            "tags": [],
            "needs_background": "light"
          }
        }
      ]
    },
    {
      "cell_type": "code",
      "metadata": {
        "id": "wFKJFihITqxx",
        "colab": {
          "base_uri": "https://localhost:8080/",
          "height": 188
        },
        "outputId": "becf26ad-28b5-4b97-a0c1-facadbc838bc"
      },
      "source": [
        "fig = plt.figure(figsize=(8, 2))\n",
        "sns.rugplot(x='odometer', data=df, height=1)"
      ],
      "execution_count": 45,
      "outputs": [
        {
          "output_type": "execute_result",
          "data": {
            "text/plain": [
              "<matplotlib.axes._subplots.AxesSubplot at 0x7fd735487410>"
            ]
          },
          "metadata": {
            "tags": []
          },
          "execution_count": 45
        },
        {
          "output_type": "display_data",
          "data": {
            "image/png": "[encoded data removed]",
            "text/plain": [
              "<Figure size 576x144 with 1 Axes>"
            ]
          },
          "metadata": {
            "tags": [],
            "needs_background": "light"
          }
        }
      ]
    },
    {
      "cell_type": "code",
      "metadata": {
        "id": "bqTC1o38TquV",
        "colab": {
          "base_uri": "https://localhost:8080/",
          "height": 300
        },
        "outputId": "8765ca9d-482a-43e2-d047-5321d7dd5b5d"
      },
      "source": [
        "sns.histplot(x='age', data=df, bins=18, kde=True)"
      ],
      "execution_count": 46,
      "outputs": [
        {
          "output_type": "execute_result",
          "data": {
            "text/plain": [
              "<matplotlib.axes._subplots.AxesSubplot at 0x7fd7276c9750>"
            ]
          },
          "metadata": {
            "tags": []
          },
          "execution_count": 46
        },
        {
          "output_type": "display_data",
          "data": {
            "image/png": "[encoded data removed]",
            "text/plain": [
              "<Figure size 432x288 with 1 Axes>"
            ]
          },
          "metadata": {
            "tags": [],
            "needs_background": "light"
          }
        }
      ]
    },
    {
      "cell_type": "markdown",
      "metadata": {
        "id": "xsd_T_h_lgtY"
      },
      "source": [
        "### 문제 10. 수치형 데이터 클리닝하기"
      ]
    },
    {
      "cell_type": "code",
      "metadata": {
        "id": "PRYiAxnKlgtY",
        "colab": {
          "base_uri": "https://localhost:8080/"
        },
        "outputId": "fc9c2428-2d25-4553-9680-717e8576b3db"
      },
      "source": [
        "# quantile() 메소드를 이용하여 outlier 제거하고 시각화하여 확인하기\n",
        "p1 = df['price'].quantile(0.99) # 상위 1%\n",
        "p2 = df['price'].quantile(0.1) # 하위 10%\n",
        "print(p1, p2)"
      ],
      "execution_count": 47,
      "outputs": [
        {
          "output_type": "stream",
          "text": [
            "66995.0 500.0\n"
          ],
          "name": "stdout"
        }
      ]
    },
    {
      "cell_type": "code",
      "metadata": {
        "id": "DugFC-uPUXZc"
      },
      "source": [
        "df = df[(p1 > df['price']) & (p2 < df['price'])]"
      ],
      "execution_count": 48,
      "outputs": []
    },
    {
      "cell_type": "code",
      "metadata": {
        "id": "5xo4lCWcUKYW",
        "colab": {
          "base_uri": "https://localhost:8080/"
        },
        "outputId": "45925642-09f5-4617-e6c6-945dd964e6dc"
      },
      "source": [
        "o1 = df['odometer'].quantile(0.99) # 상위 1%\n",
        "o2 = df['odometer'].quantile(0.1) # 하위 10%\n",
        "print(o1, o2)"
      ],
      "execution_count": 49,
      "outputs": [
        {
          "output_type": "stream",
          "text": [
            "280000.0 15812.0\n"
          ],
          "name": "stdout"
        }
      ]
    },
    {
      "cell_type": "code",
      "metadata": {
        "id": "gWwaF5JzUWg-"
      },
      "source": [
        "df = df[(o1 > df['odometer']) & (o2 < df['odometer'])]"
      ],
      "execution_count": 50,
      "outputs": []
    },
    {
      "cell_type": "code",
      "metadata": {
        "id": "XdJsIy9MUKTr",
        "colab": {
          "base_uri": "https://localhost:8080/",
          "height": 297
        },
        "outputId": "c361e536-f647-4864-b350-82af210b7b27"
      },
      "source": [
        "df.describe()\n",
        "# mean값과 50%값이 비슷하면 가우시안에 비슷해지는 것 => 합리적"
      ],
      "execution_count": 51,
      "outputs": [
        {
          "output_type": "execute_result",
          "data": {
            "text/html": [
              "<div>\n",
              "<style scoped>\n",
              "    .dataframe tbody tr th:only-of-type {\n",
              "        vertical-align: middle;\n",
              "    }\n",
              "\n",
              "    .dataframe tbody tr th {\n",
              "        vertical-align: top;\n",
              "    }\n",
              "\n",
              "    .dataframe thead th {\n",
              "        text-align: right;\n",
              "    }\n",
              "</style>\n",
              "<table border=\"1\" class=\"dataframe\">\n",
              "  <thead>\n",
              "    <tr style=\"text-align: right;\">\n",
              "      <th></th>\n",
              "      <th>price</th>\n",
              "      <th>odometer</th>\n",
              "      <th>county</th>\n",
              "      <th>age</th>\n",
              "    </tr>\n",
              "  </thead>\n",
              "  <tbody>\n",
              "    <tr>\n",
              "      <th>count</th>\n",
              "      <td>335851.000000</td>\n",
              "      <td>335851.000000</td>\n",
              "      <td>0.0</td>\n",
              "      <td>335248.000000</td>\n",
              "    </tr>\n",
              "    <tr>\n",
              "      <th>mean</th>\n",
              "      <td>17534.838914</td>\n",
              "      <td>101335.798690</td>\n",
              "      <td>NaN</td>\n",
              "      <td>10.239056</td>\n",
              "    </tr>\n",
              "    <tr>\n",
              "      <th>std</th>\n",
              "      <td>12645.528274</td>\n",
              "      <td>56884.388094</td>\n",
              "      <td>NaN</td>\n",
              "      <td>8.469817</td>\n",
              "    </tr>\n",
              "    <tr>\n",
              "      <th>min</th>\n",
              "      <td>501.000000</td>\n",
              "      <td>15813.000000</td>\n",
              "      <td>NaN</td>\n",
              "      <td>-1.000000</td>\n",
              "    </tr>\n",
              "    <tr>\n",
              "      <th>25%</th>\n",
              "      <td>7425.500000</td>\n",
              "      <td>53000.000000</td>\n",
              "      <td>NaN</td>\n",
              "      <td>5.000000</td>\n",
              "    </tr>\n",
              "    <tr>\n",
              "      <th>50%</th>\n",
              "      <td>14500.000000</td>\n",
              "      <td>96936.000000</td>\n",
              "      <td>NaN</td>\n",
              "      <td>8.000000</td>\n",
              "    </tr>\n",
              "    <tr>\n",
              "      <th>75%</th>\n",
              "      <td>25226.500000</td>\n",
              "      <td>140337.000000</td>\n",
              "      <td>NaN</td>\n",
              "      <td>13.000000</td>\n",
              "    </tr>\n",
              "    <tr>\n",
              "      <th>max</th>\n",
              "      <td>66992.000000</td>\n",
              "      <td>279974.000000</td>\n",
              "      <td>NaN</td>\n",
              "      <td>121.000000</td>\n",
              "    </tr>\n",
              "  </tbody>\n",
              "</table>\n",
              "</div>"
            ],
            "text/plain": [
              "               price       odometer  county            age\n",
              "count  335851.000000  335851.000000     0.0  335248.000000\n",
              "mean    17534.838914  101335.798690     NaN      10.239056\n",
              "std     12645.528274   56884.388094     NaN       8.469817\n",
              "min       501.000000   15813.000000     NaN      -1.000000\n",
              "25%      7425.500000   53000.000000     NaN       5.000000\n",
              "50%     14500.000000   96936.000000     NaN       8.000000\n",
              "75%     25226.500000  140337.000000     NaN      13.000000\n",
              "max     66992.000000  279974.000000     NaN     121.000000"
            ]
          },
          "metadata": {
            "tags": []
          },
          "execution_count": 51
        }
      ]
    },
    {
      "cell_type": "code",
      "metadata": {
        "id": "VS5sc3ZrUKL4"
      },
      "source": [
        "# 다시 boxplot 그려서 분석하면 됨"
      ],
      "execution_count": 52,
      "outputs": []
    },
    {
      "cell_type": "markdown",
      "metadata": {
        "id": "sWIF67-8lr4C"
      },
      "source": [
        "### 문제 11. 컬럼간의 Correlation Heatmap으로 시각화하기"
      ]
    },
    {
      "cell_type": "code",
      "metadata": {
        "id": "wVmEa1ChlrTc",
        "colab": {
          "base_uri": "https://localhost:8080/",
          "height": 286
        },
        "outputId": "5f7e033e-10c3-4584-94f6-ea2eca5bcaf1"
      },
      "source": [
        "sns.heatmap(df.corr(), annot=True, cmap='YlOrRd')"
      ],
      "execution_count": 53,
      "outputs": [
        {
          "output_type": "execute_result",
          "data": {
            "text/plain": [
              "<matplotlib.axes._subplots.AxesSubplot at 0x7fd7276536d0>"
            ]
          },
          "metadata": {
            "tags": []
          },
          "execution_count": 53
        },
        {
          "output_type": "display_data",
          "data": {
            "image/png": "[encoded data removed]",
            "text/plain": [
              "<Figure size 432x288 with 2 Axes>"
            ]
          },
          "metadata": {
            "tags": [],
            "needs_background": "light"
          }
        }
      ]
    },
    {
      "cell_type": "markdown",
      "metadata": {
        "id": "FRfd7ABjepBS"
      },
      "source": [
        "## Step 4. 모델 학습을 위한 데이터 전처리 "
      ]
    },
    {
      "cell_type": "markdown",
      "metadata": {
        "id": "Dev2yLeMta85"
      },
      "source": [
        "### 문제 12. StandardScaler를 이용해 수치형 데이터 표준화하기\n"
      ]
    },
    {
      "cell_type": "code",
      "metadata": {
        "id": "_k_SDCh5xMgD"
      },
      "source": [
        "from sklearn.preprocessing import StandardScaler"
      ],
      "execution_count": 54,
      "outputs": []
    },
    {
      "cell_type": "code",
      "metadata": {
        "id": "W3EO22NCE3wG"
      },
      "source": [
        "# StandardScaler를 이용해 수치형 데이터를 표준화하기\n",
        "\n",
        "X_num = df[['odometer', 'age']]\n",
        "\n",
        "scaler = StandardScaler()\n",
        "scaler.fit(X_num)\n",
        "X_scaled = scaler.transform(X_num)\n",
        "X_scaled = pd.DataFrame(X_scaled, index=X_num.index, columns=X_num.columns)\n",
        "\n",
        "# get_dummies를 이용해 범주형 데이터를 one-hot 벡터로 변경하기\n",
        "X_cat = df.drop(['price', 'odometer', 'age'], axis=1)\n",
        "X_cat = pd.get_dummies(X_cat)\n",
        "\n",
        "# 입출력 데이터 통합하기\n",
        "X = pd.concat([X_scaled, X_cat], axis=1)\n",
        "y = df['price']"
      ],
      "execution_count": null,
      "outputs": []
    },
    {
      "cell_type": "code",
      "metadata": {
        "id": "ftBBSpcHxTRF"
      },
      "source": [
        "X.shape"
      ],
      "execution_count": null,
      "outputs": []
    },
    {
      "cell_type": "code",
      "metadata": {
        "id": "y-5qyACIxTGF"
      },
      "source": [
        "X.fillna(0.0, inplace=True)"
      ],
      "execution_count": null,
      "outputs": []
    },
    {
      "cell_type": "markdown",
      "metadata": {
        "id": "x93Tb6lptcA2"
      },
      "source": [
        "### 문제 13. 학습데이터와 테스트데이터 분리하기\n"
      ]
    },
    {
      "cell_type": "code",
      "metadata": {
        "id": "C9kMQI8SEche"
      },
      "source": [
        "from sklearn.model_selection import train_test_split"
      ],
      "execution_count": null,
      "outputs": []
    },
    {
      "cell_type": "code",
      "metadata": {
        "id": "F07QjOFwFNEw"
      },
      "source": [
        "# train_test_split() 함수로 학습 데이터와 테스트 데이터 분리하기\n",
        "X_train, X_test, y_train, y_test = train_test_split(X, y, test_size=0.3, random_state=1)"
      ],
      "execution_count": null,
      "outputs": []
    },
    {
      "cell_type": "markdown",
      "metadata": {
        "id": "RrWrE8Z4exup"
      },
      "source": [
        "## Step 5. Regression 모델 학습하기"
      ]
    },
    {
      "cell_type": "markdown",
      "metadata": {
        "id": "NypEtNhdfCow"
      },
      "source": [
        "### 문제 14. XGBoost Regression 모델 학습하기"
      ]
    },
    {
      "cell_type": "code",
      "metadata": {
        "id": "ow28ZRL4F7D5"
      },
      "source": [
        "from xgboost import XGBRegressor"
      ],
      "execution_count": null,
      "outputs": []
    },
    {
      "cell_type": "code",
      "metadata": {
        "id": "LSSNqFUrGM6R"
      },
      "source": [
        "# XGBRegressor 모델 생성/학습\n",
        "model_reg = XGBRegressor()\n",
        "model_reg.fit(X_train, y_train)"
      ],
      "execution_count": null,
      "outputs": []
    },
    {
      "cell_type": "markdown",
      "metadata": {
        "id": "gUo8NmHkfIpf"
      },
      "source": [
        "### 문제 15. 모델 학습 결과 평가하기"
      ]
    },
    {
      "cell_type": "code",
      "metadata": {
        "id": "rxvf1vgmfLs-"
      },
      "source": [
        "from sklearn.metrics import mean_absolute_error, mean_squared_error\n",
        "from math import sqrt"
      ],
      "execution_count": null,
      "outputs": []
    },
    {
      "cell_type": "code",
      "metadata": {
        "id": "KDVy7fFGfUP1"
      },
      "source": [
        "# Predict를 수행하고 mean_absolute_error, rmse 결과 출력하기\n",
        "pred = model_reg.predict(X_test)\n",
        "print(mean_absolute_error(y_test, pred))\n",
        "print(sqrt(mean_squared_error(y_test, pred)))"
      ],
      "execution_count": null,
      "outputs": []
    },
    {
      "cell_type": "markdown",
      "metadata": {
        "id": "DTqb-HqPtc4I"
      },
      "source": [
        "## Step 6. 모델 학습 결과 심화 분석하기\n"
      ]
    },
    {
      "cell_type": "markdown",
      "metadata": {
        "id": "xTRTOLTNto3h"
      },
      "source": [
        "### 문제 16. 실제 값과 추측 값의 Scatter plot 시각화하기\n"
      ]
    },
    {
      "cell_type": "code",
      "metadata": {
        "id": "kKEP06-OmrBs"
      },
      "source": [
        "# y_test vs. pred Scatter 플랏으로 시각적으로 분석하기\n",
        "# Scatter로 시각적 확인이 어려울 경우, histplot 등 활용\n",
        "plt.scatter(x=y_test, y=pred, alpha=0.005)\n",
        "plt.plot([0,60000], [0,60000], 'r-')"
      ],
      "execution_count": null,
      "outputs": []
    },
    {
      "cell_type": "code",
      "metadata": {
        "id": "PCNkf3SXxjPy"
      },
      "source": [
        "sns.histplot(x=y_test, y=pred)\n",
        "plt.plot([0, 60000], [0, 60000], 'r-')"
      ],
      "execution_count": null,
      "outputs": []
    },
    {
      "cell_type": "markdown",
      "metadata": {
        "id": "kAisZoSEtp35"
      },
      "source": [
        "### 문제 17. 에러 값의 히스토그램 확인하기\n"
      ]
    },
    {
      "cell_type": "code",
      "metadata": {
        "id": "WLnyYNJwGRgd"
      },
      "source": [
        "# err의 히스토그램으로 에러율 히스토그램 확인하기\n",
        "err = (pred - y_test) / y_test * 100\n",
        "sns.histplot(err)\n",
        "plt.xlabel('error (%)')\n",
        "plt.xlim(-100, 100)\n",
        "plt.grid()"
      ],
      "execution_count": null,
      "outputs": []
    },
    {
      "cell_type": "code",
      "metadata": {
        "id": "Kppw-Z9qxkUS"
      },
      "source": [
        "err = (pred - y_test)\n",
        "sns.histplot(err)\n",
        "plt.xlabel('error ($)')\n",
        "plt.grid()"
      ],
      "execution_count": null,
      "outputs": []
    }
  ]
}