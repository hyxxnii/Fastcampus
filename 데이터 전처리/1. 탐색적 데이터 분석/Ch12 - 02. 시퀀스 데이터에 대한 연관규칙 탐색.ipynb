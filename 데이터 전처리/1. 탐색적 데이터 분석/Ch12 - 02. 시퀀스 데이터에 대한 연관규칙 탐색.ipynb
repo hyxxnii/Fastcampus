{
 "cells": [
  {
   "cell_type": "code",
   "execution_count": 21,
   "metadata": {},
   "outputs": [],
   "source": [
    "# import os\n",
    "# os.chdir('./data')\n",
    "\n",
    "import pandas as pd\n",
    "import numpy as np\n",
    "df = pd.read_csv('페이지내_사용자_이동.csv', engine='python')"
   ]
  },
  {
   "cell_type": "code",
   "execution_count": 22,
   "metadata": {},
   "outputs": [
    {
     "data": {
      "text/html": [
       "<div>\n",
       "<style scoped>\n",
       "    .dataframe tbody tr th:only-of-type {\n",
       "        vertical-align: middle;\n",
       "    }\n",
       "\n",
       "    .dataframe tbody tr th {\n",
       "        vertical-align: top;\n",
       "    }\n",
       "\n",
       "    .dataframe thead th {\n",
       "        text-align: right;\n",
       "    }\n",
       "</style>\n",
       "<table border=\"1\" class=\"dataframe\">\n",
       "  <thead>\n",
       "    <tr style=\"text-align: right;\">\n",
       "      <th></th>\n",
       "      <th>고객ID</th>\n",
       "      <th>방문 페이지</th>\n",
       "      <th>순서</th>\n",
       "    </tr>\n",
       "  </thead>\n",
       "  <tbody>\n",
       "    <tr>\n",
       "      <th>0</th>\n",
       "      <td>0</td>\n",
       "      <td>페이지C</td>\n",
       "      <td>1</td>\n",
       "    </tr>\n",
       "    <tr>\n",
       "      <th>1</th>\n",
       "      <td>0</td>\n",
       "      <td>페이지E</td>\n",
       "      <td>2</td>\n",
       "    </tr>\n",
       "    <tr>\n",
       "      <th>2</th>\n",
       "      <td>0</td>\n",
       "      <td>페이지B</td>\n",
       "      <td>3</td>\n",
       "    </tr>\n",
       "    <tr>\n",
       "      <th>3</th>\n",
       "      <td>0</td>\n",
       "      <td>페이지F</td>\n",
       "      <td>4</td>\n",
       "    </tr>\n",
       "    <tr>\n",
       "      <th>4</th>\n",
       "      <td>0</td>\n",
       "      <td>페이지C</td>\n",
       "      <td>5</td>\n",
       "    </tr>\n",
       "  </tbody>\n",
       "</table>\n",
       "</div>"
      ],
      "text/plain": [
       "   고객ID 방문 페이지  순서\n",
       "0     0   페이지C   1\n",
       "1     0   페이지E   2\n",
       "2     0   페이지B   3\n",
       "3     0   페이지F   4\n",
       "4     0   페이지C   5"
      ]
     },
     "execution_count": 22,
     "metadata": {},
     "output_type": "execute_result"
    }
   ],
   "source": [
    "df.head()\n",
    "# ex) 0번 고객: 페이지 C->E->B->F->C 이런 순으로 방문한 것"
   ]
  },
  {
   "cell_type": "code",
   "execution_count": 23,
   "metadata": {},
   "outputs": [],
   "source": [
    "# 주문별 카트에 추가한 순서를 고려하기위해 정렬 필요\n",
    "df.sort_values(by=['고객ID', '순서'], inplace=True)"
   ]
  },
  {
   "cell_type": "code",
   "execution_count": 24,
   "metadata": {},
   "outputs": [
    {
     "data": {
      "text/plain": [
       "array(['페이지C', '페이지E', '페이지B', '페이지F', '페이지D', '페이지J', '메인', '페이지G',\n",
       "       '페이지A', '페이지I'], dtype=object)"
      ]
     },
     "execution_count": 24,
     "metadata": {},
     "output_type": "execute_result"
    }
   ],
   "source": [
    "page_set = df['방문 페이지'].unique()\n",
    "page_set[:10]"
   ]
  },
  {
   "cell_type": "code",
   "execution_count": 25,
   "metadata": {},
   "outputs": [],
   "source": [
    "page_sequence_per_order = df.groupby('고객ID')['방문 페이지'].apply(np.array)"
   ]
  },
  {
   "cell_type": "code",
   "execution_count": 26,
   "metadata": {},
   "outputs": [
    {
     "data": {
      "text/plain": [
       "고객ID\n",
       "0    [페이지C, 페이지E, 페이지B, 페이지F, 페이지C, 페이지D, 페이지J, 메인,...\n",
       "1    [페이지B, 메인, 메인, 페이지A, 페이지F, 페이지C, 페이지I, 페이지E, 페...\n",
       "2    [페이지F, 페이지J, 페이지D, 페이지G, 페이지C, 메인, 페이지I, 페이지J,...\n",
       "3    [페이지I, 페이지I, 페이지J, 페이지J, 페이지C, 페이지A, 페이지H, 페이지...\n",
       "4    [페이지J, 페이지H, 페이지G, 페이지G, 페이지E, 페이지C, 페이지A, 페이지...\n",
       "Name: 방문 페이지, dtype: object"
      ]
     },
     "execution_count": 26,
     "metadata": {},
     "output_type": "execute_result"
    }
   ],
   "source": [
    "page_sequence_per_order.head()"
   ]
  },
  {
   "cell_type": "code",
   "execution_count": 27,
   "metadata": {},
   "outputs": [],
   "source": [
    "from itertools import product # 가능한 모든 조합을 출력해줌\n",
    "\n",
    "def contain_pattern(record, pattern, L):\n",
    "    # 특정 record하에 특정 pattern이 발생했는지\n",
    "    # L:윈도우 크기\n",
    "    output = False\n",
    "    if set(record) & set(pattern) != set(pattern): # pattern에 포함된 모든 아이템 집합이 record에 포함된 아이템 집합에 속하지 않으면\n",
    "        # 해석: record와 pattern의 교집합이 pattern과 같지 않다 => pattern이 record에 속하지 않는다\n",
    "        return False\n",
    "    \n",
    "    else:\n",
    "        # 패턴에 속한 개별 아이템에 대한 위치를 미리 구하기\n",
    "        # pattern에 있는 item을 돌면서 record의 어느 위치에 있는지 확인\n",
    "        # [0]: np.where의 output이 array임. 그중 0번째를 가져오겠다는 것\n",
    "        pattern_index_list = [np.where(record == item)[0] for item in pattern]\n",
    "        \n",
    "        ## 가능한 모든 조합에서 위치 간 거리가 L이하면 True를 반환\n",
    "        # Ex) record = [A, B, C, A, C, C], pattern = [A, B], L = 1\n",
    "        # A의 위치: [0, 3], B의 위치: [1]\n",
    "        # 가능한 모든 조합(product): [0, 1], [3, 1](얘는 A가 3번째 있고 B가 첫번째 있으므로 L에 상관없이 우리가 원하는 패턴이 아냐 =>그래서 밑에 distance를 구함)\n",
    "        # 가능한 모든 조합의 거리 차이: [1-0, 1-3] 중에 0번째 요소는 만족하므로 True\n",
    "        \n",
    "        for pattern_index in product(*pattern_index_list):\n",
    "            # product는 모든 조합을 찾음\n",
    "            distance = np.array(pattern_index)[1:] - np.array(pattern_index)[:-1]\n",
    "            # [1:]는 뒤에 있는 요소, [:-1]는 앞에 있는 요소\n",
    "            if sum((distance <= L) & (distance > 0)) == (len(pattern_index) - 1): # -1은 맨 앞에 있는 것은 거리상 무시됐기때문에\n",
    "                output = True\n",
    "                break\n",
    "                \n",
    "        return output"
   ]
  },
  {
   "cell_type": "code",
   "execution_count": 28,
   "metadata": {},
   "outputs": [],
   "source": [
    "def find_maximum_frequent_sequence_item(item_set, sequence_data, min_support=0.01, L=1):\n",
    "    queue = []\n",
    "    maximum_frequent_sequence_item = []\n",
    "    \n",
    "    # 유니크한 아이템 집합에 대해, min_support가 넘는 아이템들만 queue에 추가\n",
    "    for item in item_set:\n",
    "        occurence = sequence_data.apply(contain_pattern, pattern=[item], L=L).sum()\n",
    "        if occurence / len(sequence_data) >= min_support:\n",
    "            # 등장비율\n",
    "            queue.append([item])\n",
    "            \n",
    "    while queue:\n",
    "        current_pattern = queue.pop()  # 맨 마지막 값 빼기\n",
    "        check_maximum_frequent = True # 모든 자식 집합이 min_support를 넘기지 않으면 True를 유지\n",
    "        for item in item_set:\n",
    "            occurence = sequence_data.apply(contain_pattern, pattern=current_pattern + [item], L=L).sum()\n",
    "            if occurence / len(sequence_data) >= min_support: # min_support를 넘는 패턴을 queue에 추가\n",
    "                check_maximum_frequent = False\n",
    "                queue.append(current_pattern + [item])\n",
    "                \n",
    "        if check_maximum_frequent and len(current_pattern) > 1:\n",
    "            maximum_frequent_sequence_item.append(current_pattern)\n",
    "            \n",
    "    return maximum_frequent_sequence_item"
   ]
  },
  {
   "cell_type": "code",
   "execution_count": 29,
   "metadata": {},
   "outputs": [],
   "source": [
    "def generate_association_rules(maximum_frequent_sequence_item, sequence_data, min_support = 0.01, min_confidence = 0.5, L = 1):\n",
    "    # 결과 초기화\n",
    "    result = {\"부모\":[], \"자식\":[], \"지지도\":[], \"신뢰도\":[]}\n",
    "        \n",
    "    for sequence_item in maximum_frequent_sequence_item:\n",
    "        # A -> B에서 A, B를 모두 포함하는 가짓 수 co_occurence 계산\n",
    "        co_occurence = sequence_data.apply(contain_pattern, pattern = sequence_item, L = L).sum()\n",
    "        support = co_occurence / len(sequence_data)\n",
    "        if co_occurence > min_support:\n",
    "            for i in range(len(sequence_item)-1, 0, -1): # 한 아이템 집합에 대해, 부모의 크기를 1씩 줄여나가는 방식으로 부모와 자식 설정\n",
    "                antecedent = sequence_item[:i]\n",
    "                consequent = sequence_item[i:]\n",
    "                antecedent_occurence = sequence_data.apply(contain_pattern, pattern = antecedent, L = L).sum()\n",
    "                \n",
    "                confidence = co_occurence / antecedent_occurence\n",
    "                if confidence > min_confidence:\n",
    "                    result['부모'].append(antecedent)\n",
    "                    result['자식'].append(consequent)\n",
    "                    result['지지도'].append(support)\n",
    "                    result['신뢰도'].append(confidence)\n",
    "            \n",
    "    return pd.DataFrame(result)"
   ]
  },
  {
   "cell_type": "code",
   "execution_count": 32,
   "metadata": {},
   "outputs": [
    {
     "data": {
      "text/plain": [
       "array(['페이지C', '페이지E', '페이지B', '페이지F', '페이지D', '페이지J', '메인', '페이지G',\n",
       "       '페이지A', '페이지I', '페이지H'], dtype=object)"
      ]
     },
     "execution_count": 32,
     "metadata": {},
     "output_type": "execute_result"
    }
   ],
   "source": [
    "page_set"
   ]
  },
  {
   "cell_type": "code",
   "execution_count": 33,
   "metadata": {},
   "outputs": [
    {
     "data": {
      "text/plain": [
       "고객ID\n",
       "0     [페이지C, 페이지E, 페이지B, 페이지F, 페이지C, 페이지D, 페이지J, 메인,...\n",
       "1     [페이지B, 메인, 메인, 페이지A, 페이지F, 페이지C, 페이지I, 페이지E, 페...\n",
       "2     [페이지F, 페이지J, 페이지D, 페이지G, 페이지C, 메인, 페이지I, 페이지J,...\n",
       "3     [페이지I, 페이지I, 페이지J, 페이지J, 페이지C, 페이지A, 페이지H, 페이지...\n",
       "4     [페이지J, 페이지H, 페이지G, 페이지G, 페이지E, 페이지C, 페이지A, 페이지...\n",
       "                            ...                        \n",
       "95    [페이지D, 페이지H, 페이지I, 메인, 페이지B, 페이지E, 페이지F, 페이지G,...\n",
       "96    [페이지E, 페이지I, 페이지E, 페이지G, 페이지A, 페이지E, 페이지D, 페이지...\n",
       "97    [페이지B, 페이지B, 메인, 메인, 페이지B, 페이지F, 페이지J, 페이지D, 페...\n",
       "98                               [메인, 페이지D, 페이지F, 페이지G]\n",
       "99    [페이지E, 페이지H, 페이지B, 페이지D, 페이지B, 페이지A, 페이지I, 페이지...\n",
       "Name: 방문 페이지, Length: 100, dtype: object"
      ]
     },
     "execution_count": 33,
     "metadata": {},
     "output_type": "execute_result"
    }
   ],
   "source": [
    "page_sequence_per_order"
   ]
  },
  {
   "cell_type": "code",
   "execution_count": 30,
   "metadata": {},
   "outputs": [],
   "source": [
    "maximum_frequent_sequence_item = find_maximum_frequent_sequence_item(page_set, page_sequence_per_order, min_support = 0.02, L = 1)"
   ]
  },
  {
   "cell_type": "code",
   "execution_count": 34,
   "metadata": {},
   "outputs": [
    {
     "data": {
      "text/plain": [
       "[['페이지H', '페이지H'],\n",
       " ['페이지H', '페이지I'],\n",
       " ['페이지H', '페이지A', '페이지D'],\n",
       " ['페이지H', '메인'],\n",
       " ['페이지H', '페이지J'],\n",
       " ['페이지H', '페이지D', '페이지F'],\n",
       " ['페이지H', '페이지D', '페이지E'],\n",
       " ['페이지H', '페이지F', '페이지E'],\n",
       " ['페이지H', '페이지B', '페이지D'],\n",
       " ['페이지H', '페이지E'],\n",
       " ['페이지H', '페이지C', '페이지I'],\n",
       " ['페이지H', '페이지C', '페이지J'],\n",
       " ['페이지I', '페이지H', '페이지E'],\n",
       " ['페이지I', '페이지I'],\n",
       " ['페이지I', '페이지A'],\n",
       " ['페이지I', '페이지G'],\n",
       " ['페이지I', '메인', '페이지B'],\n",
       " ['페이지I', '페이지J'],\n",
       " ['페이지I', '페이지D', '페이지F'],\n",
       " ['페이지I', '페이지F'],\n",
       " ['페이지I', '페이지B', '페이지C'],\n",
       " ['페이지I', '페이지E', '페이지E'],\n",
       " ['페이지I', '페이지C'],\n",
       " ['페이지A', '페이지H', '페이지B'],\n",
       " ['페이지A', '페이지I'],\n",
       " ['페이지A', '페이지A', '페이지H'],\n",
       " ['페이지A', '페이지G', '페이지J', '페이지E'],\n",
       " ['페이지A', '페이지G', '페이지B'],\n",
       " ['페이지A', '메인'],\n",
       " ['페이지A', '페이지J', '메인'],\n",
       " ['페이지A', '페이지J', '페이지J'],\n",
       " ['페이지A', '페이지D', '페이지B'],\n",
       " ['페이지A', '페이지F', '페이지C'],\n",
       " ['페이지A', '페이지B', '페이지F'],\n",
       " ['페이지A', '페이지B', '페이지E'],\n",
       " ['페이지A', '페이지E'],\n",
       " ['페이지A', '페이지C'],\n",
       " ['페이지G', '페이지A', '페이지J'],\n",
       " ['페이지G', '페이지A', '페이지D'],\n",
       " ['페이지G', '페이지A', '페이지B'],\n",
       " ['페이지G', '페이지G'],\n",
       " ['페이지G', '페이지J', '페이지E'],\n",
       " ['페이지G', '페이지D'],\n",
       " ['페이지G', '페이지B', '페이지F'],\n",
       " ['페이지G', '페이지E'],\n",
       " ['페이지G', '페이지C', '페이지J'],\n",
       " ['메인', '페이지H'],\n",
       " ['메인', '페이지I'],\n",
       " ['메인', '페이지A', '페이지J'],\n",
       " ['메인', '메인', '페이지H'],\n",
       " ['메인', '페이지J', '페이지F'],\n",
       " ['메인', '페이지D'],\n",
       " ['메인', '페이지F'],\n",
       " ['메인', '페이지B'],\n",
       " ['메인', '페이지E'],\n",
       " ['메인', '페이지C'],\n",
       " ['페이지J', '페이지H', '페이지H'],\n",
       " ['페이지J', '페이지H', '페이지C'],\n",
       " ['페이지J', '페이지I', '페이지D', '페이지F'],\n",
       " ['페이지J', '페이지A', '페이지J'],\n",
       " ['페이지J', '페이지G'],\n",
       " ['페이지J', '메인', '페이지A'],\n",
       " ['페이지J', '메인', '페이지J', '페이지F'],\n",
       " ['페이지J', '페이지J', '페이지D'],\n",
       " ['페이지J', '페이지J', '페이지F'],\n",
       " ['페이지J', '페이지J', '페이지C'],\n",
       " ['페이지J', '페이지D'],\n",
       " ['페이지J', '페이지F', '페이지G'],\n",
       " ['페이지J', '페이지B', '메인'],\n",
       " ['페이지J', '페이지E'],\n",
       " ['페이지J', '페이지C'],\n",
       " ['페이지D', '페이지H', '페이지D'],\n",
       " ['페이지D', '페이지I', '페이지A'],\n",
       " ['페이지D', '페이지A', '페이지E'],\n",
       " ['페이지D', '페이지G', '페이지G'],\n",
       " ['페이지D', '페이지J', '페이지J', '페이지F'],\n",
       " ['페이지D', '페이지D'],\n",
       " ['페이지D', '페이지F', '페이지F'],\n",
       " ['페이지D', '페이지B', '페이지H'],\n",
       " ['페이지D', '페이지E'],\n",
       " ['페이지D', '페이지C'],\n",
       " ['페이지F', '페이지H'],\n",
       " ['페이지F', '페이지I'],\n",
       " ['페이지F', '페이지A'],\n",
       " ['페이지F', '페이지G', '페이지B'],\n",
       " ['페이지F', '메인'],\n",
       " ['페이지F', '페이지J', '페이지D'],\n",
       " ['페이지F', '페이지D'],\n",
       " ['페이지F', '페이지F', '페이지C'],\n",
       " ['페이지F', '페이지B', '페이지J'],\n",
       " ['페이지F', '페이지E'],\n",
       " ['페이지F', '페이지C', '페이지I'],\n",
       " ['페이지F', '페이지C', '페이지E'],\n",
       " ['페이지B', '페이지H', '페이지B'],\n",
       " ['페이지B', '페이지I'],\n",
       " ['페이지B', '페이지A', '페이지A'],\n",
       " ['페이지B', '페이지G'],\n",
       " ['페이지B', '메인', '메인'],\n",
       " ['페이지B', '페이지J'],\n",
       " ['페이지B', '페이지D', '페이지B'],\n",
       " ['페이지B', '페이지F', '페이지J'],\n",
       " ['페이지B', '페이지B'],\n",
       " ['페이지B', '페이지E', '페이지G'],\n",
       " ['페이지B', '페이지E', '페이지J'],\n",
       " ['페이지B', '페이지E', '페이지F', '페이지G'],\n",
       " ['페이지B', '페이지C', '페이지B'],\n",
       " ['페이지E', '페이지H', '페이지B'],\n",
       " ['페이지E', '페이지I'],\n",
       " ['페이지E', '페이지A'],\n",
       " ['페이지E', '페이지G', '페이지A'],\n",
       " ['페이지E', '페이지G', '페이지C'],\n",
       " ['페이지E', '메인'],\n",
       " ['페이지E', '페이지J'],\n",
       " ['페이지E', '페이지D'],\n",
       " ['페이지E', '페이지F', '페이지H'],\n",
       " ['페이지E', '페이지F', '페이지G'],\n",
       " ['페이지E', '페이지B', '페이지A'],\n",
       " ['페이지E', '페이지E', '페이지G'],\n",
       " ['페이지E', '페이지C', '페이지A'],\n",
       " ['페이지C', '페이지H'],\n",
       " ['페이지C', '페이지I', '페이지B'],\n",
       " ['페이지C', '페이지A', '페이지H', '페이지B'],\n",
       " ['페이지C', '페이지G'],\n",
       " ['페이지C', '메인', '페이지A', '페이지J'],\n",
       " ['페이지C', '메인', '페이지E'],\n",
       " ['페이지C', '페이지J', '페이지I'],\n",
       " ['페이지C', '페이지D'],\n",
       " ['페이지C', '페이지F'],\n",
       " ['페이지C', '페이지B'],\n",
       " ['페이지C', '페이지E', '메인'],\n",
       " ['페이지C', '페이지C']]"
      ]
     },
     "execution_count": 34,
     "metadata": {},
     "output_type": "execute_result"
    }
   ],
   "source": [
    "maximum_frequent_sequence_item"
   ]
  },
  {
   "cell_type": "code",
   "execution_count": 31,
   "metadata": {},
   "outputs": [
    {
     "data": {
      "text/html": [
       "<div>\n",
       "<style scoped>\n",
       "    .dataframe tbody tr th:only-of-type {\n",
       "        vertical-align: middle;\n",
       "    }\n",
       "\n",
       "    .dataframe tbody tr th {\n",
       "        vertical-align: top;\n",
       "    }\n",
       "\n",
       "    .dataframe thead th {\n",
       "        text-align: right;\n",
       "    }\n",
       "</style>\n",
       "<table border=\"1\" class=\"dataframe\">\n",
       "  <thead>\n",
       "    <tr style=\"text-align: right;\">\n",
       "      <th></th>\n",
       "      <th>부모</th>\n",
       "      <th>자식</th>\n",
       "      <th>지지도</th>\n",
       "      <th>신뢰도</th>\n",
       "    </tr>\n",
       "  </thead>\n",
       "  <tbody>\n",
       "    <tr>\n",
       "      <th>160</th>\n",
       "      <td>[페이지B]</td>\n",
       "      <td>[페이지J]</td>\n",
       "      <td>0.07</td>\n",
       "      <td>0.155556</td>\n",
       "    </tr>\n",
       "    <tr>\n",
       "      <th>59</th>\n",
       "      <td>[페이지A]</td>\n",
       "      <td>[페이지C]</td>\n",
       "      <td>0.07</td>\n",
       "      <td>0.148936</td>\n",
       "    </tr>\n",
       "    <tr>\n",
       "      <th>109</th>\n",
       "      <td>[페이지J]</td>\n",
       "      <td>[페이지D]</td>\n",
       "      <td>0.07</td>\n",
       "      <td>0.142857</td>\n",
       "    </tr>\n",
       "    <tr>\n",
       "      <th>115</th>\n",
       "      <td>[페이지J]</td>\n",
       "      <td>[페이지C]</td>\n",
       "      <td>0.07</td>\n",
       "      <td>0.142857</td>\n",
       "    </tr>\n",
       "    <tr>\n",
       "      <th>75</th>\n",
       "      <td>[메인]</td>\n",
       "      <td>[페이지H]</td>\n",
       "      <td>0.06</td>\n",
       "      <td>0.150000</td>\n",
       "    </tr>\n",
       "    <tr>\n",
       "      <th>...</th>\n",
       "      <td>...</td>\n",
       "      <td>...</td>\n",
       "      <td>...</td>\n",
       "      <td>...</td>\n",
       "    </tr>\n",
       "    <tr>\n",
       "      <th>205</th>\n",
       "      <td>[페이지C]</td>\n",
       "      <td>[메인, 페이지A, 페이지J]</td>\n",
       "      <td>0.02</td>\n",
       "      <td>0.037037</td>\n",
       "    </tr>\n",
       "    <tr>\n",
       "      <th>207</th>\n",
       "      <td>[페이지C]</td>\n",
       "      <td>[메인, 페이지E]</td>\n",
       "      <td>0.02</td>\n",
       "      <td>0.037037</td>\n",
       "    </tr>\n",
       "    <tr>\n",
       "      <th>209</th>\n",
       "      <td>[페이지C]</td>\n",
       "      <td>[페이지J, 페이지I]</td>\n",
       "      <td>0.02</td>\n",
       "      <td>0.037037</td>\n",
       "    </tr>\n",
       "    <tr>\n",
       "      <th>214</th>\n",
       "      <td>[페이지C]</td>\n",
       "      <td>[페이지E, 메인]</td>\n",
       "      <td>0.02</td>\n",
       "      <td>0.037037</td>\n",
       "    </tr>\n",
       "    <tr>\n",
       "      <th>215</th>\n",
       "      <td>[페이지C]</td>\n",
       "      <td>[페이지C]</td>\n",
       "      <td>0.02</td>\n",
       "      <td>0.037037</td>\n",
       "    </tr>\n",
       "  </tbody>\n",
       "</table>\n",
       "<p>216 rows × 4 columns</p>\n",
       "</div>"
      ],
      "text/plain": [
       "         부모                자식   지지도       신뢰도\n",
       "160  [페이지B]            [페이지J]  0.07  0.155556\n",
       "59   [페이지A]            [페이지C]  0.07  0.148936\n",
       "109  [페이지J]            [페이지D]  0.07  0.142857\n",
       "115  [페이지J]            [페이지C]  0.07  0.142857\n",
       "75     [메인]            [페이지H]  0.06  0.150000\n",
       "..      ...               ...   ...       ...\n",
       "205  [페이지C]  [메인, 페이지A, 페이지J]  0.02  0.037037\n",
       "207  [페이지C]        [메인, 페이지E]  0.02  0.037037\n",
       "209  [페이지C]      [페이지J, 페이지I]  0.02  0.037037\n",
       "214  [페이지C]        [페이지E, 메인]  0.02  0.037037\n",
       "215  [페이지C]            [페이지C]  0.02  0.037037\n",
       "\n",
       "[216 rows x 4 columns]"
      ]
     },
     "execution_count": 31,
     "metadata": {},
     "output_type": "execute_result"
    }
   ],
   "source": [
    "result = generate_association_rules(maximum_frequent_sequence_item, page_sequence_per_order, min_support = 0.01, min_confidence = 0, L = 1)\n",
    "result.sort_values(by = ['지지도', '신뢰도'], ascending = False)"
   ]
  },
  {
   "cell_type": "code",
   "execution_count": null,
   "metadata": {},
   "outputs": [],
   "source": []
  }
 ],
 "metadata": {
  "kernelspec": {
   "display_name": "Python 3",
   "language": "python",
   "name": "python3"
  },
  "language_info": {
   "codemirror_mode": {
    "name": "ipython",
    "version": 3
   },
   "file_extension": ".py",
   "mimetype": "text/x-python",
   "name": "python",
   "nbconvert_exporter": "python",
   "pygments_lexer": "ipython3",
   "version": "3.7.1"
  }
 },
 "nbformat": 4,
 "nbformat_minor": 2
}
