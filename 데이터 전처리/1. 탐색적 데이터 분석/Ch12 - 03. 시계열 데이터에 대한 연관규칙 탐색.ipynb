{
 "cells": [
  {
   "cell_type": "code",
   "execution_count": 1,
   "metadata": {},
   "outputs": [],
   "source": [
    "import os\n",
    "os.chdir('./data')\n",
    "\n",
    "import pandas as pd\n",
    "import numpy as np\n",
    "df = pd.read_excel('2018-20_코스피지수.xlsx', parse_data=True) # 날짜 포맷 유지"
   ]
  },
  {
   "cell_type": "code",
   "execution_count": 2,
   "metadata": {},
   "outputs": [
    {
     "data": {
      "text/html": [
       "<div>\n",
       "<style scoped>\n",
       "    .dataframe tbody tr th:only-of-type {\n",
       "        vertical-align: middle;\n",
       "    }\n",
       "\n",
       "    .dataframe tbody tr th {\n",
       "        vertical-align: top;\n",
       "    }\n",
       "\n",
       "    .dataframe thead th {\n",
       "        text-align: right;\n",
       "    }\n",
       "</style>\n",
       "<table border=\"1\" class=\"dataframe\">\n",
       "  <thead>\n",
       "    <tr style=\"text-align: right;\">\n",
       "      <th></th>\n",
       "      <th>날짜</th>\n",
       "      <th>종가</th>\n",
       "    </tr>\n",
       "  </thead>\n",
       "  <tbody>\n",
       "    <tr>\n",
       "      <th>0</th>\n",
       "      <td>2020-07-17</td>\n",
       "      <td>2201.19</td>\n",
       "    </tr>\n",
       "    <tr>\n",
       "      <th>1</th>\n",
       "      <td>2020-07-16</td>\n",
       "      <td>2183.76</td>\n",
       "    </tr>\n",
       "    <tr>\n",
       "      <th>2</th>\n",
       "      <td>2020-07-15</td>\n",
       "      <td>2201.88</td>\n",
       "    </tr>\n",
       "    <tr>\n",
       "      <th>3</th>\n",
       "      <td>2020-07-14</td>\n",
       "      <td>2183.61</td>\n",
       "    </tr>\n",
       "    <tr>\n",
       "      <th>4</th>\n",
       "      <td>2020-07-13</td>\n",
       "      <td>2186.06</td>\n",
       "    </tr>\n",
       "  </tbody>\n",
       "</table>\n",
       "</div>"
      ],
      "text/plain": [
       "          날짜       종가\n",
       "0 2020-07-17  2201.19\n",
       "1 2020-07-16  2183.76\n",
       "2 2020-07-15  2201.88\n",
       "3 2020-07-14  2183.61\n",
       "4 2020-07-13  2186.06"
      ]
     },
     "execution_count": 2,
     "metadata": {},
     "output_type": "execute_result"
    }
   ],
   "source": [
    "df.head()"
   ]
  },
  {
   "cell_type": "code",
   "execution_count": 3,
   "metadata": {},
   "outputs": [],
   "source": [
    "# 순서를 고려하기 위해 정렬 필요\n",
    "df.sort_values(by=['날짜'], inplace=True)"
   ]
  },
  {
   "cell_type": "markdown",
   "metadata": {},
   "source": [
    "### SAX 적용"
   ]
  },
  {
   "cell_type": "code",
   "execution_count": 4,
   "metadata": {},
   "outputs": [],
   "source": [
    "def segmentation(x, w, a): #x: time series sample, w:window, a: alphabet size (a=3이면 A,B,C까지)\n",
    "    window_mean = x[:w*int(len(x)/w)].reshape(w, -1).mean(axis=1) # 행별 평균(행별 평균내면 결과는 열 벡터이므로 axis=1)\n",
    "    if len(x) % w != 0: # ex) x:25, w:20 => 나머지 5개 처리 필요\n",
    "        window_mean = np.hstack([window_mean, x[w*int(len(x)/w):].mean()]) # 남겨진 부분은 그 부분만 평균해서 window_mean에 추가\n",
    "    \n",
    "    return window_mean"
   ]
  },
  {
   "cell_type": "code",
   "execution_count": 5,
   "metadata": {},
   "outputs": [],
   "source": [
    "def find_break_points(wmv, a): # wmv: window mean vector\n",
    "    # A,B,C 등으로 나누는 기준선들을 break_points\n",
    "    break_points = [np.quantile(wmv, (i+1)/a) for i in range(a)]\n",
    "    # ex) a=5 => 20,40,60,80,100 quantile이 기준선이 될 것\n",
    "    return break_points"
   ]
  },
  {
   "cell_type": "code",
   "execution_count": 6,
   "metadata": {},
   "outputs": [],
   "source": [
    "def conversion_window(wv, break_points): # wv: window mean vector\n",
    "    alphabet_sequence = []\n",
    "    for e in wv:\n",
    "        alphabet = 65 # A의 아스키코드\n",
    "        for bp in break_points:\n",
    "            if e < bp: # 기준선에 걸리면 현재 알파벳을 sequence에 추가\n",
    "                alphabet_sequence.append(chr(alphabet))\n",
    "                break\n",
    "\n",
    "            else:\n",
    "                alphabet += 1\n",
    "\n",
    "    return alphabet_sequence"
   ]
  },
  {
   "cell_type": "code",
   "execution_count": 7,
   "metadata": {},
   "outputs": [],
   "source": [
    "KOSPI = df['종가'].values\n",
    "window_mean_vector = segmentation(x=KOSPI, w=100, a=5)"
   ]
  },
  {
   "cell_type": "code",
   "execution_count": 8,
   "metadata": {
    "scrolled": true
   },
   "outputs": [
    {
     "data": {
      "text/plain": [
       "array([2282.725     , 2284.32      , 2291.51      , 2293.9475    ,\n",
       "       2273.465     , 2251.4475    , 2287.11      , 2310.595     ,\n",
       "       2300.5325    , 2284.09      , 2304.1175    , 2331.6275    ,\n",
       "       2316.5025    , 2219.9075    , 2154.9       , 2143.095     ,\n",
       "       2046.02      , 2041.21      , 2084.465     , 2076.4525    ,\n",
       "       2090.9       , 2071.75      , 2104.65      , 2104.07      ,\n",
       "       2066.2725    , 2074.5325    , 2063.865     , 2026.8725    ,\n",
       "       2016.58      , 2067.02      , 2108.655     , 2128.7975    ,\n",
       "       2186.1475    , 2197.195     , 2199.6325    , 2210.5925    ,\n",
       "       2229.58      , 2200.03      , 2154.2325    , 2159.345     ,\n",
       "       2179.7725    , 2156.5575    , 2153.5575    , 2207.5025    ,\n",
       "       2223.96      , 2237.7925    , 2213.585     , 2197.4575    ,\n",
       "       2188.5175    , 2092.725     , 2067.995     , 2057.7525    ,\n",
       "       2038.79      , 2061.4175    , 2098.095     , 2097.        ,\n",
       "       2127.005     , 2127.1075    , 2114.1275    , 2071.3925    ,\n",
       "       2085.3975    , 2081.7925    , 2081.1225    , 2027.5125    ,\n",
       "       1943.08      , 1931.62      , 1941.4225    , 1945.0675    ,\n",
       "       1941.7225    , 1982.04      , 2027.49      , 2068.9075    ,\n",
       "       2089.4125    , 2064.98      , 2030.145     , 2052.0825    ,\n",
       "       2071.575     , 2085.7575    , 2087.51      , 2129.3075    ,\n",
       "       2136.6325    , 2146.1375    , 2119.28      , 2122.825     ,\n",
       "       2083.21      , 2082.31      , 2145.3425    , 2197.795     ,\n",
       "       2198.9825    , 2176.0925    , 2179.9225    , 2236.7925    ,\n",
       "       2255.0375    , 2189.0325    , 2140.355     , 2216.02      ,\n",
       "       2239.275     , 2194.39      , 2078.5775    , 2015.75      ,\n",
       "       1964.58021505])"
      ]
     },
     "execution_count": 8,
     "metadata": {},
     "output_type": "execute_result"
    }
   ],
   "source": [
    "window_mean_vector\n",
    "# ex) 샘플수가 1000일동안의 기록(1000개)이었다면 각 값들은 10일(1000/100)간의 KOSPI값의 평균"
   ]
  },
  {
   "cell_type": "code",
   "execution_count": 9,
   "metadata": {},
   "outputs": [
    {
     "data": {
      "text/plain": [
       "[2064.98, 2090.9, 2154.2325, 2216.0199999999995, 2331.6275]"
      ]
     },
     "execution_count": 9,
     "metadata": {},
     "output_type": "execute_result"
    }
   ],
   "source": [
    "bps = find_break_points(window_mean_vector, 5)\n",
    "bps"
   ]
  },
  {
   "cell_type": "code",
   "execution_count": 10,
   "metadata": {
    "scrolled": true
   },
   "outputs": [
    {
     "data": {
      "text/plain": [
       "['E',\n",
       " 'E',\n",
       " 'E',\n",
       " 'E',\n",
       " 'E',\n",
       " 'E',\n",
       " 'E',\n",
       " 'E',\n",
       " 'E',\n",
       " 'E',\n",
       " 'E',\n",
       " 'E',\n",
       " 'E',\n",
       " 'D',\n",
       " 'C',\n",
       " 'A',\n",
       " 'A',\n",
       " 'B',\n",
       " 'B',\n",
       " 'C',\n",
       " 'B',\n",
       " 'C',\n",
       " 'C',\n",
       " 'B',\n",
       " 'B',\n",
       " 'A',\n",
       " 'A',\n",
       " 'A',\n",
       " 'B',\n",
       " 'C',\n",
       " 'C',\n",
       " 'D',\n",
       " 'D',\n",
       " 'D',\n",
       " 'D',\n",
       " 'E',\n",
       " 'D',\n",
       " 'D',\n",
       " 'D',\n",
       " 'D',\n",
       " 'D',\n",
       " 'C',\n",
       " 'D',\n",
       " 'E',\n",
       " 'E',\n",
       " 'D',\n",
       " 'D',\n",
       " 'D',\n",
       " 'C',\n",
       " 'B',\n",
       " 'A',\n",
       " 'A',\n",
       " 'A',\n",
       " 'C',\n",
       " 'C',\n",
       " 'C',\n",
       " 'C',\n",
       " 'C',\n",
       " 'B',\n",
       " 'B',\n",
       " 'B',\n",
       " 'B',\n",
       " 'A',\n",
       " 'A',\n",
       " 'A',\n",
       " 'A',\n",
       " 'A',\n",
       " 'A',\n",
       " 'A',\n",
       " 'A',\n",
       " 'B',\n",
       " 'B',\n",
       " 'B',\n",
       " 'A',\n",
       " 'A',\n",
       " 'B',\n",
       " 'B',\n",
       " 'B',\n",
       " 'C',\n",
       " 'C',\n",
       " 'C',\n",
       " 'C',\n",
       " 'C',\n",
       " 'B',\n",
       " 'B',\n",
       " 'C',\n",
       " 'D',\n",
       " 'D',\n",
       " 'D',\n",
       " 'D',\n",
       " 'E',\n",
       " 'E',\n",
       " 'D',\n",
       " 'C',\n",
       " 'E',\n",
       " 'E',\n",
       " 'D',\n",
       " 'B',\n",
       " 'A',\n",
       " 'A']"
      ]
     },
     "execution_count": 10,
     "metadata": {},
     "output_type": "execute_result"
    }
   ],
   "source": [
    "alphabet_sequence = conversion_window(window_mean_vector, bps)\n",
    "alphabet_sequence"
   ]
  },
  {
   "cell_type": "markdown",
   "metadata": {},
   "source": [
    "### 패턴 찾기"
   ]
  },
  {
   "cell_type": "code",
   "execution_count": 11,
   "metadata": {},
   "outputs": [
    {
     "data": {
      "text/plain": [
       "'E-E-E-E-E-E-E-E-E-E-E-E-E-D-C-A-A-B-B-C-B-C-C-B-B-A-A-A-B-C-C-D-D-D-D-E-D-D-D-D-D-C-D-E-E-D-D-D-C-B-A-A-A-C-C-C-C-C-B-B-B-B-A-A-A-A-A-A-A-A-B-B-B-A-A-B-B-B-C-C-C-C-C-B-B-C-D-D-D-D-E-E-D-C-E-E-D-B-A-A'"
      ]
     },
     "execution_count": 11,
     "metadata": {},
     "output_type": "execute_result"
    }
   ],
   "source": [
    "# 문자열로 변환 (하나의 리스트만 대상으로 하기에 이렇게 하는 것이 더 수월, 단 L=1으로만 한정)\n",
    "alphabet_sequence = '-'.join(alphabet_sequence)\n",
    "alphabet_sequence"
   ]
  },
  {
   "cell_type": "code",
   "execution_count": 12,
   "metadata": {},
   "outputs": [],
   "source": [
    "def find_maximum_frequent_sequence_item(item_set, sequence_data, min_support=0.01, L=1):\n",
    "    queue = []\n",
    "    maximum_frequent_sequence_item = []\n",
    "    \n",
    "    # 유니크한 아이템 집합에 대해, min_support가 넘는 아이템들만 queue에 추가\n",
    "    for item in item_set:\n",
    "        occurence = sequence_data.count(item)\n",
    "        if occurence / (sequence_data.count('-') + 1) >= min_support:\n",
    "            queue.append(item)\n",
    "            \n",
    "    while queue:\n",
    "        current_pattern = queue.pop() # 맨 마지막 값 빼기\n",
    "        check_maximum_frequent = True # 모든 자식 집합이 min_support를 넘기지 않으면 True를 유지\n",
    "        for item in item_set:\n",
    "            occurence = sequence_data.count(item)\n",
    "            if occurence / (sequence_data.count('-') + 1) >= min_support:\n",
    "                check_maximum_frequent = False\n",
    "                queue.append(current_pattern + '-' + item)\n",
    "                \n",
    "        if check_maximum_frequent and len(current_pattern) > 1:\n",
    "            maximum_frequent_sequence_item.append(current_pattern)\n",
    "            \n",
    "    return maximum_frequent_sequence_item"
   ]
  },
  {
   "cell_type": "code",
   "execution_count": 13,
   "metadata": {},
   "outputs": [],
   "source": [
    "def generate_association_rules(maximum_frequent_sequence_item, sequence_data, min_support = 0.01, min_confidence = 0.5, L = 1):\n",
    "    # 결과 초기화\n",
    "    result = {\"부모\":[], \"자식\":[], \"지지도\":[], \"신뢰도\":[]}\n",
    "        \n",
    "    for sequence_item in maximum_frequent_sequence_item:\n",
    "        # A -> B에서 A, B를 모두 포함하는 가짓 수 co_occurence 계산\n",
    "        co_occurence = sequence_data.apply(contain_pattern, pattern = sequence_item, L = L).sum()\n",
    "        support = co_occurence / len(sequence_data.count('-') + 1)\n",
    "        if co_occurence > min_support:\n",
    "            for i in range(sequence_item.count('-') -1, 0, -1): # 한 아이템 집합에 대해, 부모의 크기를 1씩 줄여나가는 방식으로 부모와 자식 설정\n",
    "                antecedent = '-'.join(sequence_item.split('-')[:i])\n",
    "                consequent = '-'.join(sequence_item.split('-')[i:])\n",
    "                antecedent_occurence = sequence_data.apply(contain_pattern, pattern = antecedent, L = L).sum()\n",
    "                \n",
    "                confidence = co_occurence / antecedent_occurence\n",
    "                if confidence > min_confidence:\n",
    "                    result['부모'].append(antecedent)\n",
    "                    result['자식'].append(consequent)\n",
    "                    result['지지도'].append(support)\n",
    "                    result['신뢰도'].append(confidence)\n",
    "            \n",
    "    return pd.DataFrame(result)"
   ]
  },
  {
   "cell_type": "code",
   "execution_count": null,
   "metadata": {},
   "outputs": [],
   "source": [
    "maximum_frequent_sequence_item = find_maximum_frequent_sequence_item([chr(65+i) for i in range(5)], alphabet_sequence, min_support=0.01)"
   ]
  },
  {
   "cell_type": "code",
   "execution_count": null,
   "metadata": {},
   "outputs": [],
   "source": [
    "result = generate_association_rules(maximum_frequent_sequence_item, alphabet_sequence, min_support = 0.02, min_confidence = 0.1, L = 1)\n",
    "result.sort_values(by = ['지지도', '신뢰도'], ascending = False)\n",
    "result"
   ]
  },
  {
   "cell_type": "code",
   "execution_count": null,
   "metadata": {},
   "outputs": [],
   "source": []
  }
 ],
 "metadata": {
  "kernelspec": {
   "display_name": "Python 3",
   "language": "python",
   "name": "python3"
  },
  "language_info": {
   "codemirror_mode": {
    "name": "ipython",
    "version": 3
   },
   "file_extension": ".py",
   "mimetype": "text/x-python",
   "name": "python",
   "nbconvert_exporter": "python",
   "pygments_lexer": "ipython3",
   "version": "3.7.1"
  }
 },
 "nbformat": 4,
 "nbformat_minor": 2
}
