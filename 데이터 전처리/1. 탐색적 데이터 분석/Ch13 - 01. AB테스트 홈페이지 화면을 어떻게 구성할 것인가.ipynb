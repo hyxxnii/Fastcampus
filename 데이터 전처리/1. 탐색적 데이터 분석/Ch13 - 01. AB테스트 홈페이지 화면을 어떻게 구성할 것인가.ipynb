{
 "cells": [
  {
   "cell_type": "code",
   "execution_count": 1,
   "metadata": {},
   "outputs": [],
   "source": [
    "import os\n",
    "import pandas as pd\n",
    "import numpy as np\n",
    "\n",
    "os.chdir('./data/AB테스트')"
   ]
  },
  {
   "cell_type": "markdown",
   "metadata": {},
   "source": [
    "#### Step 1. 현황 분석"
   ]
  },
  {
   "cell_type": "code",
   "execution_count": 2,
   "metadata": {
    "scrolled": true
   },
   "outputs": [],
   "source": [
    "df = pd.read_csv(\"일별현황데이터.csv\", engine = \"python\")"
   ]
  },
  {
   "cell_type": "code",
   "execution_count": 3,
   "metadata": {},
   "outputs": [
    {
     "data": {
      "text/html": [
       "<div>\n",
       "<style scoped>\n",
       "    .dataframe tbody tr th:only-of-type {\n",
       "        vertical-align: middle;\n",
       "    }\n",
       "\n",
       "    .dataframe tbody tr th {\n",
       "        vertical-align: top;\n",
       "    }\n",
       "\n",
       "    .dataframe thead th {\n",
       "        text-align: right;\n",
       "    }\n",
       "</style>\n",
       "<table border=\"1\" class=\"dataframe\">\n",
       "  <thead>\n",
       "    <tr style=\"text-align: right;\">\n",
       "      <th></th>\n",
       "      <th>구매자수</th>\n",
       "      <th>방문자수</th>\n",
       "      <th>일자</th>\n",
       "      <th>총 판매 금액</th>\n",
       "    </tr>\n",
       "  </thead>\n",
       "  <tbody>\n",
       "    <tr>\n",
       "      <th>0</th>\n",
       "      <td>328</td>\n",
       "      <td>1498</td>\n",
       "      <td>2019-01-01</td>\n",
       "      <td>6454056</td>\n",
       "    </tr>\n",
       "    <tr>\n",
       "      <th>1</th>\n",
       "      <td>301</td>\n",
       "      <td>1514</td>\n",
       "      <td>2019-01-02</td>\n",
       "      <td>5941439</td>\n",
       "    </tr>\n",
       "    <tr>\n",
       "      <th>2</th>\n",
       "      <td>219</td>\n",
       "      <td>1409</td>\n",
       "      <td>2019-01-03</td>\n",
       "      <td>3967404</td>\n",
       "    </tr>\n",
       "    <tr>\n",
       "      <th>3</th>\n",
       "      <td>276</td>\n",
       "      <td>1617</td>\n",
       "      <td>2019-01-04</td>\n",
       "      <td>5073708</td>\n",
       "    </tr>\n",
       "    <tr>\n",
       "      <th>4</th>\n",
       "      <td>311</td>\n",
       "      <td>1482</td>\n",
       "      <td>2019-01-05</td>\n",
       "      <td>6482795</td>\n",
       "    </tr>\n",
       "  </tbody>\n",
       "</table>\n",
       "</div>"
      ],
      "text/plain": [
       "   구매자수  방문자수          일자  총 판매 금액\n",
       "0   328  1498  2019-01-01  6454056\n",
       "1   301  1514  2019-01-02  5941439\n",
       "2   219  1409  2019-01-03  3967404\n",
       "3   276  1617  2019-01-04  5073708\n",
       "4   311  1482  2019-01-05  6482795"
      ]
     },
     "execution_count": 3,
     "metadata": {},
     "output_type": "execute_result"
    }
   ],
   "source": [
    "df.head()"
   ]
  },
  {
   "cell_type": "code",
   "execution_count": 4,
   "metadata": {},
   "outputs": [
    {
     "data": {
      "text/html": [
       "<div>\n",
       "<style scoped>\n",
       "    .dataframe tbody tr th:only-of-type {\n",
       "        vertical-align: middle;\n",
       "    }\n",
       "\n",
       "    .dataframe tbody tr th {\n",
       "        vertical-align: top;\n",
       "    }\n",
       "\n",
       "    .dataframe thead th {\n",
       "        text-align: right;\n",
       "    }\n",
       "</style>\n",
       "<table border=\"1\" class=\"dataframe\">\n",
       "  <thead>\n",
       "    <tr style=\"text-align: right;\">\n",
       "      <th></th>\n",
       "      <th>구매자수</th>\n",
       "      <th>방문자수</th>\n",
       "      <th>총 판매 금액</th>\n",
       "    </tr>\n",
       "  </thead>\n",
       "  <tbody>\n",
       "    <tr>\n",
       "      <th>count</th>\n",
       "      <td>365.000000</td>\n",
       "      <td>365.000000</td>\n",
       "      <td>3.650000e+02</td>\n",
       "    </tr>\n",
       "    <tr>\n",
       "      <th>mean</th>\n",
       "      <td>298.347945</td>\n",
       "      <td>1502.024658</td>\n",
       "      <td>5.983674e+06</td>\n",
       "    </tr>\n",
       "    <tr>\n",
       "      <th>std</th>\n",
       "      <td>54.205014</td>\n",
       "      <td>52.454239</td>\n",
       "      <td>1.129601e+06</td>\n",
       "    </tr>\n",
       "    <tr>\n",
       "      <th>min</th>\n",
       "      <td>108.000000</td>\n",
       "      <td>1370.000000</td>\n",
       "      <td>2.002536e+06</td>\n",
       "    </tr>\n",
       "    <tr>\n",
       "      <th>25%</th>\n",
       "      <td>262.000000</td>\n",
       "      <td>1466.000000</td>\n",
       "      <td>5.222217e+06</td>\n",
       "    </tr>\n",
       "    <tr>\n",
       "      <th>50%</th>\n",
       "      <td>297.000000</td>\n",
       "      <td>1500.000000</td>\n",
       "      <td>5.990007e+06</td>\n",
       "    </tr>\n",
       "    <tr>\n",
       "      <th>75%</th>\n",
       "      <td>337.000000</td>\n",
       "      <td>1537.000000</td>\n",
       "      <td>6.734271e+06</td>\n",
       "    </tr>\n",
       "    <tr>\n",
       "      <th>max</th>\n",
       "      <td>444.000000</td>\n",
       "      <td>1638.000000</td>\n",
       "      <td>9.318244e+06</td>\n",
       "    </tr>\n",
       "  </tbody>\n",
       "</table>\n",
       "</div>"
      ],
      "text/plain": [
       "             구매자수         방문자수       총 판매 금액\n",
       "count  365.000000   365.000000  3.650000e+02\n",
       "mean   298.347945  1502.024658  5.983674e+06\n",
       "std     54.205014    52.454239  1.129601e+06\n",
       "min    108.000000  1370.000000  2.002536e+06\n",
       "25%    262.000000  1466.000000  5.222217e+06\n",
       "50%    297.000000  1500.000000  5.990007e+06\n",
       "75%    337.000000  1537.000000  6.734271e+06\n",
       "max    444.000000  1638.000000  9.318244e+06"
      ]
     },
     "execution_count": 4,
     "metadata": {},
     "output_type": "execute_result"
    }
   ],
   "source": [
    "df.describe()\n",
    "# 일자는 object로 인식돼서 빠진 것"
   ]
  },
  {
   "cell_type": "code",
   "execution_count": 7,
   "metadata": {},
   "outputs": [],
   "source": [
    "%matplotlib inline\n",
    "import matplotlib.pyplot as plt\n",
    "plt.rcParams[\"font.family\"] = 'Malgun Gothic'\n",
    "plt.rcParams[\"font.size\"] = 15\n",
    "plt.rcParams[\"figure.figsize\"] = (20, 5)"
   ]
  },
  {
   "cell_type": "code",
   "execution_count": 8,
   "metadata": {
    "scrolled": true
   },
   "outputs": [
    {
     "data": {
      "text/plain": [
       "([<matplotlib.axis.XTick at 0x1bc85bca080>,\n",
       "  <matplotlib.axis.XTick at 0x1bc85bca048>,\n",
       "  <matplotlib.axis.XTick at 0x1bc85bc0c50>,\n",
       "  <matplotlib.axis.XTick at 0x1bc85befa90>,\n",
       "  <matplotlib.axis.XTick at 0x1bc85beff28>,\n",
       "  <matplotlib.axis.XTick at 0x1bc85c07400>,\n",
       "  <matplotlib.axis.XTick at 0x1bc85c07898>,\n",
       "  <matplotlib.axis.XTick at 0x1bc85bef898>,\n",
       "  <matplotlib.axis.XTick at 0x1bc85c07940>,\n",
       "  <matplotlib.axis.XTick at 0x1bc85c10198>,\n",
       "  <matplotlib.axis.XTick at 0x1bc85c105f8>,\n",
       "  <matplotlib.axis.XTick at 0x1bc85c10a90>],\n",
       " [Text(0, 0, '2019-01-01'),\n",
       "  Text(0, 0, '2019-02-01'),\n",
       "  Text(0, 0, '2019-03-01'),\n",
       "  Text(0, 0, '2019-04-01'),\n",
       "  Text(0, 0, '2019-05-01'),\n",
       "  Text(0, 0, '2019-06-01'),\n",
       "  Text(0, 0, '2019-07-01'),\n",
       "  Text(0, 0, '2019-08-01'),\n",
       "  Text(0, 0, '2019-09-01'),\n",
       "  Text(0, 0, '2019-10-01'),\n",
       "  Text(0, 0, '2019-11-01'),\n",
       "  Text(0, 0, '2019-12-01')])"
      ]
     },
     "execution_count": 8,
     "metadata": {},
     "output_type": "execute_result"
    },
    {
     "data": {
      "image/png": "[encoded data removed]",
      "text/plain": [
       "<Figure size 1440x360 with 1 Axes>"
      ]
     },
     "metadata": {
      "needs_background": "light"
     },
     "output_type": "display_data"
    }
   ],
   "source": [
    "plt.plot(df['일자'], df['방문자수'])\n",
    "xtick_range = np.cumsum([0, 31, 28, 31, 30, 31, 30, 31, 31, 30, 31, 30]) # 월별 일 수 누적을 통한 매월 1일 인덱스 정의 (12월 제외)\n",
    "plt.xticks(xtick_range, df['일자'].loc[xtick_range])"
   ]
  },
  {
   "cell_type": "markdown",
   "metadata": {},
   "source": [
    "- 시간에 따라서 거의 비슷한 흐름\n",
    "- 계절,주기성 흐름은 보이지 않음"
   ]
  },
  {
   "cell_type": "code",
   "execution_count": 11,
   "metadata": {
    "scrolled": true
   },
   "outputs": [
    {
     "data": {
      "text/plain": [
       "([<matplotlib.axis.XTick at 0x1bc83a69b38>,\n",
       "  <matplotlib.axis.XTick at 0x1bc85e63b70>,\n",
       "  <matplotlib.axis.XTick at 0x1bc85c164a8>,\n",
       "  <matplotlib.axis.XTick at 0x1bc85c16630>,\n",
       "  <matplotlib.axis.XTick at 0x1bc83601c18>,\n",
       "  <matplotlib.axis.XTick at 0x1bc85c35438>,\n",
       "  <matplotlib.axis.XTick at 0x1bc85c35c18>,\n",
       "  <matplotlib.axis.XTick at 0x1bc85e575c0>,\n",
       "  <matplotlib.axis.XTick at 0x1bc85ba7198>,\n",
       "  <matplotlib.axis.XTick at 0x1bc85e632b0>,\n",
       "  <matplotlib.axis.XTick at 0x1bc85e637f0>,\n",
       "  <matplotlib.axis.XTick at 0x1bc85e633c8>],\n",
       " [Text(0, 0, '2019-01-01'),\n",
       "  Text(0, 0, '2019-02-01'),\n",
       "  Text(0, 0, '2019-03-01'),\n",
       "  Text(0, 0, '2019-04-01'),\n",
       "  Text(0, 0, '2019-05-01'),\n",
       "  Text(0, 0, '2019-06-01'),\n",
       "  Text(0, 0, '2019-07-01'),\n",
       "  Text(0, 0, '2019-08-01'),\n",
       "  Text(0, 0, '2019-09-01'),\n",
       "  Text(0, 0, '2019-10-01'),\n",
       "  Text(0, 0, '2019-11-01'),\n",
       "  Text(0, 0, '2019-12-01')])"
      ]
     },
     "execution_count": 11,
     "metadata": {},
     "output_type": "execute_result"
    },
    {
     "data": {
      "image/png": "[encoded data removed]",
      "text/plain": [
       "<Figure size 1440x360 with 1 Axes>"
      ]
     },
     "metadata": {
      "needs_background": "light"
     },
     "output_type": "display_data"
    }
   ],
   "source": [
    "plt.plot(df['일자'], df['구매자수'])\n",
    "xtick_range = np.cumsum([0, 31, 28, 31, 30, 31, 30, 31, 31, 30, 31, 30]) # 월별 일 수 누적을 통한 매월 1일 인덱스 정의 (12월 제외)\n",
    "plt.xticks(xtick_range, df['일자'].loc[xtick_range])"
   ]
  },
  {
   "cell_type": "code",
   "execution_count": 12,
   "metadata": {
    "scrolled": true
   },
   "outputs": [
    {
     "data": {
      "text/plain": [
       "([<matplotlib.axis.XTick at 0x1bc85c7d240>,\n",
       "  <matplotlib.axis.XTick at 0x1bc85c7d208>,\n",
       "  <matplotlib.axis.XTick at 0x1bc85c77c88>,\n",
       "  <matplotlib.axis.XTick at 0x1bc85e0dc88>,\n",
       "  <matplotlib.axis.XTick at 0x1bc85e28198>,\n",
       "  <matplotlib.axis.XTick at 0x1bc85e285f8>,\n",
       "  <matplotlib.axis.XTick at 0x1bc85e28a90>,\n",
       "  <matplotlib.axis.XTick at 0x1bc85e28f28>,\n",
       "  <matplotlib.axis.XTick at 0x1bc85e280b8>,\n",
       "  <matplotlib.axis.XTick at 0x1bc85e2f358>,\n",
       "  <matplotlib.axis.XTick at 0x1bc85e2f7f0>,\n",
       "  <matplotlib.axis.XTick at 0x1bc85e2fc88>],\n",
       " [Text(0, 0, '2019-01-01'),\n",
       "  Text(0, 0, '2019-02-01'),\n",
       "  Text(0, 0, '2019-03-01'),\n",
       "  Text(0, 0, '2019-04-01'),\n",
       "  Text(0, 0, '2019-05-01'),\n",
       "  Text(0, 0, '2019-06-01'),\n",
       "  Text(0, 0, '2019-07-01'),\n",
       "  Text(0, 0, '2019-08-01'),\n",
       "  Text(0, 0, '2019-09-01'),\n",
       "  Text(0, 0, '2019-10-01'),\n",
       "  Text(0, 0, '2019-11-01'),\n",
       "  Text(0, 0, '2019-12-01')])"
      ]
     },
     "execution_count": 12,
     "metadata": {},
     "output_type": "execute_result"
    },
    {
     "data": {
      "image/png": "[encoded data removed]",
      "text/plain": [
       "<Figure size 1440x360 with 1 Axes>"
      ]
     },
     "metadata": {
      "needs_background": "light"
     },
     "output_type": "display_data"
    }
   ],
   "source": [
    "plt.plot(df['일자'], df['총 판매 금액'])\n",
    "xtick_range = np.cumsum([0, 31, 28, 31, 30, 31, 30, 31, 31, 30, 31, 30]) # 월별 일 수 누적을 통한 매월 1일 인덱스 정의 (12월 제외)\n",
    "plt.xticks(xtick_range, df['일자'].loc[xtick_range])"
   ]
  },
  {
   "cell_type": "markdown",
   "metadata": {},
   "source": [
    "#### Step 2. 상품 배치와 상품 구매 금액에 따른 관계 분석"
   ]
  },
  {
   "cell_type": "code",
   "execution_count": 13,
   "metadata": {},
   "outputs": [
    {
     "data": {
      "text/html": [
       "<div>\n",
       "<style scoped>\n",
       "    .dataframe tbody tr th:only-of-type {\n",
       "        vertical-align: middle;\n",
       "    }\n",
       "\n",
       "    .dataframe tbody tr th {\n",
       "        vertical-align: top;\n",
       "    }\n",
       "\n",
       "    .dataframe thead th {\n",
       "        text-align: right;\n",
       "    }\n",
       "</style>\n",
       "<table border=\"1\" class=\"dataframe\">\n",
       "  <thead>\n",
       "    <tr style=\"text-align: right;\">\n",
       "      <th></th>\n",
       "      <th>구매금액</th>\n",
       "    </tr>\n",
       "    <tr>\n",
       "      <th>고객ID</th>\n",
       "      <th></th>\n",
       "    </tr>\n",
       "  </thead>\n",
       "  <tbody>\n",
       "    <tr>\n",
       "      <th>C-1</th>\n",
       "      <td>20459</td>\n",
       "    </tr>\n",
       "    <tr>\n",
       "      <th>C-2</th>\n",
       "      <td>0</td>\n",
       "    </tr>\n",
       "    <tr>\n",
       "      <th>C-3</th>\n",
       "      <td>19726</td>\n",
       "    </tr>\n",
       "    <tr>\n",
       "      <th>C-4</th>\n",
       "      <td>0</td>\n",
       "    </tr>\n",
       "    <tr>\n",
       "      <th>C-5</th>\n",
       "      <td>19049</td>\n",
       "    </tr>\n",
       "  </tbody>\n",
       "</table>\n",
       "</div>"
      ],
      "text/plain": [
       "       구매금액\n",
       "고객ID       \n",
       "C-1   20459\n",
       "C-2       0\n",
       "C-3   19726\n",
       "C-4       0\n",
       "C-5   19049"
      ]
     },
     "execution_count": 13,
     "metadata": {},
     "output_type": "execute_result"
    }
   ],
   "source": [
    "placement_A = pd.read_csv(\"상품배치_A.csv\", engine = \"python\", index_col = \"고객ID\")\n",
    "placement_A.head()"
   ]
  },
  {
   "cell_type": "code",
   "execution_count": 14,
   "metadata": {},
   "outputs": [
    {
     "data": {
      "text/html": [
       "<div>\n",
       "<style scoped>\n",
       "    .dataframe tbody tr th:only-of-type {\n",
       "        vertical-align: middle;\n",
       "    }\n",
       "\n",
       "    .dataframe tbody tr th {\n",
       "        vertical-align: top;\n",
       "    }\n",
       "\n",
       "    .dataframe thead th {\n",
       "        text-align: right;\n",
       "    }\n",
       "</style>\n",
       "<table border=\"1\" class=\"dataframe\">\n",
       "  <thead>\n",
       "    <tr style=\"text-align: right;\">\n",
       "      <th></th>\n",
       "      <th>구매금액</th>\n",
       "    </tr>\n",
       "    <tr>\n",
       "      <th>고객ID</th>\n",
       "      <th></th>\n",
       "    </tr>\n",
       "  </thead>\n",
       "  <tbody>\n",
       "    <tr>\n",
       "      <th>C-200</th>\n",
       "      <td>0</td>\n",
       "    </tr>\n",
       "    <tr>\n",
       "      <th>C-201</th>\n",
       "      <td>0</td>\n",
       "    </tr>\n",
       "    <tr>\n",
       "      <th>C-202</th>\n",
       "      <td>0</td>\n",
       "    </tr>\n",
       "    <tr>\n",
       "      <th>C-203</th>\n",
       "      <td>19055</td>\n",
       "    </tr>\n",
       "    <tr>\n",
       "      <th>C-204</th>\n",
       "      <td>0</td>\n",
       "    </tr>\n",
       "  </tbody>\n",
       "</table>\n",
       "</div>"
      ],
      "text/plain": [
       "        구매금액\n",
       "고객ID        \n",
       "C-200      0\n",
       "C-201      0\n",
       "C-202      0\n",
       "C-203  19055\n",
       "C-204      0"
      ]
     },
     "execution_count": 14,
     "metadata": {},
     "output_type": "execute_result"
    }
   ],
   "source": [
    "placement_B = pd.read_csv(\"상품배치_B.csv\", engine = \"python\", index_col = \"고객ID\")\n",
    "placement_B.head()"
   ]
  },
  {
   "cell_type": "code",
   "execution_count": 15,
   "metadata": {},
   "outputs": [
    {
     "data": {
      "text/html": [
       "<div>\n",
       "<style scoped>\n",
       "    .dataframe tbody tr th:only-of-type {\n",
       "        vertical-align: middle;\n",
       "    }\n",
       "\n",
       "    .dataframe tbody tr th {\n",
       "        vertical-align: top;\n",
       "    }\n",
       "\n",
       "    .dataframe thead th {\n",
       "        text-align: right;\n",
       "    }\n",
       "</style>\n",
       "<table border=\"1\" class=\"dataframe\">\n",
       "  <thead>\n",
       "    <tr style=\"text-align: right;\">\n",
       "      <th></th>\n",
       "      <th>구매금액</th>\n",
       "    </tr>\n",
       "    <tr>\n",
       "      <th>고객ID</th>\n",
       "      <th></th>\n",
       "    </tr>\n",
       "  </thead>\n",
       "  <tbody>\n",
       "    <tr>\n",
       "      <th>C-360</th>\n",
       "      <td>0</td>\n",
       "    </tr>\n",
       "    <tr>\n",
       "      <th>C-361</th>\n",
       "      <td>19844</td>\n",
       "    </tr>\n",
       "    <tr>\n",
       "      <th>C-362</th>\n",
       "      <td>19085</td>\n",
       "    </tr>\n",
       "    <tr>\n",
       "      <th>C-363</th>\n",
       "      <td>0</td>\n",
       "    </tr>\n",
       "    <tr>\n",
       "      <th>C-364</th>\n",
       "      <td>19671</td>\n",
       "    </tr>\n",
       "  </tbody>\n",
       "</table>\n",
       "</div>"
      ],
      "text/plain": [
       "        구매금액\n",
       "고객ID        \n",
       "C-360      0\n",
       "C-361  19844\n",
       "C-362  19085\n",
       "C-363      0\n",
       "C-364  19671"
      ]
     },
     "execution_count": 15,
     "metadata": {},
     "output_type": "execute_result"
    }
   ],
   "source": [
    "placement_C = pd.read_csv(\"상품배치_C.csv\", engine = \"python\", index_col = \"고객ID\")\n",
    "placement_C.head()"
   ]
  },
  {
   "cell_type": "markdown",
   "metadata": {},
   "source": [
    "1. 구매금액이 0인 사람을 제외한 분석 수행"
   ]
  },
  {
   "cell_type": "code",
   "execution_count": 16,
   "metadata": {},
   "outputs": [],
   "source": [
    "# 구매금액이 0인 사람과 관련된 데이터 필터링\n",
    "placement_A_without_zero = placement_A.loc[placement_A['구매금액'] != 0]['구매금액'].values\n",
    "placement_B_without_zero = placement_B.loc[placement_B['구매금액'] != 0]['구매금액'].values\n",
    "placement_C_without_zero = placement_C.loc[placement_C['구매금액'] != 0]['구매금액'].values\n",
    "\n",
    "# 고객ID는 필요 없고 구매금액만 필요"
   ]
  },
  {
   "cell_type": "code",
   "execution_count": 17,
   "metadata": {},
   "outputs": [
    {
     "name": "stdout",
     "output_type": "stream",
     "text": [
      "KstestResult(statistic=1.0, pvalue=0.0)\n",
      "KstestResult(statistic=1.0, pvalue=0.0)\n",
      "KstestResult(statistic=1.0, pvalue=0.0)\n"
     ]
    }
   ],
   "source": [
    "# 세 그룹의 평균 차이 분석 => 일원분산분석\n",
    "# 각 데이터가 정규분포를 따름을 확인\n",
    "from scipy.stats import *\n",
    "\n",
    "print(kstest(placement_A_without_zero, 'norm'))\n",
    "print(kstest(placement_B_without_zero, 'norm'))\n",
    "print(kstest(placement_C_without_zero, 'norm'))"
   ]
  },
  {
   "cell_type": "code",
   "execution_count": 19,
   "metadata": {},
   "outputs": [
    {
     "name": "stdout",
     "output_type": "stream",
     "text": [
      "F_onewayResult(statistic=76.88192392994758, pvalue=3.382319770772329e-26)\n"
     ]
    }
   ],
   "source": [
    "# 일원분산분석 수행: p-value가 거의 0에 수렴 => A, B, C의 평균은 유의한 차이가 존재\n",
    "print(f_oneway(placement_A_without_zero,\n",
    "               placement_B_without_zero,\n",
    "               placement_C_without_zero))\n",
    "\n",
    "# 셋 중 어느 그룹끼리 차이가 있는지 사후 분석 해보자"
   ]
  },
  {
   "cell_type": "code",
   "execution_count": 20,
   "metadata": {},
   "outputs": [
    {
     "name": "stdout",
     "output_type": "stream",
     "text": [
      "    Multiple Comparison of Means - Tukey HSD, FWER=0.05    \n",
      "===========================================================\n",
      "group1 group2  meandiff  p-adj   lower      upper    reject\n",
      "-----------------------------------------------------------\n",
      "     A      B -1883.1765 0.001 -2276.2766 -1490.0763   True\n",
      "     A      C    66.7946   0.9  -343.9011   477.4903  False\n",
      "     B      C  1949.9711 0.001  1503.2312  2396.7109   True\n",
      "-----------------------------------------------------------\n"
     ]
    }
   ],
   "source": [
    "# 사후 분석\n",
    "from statsmodels.stats.multicomp import pairwise_tukeyhsd\n",
    "\n",
    "Group = ['A'] * len(placement_A_without_zero) + ['B'] * len(placement_B_without_zero) + ['C'] * len(placement_C_without_zero)\n",
    "Data = placement_A_without_zero.tolist() + placement_B_without_zero.tolist() + placement_C_without_zero.tolist()\n",
    "\n",
    "print(pairwise_tukeyhsd(Data, Group))\n",
    "\n",
    "# A와 C는 비슷한 애들(차이가 없어)\n",
    "# 결론 => (A, C) ~ B의 관계임을 확인"
   ]
  },
  {
   "cell_type": "markdown",
   "metadata": {},
   "source": [
    "2. 구매금액 0을 포함하여 분석"
   ]
  },
  {
   "cell_type": "code",
   "execution_count": 21,
   "metadata": {},
   "outputs": [
    {
     "name": "stdout",
     "output_type": "stream",
     "text": [
      "KstestResult(statistic=0.5151515151515151, pvalue=2.490817585851874e-49)\n",
      "KstestResult(statistic=0.5, pvalue=1.6346312024307732e-37)\n",
      "KstestResult(statistic=0.5, pvalue=9.71661593795993e-35)\n"
     ]
    }
   ],
   "source": [
    "# 각 데이터가 정규분포를 따름을 확인\n",
    "from scipy.stats import *\n",
    "print(kstest(placement_A['구매금액'], 'norm'))\n",
    "print(kstest(placement_B['구매금액'], 'norm'))\n",
    "print(kstest(placement_C['구매금액'], 'norm'))"
   ]
  },
  {
   "cell_type": "code",
   "execution_count": 22,
   "metadata": {},
   "outputs": [
    {
     "name": "stdout",
     "output_type": "stream",
     "text": [
      "F_onewayResult(statistic=3.9252421050200677, pvalue=0.020344882530536217)\n"
     ]
    }
   ],
   "source": [
    "# 일원분산분석 수행: p-value가 거의 0에 수렴 => A, B, C의 평균은 유의한 차이가 존재\n",
    "print(f_oneway(placement_A['구매금액'],\n",
    "               placement_B['구매금액'],\n",
    "               placement_C['구매금액']))"
   ]
  },
  {
   "cell_type": "code",
   "execution_count": 23,
   "metadata": {},
   "outputs": [
    {
     "name": "stdout",
     "output_type": "stream",
     "text": [
      "    Multiple Comparison of Means - Tukey HSD, FWER=0.05    \n",
      "===========================================================\n",
      "group1 group2  meandiff  p-adj    lower      upper   reject\n",
      "-----------------------------------------------------------\n",
      "     A      B -2602.2773 0.0314 -5020.3977 -184.1568   True\n",
      "     A      C -2302.0043 0.0741 -4773.7489  169.7403  False\n",
      "     B      C    300.273    0.9 -2293.9871  2894.533  False\n",
      "-----------------------------------------------------------\n"
     ]
    }
   ],
   "source": [
    "# 사후 분석\n",
    "from statsmodels.stats.multicomp import pairwise_tukeyhsd\n",
    "Group = ['A'] * len(placement_A) + ['B'] * len(placement_B) + ['C'] * len(placement_C)\n",
    "Data = placement_A['구매금액'].tolist() + placement_B['구매금액'].tolist() + placement_C['구매금액'].tolist()\n",
    "\n",
    "print(pairwise_tukeyhsd(Data, Group))\n",
    "\n",
    "# 그룹을 명확히 묶기 어려움\n",
    "# 어느정도 A ~ (B, C) 관계임을 확인"
   ]
  },
  {
   "cell_type": "markdown",
   "metadata": {},
   "source": [
    "#### Step 2. 구매 여부와 상품 배치 간 관계 파악"
   ]
  },
  {
   "cell_type": "code",
   "execution_count": 24,
   "metadata": {},
   "outputs": [
    {
     "data": {
      "text/html": [
       "<div>\n",
       "<style scoped>\n",
       "    .dataframe tbody tr th:only-of-type {\n",
       "        vertical-align: middle;\n",
       "    }\n",
       "\n",
       "    .dataframe tbody tr th {\n",
       "        vertical-align: top;\n",
       "    }\n",
       "\n",
       "    .dataframe thead th {\n",
       "        text-align: right;\n",
       "    }\n",
       "</style>\n",
       "<table border=\"1\" class=\"dataframe\">\n",
       "  <thead>\n",
       "    <tr style=\"text-align: right;\">\n",
       "      <th></th>\n",
       "      <th>구매금액</th>\n",
       "      <th>상품배치</th>\n",
       "      <th>구매여부</th>\n",
       "    </tr>\n",
       "    <tr>\n",
       "      <th>고객ID</th>\n",
       "      <th></th>\n",
       "      <th></th>\n",
       "      <th></th>\n",
       "    </tr>\n",
       "  </thead>\n",
       "  <tbody>\n",
       "    <tr>\n",
       "      <th>C-1</th>\n",
       "      <td>20459</td>\n",
       "      <td>A</td>\n",
       "      <td>1</td>\n",
       "    </tr>\n",
       "    <tr>\n",
       "      <th>C-2</th>\n",
       "      <td>0</td>\n",
       "      <td>A</td>\n",
       "      <td>0</td>\n",
       "    </tr>\n",
       "    <tr>\n",
       "      <th>C-3</th>\n",
       "      <td>19726</td>\n",
       "      <td>A</td>\n",
       "      <td>1</td>\n",
       "    </tr>\n",
       "    <tr>\n",
       "      <th>C-4</th>\n",
       "      <td>0</td>\n",
       "      <td>A</td>\n",
       "      <td>0</td>\n",
       "    </tr>\n",
       "    <tr>\n",
       "      <th>C-5</th>\n",
       "      <td>19049</td>\n",
       "      <td>A</td>\n",
       "      <td>1</td>\n",
       "    </tr>\n",
       "  </tbody>\n",
       "</table>\n",
       "</div>"
      ],
      "text/plain": [
       "       구매금액 상품배치  구매여부\n",
       "고객ID                  \n",
       "C-1   20459    A     1\n",
       "C-2       0    A     0\n",
       "C-3   19726    A     1\n",
       "C-4       0    A     0\n",
       "C-5   19049    A     1"
      ]
     },
     "execution_count": 24,
     "metadata": {},
     "output_type": "execute_result"
    }
   ],
   "source": [
    "# 데이터 변환\n",
    "placement_A['상품배치'] = 'A'\n",
    "placement_B['상품배치'] = 'B'\n",
    "placement_C['상품배치'] = 'C'\n",
    "\n",
    "# A,B,C index 겹치지 않음\n",
    "placement = pd.concat([placement_A, placement_B, placement_C], axis = 0, ignore_index = False)\n",
    "placement['구매여부'] = (placement['구매금액'] != 0).astype(int)\n",
    "placement.head()"
   ]
  },
  {
   "cell_type": "code",
   "execution_count": 25,
   "metadata": {},
   "outputs": [
    {
     "data": {
      "text/html": [
       "<div>\n",
       "<style scoped>\n",
       "    .dataframe tbody tr th:only-of-type {\n",
       "        vertical-align: middle;\n",
       "    }\n",
       "\n",
       "    .dataframe tbody tr th {\n",
       "        vertical-align: top;\n",
       "    }\n",
       "\n",
       "    .dataframe thead th {\n",
       "        text-align: right;\n",
       "    }\n",
       "</style>\n",
       "<table border=\"1\" class=\"dataframe\">\n",
       "  <thead>\n",
       "    <tr style=\"text-align: right;\">\n",
       "      <th>구매여부</th>\n",
       "      <th>0</th>\n",
       "      <th>1</th>\n",
       "    </tr>\n",
       "    <tr>\n",
       "      <th>상품배치</th>\n",
       "      <th></th>\n",
       "      <th></th>\n",
       "    </tr>\n",
       "  </thead>\n",
       "  <tbody>\n",
       "    <tr>\n",
       "      <th>A</th>\n",
       "      <td>96</td>\n",
       "      <td>102</td>\n",
       "    </tr>\n",
       "    <tr>\n",
       "      <th>B</th>\n",
       "      <td>92</td>\n",
       "      <td>68</td>\n",
       "    </tr>\n",
       "    <tr>\n",
       "      <th>C</th>\n",
       "      <td>89</td>\n",
       "      <td>59</td>\n",
       "    </tr>\n",
       "  </tbody>\n",
       "</table>\n",
       "</div>"
      ],
      "text/plain": [
       "구매여부   0    1\n",
       "상품배치         \n",
       "A     96  102\n",
       "B     92   68\n",
       "C     89   59"
      ]
     },
     "execution_count": 25,
     "metadata": {},
     "output_type": "execute_result"
    }
   ],
   "source": [
    "# 교차 테이블 생성\n",
    "cross_table = pd.crosstab(placement['상품배치'], placement['구매여부'])\n",
    "cross_table"
   ]
  },
  {
   "cell_type": "code",
   "execution_count": 29,
   "metadata": {},
   "outputs": [
    {
     "name": "stdout",
     "output_type": "stream",
     "text": [
      "0.0686402428247769\n"
     ]
    }
   ],
   "source": [
    "# 카이제곱 검정\n",
    "obs = cross_table.values\n",
    "statistics, pvalue, dof, expected = chi2_contingency(obs)\n",
    "print(pvalue) # pvalue가 0.06으로 구매여부와 상품배치에는 관계가 있다고 보기 힘듦"
   ]
  },
  {
   "cell_type": "code",
   "execution_count": 31,
   "metadata": {},
   "outputs": [
    {
     "data": {
      "text/html": [
       "<div>\n",
       "<style scoped>\n",
       "    .dataframe tbody tr th:only-of-type {\n",
       "        vertical-align: middle;\n",
       "    }\n",
       "\n",
       "    .dataframe tbody tr th {\n",
       "        vertical-align: top;\n",
       "    }\n",
       "\n",
       "    .dataframe thead th {\n",
       "        text-align: right;\n",
       "    }\n",
       "</style>\n",
       "<table border=\"1\" class=\"dataframe\">\n",
       "  <thead>\n",
       "    <tr style=\"text-align: right;\">\n",
       "      <th>구매여부</th>\n",
       "      <th>0</th>\n",
       "      <th>1</th>\n",
       "    </tr>\n",
       "    <tr>\n",
       "      <th>상품배치</th>\n",
       "      <th></th>\n",
       "      <th></th>\n",
       "    </tr>\n",
       "  </thead>\n",
       "  <tbody>\n",
       "    <tr>\n",
       "      <th>A</th>\n",
       "      <td>108.391304</td>\n",
       "      <td>89.608696</td>\n",
       "    </tr>\n",
       "    <tr>\n",
       "      <th>B</th>\n",
       "      <td>87.588933</td>\n",
       "      <td>72.411067</td>\n",
       "    </tr>\n",
       "    <tr>\n",
       "      <th>C</th>\n",
       "      <td>81.019763</td>\n",
       "      <td>66.980237</td>\n",
       "    </tr>\n",
       "  </tbody>\n",
       "</table>\n",
       "</div>"
      ],
      "text/plain": [
       "구매여부           0          1\n",
       "상품배치                       \n",
       "A     108.391304  89.608696\n",
       "B      87.588933  72.411067\n",
       "C      81.019763  66.980237"
      ]
     },
     "execution_count": 31,
     "metadata": {},
     "output_type": "execute_result"
    }
   ],
   "source": [
    "# 기대값\n",
    "pd.DataFrame(expected, columns = cross_table.columns, index = cross_table.index)"
   ]
  },
  {
   "cell_type": "markdown",
   "metadata": {},
   "source": [
    "#### Step 3. 사이트맵 구성에 따른 체류 시간 차이 분석"
   ]
  },
  {
   "cell_type": "code",
   "execution_count": 32,
   "metadata": {},
   "outputs": [
    {
     "data": {
      "text/html": [
       "<div>\n",
       "<style scoped>\n",
       "    .dataframe tbody tr th:only-of-type {\n",
       "        vertical-align: middle;\n",
       "    }\n",
       "\n",
       "    .dataframe tbody tr th {\n",
       "        vertical-align: top;\n",
       "    }\n",
       "\n",
       "    .dataframe thead th {\n",
       "        text-align: right;\n",
       "    }\n",
       "</style>\n",
       "<table border=\"1\" class=\"dataframe\">\n",
       "  <thead>\n",
       "    <tr style=\"text-align: right;\">\n",
       "      <th></th>\n",
       "      <th>고객ID</th>\n",
       "      <th>체류시간(분)</th>\n",
       "    </tr>\n",
       "  </thead>\n",
       "  <tbody>\n",
       "    <tr>\n",
       "      <th>0</th>\n",
       "      <td>C-508</td>\n",
       "      <td>9</td>\n",
       "    </tr>\n",
       "    <tr>\n",
       "      <th>1</th>\n",
       "      <td>C-509</td>\n",
       "      <td>8</td>\n",
       "    </tr>\n",
       "    <tr>\n",
       "      <th>2</th>\n",
       "      <td>C-510</td>\n",
       "      <td>7</td>\n",
       "    </tr>\n",
       "    <tr>\n",
       "      <th>3</th>\n",
       "      <td>C-511</td>\n",
       "      <td>9</td>\n",
       "    </tr>\n",
       "    <tr>\n",
       "      <th>4</th>\n",
       "      <td>C-512</td>\n",
       "      <td>10</td>\n",
       "    </tr>\n",
       "  </tbody>\n",
       "</table>\n",
       "</div>"
      ],
      "text/plain": [
       "    고객ID  체류시간(분)\n",
       "0  C-508        9\n",
       "1  C-509        8\n",
       "2  C-510        7\n",
       "3  C-511        9\n",
       "4  C-512       10"
      ]
     },
     "execution_count": 32,
     "metadata": {},
     "output_type": "execute_result"
    }
   ],
   "source": [
    "sitemap_A = pd.read_csv(\"사이트맵_A.csv\", engine = \"python\")\n",
    "sitemap_A.head()"
   ]
  },
  {
   "cell_type": "code",
   "execution_count": 33,
   "metadata": {},
   "outputs": [
    {
     "data": {
      "text/html": [
       "<div>\n",
       "<style scoped>\n",
       "    .dataframe tbody tr th:only-of-type {\n",
       "        vertical-align: middle;\n",
       "    }\n",
       "\n",
       "    .dataframe tbody tr th {\n",
       "        vertical-align: top;\n",
       "    }\n",
       "\n",
       "    .dataframe thead th {\n",
       "        text-align: right;\n",
       "    }\n",
       "</style>\n",
       "<table border=\"1\" class=\"dataframe\">\n",
       "  <thead>\n",
       "    <tr style=\"text-align: right;\">\n",
       "      <th></th>\n",
       "      <th>고객ID</th>\n",
       "      <th>체류시간(분)</th>\n",
       "    </tr>\n",
       "  </thead>\n",
       "  <tbody>\n",
       "    <tr>\n",
       "      <th>0</th>\n",
       "      <td>C-696</td>\n",
       "      <td>10</td>\n",
       "    </tr>\n",
       "    <tr>\n",
       "      <th>1</th>\n",
       "      <td>C-697</td>\n",
       "      <td>11</td>\n",
       "    </tr>\n",
       "    <tr>\n",
       "      <th>2</th>\n",
       "      <td>C-698</td>\n",
       "      <td>12</td>\n",
       "    </tr>\n",
       "    <tr>\n",
       "      <th>3</th>\n",
       "      <td>C-699</td>\n",
       "      <td>10</td>\n",
       "    </tr>\n",
       "    <tr>\n",
       "      <th>4</th>\n",
       "      <td>C-700</td>\n",
       "      <td>8</td>\n",
       "    </tr>\n",
       "  </tbody>\n",
       "</table>\n",
       "</div>"
      ],
      "text/plain": [
       "    고객ID  체류시간(분)\n",
       "0  C-696       10\n",
       "1  C-697       11\n",
       "2  C-698       12\n",
       "3  C-699       10\n",
       "4  C-700        8"
      ]
     },
     "execution_count": 33,
     "metadata": {},
     "output_type": "execute_result"
    }
   ],
   "source": [
    "sitemap_B = pd.read_csv(\"사이트맵_B.csv\", engine = \"python\")\n",
    "sitemap_B.head()"
   ]
  },
  {
   "cell_type": "code",
   "execution_count": 34,
   "metadata": {},
   "outputs": [
    {
     "data": {
      "text/html": [
       "<div>\n",
       "<style scoped>\n",
       "    .dataframe tbody tr th:only-of-type {\n",
       "        vertical-align: middle;\n",
       "    }\n",
       "\n",
       "    .dataframe tbody tr th {\n",
       "        vertical-align: top;\n",
       "    }\n",
       "\n",
       "    .dataframe thead th {\n",
       "        text-align: right;\n",
       "    }\n",
       "</style>\n",
       "<table border=\"1\" class=\"dataframe\">\n",
       "  <thead>\n",
       "    <tr style=\"text-align: right;\">\n",
       "      <th></th>\n",
       "      <th>고객ID</th>\n",
       "      <th>체류시간(분)</th>\n",
       "    </tr>\n",
       "  </thead>\n",
       "  <tbody>\n",
       "    <tr>\n",
       "      <th>0</th>\n",
       "      <td>C-820</td>\n",
       "      <td>8</td>\n",
       "    </tr>\n",
       "    <tr>\n",
       "      <th>1</th>\n",
       "      <td>C-821</td>\n",
       "      <td>11</td>\n",
       "    </tr>\n",
       "    <tr>\n",
       "      <th>2</th>\n",
       "      <td>C-822</td>\n",
       "      <td>10</td>\n",
       "    </tr>\n",
       "    <tr>\n",
       "      <th>3</th>\n",
       "      <td>C-823</td>\n",
       "      <td>11</td>\n",
       "    </tr>\n",
       "    <tr>\n",
       "      <th>4</th>\n",
       "      <td>C-824</td>\n",
       "      <td>9</td>\n",
       "    </tr>\n",
       "  </tbody>\n",
       "</table>\n",
       "</div>"
      ],
      "text/plain": [
       "    고객ID  체류시간(분)\n",
       "0  C-820        8\n",
       "1  C-821       11\n",
       "2  C-822       10\n",
       "3  C-823       11\n",
       "4  C-824        9"
      ]
     },
     "execution_count": 34,
     "metadata": {},
     "output_type": "execute_result"
    }
   ],
   "source": [
    "sitemap_C = pd.read_csv(\"사이트맵_C.csv\", engine = \"python\")\n",
    "sitemap_C.head()"
   ]
  },
  {
   "cell_type": "code",
   "execution_count": 35,
   "metadata": {},
   "outputs": [],
   "source": [
    "sitemap_A_time = sitemap_A['체류시간(분)'].values\n",
    "sitemap_B_time = sitemap_B['체류시간(분)'].values\n",
    "sitemap_C_time = sitemap_C['체류시간(분)'].values"
   ]
  },
  {
   "cell_type": "code",
   "execution_count": 36,
   "metadata": {},
   "outputs": [
    {
     "name": "stdout",
     "output_type": "stream",
     "text": [
      "사이트 맵 A의 체류시간 평균: 9.404\n",
      "사이트 맵 B의 체류시간 평균: 9.831\n",
      "사이트 맵 C의 체류시간 평균: 9.514\n"
     ]
    }
   ],
   "source": [
    "A_mean = sitemap_A_time.mean()\n",
    "B_mean = sitemap_B_time.mean()\n",
    "C_mean = sitemap_C_time.mean()\n",
    "\n",
    "print(\"사이트 맵 A의 체류시간 평균: {}\\n사이트 맵 B의 체류시간 평균: {}\\n사이트 맵 C의 체류시간 평균: {}\".format(round(A_mean, 3), round(B_mean, 3), round(C_mean, 3)))"
   ]
  },
  {
   "cell_type": "code",
   "execution_count": 37,
   "metadata": {},
   "outputs": [
    {
     "data": {
      "text/plain": [
       "Text(0, 0.5, '체류시간')"
      ]
     },
     "execution_count": 37,
     "metadata": {},
     "output_type": "execute_result"
    },
    {
     "data": {
      "image/png": "[encoded data removed]",
      "text/plain": [
       "<Figure size 1440x360 with 1 Axes>"
      ]
     },
     "metadata": {
      "needs_background": "light"
     },
     "output_type": "display_data"
    }
   ],
   "source": [
    "plt.boxplot([sitemap_A_time, sitemap_B_time, sitemap_C_time])\n",
    "plt.xticks([1, 2, 3], ['사이트맵 A', '사이트맵 B', '사이트맵 C'])\n",
    "plt.ylabel(\"체류시간\")\n",
    "\n",
    "# 각 사이트맵 별 체류시간의 평균은 비슷하지만\n",
    "# 체류시간의 편차: A < B < C\n",
    "# boxplot 그래프를 참고해서 편차가 큰 게 (조금이라도 오래 체류) 좋은 것인지 아님 작은 게 좋은 것인지 판단"
   ]
  },
  {
   "cell_type": "code",
   "execution_count": 38,
   "metadata": {},
   "outputs": [
    {
     "name": "stdout",
     "output_type": "stream",
     "text": [
      "KstestResult(statistic=0.9999999990134123, pvalue=0.0)\n",
      "KstestResult(statistic=0.9999997133484281, pvalue=0.0)\n",
      "KstestResult(statistic=0.9891262924445604, pvalue=1.320331854479069e-206)\n"
     ]
    }
   ],
   "source": [
    "# 각 데이터가 정규분포를 따름을 확인\n",
    "from scipy.stats import *\n",
    "\n",
    "print(kstest(sitemap_A_time, 'norm'))\n",
    "print(kstest(sitemap_B_time, 'norm'))\n",
    "print(kstest(sitemap_C_time, 'norm'))"
   ]
  },
  {
   "cell_type": "code",
   "execution_count": 39,
   "metadata": {},
   "outputs": [
    {
     "name": "stdout",
     "output_type": "stream",
     "text": [
      "F_onewayResult(statistic=1.6538817694924581, pvalue=0.19256727851054653)\n"
     ]
    }
   ],
   "source": [
    "# 일원분산분석 수행: p-value가 거의 0에 수렴X => A, B, C의 평균은 유의한 차이가 존재하지 않음을 확인\n",
    "print(f_oneway(sitemap_A_time, sitemap_B_time, sitemap_C_time))"
   ]
  },
  {
   "cell_type": "markdown",
   "metadata": {},
   "source": [
    "#### Step 4. 할인 쿠폰의 효과 분석"
   ]
  },
  {
   "cell_type": "code",
   "execution_count": 40,
   "metadata": {},
   "outputs": [
    {
     "data": {
      "text/html": [
       "<div>\n",
       "<style scoped>\n",
       "    .dataframe tbody tr th:only-of-type {\n",
       "        vertical-align: middle;\n",
       "    }\n",
       "\n",
       "    .dataframe tbody tr th {\n",
       "        vertical-align: top;\n",
       "    }\n",
       "\n",
       "    .dataframe thead th {\n",
       "        text-align: right;\n",
       "    }\n",
       "</style>\n",
       "<table border=\"1\" class=\"dataframe\">\n",
       "  <thead>\n",
       "    <tr style=\"text-align: right;\">\n",
       "      <th></th>\n",
       "      <th>고객ID</th>\n",
       "      <th>발행전 구매 횟수</th>\n",
       "      <th>발행후 구매 횟수</th>\n",
       "    </tr>\n",
       "  </thead>\n",
       "  <tbody>\n",
       "    <tr>\n",
       "      <th>0</th>\n",
       "      <td>C-925</td>\n",
       "      <td>3</td>\n",
       "      <td>1</td>\n",
       "    </tr>\n",
       "    <tr>\n",
       "      <th>1</th>\n",
       "      <td>C-926</td>\n",
       "      <td>0</td>\n",
       "      <td>0</td>\n",
       "    </tr>\n",
       "    <tr>\n",
       "      <th>2</th>\n",
       "      <td>C-927</td>\n",
       "      <td>0</td>\n",
       "      <td>3</td>\n",
       "    </tr>\n",
       "    <tr>\n",
       "      <th>3</th>\n",
       "      <td>C-928</td>\n",
       "      <td>0</td>\n",
       "      <td>4</td>\n",
       "    </tr>\n",
       "    <tr>\n",
       "      <th>4</th>\n",
       "      <td>C-929</td>\n",
       "      <td>4</td>\n",
       "      <td>4</td>\n",
       "    </tr>\n",
       "  </tbody>\n",
       "</table>\n",
       "</div>"
      ],
      "text/plain": [
       "    고객ID  발행전 구매 횟수  발행후 구매 횟수\n",
       "0  C-925          3          1\n",
       "1  C-926          0          0\n",
       "2  C-927          0          3\n",
       "3  C-928          0          4\n",
       "4  C-929          4          4"
      ]
     },
     "execution_count": 40,
     "metadata": {},
     "output_type": "execute_result"
    }
   ],
   "source": [
    "df = pd.read_csv(\"할인쿠폰발행효과.csv\", engine = \"python\")\n",
    "df.head()\n",
    "\n",
    "# 특정 실험 및 조치 등의 효과가 유의한지 확인 => 쌍체 표본 t검정"
   ]
  },
  {
   "cell_type": "code",
   "execution_count": 41,
   "metadata": {},
   "outputs": [
    {
     "data": {
      "text/plain": [
       "count    154.000000\n",
       "mean       1.259740\n",
       "std        2.210507\n",
       "min       -3.000000\n",
       "25%        0.000000\n",
       "50%        1.000000\n",
       "75%        3.000000\n",
       "max        6.000000\n",
       "dtype: float64"
      ]
     },
     "execution_count": 41,
     "metadata": {},
     "output_type": "execute_result"
    }
   ],
   "source": [
    "# 발행 전후 구매횟수 차이에 대한 통계 분석\n",
    "(df['발행후 구매 횟수'] - df['발행전 구매 횟수']).describe()"
   ]
  },
  {
   "cell_type": "code",
   "execution_count": 43,
   "metadata": {},
   "outputs": [
    {
     "data": {
      "text/plain": [
       "Text(0, 0.5, '구매 횟수')"
      ]
     },
     "execution_count": 43,
     "metadata": {},
     "output_type": "execute_result"
    },
    {
     "data": {
      "image/png": "[encoded data removed]",
      "text/plain": [
       "<Figure size 1440x360 with 1 Axes>"
      ]
     },
     "metadata": {
      "needs_background": "light"
     },
     "output_type": "display_data"
    }
   ],
   "source": [
    "plt.boxplot([df['발행전 구매 횟수'], df['발행후 구매 횟수']])\n",
    "plt.xticks([1, 2], ['발행 전', '발행 후'])\n",
    "plt.ylabel(\"구매 횟수\")"
   ]
  },
  {
   "cell_type": "code",
   "execution_count": 44,
   "metadata": {},
   "outputs": [
    {
     "data": {
      "text/plain": [
       "KstestResult(statistic=0.4253018161037688, pvalue=8.597340234980609e-26)"
      ]
     },
     "execution_count": 44,
     "metadata": {},
     "output_type": "execute_result"
    }
   ],
   "source": [
    "# 정규성 검정\n",
    "kstest(df['발행후 구매 횟수'] - df['발행전 구매 횟수'], 'norm')"
   ]
  },
  {
   "cell_type": "code",
   "execution_count": 45,
   "metadata": {},
   "outputs": [
    {
     "data": {
      "text/plain": [
       "Ttest_relResult(statistic=7.07211673728211, pvalue=5.104217839308897e-11)"
      ]
     },
     "execution_count": 45,
     "metadata": {},
     "output_type": "execute_result"
    }
   ],
   "source": [
    "# 결과가 유의미하다 => 발행후 구매 횟수가 더 늘 것이다\n",
    "ttest_rel(df['발행후 구매 횟수'], df['발행전 구매 횟수'])"
   ]
  },
  {
   "cell_type": "markdown",
   "metadata": {},
   "source": [
    "#### Step 5. 체류 시간과 구매 금액 간 관계 분석"
   ]
  },
  {
   "cell_type": "code",
   "execution_count": 46,
   "metadata": {},
   "outputs": [
    {
     "data": {
      "text/html": [
       "<div>\n",
       "<style scoped>\n",
       "    .dataframe tbody tr th:only-of-type {\n",
       "        vertical-align: middle;\n",
       "    }\n",
       "\n",
       "    .dataframe tbody tr th {\n",
       "        vertical-align: top;\n",
       "    }\n",
       "\n",
       "    .dataframe thead th {\n",
       "        text-align: right;\n",
       "    }\n",
       "</style>\n",
       "<table border=\"1\" class=\"dataframe\">\n",
       "  <thead>\n",
       "    <tr style=\"text-align: right;\">\n",
       "      <th></th>\n",
       "      <th>고객ID</th>\n",
       "      <th>구매금액</th>\n",
       "      <th>체류시간</th>\n",
       "    </tr>\n",
       "  </thead>\n",
       "  <tbody>\n",
       "    <tr>\n",
       "      <th>0</th>\n",
       "      <td>C-1079</td>\n",
       "      <td>78625</td>\n",
       "      <td>9</td>\n",
       "    </tr>\n",
       "    <tr>\n",
       "      <th>1</th>\n",
       "      <td>C-1080</td>\n",
       "      <td>0</td>\n",
       "      <td>9</td>\n",
       "    </tr>\n",
       "    <tr>\n",
       "      <th>2</th>\n",
       "      <td>C-1081</td>\n",
       "      <td>105173</td>\n",
       "      <td>12</td>\n",
       "    </tr>\n",
       "    <tr>\n",
       "      <th>3</th>\n",
       "      <td>C-1082</td>\n",
       "      <td>0</td>\n",
       "      <td>14</td>\n",
       "    </tr>\n",
       "    <tr>\n",
       "      <th>4</th>\n",
       "      <td>C-1083</td>\n",
       "      <td>0</td>\n",
       "      <td>10</td>\n",
       "    </tr>\n",
       "  </tbody>\n",
       "</table>\n",
       "</div>"
      ],
      "text/plain": [
       "     고객ID    구매금액  체류시간\n",
       "0  C-1079   78625     9\n",
       "1  C-1080       0     9\n",
       "2  C-1081  105173    12\n",
       "3  C-1082       0    14\n",
       "4  C-1083       0    10"
      ]
     },
     "execution_count": 46,
     "metadata": {},
     "output_type": "execute_result"
    }
   ],
   "source": [
    "df = pd.read_csv(\"체류시간_구매금액.csv\", engine = \"python\")\n",
    "df.head()"
   ]
  },
  {
   "cell_type": "code",
   "execution_count": 47,
   "metadata": {},
   "outputs": [
    {
     "data": {
      "text/plain": [
       "<matplotlib.axes._subplots.AxesSubplot at 0x1bc88137048>"
      ]
     },
     "execution_count": 47,
     "metadata": {},
     "output_type": "execute_result"
    },
    {
     "data": {
      "image/png": "[encoded data removed]",
      "text/plain": [
       "<Figure size 1440x360 with 1 Axes>"
      ]
     },
     "metadata": {
      "needs_background": "light"
     },
     "output_type": "display_data"
    }
   ],
   "source": [
    "df.plot(kind = 'scatter', x = '체류시간', y = '구매금액')\n",
    "\n",
    "# 전반적으로 체류시간이 길 수록 구매금액이 많은 것으로 보여짐"
   ]
  },
  {
   "cell_type": "code",
   "execution_count": 48,
   "metadata": {},
   "outputs": [
    {
     "data": {
      "text/html": [
       "<div>\n",
       "<style scoped>\n",
       "    .dataframe tbody tr th:only-of-type {\n",
       "        vertical-align: middle;\n",
       "    }\n",
       "\n",
       "    .dataframe tbody tr th {\n",
       "        vertical-align: top;\n",
       "    }\n",
       "\n",
       "    .dataframe thead th {\n",
       "        text-align: right;\n",
       "    }\n",
       "</style>\n",
       "<table border=\"1\" class=\"dataframe\">\n",
       "  <thead>\n",
       "    <tr style=\"text-align: right;\">\n",
       "      <th></th>\n",
       "      <th>구매금액</th>\n",
       "      <th>체류시간</th>\n",
       "    </tr>\n",
       "  </thead>\n",
       "  <tbody>\n",
       "    <tr>\n",
       "      <th>구매금액</th>\n",
       "      <td>1.000000</td>\n",
       "      <td>0.320852</td>\n",
       "    </tr>\n",
       "    <tr>\n",
       "      <th>체류시간</th>\n",
       "      <td>0.320852</td>\n",
       "      <td>1.000000</td>\n",
       "    </tr>\n",
       "  </tbody>\n",
       "</table>\n",
       "</div>"
      ],
      "text/plain": [
       "          구매금액      체류시간\n",
       "구매금액  1.000000  0.320852\n",
       "체류시간  0.320852  1.000000"
      ]
     },
     "execution_count": 48,
     "metadata": {},
     "output_type": "execute_result"
    }
   ],
   "source": [
    "# 선형 관계가 있는가\n",
    "df.corr(method = 'pearson')"
   ]
  },
  {
   "cell_type": "code",
   "execution_count": 49,
   "metadata": {},
   "outputs": [
    {
     "data": {
      "text/html": [
       "<div>\n",
       "<style scoped>\n",
       "    .dataframe tbody tr th:only-of-type {\n",
       "        vertical-align: middle;\n",
       "    }\n",
       "\n",
       "    .dataframe tbody tr th {\n",
       "        vertical-align: top;\n",
       "    }\n",
       "\n",
       "    .dataframe thead th {\n",
       "        text-align: right;\n",
       "    }\n",
       "</style>\n",
       "<table border=\"1\" class=\"dataframe\">\n",
       "  <thead>\n",
       "    <tr style=\"text-align: right;\">\n",
       "      <th></th>\n",
       "      <th>구매금액</th>\n",
       "      <th>체류시간</th>\n",
       "    </tr>\n",
       "  </thead>\n",
       "  <tbody>\n",
       "    <tr>\n",
       "      <th>구매금액</th>\n",
       "      <td>1.000000</td>\n",
       "      <td>0.229853</td>\n",
       "    </tr>\n",
       "    <tr>\n",
       "      <th>체류시간</th>\n",
       "      <td>0.229853</td>\n",
       "      <td>1.000000</td>\n",
       "    </tr>\n",
       "  </tbody>\n",
       "</table>\n",
       "</div>"
      ],
      "text/plain": [
       "          구매금액      체류시간\n",
       "구매금액  1.000000  0.229853\n",
       "체류시간  0.229853  1.000000"
      ]
     },
     "execution_count": 49,
     "metadata": {},
     "output_type": "execute_result"
    }
   ],
   "source": [
    "# 순위 관계가 있는가\n",
    "# 체류 시간이 무조건 길다고해서 구매 금액이 1등이냐? => 아닌 것 같음\n",
    "df.corr(method = 'spearman')"
   ]
  },
  {
   "cell_type": "code",
   "execution_count": 50,
   "metadata": {},
   "outputs": [
    {
     "data": {
      "text/html": [
       "<div>\n",
       "<style scoped>\n",
       "    .dataframe tbody tr th:only-of-type {\n",
       "        vertical-align: middle;\n",
       "    }\n",
       "\n",
       "    .dataframe tbody tr th {\n",
       "        vertical-align: top;\n",
       "    }\n",
       "\n",
       "    .dataframe thead th {\n",
       "        text-align: right;\n",
       "    }\n",
       "</style>\n",
       "<table border=\"1\" class=\"dataframe\">\n",
       "  <thead>\n",
       "    <tr style=\"text-align: right;\">\n",
       "      <th></th>\n",
       "      <th>구매금액</th>\n",
       "      <th>체류시간</th>\n",
       "    </tr>\n",
       "  </thead>\n",
       "  <tbody>\n",
       "    <tr>\n",
       "      <th>구매금액</th>\n",
       "      <td>1.000000</td>\n",
       "      <td>0.924526</td>\n",
       "    </tr>\n",
       "    <tr>\n",
       "      <th>체류시간</th>\n",
       "      <td>0.924526</td>\n",
       "      <td>1.000000</td>\n",
       "    </tr>\n",
       "  </tbody>\n",
       "</table>\n",
       "</div>"
      ],
      "text/plain": [
       "          구매금액      체류시간\n",
       "구매금액  1.000000  0.924526\n",
       "체류시간  0.924526  1.000000"
      ]
     },
     "execution_count": 50,
     "metadata": {},
     "output_type": "execute_result"
    }
   ],
   "source": [
    "# 구매금액이 0원 제외하고 상관관계 분석\n",
    "df_without_zero = df.loc[df['구매금액'] != 0]\n",
    "df_without_zero.corr(method = 'pearson')"
   ]
  },
  {
   "cell_type": "code",
   "execution_count": 51,
   "metadata": {},
   "outputs": [
    {
     "data": {
      "text/html": [
       "<div>\n",
       "<style scoped>\n",
       "    .dataframe tbody tr th:only-of-type {\n",
       "        vertical-align: middle;\n",
       "    }\n",
       "\n",
       "    .dataframe tbody tr th {\n",
       "        vertical-align: top;\n",
       "    }\n",
       "\n",
       "    .dataframe thead th {\n",
       "        text-align: right;\n",
       "    }\n",
       "</style>\n",
       "<table border=\"1\" class=\"dataframe\">\n",
       "  <thead>\n",
       "    <tr style=\"text-align: right;\">\n",
       "      <th></th>\n",
       "      <th>구매금액</th>\n",
       "      <th>체류시간</th>\n",
       "    </tr>\n",
       "  </thead>\n",
       "  <tbody>\n",
       "    <tr>\n",
       "      <th>구매금액</th>\n",
       "      <td>1.000000</td>\n",
       "      <td>0.938099</td>\n",
       "    </tr>\n",
       "    <tr>\n",
       "      <th>체류시간</th>\n",
       "      <td>0.938099</td>\n",
       "      <td>1.000000</td>\n",
       "    </tr>\n",
       "  </tbody>\n",
       "</table>\n",
       "</div>"
      ],
      "text/plain": [
       "          구매금액      체류시간\n",
       "구매금액  1.000000  0.938099\n",
       "체류시간  0.938099  1.000000"
      ]
     },
     "execution_count": 51,
     "metadata": {},
     "output_type": "execute_result"
    }
   ],
   "source": [
    "df_without_zero.corr(method = 'spearman')"
   ]
  },
  {
   "cell_type": "markdown",
   "metadata": {},
   "source": [
    "#### Step 6. 구매버튼 배치에 따른 구매율 차이 분석"
   ]
  },
  {
   "cell_type": "code",
   "execution_count": 52,
   "metadata": {},
   "outputs": [
    {
     "data": {
      "text/html": [
       "<div>\n",
       "<style scoped>\n",
       "    .dataframe tbody tr th:only-of-type {\n",
       "        vertical-align: middle;\n",
       "    }\n",
       "\n",
       "    .dataframe tbody tr th {\n",
       "        vertical-align: top;\n",
       "    }\n",
       "\n",
       "    .dataframe thead th {\n",
       "        text-align: right;\n",
       "    }\n",
       "</style>\n",
       "<table border=\"1\" class=\"dataframe\">\n",
       "  <thead>\n",
       "    <tr style=\"text-align: right;\">\n",
       "      <th></th>\n",
       "      <th>구매여부</th>\n",
       "      <th>버튼타입</th>\n",
       "      <th>고객 수</th>\n",
       "    </tr>\n",
       "  </thead>\n",
       "  <tbody>\n",
       "    <tr>\n",
       "      <th>0</th>\n",
       "      <td>구매</td>\n",
       "      <td>A</td>\n",
       "      <td>9</td>\n",
       "    </tr>\n",
       "    <tr>\n",
       "      <th>1</th>\n",
       "      <td>NaN</td>\n",
       "      <td>B</td>\n",
       "      <td>9</td>\n",
       "    </tr>\n",
       "    <tr>\n",
       "      <th>2</th>\n",
       "      <td>NaN</td>\n",
       "      <td>C</td>\n",
       "      <td>15</td>\n",
       "    </tr>\n",
       "    <tr>\n",
       "      <th>3</th>\n",
       "      <td>비구매</td>\n",
       "      <td>A</td>\n",
       "      <td>93</td>\n",
       "    </tr>\n",
       "    <tr>\n",
       "      <th>4</th>\n",
       "      <td>NaN</td>\n",
       "      <td>B</td>\n",
       "      <td>85</td>\n",
       "    </tr>\n",
       "  </tbody>\n",
       "</table>\n",
       "</div>"
      ],
      "text/plain": [
       "  구매여부 버튼타입  고객 수\n",
       "0   구매    A     9\n",
       "1  NaN    B     9\n",
       "2  NaN    C    15\n",
       "3  비구매    A    93\n",
       "4  NaN    B    85"
      ]
     },
     "execution_count": 52,
     "metadata": {},
     "output_type": "execute_result"
    }
   ],
   "source": [
    "df = pd.read_excel(\"구매여부_버튼타입_통계.xlsx\")\n",
    "df.head()\n",
    "\n",
    "# NaN: 원 데이터 확인해보니 구매여부를 셀 결합으로 만들어놨음\n",
    "# 즉 NaN은 앞 셀의 구매,비구매 여부와 같음"
   ]
  },
  {
   "cell_type": "code",
   "execution_count": 55,
   "metadata": {},
   "outputs": [
    {
     "data": {
      "text/html": [
       "<div>\n",
       "<style scoped>\n",
       "    .dataframe tbody tr th:only-of-type {\n",
       "        vertical-align: middle;\n",
       "    }\n",
       "\n",
       "    .dataframe tbody tr th {\n",
       "        vertical-align: top;\n",
       "    }\n",
       "\n",
       "    .dataframe thead th {\n",
       "        text-align: right;\n",
       "    }\n",
       "</style>\n",
       "<table border=\"1\" class=\"dataframe\">\n",
       "  <thead>\n",
       "    <tr style=\"text-align: right;\">\n",
       "      <th></th>\n",
       "      <th>구매여부</th>\n",
       "      <th>버튼타입</th>\n",
       "      <th>고객 수</th>\n",
       "    </tr>\n",
       "  </thead>\n",
       "  <tbody>\n",
       "    <tr>\n",
       "      <th>0</th>\n",
       "      <td>구매</td>\n",
       "      <td>A</td>\n",
       "      <td>9</td>\n",
       "    </tr>\n",
       "    <tr>\n",
       "      <th>1</th>\n",
       "      <td>구매</td>\n",
       "      <td>B</td>\n",
       "      <td>9</td>\n",
       "    </tr>\n",
       "    <tr>\n",
       "      <th>2</th>\n",
       "      <td>구매</td>\n",
       "      <td>C</td>\n",
       "      <td>15</td>\n",
       "    </tr>\n",
       "    <tr>\n",
       "      <th>3</th>\n",
       "      <td>비구매</td>\n",
       "      <td>A</td>\n",
       "      <td>93</td>\n",
       "    </tr>\n",
       "    <tr>\n",
       "      <th>4</th>\n",
       "      <td>비구매</td>\n",
       "      <td>B</td>\n",
       "      <td>85</td>\n",
       "    </tr>\n",
       "  </tbody>\n",
       "</table>\n",
       "</div>"
      ],
      "text/plain": [
       "  구매여부 버튼타입  고객 수\n",
       "0   구매    A     9\n",
       "1   구매    B     9\n",
       "2   구매    C    15\n",
       "3  비구매    A    93\n",
       "4  비구매    B    85"
      ]
     },
     "execution_count": 55,
     "metadata": {},
     "output_type": "execute_result"
    }
   ],
   "source": [
    "df.fillna(method = 'ffill', inplace = True)\n",
    "df.head()"
   ]
  },
  {
   "cell_type": "code",
   "execution_count": 56,
   "metadata": {},
   "outputs": [
    {
     "data": {
      "text/html": [
       "<div>\n",
       "<style scoped>\n",
       "    .dataframe tbody tr th:only-of-type {\n",
       "        vertical-align: middle;\n",
       "    }\n",
       "\n",
       "    .dataframe tbody tr th {\n",
       "        vertical-align: top;\n",
       "    }\n",
       "\n",
       "    .dataframe thead th {\n",
       "        text-align: right;\n",
       "    }\n",
       "</style>\n",
       "<table border=\"1\" class=\"dataframe\">\n",
       "  <thead>\n",
       "    <tr style=\"text-align: right;\">\n",
       "      <th>버튼타입</th>\n",
       "      <th>A</th>\n",
       "      <th>B</th>\n",
       "      <th>C</th>\n",
       "    </tr>\n",
       "    <tr>\n",
       "      <th>구매여부</th>\n",
       "      <th></th>\n",
       "      <th></th>\n",
       "      <th></th>\n",
       "    </tr>\n",
       "  </thead>\n",
       "  <tbody>\n",
       "    <tr>\n",
       "      <th>구매</th>\n",
       "      <td>9</td>\n",
       "      <td>9</td>\n",
       "      <td>15</td>\n",
       "    </tr>\n",
       "    <tr>\n",
       "      <th>비구매</th>\n",
       "      <td>93</td>\n",
       "      <td>85</td>\n",
       "      <td>89</td>\n",
       "    </tr>\n",
       "  </tbody>\n",
       "</table>\n",
       "</div>"
      ],
      "text/plain": [
       "버튼타입   A   B   C\n",
       "구매여부            \n",
       "구매     9   9  15\n",
       "비구매   93  85  89"
      ]
     },
     "execution_count": 56,
     "metadata": {},
     "output_type": "execute_result"
    }
   ],
   "source": [
    "cross_table = pd.pivot_table(df, index = '구매여부', columns = '버튼타입', values = '고객 수')\n",
    "cross_table"
   ]
  },
  {
   "cell_type": "code",
   "execution_count": 57,
   "metadata": {},
   "outputs": [
    {
     "name": "stdout",
     "output_type": "stream",
     "text": [
      "0.38033325575735993\n"
     ]
    }
   ],
   "source": [
    "obs = cross_table.values\n",
    "statistics, pvalue, dof, expected = chi2_contingency(obs)\n",
    "print(pvalue) \n",
    "# pvalue가 0.38로 구매여부와 버튼타입 간에는 관계가 없음을 확인"
   ]
  },
  {
   "cell_type": "code",
   "execution_count": null,
   "metadata": {},
   "outputs": [],
   "source": []
  }
 ],
 "metadata": {
  "kernelspec": {
   "display_name": "Python 3",
   "language": "python",
   "name": "python3"
  },
  "language_info": {
   "codemirror_mode": {
    "name": "ipython",
    "version": 3
   },
   "file_extension": ".py",
   "mimetype": "text/x-python",
   "name": "python",
   "nbconvert_exporter": "python",
   "pygments_lexer": "ipython3",
   "version": "3.7.1"
  }
 },
 "nbformat": 4,
 "nbformat_minor": 4
}
