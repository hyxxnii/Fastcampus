{
 "cells": [
  {
   "cell_type": "markdown",
   "metadata": {},
   "source": [
    "# PyTorch Layer 이해하기"
   ]
  },
  {
   "cell_type": "markdown",
   "metadata": {},
   "source": [
    "# 예제 불러오기"
   ]
  },
  {
   "cell_type": "code",
   "execution_count": 1,
   "metadata": {},
   "outputs": [],
   "source": [
    "import torch\n",
    "from torchvision import datasets, transforms"
   ]
  },
  {
   "cell_type": "code",
   "execution_count": 2,
   "metadata": {},
   "outputs": [],
   "source": [
    "import numpy as np\n",
    "import matplotlib.pyplot as plt\n",
    "\n",
    "%matplotlib inline"
   ]
  },
  {
   "cell_type": "code",
   "execution_count": 3,
   "metadata": {},
   "outputs": [],
   "source": [
    "train_loader = torch.utils.data.DataLoader(\n",
    "    datasets.MNIST('dataset', train=True, download=True,\n",
    "                   transform=transforms.Compose([\n",
    "                       transforms.ToTensor()\n",
    "                   ])),\n",
    "    batch_size=1)"
   ]
  },
  {
   "cell_type": "code",
   "execution_count": 4,
   "metadata": {},
   "outputs": [],
   "source": [
    "image, label = next(iter(train_loader))"
   ]
  },
  {
   "cell_type": "code",
   "execution_count": 9,
   "metadata": {},
   "outputs": [
    {
     "data": {
      "text/plain": [
       "(torch.Size([1, 1, 28, 28]), torch.Size([1]))"
      ]
     },
     "execution_count": 9,
     "metadata": {},
     "output_type": "execute_result"
    }
   ],
   "source": [
    "image.shape, label.shape"
   ]
  },
  {
   "cell_type": "code",
   "execution_count": 10,
   "metadata": {},
   "outputs": [
    {
     "data": {
      "image/png": "[encoded data removed]",
      "text/plain": [
       "<Figure size 432x288 with 1 Axes>"
      ]
     },
     "metadata": {
      "needs_background": "light"
     },
     "output_type": "display_data"
    }
   ],
   "source": [
    "plt.imshow(image[0,0,:,:], 'gray')\n",
    "plt.show()"
   ]
  },
  {
   "cell_type": "markdown",
   "metadata": {},
   "source": [
    "# 각 Layer별 설명"
   ]
  },
  {
   "cell_type": "markdown",
   "metadata": {},
   "source": [
    "- Network 쌓기 위한 준비"
   ]
  },
  {
   "cell_type": "code",
   "execution_count": 5,
   "metadata": {},
   "outputs": [],
   "source": [
    "import torch\n",
    "import torch.nn as nn # nn은 안에 weight가 있는 것\n",
    "import torch.nn.functional as F # functional은 maxpooling이나 activation 등(weight값이 없는 것)"
   ]
  },
  {
   "cell_type": "markdown",
   "metadata": {},
   "source": [
    "### Convolution"
   ]
  },
  {
   "cell_type": "markdown",
   "metadata": {},
   "source": [
    "- in_channels: 받게 될 channel의 갯수\n",
    "- out_channels: 보내고 싶은 channel의 갯수  \n",
    "- kernel_size: 만들고 싶은 kernel(weights)의 사이즈"
   ]
  },
  {
   "cell_type": "code",
   "execution_count": 11,
   "metadata": {},
   "outputs": [
    {
     "data": {
      "text/plain": [
       "Conv2d(1, 20, kernel_size=(5, 5), stride=(1, 1))"
      ]
     },
     "execution_count": 11,
     "metadata": {},
     "output_type": "execute_result"
    }
   ],
   "source": [
    "nn.Conv2d(in_channels=1, out_channels=20, kernel_size=5, stride=1)\n",
    "# tensorflow와는 조금 다르지, tensorflow에서는 out_channels만 나왔음(얼마나 내보낼 것인지)\n",
    "# PyTorch는 in_channels로 몇 개를 받을 것인지 정해줘야해\n",
    "# 앞에서 채널이 1개였기때문에 (흑백) 1로 설정했음\n",
    "# kernel_size는 전에는 (3,3)이었는데 pytorch 예제에선 (5,5)라 5"
   ]
  },
  {
   "cell_type": "code",
   "execution_count": 13,
   "metadata": {},
   "outputs": [
    {
     "data": {
      "text/plain": [
       "Conv2d(1, 20, kernel_size=(5, 5), stride=(1, 1))"
      ]
     },
     "execution_count": 13,
     "metadata": {},
     "output_type": "execute_result"
    }
   ],
   "source": [
    "layer = nn.Conv2d(1, 20, 5, 1).to(torch.device('cpu'))\n",
    "layer"
   ]
  },
  {
   "cell_type": "markdown",
   "metadata": {},
   "source": [
    "- weight 시각화를 위해 slice하고 numpy화"
   ]
  },
  {
   "cell_type": "code",
   "execution_count": 15,
   "metadata": {},
   "outputs": [
    {
     "data": {
      "text/plain": [
       "torch.Size([20, 1, 5, 5])"
      ]
     },
     "execution_count": 15,
     "metadata": {},
     "output_type": "execute_result"
    }
   ],
   "source": [
    "weight = layer.weight\n",
    "weight.shape"
   ]
  },
  {
   "cell_type": "markdown",
   "metadata": {},
   "source": [
    "- 여기서 weight는 학습 가능한 상태이기 때문에 바로 numpy로 뽑아낼 수 없음\n",
    "- detach() method는 그래프에서 잠깐 빼서 gradient에 영향을 받지 않게 함"
   ]
  },
  {
   "cell_type": "code",
   "execution_count": 16,
   "metadata": {},
   "outputs": [
    {
     "ename": "RuntimeError",
     "evalue": "Can't call numpy() on Variable that requires grad. Use var.detach().numpy() instead.",
     "output_type": "error",
     "traceback": [
      "\u001b[1;31m---------------------------------------------------------------------------\u001b[0m",
      "\u001b[1;31mRuntimeError\u001b[0m                              Traceback (most recent call last)",
      "\u001b[1;32m<ipython-input-16-611266fe6e20>\u001b[0m in \u001b[0;36m<module>\u001b[1;34m\u001b[0m\n\u001b[1;32m----> 1\u001b[1;33m \u001b[0mweight\u001b[0m \u001b[1;33m=\u001b[0m \u001b[0mweight\u001b[0m\u001b[1;33m.\u001b[0m\u001b[0mnumpy\u001b[0m\u001b[1;33m(\u001b[0m\u001b[1;33m)\u001b[0m\u001b[1;33m\u001b[0m\u001b[1;33m\u001b[0m\u001b[0m\n\u001b[0m",
      "\u001b[1;31mRuntimeError\u001b[0m: Can't call numpy() on Variable that requires grad. Use var.detach().numpy() instead."
     ]
    }
   ],
   "source": [
    "weight = weight.numpy()\n",
    "# detach()안해주면 안됨"
   ]
  },
  {
   "cell_type": "code",
   "execution_count": 17,
   "metadata": {},
   "outputs": [],
   "source": [
    "weight = weight.detach().numpy()"
   ]
  },
  {
   "cell_type": "code",
   "execution_count": 18,
   "metadata": {},
   "outputs": [
    {
     "data": {
      "text/plain": [
       "array([[[[-0.06645329,  0.06448726, -0.12705389, -0.09000273,\n",
       "          -0.09869883],\n",
       "         [-0.14863269,  0.12743999,  0.03341718,  0.0508642 ,\n",
       "          -0.16204643],\n",
       "         [-0.09666455, -0.02656642, -0.05512592,  0.01451099,\n",
       "          -0.1603847 ],\n",
       "         [ 0.12239228,  0.10740845, -0.00478561,  0.15303989,\n",
       "          -0.09492171],\n",
       "         [ 0.10666789,  0.14051355,  0.02337618, -0.01452637,\n",
       "           0.1766452 ]]],\n",
       "\n",
       "\n",
       "       [[[-0.08249245,  0.03777108, -0.14979275, -0.08811729,\n",
       "          -0.16327326],\n",
       "         [-0.07290411,  0.04354446, -0.05606285, -0.02109592,\n",
       "           0.12571059],\n",
       "         [ 0.19114028, -0.14823553,  0.16236256, -0.05674188,\n",
       "           0.0602469 ],\n",
       "         [ 0.1832666 ,  0.190071  ,  0.16923912,  0.10554399,\n",
       "           0.10794853],\n",
       "         [ 0.13940312,  0.0701832 ,  0.17510428,  0.01253542,\n",
       "          -0.19794214]]],\n",
       "\n",
       "\n",
       "       [[[ 0.19633187, -0.05573161,  0.0894842 , -0.18945912,\n",
       "           0.07433598],\n",
       "         [-0.15312722, -0.11864591, -0.02374975, -0.19310634,\n",
       "           0.01738378],\n",
       "         [-0.02529395,  0.00407493,  0.09349118,  0.19416885,\n",
       "          -0.08449807],\n",
       "         [ 0.0917999 ,  0.18928026,  0.0713139 , -0.01472394,\n",
       "          -0.13886943],\n",
       "         [-0.14682193, -0.19486253, -0.0064435 , -0.03530309,\n",
       "           0.01139228]]],\n",
       "\n",
       "\n",
       "       [[[-0.06346829,  0.16092117, -0.11524981,  0.17295901,\n",
       "           0.09368964],\n",
       "         [-0.13467303,  0.00503175, -0.15303826, -0.05143991,\n",
       "          -0.16744514],\n",
       "         [-0.060955  ,  0.02660361, -0.10634553, -0.16667454,\n",
       "           0.04753914],\n",
       "         [-0.0759898 ,  0.0632508 ,  0.12616171, -0.19540755,\n",
       "           0.15026812],\n",
       "         [-0.04306205,  0.08469637, -0.14099315, -0.06026688,\n",
       "           0.07672323]]],\n",
       "\n",
       "\n",
       "       [[[-0.18995236, -0.0877981 , -0.15130262,  0.09341885,\n",
       "           0.1429118 ],\n",
       "         [ 0.02286947, -0.03642583, -0.035815  , -0.11785426,\n",
       "          -0.01344776],\n",
       "         [ 0.09293331, -0.03676021,  0.08548452, -0.1732718 ,\n",
       "          -0.08915491],\n",
       "         [ 0.13184457,  0.16760482, -0.09955075,  0.03451915,\n",
       "          -0.06548798],\n",
       "         [-0.1405468 , -0.08639424, -0.11238804,  0.173885  ,\n",
       "          -0.0467329 ]]],\n",
       "\n",
       "\n",
       "       [[[ 0.02842279, -0.05164155, -0.17418145, -0.10858446,\n",
       "           0.16481484],\n",
       "         [ 0.17553769,  0.17165901,  0.11824946, -0.0404512 ,\n",
       "           0.11106361],\n",
       "         [-0.17403464,  0.04995432, -0.12684858,  0.09515311,\n",
       "          -0.16848104],\n",
       "         [-0.09112563, -0.16495886, -0.05408454,  0.1702979 ,\n",
       "           0.10461517],\n",
       "         [-0.04096437,  0.02622929,  0.00325418, -0.02991275,\n",
       "          -0.04631603]]],\n",
       "\n",
       "\n",
       "       [[[-0.09568673,  0.01669188, -0.09090626, -0.15972419,\n",
       "           0.118073  ],\n",
       "         [ 0.11622567, -0.08769782,  0.01158634, -0.17963353,\n",
       "          -0.0268966 ],\n",
       "         [-0.08713885, -0.10345376,  0.02055454,  0.11467417,\n",
       "           0.18715726],\n",
       "         [-0.1342468 , -0.06299464,  0.01718993,  0.06942807,\n",
       "          -0.11645859],\n",
       "         [-0.00645098,  0.03923707,  0.04181549, -0.04756549,\n",
       "           0.13320114]]],\n",
       "\n",
       "\n",
       "       [[[-0.18250561, -0.05651911, -0.07849389,  0.151123  ,\n",
       "           0.19789426],\n",
       "         [ 0.16194405, -0.10939512,  0.09011199, -0.13566262,\n",
       "          -0.10922971],\n",
       "         [-0.11958506,  0.08080445,  0.1470959 , -0.15619779,\n",
       "           0.06020726],\n",
       "         [-0.04325287, -0.02407785,  0.16011412, -0.16456386,\n",
       "           0.08968346],\n",
       "         [-0.04178819, -0.02791147,  0.08793105,  0.12157278,\n",
       "           0.12629135]]],\n",
       "\n",
       "\n",
       "       [[[-0.02604473,  0.11702941, -0.11646366,  0.04638067,\n",
       "           0.13570999],\n",
       "         [ 0.035557  , -0.17518584,  0.06516422, -0.04668939,\n",
       "           0.12562655],\n",
       "         [-0.18197481, -0.1642363 , -0.14333436,  0.15781505,\n",
       "          -0.10718551],\n",
       "         [-0.17352486, -0.08661471,  0.05871214,  0.09163205,\n",
       "           0.09492238],\n",
       "         [-0.06447002, -0.05390504, -0.17026055,  0.01958402,\n",
       "          -0.05721077]]],\n",
       "\n",
       "\n",
       "       [[[ 0.02993922, -0.03326023, -0.14290297, -0.12248385,\n",
       "           0.04910108],\n",
       "         [ 0.17896481,  0.10708822, -0.05536942, -0.18726459,\n",
       "          -0.05406514],\n",
       "         [-0.09881299,  0.16456135,  0.07899781, -0.16941822,\n",
       "          -0.00281677],\n",
       "         [ 0.09977745, -0.08256328, -0.04756752, -0.04806776,\n",
       "           0.00898349],\n",
       "         [ 0.05364494,  0.1857949 , -0.03743389, -0.15929258,\n",
       "           0.19500087]]],\n",
       "\n",
       "\n",
       "       [[[ 0.16047983,  0.11198871, -0.16409226, -0.17462812,\n",
       "           0.17978622],\n",
       "         [-0.11585887, -0.04111214, -0.07353537,  0.12738635,\n",
       "           0.04838888],\n",
       "         [-0.17736638,  0.06412269, -0.04048038,  0.05775501,\n",
       "           0.13234796],\n",
       "         [-0.04445772,  0.13019319,  0.15977813, -0.0434992 ,\n",
       "          -0.14570758],\n",
       "         [ 0.11302193,  0.14021207, -0.00651343,  0.06391959,\n",
       "           0.05367817]]],\n",
       "\n",
       "\n",
       "       [[[-0.13719603,  0.19216974, -0.04190382,  0.18955745,\n",
       "           0.07269414],\n",
       "         [ 0.01753011,  0.10003944, -0.09946113, -0.0186725 ,\n",
       "           0.05497356],\n",
       "         [ 0.17984025,  0.00096583,  0.0584958 , -0.1211622 ,\n",
       "          -0.10883539],\n",
       "         [ 0.17411424,  0.09908582, -0.06563437,  0.01015079,\n",
       "          -0.18646772],\n",
       "         [ 0.07172717, -0.10069142, -0.19051304, -0.19610015,\n",
       "           0.19762792]]],\n",
       "\n",
       "\n",
       "       [[[-0.18288708, -0.16194513, -0.11207464,  0.19877996,\n",
       "          -0.19073728],\n",
       "         [-0.12092459,  0.14825962, -0.01633735, -0.04554117,\n",
       "          -0.05830865],\n",
       "         [-0.05391078, -0.02572599, -0.04700729, -0.04864836,\n",
       "          -0.09008741],\n",
       "         [ 0.05950947, -0.17894726,  0.17027594, -0.19024797,\n",
       "          -0.17034714],\n",
       "         [ 0.02817905,  0.17388104, -0.11037731, -0.05606587,\n",
       "           0.05384044]]],\n",
       "\n",
       "\n",
       "       [[[-0.08014164,  0.04977767,  0.1193925 , -0.13253799,\n",
       "          -0.06430332],\n",
       "         [-0.18703754,  0.09312482,  0.09590043,  0.04674701,\n",
       "           0.13677277],\n",
       "         [-0.15304169, -0.07652717,  0.09942855, -0.12324245,\n",
       "          -0.10512755],\n",
       "         [ 0.08025058, -0.0293624 ,  0.09317134,  0.14823331,\n",
       "          -0.14972   ],\n",
       "         [-0.07259659,  0.07356729,  0.12360953, -0.14095268,\n",
       "           0.14733626]]],\n",
       "\n",
       "\n",
       "       [[[-0.04272561, -0.19999352, -0.02259891, -0.00856376,\n",
       "          -0.00796323],\n",
       "         [-0.17341442,  0.04077163, -0.04657021,  0.08293672,\n",
       "           0.09332816],\n",
       "         [ 0.17968728, -0.13253114, -0.17069738, -0.12593898,\n",
       "           0.1242689 ],\n",
       "         [ 0.03557524, -0.11391061,  0.11635242,  0.14418362,\n",
       "           0.06183513],\n",
       "         [-0.06035569, -0.00988868,  0.08970968, -0.00627705,\n",
       "           0.05310871]]],\n",
       "\n",
       "\n",
       "       [[[ 0.17137663,  0.00390017,  0.09603105, -0.07139404,\n",
       "          -0.15506741],\n",
       "         [ 0.06339197, -0.16347253,  0.09933303,  0.1672353 ,\n",
       "          -0.05290043],\n",
       "         [-0.00122829, -0.03132081, -0.16392939,  0.12981679,\n",
       "           0.10288338],\n",
       "         [-0.1205791 , -0.16509183,  0.01157907,  0.11527108,\n",
       "           0.18040554],\n",
       "         [-0.01948023,  0.0013448 , -0.10570545,  0.18943517,\n",
       "           0.06572272]]],\n",
       "\n",
       "\n",
       "       [[[-0.09741602,  0.11240111,  0.09644867,  0.02829692,\n",
       "           0.05012788],\n",
       "         [-0.14029081, -0.19993055,  0.11712249, -0.1652498 ,\n",
       "           0.14152534],\n",
       "         [ 0.00914375, -0.08742781, -0.00905898, -0.11344905,\n",
       "          -0.09370859],\n",
       "         [-0.02755053, -0.15033881, -0.15747473,  0.09154387,\n",
       "           0.15737425],\n",
       "         [ 0.05029295, -0.09201596, -0.12275219,  0.14316125,\n",
       "           0.14930047]]],\n",
       "\n",
       "\n",
       "       [[[ 0.12325369, -0.17181252, -0.12282813, -0.04105954,\n",
       "           0.17143194],\n",
       "         [ 0.17542605,  0.01892003,  0.08303334,  0.12001605,\n",
       "          -0.17587368],\n",
       "         [ 0.04819004,  0.158951  ,  0.15707509, -0.09705241,\n",
       "           0.11099751],\n",
       "         [-0.19409466,  0.12124155,  0.1351399 , -0.03353736,\n",
       "           0.12980784],\n",
       "         [ 0.05144538, -0.1253564 ,  0.00775369, -0.06199586,\n",
       "          -0.06900065]]],\n",
       "\n",
       "\n",
       "       [[[ 0.18852364, -0.06370521, -0.18964496,  0.1422788 ,\n",
       "          -0.1891803 ],\n",
       "         [ 0.0082401 , -0.19476484, -0.17975633,  0.02870527,\n",
       "          -0.188079  ],\n",
       "         [-0.0888406 , -0.10325368,  0.10840769,  0.1304078 ,\n",
       "           0.03092885],\n",
       "         [-0.08681116, -0.07798014,  0.15265416, -0.16788635,\n",
       "           0.11179985],\n",
       "         [-0.03483227, -0.10280462,  0.18573917, -0.15297842,\n",
       "           0.06242384]]],\n",
       "\n",
       "\n",
       "       [[[-0.17335594,  0.03563683, -0.17835493, -0.13054326,\n",
       "           0.13415904],\n",
       "         [ 0.08181502,  0.0616131 , -0.1252253 ,  0.09102274,\n",
       "          -0.07128981],\n",
       "         [-0.08803077, -0.10683384, -0.14949569, -0.17675553,\n",
       "          -0.14903788],\n",
       "         [-0.10135348, -0.04676095,  0.16091035,  0.09966262,\n",
       "           0.19318904],\n",
       "         [-0.1923503 , -0.17473677, -0.17117257,  0.13156416,\n",
       "          -0.11619218]]]], dtype=float32)"
      ]
     },
     "execution_count": 18,
     "metadata": {},
     "output_type": "execute_result"
    }
   ],
   "source": [
    "weight # numpy화가 됐음"
   ]
  },
  {
   "cell_type": "code",
   "execution_count": 19,
   "metadata": {},
   "outputs": [
    {
     "data": {
      "text/plain": [
       "(20, 1, 5, 5)"
      ]
     },
     "execution_count": 19,
     "metadata": {},
     "output_type": "execute_result"
    }
   ],
   "source": [
    "weight.shape"
   ]
  },
  {
   "cell_type": "code",
   "execution_count": 20,
   "metadata": {},
   "outputs": [
    {
     "data": {
      "image/png": "[encoded data removed]",
      "text/plain": [
       "<Figure size 432x288 with 2 Axes>"
      ]
     },
     "metadata": {
      "needs_background": "light"
     },
     "output_type": "display_data"
    }
   ],
   "source": [
    "plt.imshow(weight[0,0,:,:], 'jet')\n",
    "plt.colorbar()\n",
    "plt.show()"
   ]
  },
  {
   "cell_type": "markdown",
   "metadata": {},
   "source": [
    "- output 시각화 준비를 위해 numpy화"
   ]
  },
  {
   "cell_type": "code",
   "execution_count": 21,
   "metadata": {},
   "outputs": [],
   "source": [
    "output_data = layer(image) # Conv2d 거침"
   ]
  },
  {
   "cell_type": "code",
   "execution_count": 27,
   "metadata": {
    "scrolled": true
   },
   "outputs": [],
   "source": [
    "output_data = output_data.data # data화"
   ]
  },
  {
   "cell_type": "code",
   "execution_count": 28,
   "metadata": {},
   "outputs": [],
   "source": [
    "output = output_data.cpu().numpy() # numpy화"
   ]
  },
  {
   "cell_type": "code",
   "execution_count": 29,
   "metadata": {},
   "outputs": [
    {
     "data": {
      "text/plain": [
       "(1, 20, 24, 24)"
      ]
     },
     "execution_count": 29,
     "metadata": {},
     "output_type": "execute_result"
    }
   ],
   "source": [
    "output.shape"
   ]
  },
  {
   "cell_type": "markdown",
   "metadata": {},
   "source": [
    "- Input으로 들어간 이미지 numpy화 "
   ]
  },
  {
   "cell_type": "code",
   "execution_count": 30,
   "metadata": {},
   "outputs": [
    {
     "data": {
      "text/plain": [
       "(1, 1, 28, 28)"
      ]
     },
     "execution_count": 30,
     "metadata": {},
     "output_type": "execute_result"
    }
   ],
   "source": [
    "image_arr = image.numpy()\n",
    "image_arr.shape"
   ]
  },
  {
   "cell_type": "code",
   "execution_count": 31,
   "metadata": {},
   "outputs": [
    {
     "data": {
      "image/png": "[encoded data removed]",
      "text/plain": [
       "<Figure size 1080x2160 with 3 Axes>"
      ]
     },
     "metadata": {
      "needs_background": "light"
     },
     "output_type": "display_data"
    }
   ],
   "source": [
    "plt.figure(figsize=(15,30))\n",
    "plt.subplot(131)\n",
    "plt.title('Input')\n",
    "plt.imshow(np.squeeze(image_arr), 'gray') # 위에 image_arr.shape를 보면 앞에 1이있기때문에 squeeze 통해 차원 축소해줘야함\n",
    "plt.subplot(132)\n",
    "plt.title('Weight')\n",
    "plt.imshow(weight[0,0,:,:], 'jet')\n",
    "plt.subplot(133)\n",
    "plt.title('Output')\n",
    "plt.imshow(output[0,0,:,:], 'gray')\n",
    "plt.show()\n",
    "\n",
    "# input이 conv에서 weight와 결합해서 output이 나오는 상태!"
   ]
  },
  {
   "cell_type": "markdown",
   "metadata": {},
   "source": [
    "### Pooling"
   ]
  },
  {
   "cell_type": "markdown",
   "metadata": {},
   "source": [
    "input을 먼저 앞에 넣고, 뒤에 kernel 사이즈와 stride를 순서대로 넣음"
   ]
  },
  {
   "cell_type": "code",
   "execution_count": 32,
   "metadata": {},
   "outputs": [
    {
     "data": {
      "text/plain": [
       "torch.Size([1, 1, 28, 28])"
      ]
     },
     "execution_count": 32,
     "metadata": {},
     "output_type": "execute_result"
    }
   ],
   "source": [
    "image.shape"
   ]
  },
  {
   "cell_type": "code",
   "execution_count": 33,
   "metadata": {},
   "outputs": [
    {
     "data": {
      "text/plain": [
       "torch.Size([1, 1, 14, 14])"
      ]
     },
     "execution_count": 33,
     "metadata": {},
     "output_type": "execute_result"
    }
   ],
   "source": [
    "pool = F.max_pool2d(image, 2, 2)\n",
    "pool.shape"
   ]
  },
  {
   "cell_type": "markdown",
   "metadata": {},
   "source": [
    "- MaxPool Layer는 weight가 없기 때문에 바로 numpy()가 가능"
   ]
  },
  {
   "cell_type": "code",
   "execution_count": 34,
   "metadata": {},
   "outputs": [
    {
     "data": {
      "text/plain": [
       "(1, 1, 14, 14)"
      ]
     },
     "execution_count": 34,
     "metadata": {},
     "output_type": "execute_result"
    }
   ],
   "source": [
    "pool_arr = pool.numpy()\n",
    "pool_arr.shape"
   ]
  },
  {
   "cell_type": "code",
   "execution_count": 35,
   "metadata": {},
   "outputs": [
    {
     "data": {
      "text/plain": [
       "(1, 1, 28, 28)"
      ]
     },
     "execution_count": 35,
     "metadata": {},
     "output_type": "execute_result"
    }
   ],
   "source": [
    "image_arr.shape"
   ]
  },
  {
   "cell_type": "code",
   "execution_count": 37,
   "metadata": {},
   "outputs": [
    {
     "data": {
      "image/png": "[encoded data removed]",
      "text/plain": [
       "<Figure size 720x1080 with 2 Axes>"
      ]
     },
     "metadata": {
      "needs_background": "light"
     },
     "output_type": "display_data"
    }
   ],
   "source": [
    "plt.figure(figsize=(10,15))\n",
    "plt.subplot(121)\n",
    "plt.title('Input')\n",
    "plt.imshow(np.squeeze(image_arr), 'gray')\n",
    "plt.subplot(122)\n",
    "plt.title('Output')\n",
    "plt.imshow(np.squeeze(pool_arr), 'gray')\n",
    "plt.show()"
   ]
  },
  {
   "cell_type": "markdown",
   "metadata": {},
   "source": [
    "### Linear"
   ]
  },
  {
   "cell_type": "markdown",
   "metadata": {},
   "source": [
    "nn.Linear는 2d가 아닌 1d만 들어가기 때문에 .view() 1D로 펼쳐줘야함"
   ]
  },
  {
   "cell_type": "code",
   "execution_count": 38,
   "metadata": {},
   "outputs": [
    {
     "data": {
      "text/plain": [
       "torch.Size([1, 1, 28, 28])"
      ]
     },
     "execution_count": 38,
     "metadata": {},
     "output_type": "execute_result"
    }
   ],
   "source": [
    "image.shape"
   ]
  },
  {
   "cell_type": "code",
   "execution_count": 39,
   "metadata": {},
   "outputs": [
    {
     "data": {
      "text/plain": [
       "torch.Size([1, 784])"
      ]
     },
     "execution_count": 39,
     "metadata": {},
     "output_type": "execute_result"
    }
   ],
   "source": [
    "# flatten()이 따로 없기때문에 reshape이나 view()를 사용해서 펼쳐줘야해\n",
    "flatten = image.view(1, 28*28) # 맨 앞에 1은 batch_size와 똑같이 남겨줘야해 (만약 image.shape가 [64, 1, 28, 28]이면 똑같이 image.view(64,) 이렇게)\n",
    "flatten.shape"
   ]
  },
  {
   "cell_type": "code",
   "execution_count": 40,
   "metadata": {},
   "outputs": [
    {
     "data": {
      "text/plain": [
       "torch.Size([1, 10])"
      ]
     },
     "execution_count": 40,
     "metadata": {},
     "output_type": "execute_result"
    }
   ],
   "source": [
    "lin = nn.Linear(784, 10)(flatten) # 784개 받고 10개로 내보낸다\n",
    "lin.shape"
   ]
  },
  {
   "cell_type": "code",
   "execution_count": 41,
   "metadata": {},
   "outputs": [
    {
     "data": {
      "text/plain": [
       "tensor([[ 1.6741e-01, -1.7438e-03,  2.2044e-04, -1.0609e-01, -5.4857e-02,\n",
       "          1.3126e-03,  1.2322e-01, -9.9238e-02,  4.0554e-01,  2.0868e-01]],\n",
       "       grad_fn=<AddmmBackward>)"
      ]
     },
     "execution_count": 41,
     "metadata": {},
     "output_type": "execute_result"
    }
   ],
   "source": [
    "lin"
   ]
  },
  {
   "cell_type": "code",
   "execution_count": 43,
   "metadata": {},
   "outputs": [
    {
     "data": {
      "image/png": "[encoded data removed]",
      "text/plain": [
       "<Figure size 432x288 with 1 Axes>"
      ]
     },
     "metadata": {
      "needs_background": "light"
     },
     "output_type": "display_data"
    }
   ],
   "source": [
    "plt.imshow(lin.detach().numpy(), 'jet') # lin에는 weight가 있기때문에 detach()해줘야해\n",
    "plt.show()"
   ]
  },
  {
   "cell_type": "markdown",
   "metadata": {},
   "source": [
    "### Softmax"
   ]
  },
  {
   "cell_type": "markdown",
   "metadata": {},
   "source": [
    "결과를 numpy로 꺼내기 위해선 weight가 담긴 Linear에 weight를 꺼줘야함"
   ]
  },
  {
   "cell_type": "code",
   "execution_count": 44,
   "metadata": {},
   "outputs": [],
   "source": [
    "# 이번엔 detach()말고 torch.no_grad()사용해서 안에 있는 weight 무시하게끔\n",
    "with torch.no_grad():\n",
    "    flatten = image.view(1, 28*28)\n",
    "    lin = nn.Linear(784, 10)(flatten)\n",
    "    softmax = F.softmax(lin, dim=1) # no_grad()안해주면 softmax 볼 수 없어(학습모드일땐 안돼)"
   ]
  },
  {
   "cell_type": "code",
   "execution_count": 45,
   "metadata": {},
   "outputs": [
    {
     "data": {
      "text/plain": [
       "tensor([[0.1013, 0.1028, 0.0903, 0.1009, 0.0958, 0.0902, 0.0748, 0.1371, 0.1054,\n",
       "         0.1013]])"
      ]
     },
     "execution_count": 45,
     "metadata": {},
     "output_type": "execute_result"
    }
   ],
   "source": [
    "softmax"
   ]
  },
  {
   "cell_type": "code",
   "execution_count": 47,
   "metadata": {},
   "outputs": [
    {
     "data": {
      "text/plain": [
       "0.99999994"
      ]
     },
     "execution_count": 47,
     "metadata": {},
     "output_type": "execute_result"
    }
   ],
   "source": [
    "np.sum(softmax.numpy()) # 1에 가까운 숫자나옴"
   ]
  },
  {
   "cell_type": "markdown",
   "metadata": {},
   "source": [
    "# Layer 쌓기"
   ]
  },
  {
   "cell_type": "markdown",
   "metadata": {},
   "source": [
    "예제 출처: https://pytorch.org/tutorials/beginner/pytorch_with_examples.html#id23"
   ]
  },
  {
   "cell_type": "markdown",
   "metadata": {},
   "source": [
    "nn 과 nn.functional의 차이점\n",
    "- nn은 학습 파라미터가 담긴 것 \n",
    "- nn.functional은 학습 파라미터가 없는 것이라 생각하면 간단"
   ]
  },
  {
   "cell_type": "code",
   "execution_count": 59,
   "metadata": {},
   "outputs": [],
   "source": [
    "class Net(nn.Module):\n",
    "    def __init__(self):\n",
    "        super(Net, self).__init__()\n",
    "        self.conv1 = nn.Conv2d(1, 20, 5, 1)\n",
    "        self.conv2 = nn.Conv2d(20, 50, 5, 1)\n",
    "        self.fc1 = nn.Linear(4*4*50, 500)\n",
    "        self.fc2 = nn.Linear(500, 10)\n",
    "        \n",
    "    def forward(self, x): # 위 init을 통해 학습이 가능한 layer만들었으면 여기선 적용\n",
    "        # Feature Extraction\n",
    "        x = F.relu(self.conv1(x)) # conv1이 바로 conv2로 가는 게 아니고 relu와 max_pool을 거침\n",
    "        x = F.max_pool2d(x, 2, 2)\n",
    "        x = F.relu(self.conv2(x))\n",
    "        x = F.max_pool2d(x, 2, 2)\n",
    "        \n",
    "#        print(x.shape) # Linear와 view에 들어갈 size를 알기위해 중간에 print찍어서 shape 확인용\n",
    "        # Fully Connected(Classification)\n",
    "        x = x.view(-1, 4*4*50) # 앞에 batch_size를 뭘로 받을지 몰라서 -1로 줬음\n",
    "        x = F.relu(self.fc1(x))\n",
    "        x = self.fc2(x)\n",
    "        return F.log_softmax(x, dim=1)"
   ]
  },
  {
   "cell_type": "markdown",
   "metadata": {},
   "source": [
    "- Image를 Model에 넣어서 결과 확인"
   ]
  },
  {
   "cell_type": "code",
   "execution_count": 60,
   "metadata": {},
   "outputs": [],
   "source": [
    "model = Net()"
   ]
  },
  {
   "cell_type": "code",
   "execution_count": 61,
   "metadata": {},
   "outputs": [
    {
     "name": "stdout",
     "output_type": "stream",
     "text": [
      "torch.Size([1, 50, 4, 4])\n"
     ]
    }
   ],
   "source": [
    "result = model.forward(image) \n",
    "# 위에서 print(x.shape)했던 게 출력됨\n",
    "# [50, 4, 4]는 batch_size가 어떻게 나오든 고정이니까 class만들어줄 때 4*4*50"
   ]
  },
  {
   "cell_type": "code",
   "execution_count": 58,
   "metadata": {
    "scrolled": true
   },
   "outputs": [
    {
     "data": {
      "text/plain": [
       "tensor([[-2.2938, -2.2449, -2.2767, -2.3286, -2.3776, -2.2709, -2.3075, -2.2797,\n",
       "         -2.3163, -2.3365]], grad_fn=<LogSoftmaxBackward>)"
      ]
     },
     "execution_count": 58,
     "metadata": {},
     "output_type": "execute_result"
    }
   ],
   "source": [
    "result # image 한번 넣고 난 뒤의 결과"
   ]
  }
 ],
 "metadata": {
  "kernelspec": {
   "display_name": "Python 3",
   "language": "python",
   "name": "python3"
  },
  "language_info": {
   "codemirror_mode": {
    "name": "ipython",
    "version": 3
   },
   "file_extension": ".py",
   "mimetype": "text/x-python",
   "name": "python",
   "nbconvert_exporter": "python",
   "pygments_lexer": "ipython3",
   "version": "3.7.1"
  }
 },
 "nbformat": 4,
 "nbformat_minor": 2
}
