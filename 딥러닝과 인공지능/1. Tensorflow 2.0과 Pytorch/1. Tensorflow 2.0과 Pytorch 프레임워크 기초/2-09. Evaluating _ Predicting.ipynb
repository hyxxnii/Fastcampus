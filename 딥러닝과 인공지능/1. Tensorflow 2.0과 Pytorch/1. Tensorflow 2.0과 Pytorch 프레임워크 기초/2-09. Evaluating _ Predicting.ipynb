{
 "cells": [
  {
   "cell_type": "markdown",
   "metadata": {},
   "source": [
    "# TensorFlow: Evaluating & Prediction"
   ]
  },
  {
   "cell_type": "code",
   "execution_count": 1,
   "metadata": {},
   "outputs": [],
   "source": [
    "import tensorflow as tf\n",
    "from tensorflow.keras import layers\n",
    "\n",
    "from tensorflow.keras import datasets "
   ]
  },
  {
   "cell_type": "markdown",
   "metadata": {},
   "source": [
    "# Build Model"
   ]
  },
  {
   "cell_type": "code",
   "execution_count": 2,
   "metadata": {},
   "outputs": [],
   "source": [
    "input_shape = (28, 28, 1)\n",
    "num_classes = 10\n",
    "\n",
    "learning_rate = 0.001"
   ]
  },
  {
   "cell_type": "code",
   "execution_count": 3,
   "metadata": {},
   "outputs": [],
   "source": [
    "inputs = layers.Input(input_shape)\n",
    "net = layers.Conv2D(32, (3, 3), padding='SAME')(inputs)\n",
    "net = layers.Activation('relu')(net)\n",
    "net = layers.Conv2D(32, (3, 3), padding='SAME')(net)\n",
    "net = layers.Activation('relu')(net)\n",
    "net = layers.MaxPooling2D(pool_size=(2, 2))(net)\n",
    "net = layers.Dropout(0.5)(net)\n",
    "\n",
    "net = layers.Conv2D(64, (3, 3), padding='SAME')(net)\n",
    "net = layers.Activation('relu')(net)\n",
    "net = layers.Conv2D(64, (3, 3), padding='SAME')(net)\n",
    "net = layers.Activation('relu')(net)\n",
    "net = layers.MaxPooling2D(pool_size=(2, 2))(net)\n",
    "net = layers.Dropout(0.5)(net)\n",
    "\n",
    "net = layers.Flatten()(net)\n",
    "net = layers.Dense(512)(net)\n",
    "net = layers.Activation('relu')(net)\n",
    "net = layers.Dropout(0.5)(net)\n",
    "net = layers.Dense(num_classes)(net)\n",
    "net = layers.Activation('softmax')(net)\n",
    "\n",
    "model = tf.s.Model(inputs=inputs, outputs=net, name='Basic_CNN')kera"
   ]
  },
  {
   "cell_type": "code",
   "execution_count": 4,
   "metadata": {},
   "outputs": [],
   "source": [
    "# Model is the full model w/o custom layers\n",
    "model.compile(optimizer=tf.keras.optimizers.Adam(learning_rate),\n",
    "              loss='sparse_categorical_crossentropy',\n",
    "              metrics=['accuracy'])"
   ]
  },
  {
   "cell_type": "markdown",
   "metadata": {},
   "source": [
    "# Preprocess"
   ]
  },
  {
   "cell_type": "markdown",
   "metadata": {},
   "source": [
    "데이터셋 불러오기 "
   ]
  },
  {
   "cell_type": "code",
   "execution_count": 5,
   "metadata": {},
   "outputs": [],
   "source": [
    "(train_x, train_y), (test_x, test_y) = datasets.mnist.load_data()"
   ]
  },
  {
   "cell_type": "code",
   "execution_count": 6,
   "metadata": {},
   "outputs": [],
   "source": [
    "train_x = train_x[..., tf.newaxis]\n",
    "test_x = test_x[..., tf.newaxis]\n",
    "\n",
    "train_x = train_x / 255.\n",
    "test_x = test_x / 255."
   ]
  },
  {
   "cell_type": "markdown",
   "metadata": {},
   "source": [
    "# Training"
   ]
  },
  {
   "cell_type": "code",
   "execution_count": 7,
   "metadata": {},
   "outputs": [],
   "source": [
    "num_epochs = 1\n",
    "batch_size = 64"
   ]
  },
  {
   "cell_type": "code",
   "execution_count": 8,
   "metadata": {},
   "outputs": [
    {
     "name": "stdout",
     "output_type": "stream",
     "text": [
      "Train on 60000 samples\n",
      "60000/60000 [==============================] - 472s 8ms/sample - loss: 0.2146 - accuracy: 0.9294\n"
     ]
    }
   ],
   "source": [
    "hist = model.fit(train_x, train_y, \n",
    "                 batch_size=batch_size, \n",
    "                 shuffle=True)"
   ]
  },
  {
   "cell_type": "code",
   "execution_count": 9,
   "metadata": {},
   "outputs": [
    {
     "data": {
      "text/plain": [
       "{'loss': [0.2145677317097783], 'accuracy': [0.9294]}"
      ]
     },
     "execution_count": 9,
     "metadata": {},
     "output_type": "execute_result"
    }
   ],
   "source": [
    "hist.history # .history : epoch 당 log가 하나씩 나옴"
   ]
  },
  {
   "cell_type": "markdown",
   "metadata": {},
   "source": [
    "# Evaluating  \n",
    "- 학습한 모델 확인"
   ]
  },
  {
   "cell_type": "code",
   "execution_count": 10,
   "metadata": {},
   "outputs": [
    {
     "name": "stdout",
     "output_type": "stream",
     "text": [
      "10000/10000 [==============================] - 19s 2ms/sample - loss: 0.0441 - accuracy: 0.9856\n"
     ]
    },
    {
     "data": {
      "text/plain": [
       "[0.044113552751019594, 0.9856]"
      ]
     },
     "execution_count": 10,
     "metadata": {},
     "output_type": "execute_result"
    }
   ],
   "source": [
    "model.evaluate(test_x, test_y, batch_size=batch_size)"
   ]
  },
  {
   "cell_type": "markdown",
   "metadata": {},
   "source": [
    "### 결과 확인"
   ]
  },
  {
   "cell_type": "markdown",
   "metadata": {},
   "source": [
    "Input으로 들어갈 이미지 데이터 확인"
   ]
  },
  {
   "cell_type": "code",
   "execution_count": 11,
   "metadata": {},
   "outputs": [],
   "source": [
    "import numpy as np\n",
    "import matplotlib.pyplot as plt\n",
    "%matplotlib inline"
   ]
  },
  {
   "cell_type": "code",
   "execution_count": 19,
   "metadata": {},
   "outputs": [
    {
     "data": {
      "text/plain": [
       "(28, 28)"
      ]
     },
     "execution_count": 19,
     "metadata": {},
     "output_type": "execute_result"
    }
   ],
   "source": [
    "test_image = test_x[0,:,:,0] # 0번째 image, image 보기위해 28x28로 reshape\n",
    "test_image.shape"
   ]
  },
  {
   "cell_type": "code",
   "execution_count": 20,
   "metadata": {},
   "outputs": [
    {
     "data": {
      "image/png": "[encoded data removed]",
      "text/plain": [
       "<Figure size 432x288 with 1 Axes>"
      ]
     },
     "metadata": {
      "needs_background": "light"
     },
     "output_type": "display_data"
    }
   ],
   "source": [
    "plt.imshow(test_image, 'gray')\n",
    "plt.show()"
   ]
  },
  {
   "cell_type": "markdown",
   "metadata": {},
   "source": [
    "- 모델에 Input Data로 확인할 이미지 데이터 넣기"
   ]
  },
  {
   "cell_type": "code",
   "execution_count": 21,
   "metadata": {},
   "outputs": [
    {
     "data": {
      "text/plain": [
       "(28, 28)"
      ]
     },
     "execution_count": 21,
     "metadata": {},
     "output_type": "execute_result"
    }
   ],
   "source": [
    "test_image.shape"
   ]
  },
  {
   "cell_type": "code",
   "execution_count": 22,
   "metadata": {},
   "outputs": [],
   "source": [
    "pred = model.predict(test_image.reshape(1,28,28,1)) # model에 fit할 때 (1,28,28,1)로 학습시켜줬기때문에 predict할 때도 똑같이 또 reshape"
   ]
  },
  {
   "cell_type": "code",
   "execution_count": 23,
   "metadata": {},
   "outputs": [
    {
     "data": {
      "text/plain": [
       "(1, 10)"
      ]
     },
     "execution_count": 23,
     "metadata": {},
     "output_type": "execute_result"
    }
   ],
   "source": [
    "pred.shape"
   ]
  },
  {
   "cell_type": "code",
   "execution_count": 24,
   "metadata": {},
   "outputs": [
    {
     "data": {
      "text/plain": [
       "array([[2.3654262e-07, 5.5107904e-07, 5.3109407e-06, 3.9924435e-05,\n",
       "        1.2695770e-07, 2.3171873e-07, 1.1269899e-10, 9.9989974e-01,\n",
       "        3.2426124e-07, 5.3570253e-05]], dtype=float32)"
      ]
     },
     "execution_count": 24,
     "metadata": {},
     "output_type": "execute_result"
    }
   ],
   "source": [
    "pred\n",
    "# 알 수 없는 숫자들로 이루어져있음. 이게 뭘까\n",
    "# 모델에서 마지막에 softmax를 했고, 마지막 노드에서 가장 높은 값을 내뱉는 노드가 모델이 생각하는 정답! "
   ]
  },
  {
   "cell_type": "markdown",
   "metadata": {},
   "source": [
    "- np.argmax"
   ]
  },
  {
   "cell_type": "code",
   "execution_count": 17,
   "metadata": {},
   "outputs": [
    {
     "data": {
      "text/plain": [
       "7"
      ]
     },
     "execution_count": 17,
     "metadata": {},
     "output_type": "execute_result"
    }
   ],
   "source": [
    "np.argmax(pred) # 가장 높은 값의 index를 내뱉어줌"
   ]
  },
  {
   "cell_type": "markdown",
   "metadata": {},
   "source": [
    "## Test Batch"
   ]
  },
  {
   "cell_type": "markdown",
   "metadata": {},
   "source": [
    "Batch로 Test Dataset 넣기"
   ]
  },
  {
   "cell_type": "code",
   "execution_count": 27,
   "metadata": {},
   "outputs": [
    {
     "data": {
      "text/plain": [
       "(32, 28, 28, 1)"
      ]
     },
     "execution_count": 27,
     "metadata": {},
     "output_type": "execute_result"
    }
   ],
   "source": [
    "test_batch = test_x[:32]\n",
    "test_batch.shape"
   ]
  },
  {
   "cell_type": "markdown",
   "metadata": {},
   "source": [
    "Batch Test Dataset 모델에 넣기"
   ]
  },
  {
   "cell_type": "code",
   "execution_count": 30,
   "metadata": {},
   "outputs": [
    {
     "data": {
      "text/plain": [
       "(32, 10)"
      ]
     },
     "execution_count": 30,
     "metadata": {},
     "output_type": "execute_result"
    }
   ],
   "source": [
    "preds = model.predict(test_batch) # label 넣어줄 필요 x\n",
    "preds.shape # 위의 pred 형태가 32개로 쌓여서 나온 것"
   ]
  },
  {
   "cell_type": "markdown",
   "metadata": {},
   "source": [
    "- 결과 확인"
   ]
  },
  {
   "cell_type": "code",
   "execution_count": 29,
   "metadata": {},
   "outputs": [
    {
     "data": {
      "text/plain": [
       "array([[2.36542164e-07, 5.51077505e-07, 5.31093065e-06, 3.99243581e-05,\n",
       "        1.26957460e-07, 2.31718289e-07, 1.12698559e-10, 9.99899745e-01,\n",
       "        3.24260640e-07, 5.35701511e-05],\n",
       "       [1.23183827e-06, 1.54592826e-07, 9.99997377e-01, 3.38629235e-07,\n",
       "        7.97732269e-10, 1.39315046e-10, 7.15384488e-07, 2.16336213e-10,\n",
       "        1.76658020e-07, 1.80064713e-10],\n",
       "       [2.85502647e-05, 9.98987615e-01, 3.57730169e-05, 1.12348689e-05,\n",
       "        6.26724563e-04, 1.32839823e-05, 4.59852272e-05, 1.71815322e-04,\n",
       "        4.51200140e-05, 3.38421560e-05],\n",
       "       [9.98899579e-01, 5.21935348e-08, 4.41955890e-05, 1.37883817e-05,\n",
       "        4.65725725e-06, 4.92770687e-06, 7.18638184e-04, 1.09908970e-05,\n",
       "        2.56746644e-05, 2.77628511e-04],\n",
       "       [2.74441987e-07, 4.80887969e-08, 1.16192091e-07, 1.85411562e-08,\n",
       "        9.99678969e-01, 1.82023101e-07, 2.23985671e-06, 1.08064917e-07,\n",
       "        1.00997443e-06, 3.16991500e-04],\n",
       "       [1.08543818e-05, 9.99529839e-01, 1.43449843e-05, 1.82942676e-06,\n",
       "        2.89825432e-04, 1.24308212e-06, 5.34977789e-06, 1.01453341e-04,\n",
       "        2.70411583e-05, 1.84417877e-05],\n",
       "       [7.01434510e-09, 6.46643059e-07, 2.10296651e-08, 1.31249092e-08,\n",
       "        9.95503247e-01, 9.09991741e-06, 1.81141377e-06, 6.89370481e-08,\n",
       "        3.67929647e-03, 8.05714924e-04],\n",
       "       [8.19236220e-07, 2.99442054e-05, 8.72698147e-05, 1.50340435e-04,\n",
       "        2.15426177e-01, 4.58182854e-04, 4.62084972e-06, 6.01688089e-06,\n",
       "        4.03460907e-03, 7.79802024e-01],\n",
       "       [6.47529669e-06, 4.60849243e-08, 5.81330397e-08, 1.05930802e-07,\n",
       "        9.44030853e-06, 9.81251717e-01, 1.81182195e-02, 2.35493278e-08,\n",
       "        4.06589126e-04, 2.07301913e-04],\n",
       "       [1.48041892e-07, 5.86155613e-09, 8.72500650e-08, 3.43808324e-06,\n",
       "        5.33731887e-04, 1.28528709e-05, 2.76455125e-08, 3.88278240e-05,\n",
       "        1.14004491e-04, 9.99296904e-01],\n",
       "       [9.99982119e-01, 4.58048183e-11, 1.24596600e-05, 3.91925056e-07,\n",
       "        1.06079590e-09, 5.06786435e-09, 7.77510252e-07, 3.31449748e-08,\n",
       "        2.13775888e-06, 1.99540773e-06],\n",
       "       [1.75821770e-03, 1.18208252e-08, 3.28155306e-06, 2.05028996e-07,\n",
       "        1.75520779e-06, 2.87806834e-05, 9.98166502e-01, 1.22183641e-08,\n",
       "        4.08215419e-05, 4.63701070e-07],\n",
       "       [1.02181886e-07, 6.24617869e-09, 2.97117904e-08, 2.98785881e-06,\n",
       "        4.38195100e-04, 2.98071955e-05, 3.43491351e-08, 1.88916474e-05,\n",
       "        3.39416911e-05, 9.99476016e-01],\n",
       "       [9.99916792e-01, 2.91786506e-09, 5.43501346e-06, 1.45490617e-06,\n",
       "        8.50316582e-08, 3.45355033e-07, 1.58657476e-05, 2.48317224e-06,\n",
       "        1.43391962e-05, 4.31297922e-05],\n",
       "       [1.78857715e-06, 9.99868155e-01, 5.49502784e-06, 1.16095007e-05,\n",
       "        1.34024503e-05, 4.93398557e-06, 7.96969380e-06, 4.74942726e-06,\n",
       "        7.47742597e-05, 7.22108689e-06],\n",
       "       [2.77929644e-06, 2.60116008e-06, 1.86760033e-07, 4.79428214e-04,\n",
       "        3.23444631e-08, 9.99232888e-01, 8.12110957e-05, 1.96896110e-07,\n",
       "        1.93717220e-04, 6.88576256e-06],\n",
       "       [1.46962645e-06, 5.86782345e-10, 9.78567343e-08, 2.42220040e-06,\n",
       "        1.28913889e-04, 2.94839242e-06, 7.44085611e-08, 7.62949003e-06,\n",
       "        2.84827292e-05, 9.99827981e-01],\n",
       "       [3.32706577e-06, 6.75666968e-07, 2.56388976e-05, 3.83022038e-04,\n",
       "        2.20036199e-07, 2.33662308e-06, 5.62580427e-10, 9.99524951e-01,\n",
       "        8.78724961e-07, 5.89695483e-05],\n",
       "       [2.59149866e-03, 1.64625398e-03, 9.77222226e-04, 8.70016277e-01,\n",
       "        8.07048462e-04, 8.00066292e-02, 7.53785484e-04, 1.98709880e-04,\n",
       "        4.00951654e-02, 2.90747988e-03],\n",
       "       [8.77879602e-10, 1.67521748e-07, 1.89680875e-08, 1.38123877e-08,\n",
       "        9.99973416e-01, 2.12396955e-07, 2.51250381e-08, 8.92520120e-08,\n",
       "        3.36553256e-07, 2.56885178e-05],\n",
       "       [1.66582731e-06, 4.28033854e-06, 1.14143279e-06, 3.83119652e-04,\n",
       "        2.93836975e-03, 1.80229879e-04, 1.92844894e-07, 4.79161768e-04,\n",
       "        6.77091666e-05, 9.95944083e-01],\n",
       "       [1.39263909e-06, 4.02000211e-09, 4.55023361e-08, 1.60459557e-08,\n",
       "        5.47492505e-07, 1.79914699e-04, 9.99788463e-01, 1.61430050e-10,\n",
       "        2.96129620e-05, 1.46929708e-07],\n",
       "       [6.66132837e-04, 2.00750122e-07, 8.01922226e-07, 4.43824121e-07,\n",
       "        7.26493541e-04, 1.84651464e-04, 9.98369277e-01, 3.84669960e-07,\n",
       "        2.67342984e-05, 2.49140903e-05],\n",
       "       [3.57457530e-08, 3.50166585e-09, 2.14297954e-10, 1.76784965e-06,\n",
       "        4.17812132e-08, 9.99960899e-01, 2.83500867e-05, 7.94211419e-10,\n",
       "        4.34750609e-06, 4.50284779e-06],\n",
       "       [7.97988022e-08, 1.08093514e-06, 1.45737465e-06, 1.06021147e-07,\n",
       "        9.99786675e-01, 1.51283496e-06, 1.98555972e-06, 1.48758920e-06,\n",
       "        5.10451355e-06, 2.00442359e-04],\n",
       "       [9.99356568e-01, 8.08180367e-09, 4.01073921e-05, 9.24146480e-06,\n",
       "        2.54932843e-06, 1.75131595e-06, 1.84298449e-04, 3.26757959e-06,\n",
       "        4.31706358e-05, 3.59016878e-04],\n",
       "       [9.87566909e-06, 1.17964537e-05, 1.01810714e-04, 2.75453931e-04,\n",
       "        7.00514966e-06, 1.95706180e-05, 7.15260784e-09, 9.97947872e-01,\n",
       "        3.85369776e-06, 1.62281573e-03],\n",
       "       [4.97944776e-11, 2.86383672e-09, 9.99403227e-10, 3.62850167e-10,\n",
       "        9.99997020e-01, 8.18825896e-09, 1.54189783e-09, 8.69080308e-10,\n",
       "        1.60988769e-08, 2.95846826e-06],\n",
       "       [9.99856234e-01, 1.56363136e-08, 9.32813127e-05, 1.08624008e-05,\n",
       "        1.06423002e-07, 1.51513134e-07, 6.62324237e-06, 8.21722642e-06,\n",
       "        1.83447210e-05, 6.03663557e-06],\n",
       "       [6.20389847e-06, 9.99245882e-01, 6.41860461e-05, 6.07051952e-05,\n",
       "        1.42125777e-04, 2.27931014e-05, 2.95775062e-05, 7.25777354e-05,\n",
       "        3.05913563e-04, 5.01547038e-05],\n",
       "       [3.99043287e-08, 1.55448458e-06, 4.67992038e-07, 9.99901056e-01,\n",
       "        3.38243211e-07, 5.28015407e-05, 4.12445722e-09, 1.41918936e-05,\n",
       "        4.62661728e-06, 2.49480345e-05],\n",
       "       [7.89076978e-07, 9.99467552e-01, 1.14134218e-05, 6.67292488e-06,\n",
       "        2.59628840e-04, 4.37639437e-06, 2.75927573e-06, 4.97201145e-05,\n",
       "        4.03661543e-05, 1.56731214e-04]], dtype=float32)"
      ]
     },
     "execution_count": 29,
     "metadata": {},
     "output_type": "execute_result"
    }
   ],
   "source": [
    "preds"
   ]
  },
  {
   "cell_type": "code",
   "execution_count": 32,
   "metadata": {},
   "outputs": [
    {
     "data": {
      "text/plain": [
       "array([7, 2, 1, 0, 4, 1, 4, 9, 5, 9, 0, 6, 9, 0, 1, 5, 9, 7, 3, 4, 9, 6,\n",
       "       6, 5, 4, 0, 7, 4, 0, 1, 3, 1], dtype=int64)"
      ]
     },
     "execution_count": 32,
     "metadata": {},
     "output_type": "execute_result"
    }
   ],
   "source": [
    "np.argmax(preds, -1)\n",
    "# 32개 각각 데이터에 대한 argmax"
   ]
  },
  {
   "cell_type": "markdown",
   "metadata": {},
   "source": [
    "- 위 결과를 시각화해서 맞는지 비교해보자\n",
    "    - 정확도 98%라 웬만해선 다 맞을거야"
   ]
  },
  {
   "cell_type": "code",
   "execution_count": 33,
   "metadata": {},
   "outputs": [
    {
     "data": {
      "image/png": "[encoded data removed]",
      "text/plain": [
       "<Figure size 432x288 with 1 Axes>"
      ]
     },
     "metadata": {
      "needs_background": "light"
     },
     "output_type": "display_data"
    }
   ],
   "source": [
    "plt.imshow(test_batch[0,:,:,0], 'gray') # 0번째 image\n",
    "plt.show()"
   ]
  },
  {
   "cell_type": "code",
   "execution_count": 34,
   "metadata": {},
   "outputs": [
    {
     "data": {
      "image/png": "[encoded data removed]",
      "text/plain": [
       "<Figure size 432x288 with 1 Axes>"
      ]
     },
     "metadata": {
      "needs_background": "light"
     },
     "output_type": "display_data"
    }
   ],
   "source": [
    "plt.imshow(test_batch[1,:,:,0], 'gray') # 1번째 image\n",
    "plt.show()"
   ]
  },
  {
   "cell_type": "code",
   "execution_count": 35,
   "metadata": {},
   "outputs": [
    {
     "data": {
      "image/png": "[encoded data removed]",
      "text/plain": [
       "<Figure size 432x288 with 1 Axes>"
      ]
     },
     "metadata": {
      "needs_background": "light"
     },
     "output_type": "display_data"
    }
   ],
   "source": [
    "plt.imshow(test_batch[2,:,:,0], 'gray') # 3번째 image\n",
    "plt.show()\n",
    "\n",
    "# test set은 학습에 넣지도 않았고 영향을 준 게 없음에도 불구하고 잘 맞추고있지지"
   ]
  },
  {
   "cell_type": "code",
   "execution_count": null,
   "metadata": {},
   "outputs": [],
   "source": []
  }
 ],
 "metadata": {
  "kernelspec": {
   "display_name": "Python 3",
   "language": "python",
   "name": "python3"
  },
  "language_info": {
   "codemirror_mode": {
    "name": "ipython",
    "version": 3
   },
   "file_extension": ".py",
   "mimetype": "text/x-python",
   "name": "python",
   "nbconvert_exporter": "python",
   "pygments_lexer": "ipython3",
   "version": "3.7.1"
  }
 },
 "nbformat": 4,
 "nbformat_minor": 2
}
