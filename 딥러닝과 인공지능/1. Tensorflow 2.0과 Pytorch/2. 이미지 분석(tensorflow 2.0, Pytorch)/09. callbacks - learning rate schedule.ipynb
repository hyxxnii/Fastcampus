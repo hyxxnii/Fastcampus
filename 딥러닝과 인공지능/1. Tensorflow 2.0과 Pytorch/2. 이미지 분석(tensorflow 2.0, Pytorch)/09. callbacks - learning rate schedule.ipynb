{
 "cells": [
  {
   "cell_type": "markdown",
   "metadata": {},
   "source": [
    "# TensorFlow 2.0"
   ]
  },
  {
   "cell_type": "code",
   "execution_count": 1,
   "metadata": {},
   "outputs": [],
   "source": [
    "import os\n",
    "from glob import glob\n",
    "from datetime import datetime\n",
    "\n",
    "import numpy as np\n",
    "\n",
    "import tensorflow as tf\n",
    "from tensorflow.keras import layers\n",
    "\n",
    "from tensorflow.keras import datasets \n",
    "\n",
    "import matplotlib.pyplot as plt\n",
    "\n",
    "%matplotlib inline"
   ]
  },
  {
   "cell_type": "markdown",
   "metadata": {},
   "source": [
    "## Hyperparameter Tunning"
   ]
  },
  {
   "cell_type": "code",
   "execution_count": 2,
   "metadata": {},
   "outputs": [],
   "source": [
    "num_epochs = 20\n",
    "batch_size = 32\n",
    "\n",
    "learning_rate = 0.001\n",
    "\n",
    "dropout_rate = 0.5\n",
    "\n",
    "input_shape = (32, 32, 3)\n",
    "num_classes = 10"
   ]
  },
  {
   "cell_type": "markdown",
   "metadata": {},
   "source": [
    "## Build Model"
   ]
  },
  {
   "cell_type": "code",
   "execution_count": 3,
   "metadata": {},
   "outputs": [],
   "source": [
    "inputs = layers.Input(input_shape)\n",
    "\n",
    "net = layers.Conv2D(32, (3, 3), padding='SAME')(inputs)\n",
    "net = layers.Activation('relu')(net)\n",
    "net = layers.Conv2D(32, (3, 3), padding='SAME')(net)\n",
    "net = layers.Activation('relu')(net)\n",
    "net = layers.MaxPooling2D(pool_size=(2, 2))(net)\n",
    "net = layers.Dropout(dropout_rate)(net)\n",
    "\n",
    "net = layers.Conv2D(64, (3, 3), padding='SAME')(net)\n",
    "net = layers.Activation('relu')(net)\n",
    "net = layers.Conv2D(64, (3, 3), padding='SAME')(net)\n",
    "net = layers.Activation('relu')(net)\n",
    "net = layers.MaxPooling2D(pool_size=(2, 2))(net)\n",
    "net = layers.Dropout(dropout_rate)(net)\n",
    "\n",
    "net = layers.Flatten()(net)\n",
    "net = layers.Dense(512)(net)\n",
    "net = layers.Activation('relu')(net)\n",
    "net = layers.Dropout(dropout_rate)(net)\n",
    "net = layers.Dense(num_classes)(net)\n",
    "net = layers.Activation('softmax')(net)\n",
    "\n",
    "model = tf.keras.Model(inputs=inputs, outputs=net, name='Basic_CNN')"
   ]
  },
  {
   "cell_type": "code",
   "execution_count": 4,
   "metadata": {},
   "outputs": [],
   "source": [
    "# Model is the full model w/o custom layers\n",
    "model.compile(optimizer=tf.keras.optimizers.Adam(learning_rate),  # Optimization\n",
    "              loss='sparse_categorical_crossentropy',  # Loss Function \n",
    "              metrics=['accuracy'])  # Metrics / Accuracy"
   ]
  },
  {
   "cell_type": "markdown",
   "metadata": {},
   "source": [
    "# Data Preprocess"
   ]
  },
  {
   "cell_type": "code",
   "execution_count": 5,
   "metadata": {},
   "outputs": [],
   "source": [
    "train_paths = glob('dataset/cifar/train/*.png')[:100]\n",
    "test_paths = glob('dataset/cifar/test/*.png')[:100]"
   ]
  },
  {
   "cell_type": "code",
   "execution_count": 6,
   "metadata": {},
   "outputs": [],
   "source": [
    "def get_class_name(path):\n",
    "    return path.split('_')[-1].replace('.png', '')"
   ]
  },
  {
   "cell_type": "code",
   "execution_count": 7,
   "metadata": {},
   "outputs": [],
   "source": [
    "train_labels = [get_class_name(path) for path in train_paths]\n",
    "class_names = np.unique(train_labels)"
   ]
  },
  {
   "cell_type": "code",
   "execution_count": 8,
   "metadata": {},
   "outputs": [],
   "source": [
    "def get_label(path):\n",
    "    fname = tf.strings.split(path, '_')[-1]\n",
    "    lbl_name = tf.strings.regex_replace(fname, '.png', '')\n",
    "    onehot = tf.cast(lbl_name == class_names, tf.uint8)\n",
    "    return tf.argmax(onehot)  # 이번에는 onehot이 아닌 label 번호로"
   ]
  },
  {
   "cell_type": "code",
   "execution_count": 9,
   "metadata": {},
   "outputs": [],
   "source": [
    "def load_image_label(path):\n",
    "    gfile = tf.io.read_file(path)\n",
    "    image = tf.io.decode_image(gfile)\n",
    "    image = tf.cast(image, tf.float32) / 255.  # rescale\n",
    "    \n",
    "    label = get_label(path)\n",
    "    return image, label"
   ]
  },
  {
   "cell_type": "code",
   "execution_count": 10,
   "metadata": {},
   "outputs": [],
   "source": [
    "def image_preprocess(image, label):\n",
    "    image = tf.image.random_flip_up_down(image)\n",
    "    image = tf.image.random_flip_left_right(image)\n",
    "    return image, label"
   ]
  },
  {
   "cell_type": "code",
   "execution_count": 11,
   "metadata": {},
   "outputs": [],
   "source": [
    "AUTOTUNE = tf.data.experimental.AUTOTUNE"
   ]
  },
  {
   "cell_type": "code",
   "execution_count": 12,
   "metadata": {
    "scrolled": false
   },
   "outputs": [],
   "source": [
    "train_dataset = tf.data.Dataset.from_tensor_slices(train_paths)\n",
    "train_dataset = train_dataset.map(load_image_label, num_parallel_calls=AUTOTUNE)\n",
    "train_dataset = train_dataset.map(image_preprocess, num_parallel_calls=AUTOTUNE)\n",
    "train_dataset = train_dataset.batch(batch_size)\n",
    "train_dataset = train_dataset.shuffle(buffer_size=len(train_paths))\n",
    "train_dataset = train_dataset.repeat()"
   ]
  },
  {
   "cell_type": "code",
   "execution_count": 13,
   "metadata": {},
   "outputs": [],
   "source": [
    "test_dataset = tf.data.Dataset.from_tensor_slices(test_paths)\n",
    "test_dataset = test_dataset.map(load_image_label, num_parallel_calls=AUTOTUNE)\n",
    "test_dataset = test_dataset.batch(batch_size)\n",
    "test_dataset = test_dataset.repeat()"
   ]
  },
  {
   "cell_type": "markdown",
   "metadata": {},
   "source": [
    "# Learning Rate Scheduler\n",
    "- learning_rate이 너무 높으면 학습이 통통 튀어서 overfitting 일어나\n",
    "- 너무 낮으면 학습이 어느정도 도달하기 전에 local minimum에 빠져버림\n",
    "- 그래서 처음엔 높였다가 어느정도 학습이 되면 점점 줄여나가는 방법으로 주로 사용됨"
   ]
  },
  {
   "cell_type": "code",
   "execution_count": 14,
   "metadata": {},
   "outputs": [],
   "source": [
    "import math"
   ]
  },
  {
   "cell_type": "code",
   "execution_count": 15,
   "metadata": {},
   "outputs": [],
   "source": [
    "def scheduler(epoch): # epoch을 input으로 넣어\n",
    "    # 매 epoch마다 sheduler가 learning rate을 바꿔줌\n",
    "    \n",
    "    if epoch < 10:\n",
    "        return 0.001\n",
    "    \n",
    "    else: # epoch 10번째 부터 learning rate 점점 줄어듦\n",
    "        return 0.001 * math.exp(0.01 * (10 - epoch))"
   ]
  },
  {
   "cell_type": "code",
   "execution_count": 16,
   "metadata": {},
   "outputs": [
    {
     "name": "stdout",
     "output_type": "stream",
     "text": [
      "0.001\n",
      "0.000990049833749168\n",
      "0.0009801986733067552\n",
      "0.0009704455335485082\n",
      "0.0009607894391523232\n",
      "0.000951229424500714\n",
      "0.0009417645335842487\n",
      "0.0009323938199059483\n",
      "0.0009231163463866358\n",
      "0.0009139311852712283\n"
     ]
    }
   ],
   "source": [
    "for epoch in range(10,20):\n",
    "    print(0.001 * math.exp(0.01 * (10 - epoch)))\n",
    "    # learning rate이 점점 작아지는 것을 볼 수 있음"
   ]
  },
  {
   "cell_type": "code",
   "execution_count": 19,
   "metadata": {},
   "outputs": [],
   "source": [
    "learning_rate_scheduler = tf.keras.callbacks.LearningRateScheduler(scheduler, verbose=1)\n",
    "# verbose=1로 설정해놓으면 learning rate이 줄일 때마다 log를 보여줌"
   ]
  },
  {
   "cell_type": "markdown",
   "metadata": {},
   "source": [
    "## Training"
   ]
  },
  {
   "cell_type": "code",
   "execution_count": 20,
   "metadata": {
    "scrolled": true
   },
   "outputs": [
    {
     "name": "stdout",
     "output_type": "stream",
     "text": [
      "\n",
      "Epoch 00001: LearningRateScheduler reducing learning rate to 0.001.\n",
      "Epoch 1/20\n",
      "3/3 [==============================] - 3s 1s/step - loss: 2.2504 - accuracy: 0.0588 - val_loss: 2.3329 - val_accuracy: 0.0729\n",
      "\n",
      "Epoch 00002: LearningRateScheduler reducing learning rate to 0.001.\n",
      "Epoch 2/20\n",
      "3/3 [==============================] - 3s 1s/step - loss: 2.3237 - accuracy: 0.0938 - val_loss: 2.3340 - val_accuracy: 0.0729\n",
      "\n",
      "Epoch 00003: LearningRateScheduler reducing learning rate to 0.001.\n",
      "Epoch 3/20\n",
      "3/3 [==============================] - 3s 1s/step - loss: 2.1666 - accuracy: 0.0882 - val_loss: 2.3408 - val_accuracy: 0.0729\n",
      "\n",
      "Epoch 00004: LearningRateScheduler reducing learning rate to 0.001.\n",
      "Epoch 4/20\n",
      "3/3 [==============================] - 2s 769ms/step - loss: 2.2303 - accuracy: 0.0882 - val_loss: 2.3796 - val_accuracy: 0.0729\n",
      "\n",
      "Epoch 00005: LearningRateScheduler reducing learning rate to 0.001.\n",
      "Epoch 5/20\n",
      "3/3 [==============================] - 4s 1s/step - loss: 2.3851 - accuracy: 0.0625 - val_loss: 2.3468 - val_accuracy: 0.0729\n",
      "\n",
      "Epoch 00006: LearningRateScheduler reducing learning rate to 0.001.\n",
      "Epoch 6/20\n",
      "3/3 [==============================] - 3s 890ms/step - loss: 1.9956 - accuracy: 0.1500 - val_loss: 2.3728 - val_accuracy: 0.0729\n",
      "\n",
      "Epoch 00007: LearningRateScheduler reducing learning rate to 0.001.\n",
      "Epoch 7/20\n",
      "3/3 [==============================] - 4s 1s/step - loss: 2.3680 - accuracy: 0.0625 - val_loss: 2.3513 - val_accuracy: 0.0833\n",
      "\n",
      "Epoch 00008: LearningRateScheduler reducing learning rate to 0.001.\n",
      "Epoch 8/20\n",
      "3/3 [==============================] - 3s 872ms/step - loss: 2.2001 - accuracy: 0.0882 - val_loss: 2.3226 - val_accuracy: 0.0729\n",
      "\n",
      "Epoch 00009: LearningRateScheduler reducing learning rate to 0.001.\n",
      "Epoch 9/20\n",
      "3/3 [==============================] - 3s 1s/step - loss: 2.1523 - accuracy: 0.1029 - val_loss: 2.3347 - val_accuracy: 0.0833\n",
      "\n",
      "Epoch 00010: LearningRateScheduler reducing learning rate to 0.001.\n",
      "Epoch 10/20\n",
      "3/3 [==============================] - 4s 1s/step - loss: 2.1413 - accuracy: 0.1029 - val_loss: 2.3903 - val_accuracy: 0.0729\n",
      "\n",
      "Epoch 00011: LearningRateScheduler reducing learning rate to 0.001.\n",
      "Epoch 11/20\n",
      "3/3 [==============================] - 4s 1s/step - loss: 2.2626 - accuracy: 0.0938 - val_loss: 2.3160 - val_accuracy: 0.1667\n",
      "\n",
      "Epoch 00012: LearningRateScheduler reducing learning rate to 0.000990049833749168.\n",
      "Epoch 12/20\n",
      "3/3 [==============================] - 3s 843ms/step - loss: 2.1681 - accuracy: 0.1471 - val_loss: 2.2965 - val_accuracy: 0.1979\n",
      "\n",
      "Epoch 00013: LearningRateScheduler reducing learning rate to 0.0009801986733067552.\n",
      "Epoch 13/20\n",
      "3/3 [==============================] - 4s 1s/step - loss: 2.2316 - accuracy: 0.1562 - val_loss: 2.2655 - val_accuracy: 0.1667\n",
      "\n",
      "Epoch 00014: LearningRateScheduler reducing learning rate to 0.0009704455335485082.\n",
      "Epoch 14/20\n",
      "3/3 [==============================] - 4s 1s/step - loss: 2.0707 - accuracy: 0.1324 - val_loss: 2.3185 - val_accuracy: 0.1667\n",
      "\n",
      "Epoch 00015: LearningRateScheduler reducing learning rate to 0.0009607894391523232.\n",
      "Epoch 15/20\n",
      "3/3 [==============================] - 2s 830ms/step - loss: 1.6254 - accuracy: 0.3000 - val_loss: 2.2697 - val_accuracy: 0.1979\n",
      "\n",
      "Epoch 00016: LearningRateScheduler reducing learning rate to 0.000951229424500714.\n",
      "Epoch 16/20\n",
      "3/3 [==============================] - 3s 1s/step - loss: 2.1778 - accuracy: 0.2188 - val_loss: 2.3031 - val_accuracy: 0.2292\n",
      "\n",
      "Epoch 00017: LearningRateScheduler reducing learning rate to 0.0009417645335842487.\n",
      "Epoch 17/20\n",
      "3/3 [==============================] - 3s 947ms/step - loss: 2.0495 - accuracy: 0.1765 - val_loss: 2.4034 - val_accuracy: 0.1667\n",
      "\n",
      "Epoch 00018: LearningRateScheduler reducing learning rate to 0.0009323938199059483.\n",
      "Epoch 18/20\n",
      "3/3 [==============================] - 3s 963ms/step - loss: 1.8440 - accuracy: 0.2647 - val_loss: 2.4534 - val_accuracy: 0.1667\n",
      "\n",
      "Epoch 00019: LearningRateScheduler reducing learning rate to 0.0009231163463866358.\n",
      "Epoch 19/20\n",
      "3/3 [==============================] - 3s 1s/step - loss: 2.2240 - accuracy: 0.1875 - val_loss: 2.2060 - val_accuracy: 0.2292\n",
      "\n",
      "Epoch 00020: LearningRateScheduler reducing learning rate to 0.0009139311852712283.\n",
      "Epoch 20/20\n",
      "3/3 [==============================] - 3s 1s/step - loss: 1.9386 - accuracy: 0.1765 - val_loss: 2.2023 - val_accuracy: 0.2188\n"
     ]
    },
    {
     "data": {
      "text/plain": [
       "<tensorflow.python.keras.callbacks.History at 0x29c69a5a7b8>"
      ]
     },
     "execution_count": 20,
     "metadata": {},
     "output_type": "execute_result"
    }
   ],
   "source": [
    "steps_per_epoch = len(train_paths) // batch_size\n",
    "validation_steps = len(test_paths) // batch_size\n",
    "\n",
    "model.fit_generator(\n",
    "    train_dataset,\n",
    "    steps_per_epoch=steps_per_epoch,\n",
    "    validation_data=test_dataset,\n",
    "    validation_steps=validation_steps,\n",
    "    epochs=num_epochs,\n",
    "    callbacks=[learning_rate_scheduler]\n",
    ")\n",
    "\n",
    "# 0.01, 0.001로 기준 learning rate을 살짝 높게 잡은 다음에\n",
    "# 학습 곡선을 봤을 때 학습이 안되고있을 때 그 epoch을 기억해서\n",
    "# 그 epoch 기준으로 * 0.1을 해서 0.01이었던 것을 0.001로 하는 등\n",
    "# 또 학습이 안된다그러면 그 epoch 기억해서 그 기준으로 더 줄이는 등\n",
    "# 반복학습을 해서 tensorboard를 보다보면 커브를 그려서 보면 언제 learning rate을 줄여야하는지 감이 옴\n",
    "# 정확히 언제 줄이고 어떻게 줄어야할 지 모르는데 자꾸 공부하다보면 감이 온대.."
   ]
  },
  {
   "cell_type": "code",
   "execution_count": null,
   "metadata": {},
   "outputs": [],
   "source": []
  }
 ],
 "metadata": {
  "kernelspec": {
   "display_name": "Python 3",
   "language": "python",
   "name": "python3"
  },
  "language_info": {
   "codemirror_mode": {
    "name": "ipython",
    "version": 3
   },
   "file_extension": ".py",
   "mimetype": "text/x-python",
   "name": "python",
   "nbconvert_exporter": "python",
   "pygments_lexer": "ipython3",
   "version": "3.7.1"
  }
 },
 "nbformat": 4,
 "nbformat_minor": 2
}
