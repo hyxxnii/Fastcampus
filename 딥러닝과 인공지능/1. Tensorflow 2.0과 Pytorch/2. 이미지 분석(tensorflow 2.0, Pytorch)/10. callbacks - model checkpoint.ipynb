{
 "cells": [
  {
   "cell_type": "markdown",
   "metadata": {},
   "source": [
    "# TensorFlow 2.0"
   ]
  },
  {
   "cell_type": "code",
   "execution_count": 3,
   "metadata": {},
   "outputs": [],
   "source": [
    "import os\n",
    "from glob import glob\n",
    "from datetime import datetime\n",
    "\n",
    "import numpy as np\n",
    "\n",
    "import tensorflow as tf\n",
    "from tensorflow.keras import layers\n",
    "\n",
    "from tensorflow.keras import datasets \n",
    "\n",
    "import matplotlib.pyplot as plt\n",
    "\n",
    "%matplotlib inline"
   ]
  },
  {
   "cell_type": "markdown",
   "metadata": {},
   "source": [
    "## Hyperparameter Tunning"
   ]
  },
  {
   "cell_type": "code",
   "execution_count": 4,
   "metadata": {},
   "outputs": [],
   "source": [
    "num_epochs = 20\n",
    "batch_size = 32\n",
    "\n",
    "learning_rate = 0.001\n",
    "\n",
    "dropout_rate = 0.5\n",
    "\n",
    "input_shape = (32, 32, 3)\n",
    "num_classes = 10"
   ]
  },
  {
   "cell_type": "markdown",
   "metadata": {},
   "source": [
    "## Build Model"
   ]
  },
  {
   "cell_type": "code",
   "execution_count": 5,
   "metadata": {},
   "outputs": [],
   "source": [
    "inputs = layers.Input(input_shape)\n",
    "\n",
    "net = layers.Conv2D(32, (3, 3), padding='SAME')(inputs)\n",
    "net = layers.Activation('relu')(net)\n",
    "net = layers.Conv2D(32, (3, 3), padding='SAME')(net)\n",
    "net = layers.Activation('relu')(net)\n",
    "net = layers.MaxPooling2D(pool_size=(2, 2))(net)\n",
    "net = layers.Dropout(dropout_rate)(net)\n",
    "\n",
    "net = layers.Conv2D(64, (3, 3), padding='SAME')(net)\n",
    "net = layers.Activation('relu')(net)\n",
    "net = layers.Conv2D(64, (3, 3), padding='SAME')(net)\n",
    "net = layers.Activation('relu')(net)\n",
    "net = layers.MaxPooling2D(pool_size=(2, 2))(net)\n",
    "net = layers.Dropout(dropout_rate)(net)\n",
    "\n",
    "net = layers.Flatten()(net)\n",
    "net = layers.Dense(512)(net)\n",
    "net = layers.Activation('relu')(net)\n",
    "net = layers.Dropout(dropout_rate)(net)\n",
    "net = layers.Dense(num_classes)(net)\n",
    "net = layers.Activation('softmax')(net)\n",
    "\n",
    "model = tf.keras.Model(inputs=inputs, outputs=net, name='Basic_CNN')"
   ]
  },
  {
   "cell_type": "code",
   "execution_count": 6,
   "metadata": {},
   "outputs": [],
   "source": [
    "# Model is the full model w/o custom layers\n",
    "model.compile(optimizer=tf.keras.optimizers.Adam(learning_rate),  # Optimization\n",
    "              loss='sparse_categorical_crossentropy',  # Loss Function \n",
    "              metrics=['accuracy'])  # Metrics / Accuracy"
   ]
  },
  {
   "cell_type": "markdown",
   "metadata": {},
   "source": [
    "# Data Preprocess"
   ]
  },
  {
   "cell_type": "code",
   "execution_count": 7,
   "metadata": {},
   "outputs": [],
   "source": [
    "train_paths = glob('dataset/cifar/train/*.png')[:1000]\n",
    "test_paths = glob('dataset/cifar/test/*.png')[:1000]"
   ]
  },
  {
   "cell_type": "code",
   "execution_count": 8,
   "metadata": {},
   "outputs": [
    {
     "data": {
      "text/plain": [
       "1000"
      ]
     },
     "execution_count": 8,
     "metadata": {},
     "output_type": "execute_result"
    }
   ],
   "source": [
    "len(train_paths)"
   ]
  },
  {
   "cell_type": "code",
   "execution_count": 9,
   "metadata": {},
   "outputs": [],
   "source": [
    "def get_class_name(path):\n",
    "    return path.split('_')[-1].replace('.png', '')"
   ]
  },
  {
   "cell_type": "code",
   "execution_count": 10,
   "metadata": {},
   "outputs": [],
   "source": [
    "train_labels = [get_class_name(path) for path in train_paths]\n",
    "class_names = np.unique(train_labels)"
   ]
  },
  {
   "cell_type": "code",
   "execution_count": 11,
   "metadata": {},
   "outputs": [],
   "source": [
    "def get_label(path):\n",
    "    fname = tf.strings.split(path, '_')[-1]\n",
    "    lbl_name = tf.strings.regex_replace(fname, '.png', '')\n",
    "    onehot = tf.cast(lbl_name == class_names, tf.uint8)\n",
    "    return tf.argmax(onehot)  # 이번에는 onehot이 아닌 label 번호로"
   ]
  },
  {
   "cell_type": "code",
   "execution_count": 12,
   "metadata": {},
   "outputs": [],
   "source": [
    "def load_image_label(path):\n",
    "    gfile = tf.io.read_file(path)\n",
    "    image = tf.io.decode_image(gfile)\n",
    "    image = tf.cast(image, tf.float32) / 255.  # rescale\n",
    "    \n",
    "    label = get_label(path)\n",
    "    return image, label"
   ]
  },
  {
   "cell_type": "code",
   "execution_count": 13,
   "metadata": {},
   "outputs": [],
   "source": [
    "def image_preprocess(image, label):\n",
    "    image = tf.image.random_flip_up_down(image)\n",
    "    image = tf.image.random_flip_left_right(image)\n",
    "    return image, label"
   ]
  },
  {
   "cell_type": "code",
   "execution_count": 14,
   "metadata": {},
   "outputs": [],
   "source": [
    "AUTOTUNE = tf.data.experimental.AUTOTUNE"
   ]
  },
  {
   "cell_type": "code",
   "execution_count": 15,
   "metadata": {
    "scrolled": false
   },
   "outputs": [],
   "source": [
    "train_dataset = tf.data.Dataset.from_tensor_slices(train_paths)\n",
    "train_dataset = train_dataset.map(load_image_label, num_parallel_calls=AUTOTUNE)\n",
    "train_dataset = train_dataset.map(image_preprocess, num_parallel_calls=AUTOTUNE)\n",
    "train_dataset = train_dataset.batch(batch_size)\n",
    "train_dataset = train_dataset.shuffle(buffer_size=len(train_paths))\n",
    "train_dataset = train_dataset.repeat()"
   ]
  },
  {
   "cell_type": "code",
   "execution_count": 16,
   "metadata": {},
   "outputs": [],
   "source": [
    "test_dataset = tf.data.Dataset.from_tensor_slices(test_paths)\n",
    "test_dataset = test_dataset.map(load_image_label, num_parallel_calls=AUTOTUNE)\n",
    "test_dataset = test_dataset.batch(batch_size)\n",
    "test_dataset = test_dataset.repeat()"
   ]
  },
  {
   "cell_type": "markdown",
   "metadata": {},
   "source": [
    "# Checkpoint\n",
    "- 모델이 학습할 때 도중에 weight를 저장해서 다음에 학습할 때 저장된 weight로 학습을 이어갈 수 있도록\n",
    "- 게임으로 치면 save하는 것\n",
    "- 중간에 실수로 학습을 꺼버리면 아까우니까 저장하는거지"
   ]
  },
  {
   "cell_type": "code",
   "execution_count": 17,
   "metadata": {},
   "outputs": [],
   "source": [
    "save_path = 'checkpoints' # 저장경로"
   ]
  },
  {
   "cell_type": "code",
   "execution_count": 21,
   "metadata": {},
   "outputs": [],
   "source": [
    "checkpoint = tf.keras.callbacks.ModelCheckpoint(save_path, monitor='val_accuracy', verbose=1, save_best_only=True, mode='max')\n",
    "# save_best_only=True: val_accuracy를 계속 모니터링하면서 accuracy가 올라가면 저장하고, 올라가지않으면 저장 안 함!\n",
    "# monitor='val_loss'로 한다고하면 높아져야는 게 아니고 낮아져야하니까 mode='min'"
   ]
  },
  {
   "cell_type": "markdown",
   "metadata": {},
   "source": [
    "## Training"
   ]
  },
  {
   "cell_type": "code",
   "execution_count": 22,
   "metadata": {
    "scrolled": true
   },
   "outputs": [
    {
     "name": "stdout",
     "output_type": "stream",
     "text": [
      "Epoch 1/20\n",
      "30/31 [============================>.] - ETA: 0s - loss: 2.3149 - accuracy: 0.0962\n",
      "Epoch 00001: val_accuracy improved from -inf to 0.11290, saving model to checkpoints\n",
      "WARNING:tensorflow:From C:\\Users\\hyun\\lib\\site-packages\\tensorflow_core\\python\\ops\\resource_variable_ops.py:1781: calling BaseResourceVariable.__init__ (from tensorflow.python.ops.resource_variable_ops) with constraint is deprecated and will be removed in a future version.\n",
      "Instructions for updating:\n",
      "If using Keras pass *_constraint arguments to layers.\n",
      "INFO:tensorflow:Assets written to: checkpoints\\assets\n",
      "31/31 [==============================] - 42s 1s/step - loss: 2.3143 - accuracy: 0.0961 - val_loss: 2.2862 - val_accuracy: 0.1129\n",
      "Epoch 2/20\n",
      "30/31 [============================>.] - ETA: 0s - loss: 2.2516 - accuracy: 0.1604\n",
      "Epoch 00002: val_accuracy improved from 0.11290 to 0.17641, saving model to checkpoints\n",
      "INFO:tensorflow:Assets written to: checkpoints\\assets\n",
      "31/31 [==============================] - 37s 1s/step - loss: 2.2479 - accuracy: 0.1673 - val_loss: 2.2076 - val_accuracy: 0.1764\n",
      "Epoch 3/20\n",
      "30/31 [============================>.] - ETA: 0s - loss: 2.1673 - accuracy: 0.1820\n",
      "Epoch 00003: val_accuracy improved from 0.17641 to 0.22581, saving model to checkpoints\n",
      "INFO:tensorflow:Assets written to: checkpoints\\assets\n",
      "31/31 [==============================] - 35s 1s/step - loss: 2.1648 - accuracy: 0.1811 - val_loss: 2.0975 - val_accuracy: 0.2258\n",
      "Epoch 4/20\n",
      "30/31 [============================>.] - ETA: 0s - loss: 2.1344 - accuracy: 0.1902\n",
      "Epoch 00004: val_accuracy improved from 0.22581 to 0.25302, saving model to checkpoints\n",
      "INFO:tensorflow:Assets written to: checkpoints\\assets\n",
      "31/31 [==============================] - 37s 1s/step - loss: 2.1351 - accuracy: 0.1890 - val_loss: 2.0579 - val_accuracy: 0.2530\n",
      "Epoch 5/20\n",
      "30/31 [============================>.] - ETA: 0s - loss: 2.0593 - accuracy: 0.2404\n",
      "Epoch 00005: val_accuracy did not improve from 0.25302\n",
      "31/31 [==============================] - 27s 879ms/step - loss: 2.0656 - accuracy: 0.2417 - val_loss: 1.9899 - val_accuracy: 0.2429\n",
      "Epoch 6/20\n",
      "30/31 [============================>.] - ETA: 0s - loss: 2.0219 - accuracy: 0.2489\n",
      "Epoch 00006: val_accuracy did not improve from 0.25302\n",
      "31/31 [==============================] - 30s 957ms/step - loss: 2.0242 - accuracy: 0.2479 - val_loss: 2.0048 - val_accuracy: 0.2248\n",
      "Epoch 7/20\n",
      "30/31 [============================>.] - ETA: 0s - loss: 1.9723 - accuracy: 0.2628\n",
      "Epoch 00007: val_accuracy improved from 0.25302 to 0.26210, saving model to checkpoints\n",
      "INFO:tensorflow:Assets written to: checkpoints\\assets\n",
      "31/31 [==============================] - 26s 841ms/step - loss: 1.9678 - accuracy: 0.2665 - val_loss: 1.9303 - val_accuracy: 0.2621\n",
      "Epoch 8/20\n",
      "30/31 [============================>.] - ETA: 0s - loss: 1.9665 - accuracy: 0.2500\n",
      "Epoch 00008: val_accuracy improved from 0.26210 to 0.29234, saving model to checkpoints\n",
      "INFO:tensorflow:Assets written to: checkpoints\\assets\n",
      "31/31 [==============================] - 17s 546ms/step - loss: 1.9638 - accuracy: 0.2490 - val_loss: 1.9595 - val_accuracy: 0.2923\n",
      "Epoch 9/20\n",
      "30/31 [============================>.] - ETA: 0s - loss: 1.8908 - accuracy: 0.3162\n",
      "Epoch 00009: val_accuracy did not improve from 0.29234\n",
      "31/31 [==============================] - 17s 544ms/step - loss: 1.8866 - accuracy: 0.3171 - val_loss: 1.9177 - val_accuracy: 0.2671\n",
      "Epoch 10/20\n",
      "30/31 [============================>.] - ETA: 0s - loss: 1.8627 - accuracy: 0.2949\n",
      "Epoch 00010: val_accuracy improved from 0.29234 to 0.31956, saving model to checkpoints\n",
      "INFO:tensorflow:Assets written to: checkpoints\\assets\n",
      "31/31 [==============================] - 18s 587ms/step - loss: 1.8677 - accuracy: 0.2924 - val_loss: 1.8340 - val_accuracy: 0.3196\n",
      "Epoch 11/20\n",
      "30/31 [============================>.] - ETA: 0s - loss: 1.8187 - accuracy: 0.3063\n",
      "Epoch 00011: val_accuracy improved from 0.31956 to 0.32359, saving model to checkpoints\n",
      "INFO:tensorflow:Assets written to: checkpoints\\assets\n",
      "31/31 [==============================] - 18s 595ms/step - loss: 1.8152 - accuracy: 0.3044 - val_loss: 1.8009 - val_accuracy: 0.3236\n",
      "Epoch 12/20\n",
      "30/31 [============================>.] - ETA: 0s - loss: 1.8389 - accuracy: 0.3120\n",
      "Epoch 00012: val_accuracy did not improve from 0.32359\n",
      "31/31 [==============================] - 18s 570ms/step - loss: 1.8414 - accuracy: 0.3120 - val_loss: 1.8928 - val_accuracy: 0.2792\n",
      "Epoch 13/20\n",
      "30/31 [============================>.] - ETA: 0s - loss: 1.7658 - accuracy: 0.3451\n",
      "Epoch 00013: val_accuracy did not improve from 0.32359\n",
      "31/31 [==============================] - 17s 563ms/step - loss: 1.7628 - accuracy: 0.3461 - val_loss: 1.8571 - val_accuracy: 0.3196\n",
      "Epoch 14/20\n",
      "30/31 [============================>.] - ETA: 0s - loss: 1.7844 - accuracy: 0.3504\n",
      "Epoch 00014: val_accuracy improved from 0.32359 to 0.35081, saving model to checkpoints\n",
      "INFO:tensorflow:Assets written to: checkpoints\\assets\n",
      "31/31 [==============================] - 17s 559ms/step - loss: 1.7781 - accuracy: 0.3523 - val_loss: 1.7544 - val_accuracy: 0.3508\n",
      "Epoch 15/20\n",
      "30/31 [============================>.] - ETA: 0s - loss: 1.7289 - accuracy: 0.3429\n",
      "Epoch 00015: val_accuracy did not improve from 0.35081\n",
      "31/31 [==============================] - 12s 390ms/step - loss: 1.7348 - accuracy: 0.3409 - val_loss: 1.7697 - val_accuracy: 0.3458\n",
      "Epoch 16/20\n",
      "30/31 [============================>.] - ETA: 0s - loss: 1.6543 - accuracy: 0.3904\n",
      "Epoch 00016: val_accuracy improved from 0.35081 to 0.35383, saving model to checkpoints\n",
      "INFO:tensorflow:Assets written to: checkpoints\\assets\n",
      "31/31 [==============================] - 14s 437ms/step - loss: 1.6585 - accuracy: 0.3867 - val_loss: 1.7718 - val_accuracy: 0.3538\n",
      "Epoch 17/20\n",
      "30/31 [============================>.] - ETA: 0s - loss: 1.6778 - accuracy: 0.3761\n",
      "Epoch 00017: val_accuracy improved from 0.35383 to 0.38407, saving model to checkpoints\n",
      "INFO:tensorflow:Assets written to: checkpoints\\assets\n",
      "31/31 [==============================] - 14s 465ms/step - loss: 1.6751 - accuracy: 0.3719 - val_loss: 1.7136 - val_accuracy: 0.3841\n",
      "Epoch 18/20\n",
      "30/31 [============================>.] - ETA: 0s - loss: 1.6372 - accuracy: 0.4260\n",
      "Epoch 00018: val_accuracy did not improve from 0.38407\n",
      "31/31 [==============================] - 12s 384ms/step - loss: 1.6316 - accuracy: 0.4224 - val_loss: 1.6698 - val_accuracy: 0.3659\n",
      "Epoch 19/20\n",
      "30/31 [============================>.] - ETA: 0s - loss: 1.6134 - accuracy: 0.4241\n",
      "Epoch 00019: val_accuracy improved from 0.38407 to 0.38508, saving model to checkpoints\n",
      "INFO:tensorflow:Assets written to: checkpoints\\assets\n",
      "31/31 [==============================] - 16s 500ms/step - loss: 1.6118 - accuracy: 0.4225 - val_loss: 1.7269 - val_accuracy: 0.3851\n",
      "Epoch 20/20\n",
      "30/31 [============================>.] - ETA: 0s - loss: 1.5860 - accuracy: 0.4156\n",
      "Epoch 00020: val_accuracy did not improve from 0.38508\n",
      "31/31 [==============================] - 14s 447ms/step - loss: 1.5834 - accuracy: 0.4153 - val_loss: 1.6700 - val_accuracy: 0.3831\n"
     ]
    },
    {
     "data": {
      "text/plain": [
       "<tensorflow.python.keras.callbacks.History at 0x2751c41a5c0>"
      ]
     },
     "execution_count": 22,
     "metadata": {},
     "output_type": "execute_result"
    }
   ],
   "source": [
    "steps_per_epoch = len(train_paths) // batch_size\n",
    "validation_steps = len(test_paths) // batch_size\n",
    "\n",
    "model.fit_generator(\n",
    "    train_dataset,\n",
    "    steps_per_epoch=steps_per_epoch,\n",
    "    validation_data=test_dataset,\n",
    "    validation_steps=validation_steps,\n",
    "    epochs=num_epochs,\n",
    "    callbacks=[checkpoint]\n",
    ")"
   ]
  },
  {
   "cell_type": "markdown",
   "metadata": {},
   "source": [
    "https://www.tensorflow.org/tensorboard/r2/image_summaries#setup"
   ]
  }
 ],
 "metadata": {
  "kernelspec": {
   "display_name": "Python 3",
   "language": "python",
   "name": "python3"
  },
  "language_info": {
   "codemirror_mode": {
    "name": "ipython",
    "version": 3
   },
   "file_extension": ".py",
   "mimetype": "text/x-python",
   "name": "python",
   "nbconvert_exporter": "python",
   "pygments_lexer": "ipython3",
   "version": "3.7.1"
  }
 },
 "nbformat": 4,
 "nbformat_minor": 2
}
