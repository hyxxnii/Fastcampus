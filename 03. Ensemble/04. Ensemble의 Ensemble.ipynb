{
 "cells": [
  {
   "cell_type": "code",
   "execution_count": 1,
   "metadata": {},
   "outputs": [],
   "source": [
    "import os\n",
    "import pandas as pd\n",
    "import numpy as np\n",
    "from sklearn.model_selection import train_test_split\n",
    "from sklearn.metrics import accuracy_score"
   ]
  },
  {
   "cell_type": "code",
   "execution_count": 3,
   "metadata": {},
   "outputs": [
    {
     "data": {
      "text/html": [
       "<div>\n",
       "<style scoped>\n",
       "    .dataframe tbody tr th:only-of-type {\n",
       "        vertical-align: middle;\n",
       "    }\n",
       "\n",
       "    .dataframe tbody tr th {\n",
       "        vertical-align: top;\n",
       "    }\n",
       "\n",
       "    .dataframe thead th {\n",
       "        text-align: right;\n",
       "    }\n",
       "</style>\n",
       "<table border=\"1\" class=\"dataframe\">\n",
       "  <thead>\n",
       "    <tr style=\"text-align: right;\">\n",
       "      <th></th>\n",
       "      <th>id</th>\n",
       "      <th>feat_1</th>\n",
       "      <th>feat_2</th>\n",
       "      <th>feat_3</th>\n",
       "      <th>feat_4</th>\n",
       "      <th>feat_5</th>\n",
       "      <th>feat_6</th>\n",
       "      <th>feat_7</th>\n",
       "      <th>feat_8</th>\n",
       "      <th>feat_9</th>\n",
       "      <th>...</th>\n",
       "      <th>feat_85</th>\n",
       "      <th>feat_86</th>\n",
       "      <th>feat_87</th>\n",
       "      <th>feat_88</th>\n",
       "      <th>feat_89</th>\n",
       "      <th>feat_90</th>\n",
       "      <th>feat_91</th>\n",
       "      <th>feat_92</th>\n",
       "      <th>feat_93</th>\n",
       "      <th>target</th>\n",
       "    </tr>\n",
       "  </thead>\n",
       "  <tbody>\n",
       "    <tr>\n",
       "      <th>0</th>\n",
       "      <td>1</td>\n",
       "      <td>1</td>\n",
       "      <td>0</td>\n",
       "      <td>0</td>\n",
       "      <td>0</td>\n",
       "      <td>0</td>\n",
       "      <td>0</td>\n",
       "      <td>0</td>\n",
       "      <td>0</td>\n",
       "      <td>0</td>\n",
       "      <td>...</td>\n",
       "      <td>1</td>\n",
       "      <td>0</td>\n",
       "      <td>0</td>\n",
       "      <td>0</td>\n",
       "      <td>0</td>\n",
       "      <td>0</td>\n",
       "      <td>0</td>\n",
       "      <td>0</td>\n",
       "      <td>0</td>\n",
       "      <td>Class_1</td>\n",
       "    </tr>\n",
       "    <tr>\n",
       "      <th>1</th>\n",
       "      <td>2</td>\n",
       "      <td>0</td>\n",
       "      <td>0</td>\n",
       "      <td>0</td>\n",
       "      <td>0</td>\n",
       "      <td>0</td>\n",
       "      <td>0</td>\n",
       "      <td>0</td>\n",
       "      <td>1</td>\n",
       "      <td>0</td>\n",
       "      <td>...</td>\n",
       "      <td>0</td>\n",
       "      <td>0</td>\n",
       "      <td>0</td>\n",
       "      <td>0</td>\n",
       "      <td>0</td>\n",
       "      <td>0</td>\n",
       "      <td>0</td>\n",
       "      <td>0</td>\n",
       "      <td>0</td>\n",
       "      <td>Class_1</td>\n",
       "    </tr>\n",
       "    <tr>\n",
       "      <th>2</th>\n",
       "      <td>3</td>\n",
       "      <td>0</td>\n",
       "      <td>0</td>\n",
       "      <td>0</td>\n",
       "      <td>0</td>\n",
       "      <td>0</td>\n",
       "      <td>0</td>\n",
       "      <td>0</td>\n",
       "      <td>1</td>\n",
       "      <td>0</td>\n",
       "      <td>...</td>\n",
       "      <td>0</td>\n",
       "      <td>0</td>\n",
       "      <td>0</td>\n",
       "      <td>0</td>\n",
       "      <td>0</td>\n",
       "      <td>0</td>\n",
       "      <td>0</td>\n",
       "      <td>0</td>\n",
       "      <td>0</td>\n",
       "      <td>Class_1</td>\n",
       "    </tr>\n",
       "    <tr>\n",
       "      <th>3</th>\n",
       "      <td>4</td>\n",
       "      <td>1</td>\n",
       "      <td>0</td>\n",
       "      <td>0</td>\n",
       "      <td>1</td>\n",
       "      <td>6</td>\n",
       "      <td>1</td>\n",
       "      <td>5</td>\n",
       "      <td>0</td>\n",
       "      <td>0</td>\n",
       "      <td>...</td>\n",
       "      <td>0</td>\n",
       "      <td>1</td>\n",
       "      <td>2</td>\n",
       "      <td>0</td>\n",
       "      <td>0</td>\n",
       "      <td>0</td>\n",
       "      <td>0</td>\n",
       "      <td>0</td>\n",
       "      <td>0</td>\n",
       "      <td>Class_1</td>\n",
       "    </tr>\n",
       "    <tr>\n",
       "      <th>4</th>\n",
       "      <td>5</td>\n",
       "      <td>0</td>\n",
       "      <td>0</td>\n",
       "      <td>0</td>\n",
       "      <td>0</td>\n",
       "      <td>0</td>\n",
       "      <td>0</td>\n",
       "      <td>0</td>\n",
       "      <td>0</td>\n",
       "      <td>0</td>\n",
       "      <td>...</td>\n",
       "      <td>1</td>\n",
       "      <td>0</td>\n",
       "      <td>0</td>\n",
       "      <td>0</td>\n",
       "      <td>0</td>\n",
       "      <td>1</td>\n",
       "      <td>0</td>\n",
       "      <td>0</td>\n",
       "      <td>0</td>\n",
       "      <td>Class_1</td>\n",
       "    </tr>\n",
       "  </tbody>\n",
       "</table>\n",
       "<p>5 rows × 95 columns</p>\n",
       "</div>"
      ],
      "text/plain": [
       "   id  feat_1  feat_2  feat_3  feat_4  feat_5  feat_6  feat_7  feat_8  feat_9  \\\n",
       "0   1       1       0       0       0       0       0       0       0       0   \n",
       "1   2       0       0       0       0       0       0       0       1       0   \n",
       "2   3       0       0       0       0       0       0       0       1       0   \n",
       "3   4       1       0       0       1       6       1       5       0       0   \n",
       "4   5       0       0       0       0       0       0       0       0       0   \n",
       "\n",
       "   ...  feat_85  feat_86  feat_87  feat_88  feat_89  feat_90  feat_91  \\\n",
       "0  ...        1        0        0        0        0        0        0   \n",
       "1  ...        0        0        0        0        0        0        0   \n",
       "2  ...        0        0        0        0        0        0        0   \n",
       "3  ...        0        1        2        0        0        0        0   \n",
       "4  ...        1        0        0        0        0        1        0   \n",
       "\n",
       "   feat_92  feat_93   target  \n",
       "0        0        0  Class_1  \n",
       "1        0        0  Class_1  \n",
       "2        0        0  Class_1  \n",
       "3        0        0  Class_1  \n",
       "4        0        0  Class_1  \n",
       "\n",
       "[5 rows x 95 columns]"
      ]
     },
     "execution_count": 3,
     "metadata": {},
     "output_type": "execute_result"
    }
   ],
   "source": [
    "# 데이터 불러오기\n",
    "data = pd.read_csv(\"./data/otto_train.csv\") # Product Category\n",
    "data.head()"
   ]
  },
  {
   "cell_type": "code",
   "execution_count": 4,
   "metadata": {},
   "outputs": [
    {
     "data": {
      "text/plain": [
       "'\\nid: 고유 아이디\\nfeat_1 ~ feat_93: 설명변수\\ntarget: 타겟변수 (1~9)\\n'"
      ]
     },
     "execution_count": 4,
     "metadata": {},
     "output_type": "execute_result"
    }
   ],
   "source": [
    "'''\n",
    "id: 고유 아이디\n",
    "feat_1 ~ feat_93: 설명변수\n",
    "target: 타겟변수 (1~9)\n",
    "'''"
   ]
  },
  {
   "cell_type": "code",
   "execution_count": 5,
   "metadata": {},
   "outputs": [
    {
     "name": "stdout",
     "output_type": "stream",
     "text": [
      "nCar: 61878 nVar: 95\n"
     ]
    }
   ],
   "source": [
    "nCar = data.shape[0] # 데이터 개수\n",
    "nVar = data.shape[1] # 변수 개수\n",
    "print('nCar: %d' % nCar, 'nVar: %d' % nVar )"
   ]
  },
  {
   "cell_type": "markdown",
   "metadata": {},
   "source": [
    "## 의미가 없다고 판단되는 변수 제거"
   ]
  },
  {
   "cell_type": "code",
   "execution_count": 6,
   "metadata": {},
   "outputs": [],
   "source": [
    "data = data.drop(['id'], axis = 1) # id 제거"
   ]
  },
  {
   "cell_type": "markdown",
   "metadata": {},
   "source": [
    "## 타겟 변수의 문자열을 숫자로 변환"
   ]
  },
  {
   "cell_type": "code",
   "execution_count": 7,
   "metadata": {},
   "outputs": [],
   "source": [
    "mapping_dict = {\"Class_1\": 1,\n",
    "                \"Class_2\": 2,\n",
    "                \"Class_3\": 3,\n",
    "                \"Class_4\": 4,\n",
    "                \"Class_5\": 5,\n",
    "                \"Class_6\": 6,\n",
    "                \"Class_7\": 7,\n",
    "                \"Class_8\": 8,\n",
    "                \"Class_9\": 9}\n",
    "after_mapping_target = data['target'].apply(lambda x: mapping_dict[x])"
   ]
  },
  {
   "cell_type": "markdown",
   "metadata": {},
   "source": [
    "## 설명변수와 타겟변수를 분리, 학습데이터와 평가데이터 분리"
   ]
  },
  {
   "cell_type": "code",
   "execution_count": 8,
   "metadata": {
    "scrolled": true
   },
   "outputs": [
    {
     "name": "stdout",
     "output_type": "stream",
     "text": [
      "(49502, 93) (12376, 93) (49502,) (12376,)\n"
     ]
    }
   ],
   "source": [
    "feature_columns = list(data.columns.difference(['target'])) # target을 제외한 모든 행\n",
    "X = data[feature_columns] # 설명변수\n",
    "y = after_mapping_target # 타겟변수\n",
    "train_x, test_x, train_y, test_y = train_test_split(X, y, test_size = 0.2, random_state = 42) # 학습데이터와 평가데이터의 비율을 8:2 로 분할| \n",
    "print(train_x.shape, test_x.shape, train_y.shape, test_y.shape) # 데이터 개수 확인"
   ]
  },
  {
   "cell_type": "markdown",
   "metadata": {},
   "source": [
    "## 1. XGBoost"
   ]
  },
  {
   "cell_type": "code",
   "execution_count": 9,
   "metadata": {},
   "outputs": [
    {
     "name": "stdout",
     "output_type": "stream",
     "text": [
      "[14:21:56] WARNING: C:\\Users\\Administrator\\workspace\\xgboost-win64_release_1.0.0\\src\\learner.cc:328: \n",
      "Parameters: { n_estimators } might not be used.\n",
      "\n",
      "  This may not be accurate due to some parameters are only used in language bindings but\n",
      "  passed down to XGBoost core.  Or some parameters are not used but slip through this\n",
      "  verification. Please open an issue if you find above cases.\n",
      "\n",
      "\n",
      "Accuracy: 76.67 %\n",
      "Time: 36.74 seconds\n"
     ]
    }
   ],
   "source": [
    "# !pip install xgboost\n",
    "import xgboost as xgb\n",
    "import time\n",
    "start = time.time() # 시작 시간 지정\n",
    "xgb_dtrain = xgb.DMatrix(data = train_x, label = train_y) # 학습 데이터를 XGBoost 모델에 맞게 변환\n",
    "xgb_dtest = xgb.DMatrix(data = test_x) # 평가 데이터를 XGBoost 모델에 맞게 변환\n",
    "xgb_param = {'max_depth': 10, # 트리 깊이\n",
    "         'learning_rate': 0.01, # Step Size\n",
    "         'n_estimators': 100, # Number of trees, 트리 생성 개수\n",
    "         'objective': 'multi:softmax', # 목적 함수\n",
    "        'num_class': len(set(train_y)) + 1} # 파라미터 추가, Label must be in [0, num_class) -> num_class보다 1 커야한다.\n",
    "xgb_model = xgb.train(params = xgb_param, dtrain = xgb_dtrain) # 학습 진행\n",
    "xgb_model_predict = xgb_model.predict(xgb_dtest) # 평가 데이터 예측\n",
    "print(\"Accuracy: %.2f\" % (accuracy_score(test_y, xgb_model_predict) * 100), \"%\") # 정확도 % 계산\n",
    "print(\"Time: %.2f\" % (time.time() - start), \"seconds\") # 코드 실행 시간 계산"
   ]
  },
  {
   "cell_type": "code",
   "execution_count": 11,
   "metadata": {},
   "outputs": [],
   "source": [
    "import xgboost as xgb\n",
    "from sklearn.metrics import mean_absolute_error\n",
    "\n",
    "def train_model(train_x, train_y, test_x, test_y):\n",
    "    xgb_dtrain = xgb.DMatrix(data = train_x, label = train_y) # 학습 데이터를 XGBoost 모델에 맞게 변환\n",
    "    xgb_dtest = xgb.DMatrix(data = test_x) # 평가 데이터를 XGBoost 모델에 맞게 변환\n",
    "    xgb_param = {'max_depth': 10, # 트리 깊이\n",
    "             'learning_rate': 0.01, # Step Size\n",
    "             'n_estimators': 100, # Number of trees, 트리 생성 개수\n",
    "             'objective': 'multi:softmax', # 목적 함수\n",
    "            'num_class': len(set(train_y)) + 1} # 파라미터 추가, Label must be in [0, num_class) -> num_class보다 1 커야한다.\n",
    "    xgb_model = xgb.train(params = xgb_param, dtrain = xgb_dtrain) # 학습 진행\n",
    "    xgb_model_predict = xgb_model.predict(xgb_dtest) # 평가 데이터 예측\n",
    "    pred_mae = mean_absolute_error(test_y, xgb_model_predict)\n",
    "    \n",
    "    return pred_mae"
   ]
  },
  {
   "cell_type": "code",
   "execution_count": 12,
   "metadata": {},
   "outputs": [
    {
     "name": "stdout",
     "output_type": "stream",
     "text": [
      "[15:52:27] WARNING: C:\\Users\\Administrator\\workspace\\xgboost-win64_release_1.0.0\\src\\learner.cc:328: \n",
      "Parameters: { n_estimators } might not be used.\n",
      "\n",
      "  This may not be accurate due to some parameters are only used in language bindings but\n",
      "  passed down to XGBoost core.  Or some parameters are not used but slip through this\n",
      "  verification. Please open an issue if you find above cases.\n",
      "\n",
      "\n"
     ]
    },
    {
     "data": {
      "text/plain": [
       "0.5762766645119586"
      ]
     },
     "execution_count": 12,
     "metadata": {},
     "output_type": "execute_result"
    }
   ],
   "source": [
    "train_model(train_x, train_y, test_x, test_y)"
   ]
  },
  {
   "cell_type": "code",
   "execution_count": 10,
   "metadata": {},
   "outputs": [
    {
     "data": {
      "text/plain": [
       "array([5., 3., 6., ..., 9., 2., 7.], dtype=float32)"
      ]
     },
     "execution_count": 10,
     "metadata": {},
     "output_type": "execute_result"
    }
   ],
   "source": [
    "xgb_model_predict"
   ]
  },
  {
   "cell_type": "markdown",
   "metadata": {},
   "source": [
    "## 2. LightGBM"
   ]
  },
  {
   "cell_type": "code",
   "execution_count": 11,
   "metadata": {},
   "outputs": [
    {
     "name": "stderr",
     "output_type": "stream",
     "text": [
      "C:\\Users\\hyun\\lib\\site-packages\\lightgbm\\engine.py:148: UserWarning: Found `n_estimators` in params. Will use it instead of argument\n",
      "  warnings.warn(\"Found `{}` in params. Will use it instead of argument\".format(alias))\n"
     ]
    },
    {
     "name": "stdout",
     "output_type": "stream",
     "text": [
      "Accuracy: 73.57 %\n",
      "Time: 18.88 seconds\n"
     ]
    }
   ],
   "source": [
    "# !pip install lightgbm\n",
    "import lightgbm as lgb\n",
    "start = time.time() # 시작 시간 지정\n",
    "lgb_dtrain = lgb.Dataset(data = train_x, label = train_y) # 학습 데이터를 LightGBM 모델에 맞게 변환\n",
    "lgb_param = {'max_depth': 10, # 트리 깊이\n",
    "            'learning_rate': 0.01, # Step Size\n",
    "            'n_estimators': 100, # Number of trees, 트리 생성 개수\n",
    "            'objective': 'multiclass', # 목적 함수\n",
    "            'num_class': len(set(train_y)) + 1} # 파라미터 추가, Label must be in [0, num_class) -> num_class보다 1 커야한다.\n",
    "lgb_model = lgb.train(params = lgb_param, train_set = lgb_dtrain) # 학습 진행\n",
    "lgb_model_predict = np.argmax(lgb_model.predict(test_x), axis = 1) # 평가 데이터 예측, Softmax의 결과값 중 가장 큰 값의 Label로 예측\n",
    "print(\"Accuracy: %.2f\" % (accuracy_score(test_y, lgb_model_predict) * 100), \"%\") # 정확도 % 계산\n",
    "print(\"Time: %.2f\" % (time.time() - start), \"seconds\") # 코드 실행 시간 계산"
   ]
  },
  {
   "cell_type": "code",
   "execution_count": 12,
   "metadata": {},
   "outputs": [
    {
     "data": {
      "text/plain": [
       "array([[9.14195396e-16, 2.27101123e-02, 3.85432853e-01, ...,\n",
       "        3.25763637e-02, 7.61804989e-02, 4.64683926e-02],\n",
       "       [1.16264426e-15, 3.77262272e-02, 2.26739830e-01, ...,\n",
       "        1.92812290e-01, 1.01826669e-01, 8.11988908e-02],\n",
       "       [8.03061518e-16, 1.74144816e-02, 1.18616633e-01, ...,\n",
       "        2.57008295e-02, 6.69196402e-02, 4.08194769e-02],\n",
       "       ...,\n",
       "       [8.35633463e-16, 5.03899675e-02, 1.67414994e-01, ...,\n",
       "        4.81925245e-02, 1.02188157e-01, 3.95359380e-01],\n",
       "       [1.01560525e-15, 2.13472780e-02, 4.60509516e-01, ...,\n",
       "        3.32864538e-02, 8.46310485e-02, 5.16230380e-02],\n",
       "       [8.92775603e-16, 2.04756016e-02, 1.31867900e-01, ...,\n",
       "        4.13697353e-01, 1.44381292e-01, 4.53796283e-02]])"
      ]
     },
     "execution_count": 12,
     "metadata": {},
     "output_type": "execute_result"
    }
   ],
   "source": [
    "lgb_model.predict(test_x)"
   ]
  },
  {
   "cell_type": "markdown",
   "metadata": {},
   "source": [
    "## 3. Catboost"
   ]
  },
  {
   "cell_type": "code",
   "execution_count": 13,
   "metadata": {
    "scrolled": true
   },
   "outputs": [
    {
     "name": "stdout",
     "output_type": "stream",
     "text": [
      "0:\tlearn: 0.5907034\ttotal: 1.3s\tremaining: 2m 8s\n",
      "1:\tlearn: 0.6356107\ttotal: 2.61s\tremaining: 2m 8s\n",
      "2:\tlearn: 0.6411256\ttotal: 3.87s\tremaining: 2m 5s\n",
      "3:\tlearn: 0.6480344\ttotal: 4.99s\tremaining: 1m 59s\n",
      "4:\tlearn: 0.6508222\ttotal: 6.43s\tremaining: 2m 2s\n",
      "5:\tlearn: 0.6499939\ttotal: 8.03s\tremaining: 2m 5s\n",
      "6:\tlearn: 0.6507818\ttotal: 10s\tremaining: 2m 13s\n",
      "7:\tlearn: 0.6548422\ttotal: 11.8s\tremaining: 2m 15s\n",
      "8:\tlearn: 0.6559533\ttotal: 13.7s\tremaining: 2m 18s\n",
      "9:\tlearn: 0.6560947\ttotal: 15.5s\tremaining: 2m 19s\n",
      "10:\tlearn: 0.6568421\ttotal: 17.3s\tremaining: 2m 19s\n",
      "11:\tlearn: 0.6588219\ttotal: 19s\tremaining: 2m 19s\n",
      "12:\tlearn: 0.6592259\ttotal: 20.8s\tremaining: 2m 19s\n",
      "13:\tlearn: 0.6611248\ttotal: 22.7s\tremaining: 2m 19s\n",
      "14:\tlearn: 0.6625591\ttotal: 24.5s\tremaining: 2m 18s\n",
      "15:\tlearn: 0.6631853\ttotal: 26.3s\tremaining: 2m 18s\n",
      "16:\tlearn: 0.6639328\ttotal: 28.2s\tremaining: 2m 17s\n",
      "17:\tlearn: 0.6668821\ttotal: 30s\tremaining: 2m 16s\n",
      "18:\tlearn: 0.6669630\ttotal: 31.6s\tremaining: 2m 14s\n",
      "19:\tlearn: 0.6675286\ttotal: 33.6s\tremaining: 2m 14s\n",
      "20:\tlearn: 0.6673266\ttotal: 35.8s\tremaining: 2m 14s\n",
      "21:\tlearn: 0.6677104\ttotal: 37.5s\tremaining: 2m 13s\n",
      "22:\tlearn: 0.6682558\ttotal: 40.1s\tremaining: 2m 14s\n",
      "23:\tlearn: 0.6683972\ttotal: 41.7s\tremaining: 2m 12s\n",
      "24:\tlearn: 0.6686599\ttotal: 43.5s\tremaining: 2m 10s\n",
      "25:\tlearn: 0.6681952\ttotal: 45s\tremaining: 2m 8s\n",
      "26:\tlearn: 0.6684982\ttotal: 46.6s\tremaining: 2m 5s\n",
      "27:\tlearn: 0.6692053\ttotal: 48.1s\tremaining: 2m 3s\n",
      "28:\tlearn: 0.6696699\ttotal: 49.6s\tremaining: 2m 1s\n",
      "29:\tlearn: 0.6699325\ttotal: 51.1s\tremaining: 1m 59s\n",
      "30:\tlearn: 0.6705992\ttotal: 52.6s\tremaining: 1m 56s\n",
      "31:\tlearn: 0.6709426\ttotal: 53.9s\tremaining: 1m 54s\n",
      "32:\tlearn: 0.6708012\ttotal: 55.2s\tremaining: 1m 52s\n",
      "33:\tlearn: 0.6709426\ttotal: 56.5s\tremaining: 1m 49s\n",
      "34:\tlearn: 0.6707002\ttotal: 57.8s\tremaining: 1m 47s\n",
      "35:\tlearn: 0.6715082\ttotal: 59.5s\tremaining: 1m 45s\n",
      "36:\tlearn: 0.6705992\ttotal: 1m 1s\tremaining: 1m 45s\n",
      "37:\tlearn: 0.6725991\ttotal: 1m 3s\tremaining: 1m 43s\n",
      "38:\tlearn: 0.6729829\ttotal: 1m 5s\tremaining: 1m 41s\n",
      "39:\tlearn: 0.6725991\ttotal: 1m 6s\tremaining: 1m 39s\n",
      "40:\tlearn: 0.6734273\ttotal: 1m 8s\tremaining: 1m 38s\n",
      "41:\tlearn: 0.6738314\ttotal: 1m 10s\tremaining: 1m 37s\n",
      "42:\tlearn: 0.6741546\ttotal: 1m 11s\tremaining: 1m 35s\n",
      "43:\tlearn: 0.6739728\ttotal: 1m 12s\tremaining: 1m 32s\n",
      "44:\tlearn: 0.6741950\ttotal: 1m 14s\tremaining: 1m 30s\n",
      "45:\tlearn: 0.6750636\ttotal: 1m 15s\tremaining: 1m 28s\n",
      "46:\tlearn: 0.6758919\ttotal: 1m 17s\tremaining: 1m 27s\n",
      "47:\tlearn: 0.6757707\ttotal: 1m 19s\tremaining: 1m 25s\n",
      "48:\tlearn: 0.6762151\ttotal: 1m 21s\tremaining: 1m 24s\n",
      "49:\tlearn: 0.6774474\ttotal: 1m 22s\tremaining: 1m 22s\n",
      "50:\tlearn: 0.6777100\ttotal: 1m 23s\tremaining: 1m 20s\n",
      "51:\tlearn: 0.6786594\ttotal: 1m 25s\tremaining: 1m 18s\n",
      "52:\tlearn: 0.6789827\ttotal: 1m 26s\tremaining: 1m 16s\n",
      "53:\tlearn: 0.6804372\ttotal: 1m 27s\tremaining: 1m 14s\n",
      "54:\tlearn: 0.6804372\ttotal: 1m 28s\tremaining: 1m 12s\n",
      "55:\tlearn: 0.6809220\ttotal: 1m 30s\tremaining: 1m 11s\n",
      "56:\tlearn: 0.6812250\ttotal: 1m 32s\tremaining: 1m 9s\n",
      "57:\tlearn: 0.6813058\ttotal: 1m 33s\tremaining: 1m 7s\n",
      "58:\tlearn: 0.6811846\ttotal: 1m 35s\tremaining: 1m 6s\n",
      "59:\tlearn: 0.6813260\ttotal: 1m 36s\tremaining: 1m 4s\n",
      "60:\tlearn: 0.6816694\ttotal: 1m 38s\tremaining: 1m 2s\n",
      "61:\tlearn: 0.6823159\ttotal: 1m 39s\tremaining: 1m 1s\n",
      "62:\tlearn: 0.6832653\ttotal: 1m 41s\tremaining: 59.4s\n",
      "63:\tlearn: 0.6840734\ttotal: 1m 42s\tremaining: 57.8s\n",
      "64:\tlearn: 0.6840734\ttotal: 1m 44s\tremaining: 56.4s\n",
      "65:\tlearn: 0.6846592\ttotal: 1m 46s\tremaining: 55s\n",
      "66:\tlearn: 0.6843360\ttotal: 1m 48s\tremaining: 53.7s\n",
      "67:\tlearn: 0.6846390\ttotal: 1m 50s\tremaining: 51.9s\n",
      "68:\tlearn: 0.6854269\ttotal: 1m 52s\tremaining: 50.4s\n",
      "69:\tlearn: 0.6858309\ttotal: 1m 53s\tremaining: 48.6s\n",
      "70:\tlearn: 0.6858309\ttotal: 1m 54s\tremaining: 46.8s\n",
      "71:\tlearn: 0.6865783\ttotal: 1m 55s\tremaining: 45s\n",
      "72:\tlearn: 0.6864167\ttotal: 1m 56s\tremaining: 43.2s\n",
      "73:\tlearn: 0.6868611\ttotal: 1m 58s\tremaining: 41.5s\n",
      "74:\tlearn: 0.6869217\ttotal: 1m 59s\tremaining: 39.7s\n",
      "75:\tlearn: 0.6870429\ttotal: 2m\tremaining: 38s\n",
      "76:\tlearn: 0.6875278\ttotal: 2m 1s\tremaining: 36.3s\n",
      "77:\tlearn: 0.6881136\ttotal: 2m 2s\tremaining: 34.6s\n",
      "78:\tlearn: 0.6883762\ttotal: 2m 4s\tremaining: 33s\n",
      "79:\tlearn: 0.6888207\ttotal: 2m 5s\tremaining: 31.4s\n",
      "80:\tlearn: 0.6892449\ttotal: 2m 7s\tremaining: 30s\n",
      "81:\tlearn: 0.6898509\ttotal: 2m 10s\tremaining: 28.5s\n",
      "82:\tlearn: 0.6897095\ttotal: 2m 11s\tremaining: 27s\n",
      "83:\tlearn: 0.6902549\ttotal: 2m 13s\tremaining: 25.4s\n",
      "84:\tlearn: 0.6909822\ttotal: 2m 15s\tremaining: 24s\n",
      "85:\tlearn: 0.6910832\ttotal: 2m 17s\tremaining: 22.4s\n",
      "86:\tlearn: 0.6914468\ttotal: 2m 19s\tremaining: 20.8s\n",
      "87:\tlearn: 0.6916084\ttotal: 2m 20s\tremaining: 19.1s\n",
      "88:\tlearn: 0.6919922\ttotal: 2m 21s\tremaining: 17.5s\n",
      "89:\tlearn: 0.6925579\ttotal: 2m 23s\tremaining: 15.9s\n",
      "90:\tlearn: 0.6928407\ttotal: 2m 24s\tremaining: 14.3s\n",
      "91:\tlearn: 0.6930427\ttotal: 2m 25s\tremaining: 12.7s\n",
      "92:\tlearn: 0.6935073\ttotal: 2m 26s\tremaining: 11.1s\n",
      "93:\tlearn: 0.6940932\ttotal: 2m 28s\tremaining: 9.46s\n",
      "94:\tlearn: 0.6944972\ttotal: 2m 29s\tremaining: 7.86s\n",
      "95:\tlearn: 0.6948810\ttotal: 2m 30s\tremaining: 6.28s\n",
      "96:\tlearn: 0.6951840\ttotal: 2m 31s\tremaining: 4.7s\n",
      "97:\tlearn: 0.6954264\ttotal: 2m 33s\tremaining: 3.12s\n",
      "98:\tlearn: 0.6955881\ttotal: 2m 34s\tremaining: 1.56s\n",
      "99:\tlearn: 0.6956285\ttotal: 2m 36s\tremaining: 0us\n",
      "Accuracy: 69.64 %\n",
      "Time: 156.90 seconds\n"
     ]
    }
   ],
   "source": [
    "# !pip install catboost\n",
    "import catboost as cb\n",
    "start = time.time() # 시작 시간 지정\n",
    "cb_dtrain = cb.Pool(data = train_x, label = train_y) # 학습 데이터를 Catboost 모델에 맞게 변환\n",
    "cb_param = {'max_depth': 10, # 트리 깊이\n",
    "            'learning_rate': 0.01, # Step Size\n",
    "            'n_estimators': 100, # Number of trees, 트리 생성 개수\n",
    "            'eval_metric': 'Accuracy', # 평가 척도\n",
    "            'loss_function': 'MultiClass'} # 손실 함수, 목적 함수\n",
    "cb_model = cb.train(pool = cb_dtrain, params = cb_param) # 학습 진행\n",
    "cb_model_predict = np.argmax(cb_model.predict(test_x), axis = 1) + 1 # 평가 데이터 예측, Softmax의 결과값 중 가장 큰 값의 Label로 예측, 인덱스의 순서를 맞추기 위해 +1\n",
    "print(\"Accuracy: %.2f\" % (accuracy_score(test_y, cb_model_predict) * 100), \"%\") # 정확도 % 계산\n",
    "print(\"Time: %.2f\" % (time.time() - start), \"seconds\") # 코드 실행 시간 계산"
   ]
  },
  {
   "cell_type": "code",
   "execution_count": 14,
   "metadata": {},
   "outputs": [
    {
     "data": {
      "text/plain": [
       "array([[-0.35426047,  1.22109587,  0.44230101, ..., -0.1698448 ,\n",
       "        -0.02059177, -0.2130643 ],\n",
       "       [-0.07235138,  0.42535181,  0.20060428, ...,  0.21863604,\n",
       "         0.2719157 ,  0.25089315],\n",
       "       [-0.3315885 , -0.31862353, -0.31279765, ..., -0.29798357,\n",
       "        -0.24018767, -0.32984969],\n",
       "       ...,\n",
       "       [ 0.05304325,  0.02500267, -0.14752573, ..., -0.20741963,\n",
       "         0.12789417,  1.51166757],\n",
       "       [-0.55093666,  1.7691278 ,  0.99746884, ..., -0.3420542 ,\n",
       "        -0.49799871, -0.38136323],\n",
       "       [-0.3033724 ,  0.09352675, -0.11808658, ...,  0.65825036,\n",
       "         1.05515787, -0.20799899]])"
      ]
     },
     "execution_count": 14,
     "metadata": {},
     "output_type": "execute_result"
    }
   ],
   "source": [
    "cb_model.predict(test_x)"
   ]
  },
  {
   "cell_type": "markdown",
   "metadata": {},
   "source": [
    "- 자기가 하는 데이터분석의 목적이 regression(회귀)이냐 classification(분류)아냐, classification 중에서도 multi class냐 binary냐 이거에 따라서 바뀌는 파라미터가 **'objective'나 'eval_metric'**. 이 부분만 바뀌고 나머지 하이퍼 파라미터(max_depth, learning_rate 등등)은 똑같이 사용할 수 있음\n",
    "<br>\n",
    "<br>\n",
    "- 일반적인 성능 : LightGBM > CatBoost > XGBoost"
   ]
  },
  {
   "cell_type": "code",
   "execution_count": 15,
   "metadata": {},
   "outputs": [
    {
     "data": {
      "text/html": [
       "<div>\n",
       "<style scoped>\n",
       "    .dataframe tbody tr th:only-of-type {\n",
       "        vertical-align: middle;\n",
       "    }\n",
       "\n",
       "    .dataframe tbody tr th {\n",
       "        vertical-align: top;\n",
       "    }\n",
       "\n",
       "    .dataframe thead th {\n",
       "        text-align: right;\n",
       "    }\n",
       "</style>\n",
       "<table border=\"1\" class=\"dataframe\">\n",
       "  <thead>\n",
       "    <tr style=\"text-align: right;\">\n",
       "      <th></th>\n",
       "      <th>id</th>\n",
       "      <th>date</th>\n",
       "      <th>price</th>\n",
       "      <th>bedrooms</th>\n",
       "      <th>bathrooms</th>\n",
       "      <th>floors</th>\n",
       "      <th>waterfront</th>\n",
       "      <th>condition</th>\n",
       "      <th>grade</th>\n",
       "      <th>yr_built</th>\n",
       "      <th>yr_renovated</th>\n",
       "      <th>zipcode</th>\n",
       "      <th>lat</th>\n",
       "      <th>long</th>\n",
       "    </tr>\n",
       "  </thead>\n",
       "  <tbody>\n",
       "    <tr>\n",
       "      <th>0</th>\n",
       "      <td>7129300520</td>\n",
       "      <td>20141013T000000</td>\n",
       "      <td>221900.0</td>\n",
       "      <td>3</td>\n",
       "      <td>1.00</td>\n",
       "      <td>1.0</td>\n",
       "      <td>0</td>\n",
       "      <td>3</td>\n",
       "      <td>7</td>\n",
       "      <td>1955</td>\n",
       "      <td>0</td>\n",
       "      <td>98178</td>\n",
       "      <td>47.5112</td>\n",
       "      <td>-122.257</td>\n",
       "    </tr>\n",
       "    <tr>\n",
       "      <th>1</th>\n",
       "      <td>6414100192</td>\n",
       "      <td>20141209T000000</td>\n",
       "      <td>538000.0</td>\n",
       "      <td>3</td>\n",
       "      <td>2.25</td>\n",
       "      <td>2.0</td>\n",
       "      <td>0</td>\n",
       "      <td>3</td>\n",
       "      <td>7</td>\n",
       "      <td>1951</td>\n",
       "      <td>1991</td>\n",
       "      <td>98125</td>\n",
       "      <td>47.7210</td>\n",
       "      <td>-122.319</td>\n",
       "    </tr>\n",
       "    <tr>\n",
       "      <th>2</th>\n",
       "      <td>5631500400</td>\n",
       "      <td>20150225T000000</td>\n",
       "      <td>180000.0</td>\n",
       "      <td>2</td>\n",
       "      <td>1.00</td>\n",
       "      <td>1.0</td>\n",
       "      <td>0</td>\n",
       "      <td>3</td>\n",
       "      <td>6</td>\n",
       "      <td>1933</td>\n",
       "      <td>0</td>\n",
       "      <td>98028</td>\n",
       "      <td>47.7379</td>\n",
       "      <td>-122.233</td>\n",
       "    </tr>\n",
       "    <tr>\n",
       "      <th>3</th>\n",
       "      <td>2487200875</td>\n",
       "      <td>20141209T000000</td>\n",
       "      <td>604000.0</td>\n",
       "      <td>4</td>\n",
       "      <td>3.00</td>\n",
       "      <td>1.0</td>\n",
       "      <td>0</td>\n",
       "      <td>5</td>\n",
       "      <td>7</td>\n",
       "      <td>1965</td>\n",
       "      <td>0</td>\n",
       "      <td>98136</td>\n",
       "      <td>47.5208</td>\n",
       "      <td>-122.393</td>\n",
       "    </tr>\n",
       "    <tr>\n",
       "      <th>4</th>\n",
       "      <td>1954400510</td>\n",
       "      <td>20150218T000000</td>\n",
       "      <td>510000.0</td>\n",
       "      <td>3</td>\n",
       "      <td>2.00</td>\n",
       "      <td>1.0</td>\n",
       "      <td>0</td>\n",
       "      <td>3</td>\n",
       "      <td>8</td>\n",
       "      <td>1987</td>\n",
       "      <td>0</td>\n",
       "      <td>98074</td>\n",
       "      <td>47.6168</td>\n",
       "      <td>-122.045</td>\n",
       "    </tr>\n",
       "  </tbody>\n",
       "</table>\n",
       "</div>"
      ],
      "text/plain": [
       "           id             date     price  bedrooms  bathrooms  floors  \\\n",
       "0  7129300520  20141013T000000  221900.0         3       1.00     1.0   \n",
       "1  6414100192  20141209T000000  538000.0         3       2.25     2.0   \n",
       "2  5631500400  20150225T000000  180000.0         2       1.00     1.0   \n",
       "3  2487200875  20141209T000000  604000.0         4       3.00     1.0   \n",
       "4  1954400510  20150218T000000  510000.0         3       2.00     1.0   \n",
       "\n",
       "   waterfront  condition  grade  yr_built  yr_renovated  zipcode      lat  \\\n",
       "0           0          3      7      1955             0    98178  47.5112   \n",
       "1           0          3      7      1951          1991    98125  47.7210   \n",
       "2           0          3      6      1933             0    98028  47.7379   \n",
       "3           0          5      7      1965             0    98136  47.5208   \n",
       "4           0          3      8      1987             0    98074  47.6168   \n",
       "\n",
       "      long  \n",
       "0 -122.257  \n",
       "1 -122.319  \n",
       "2 -122.233  \n",
       "3 -122.393  \n",
       "4 -122.045  "
      ]
     },
     "execution_count": 15,
     "metadata": {},
     "output_type": "execute_result"
    }
   ],
   "source": [
    "# 집 값(price) 예측을 LightGBM으로 해보자\n",
    "\n",
    "# 데이터 불러오기\n",
    "data = pd.read_csv(\"./data/kc_house_data.csv\") \n",
    "data.head() # 데이터 확인"
   ]
  },
  {
   "cell_type": "code",
   "execution_count": 16,
   "metadata": {},
   "outputs": [],
   "source": [
    "data = data.drop(['id', 'date', 'zipcode', 'lat', 'long'], axis = 1) # id, date, zipcode, lat, long  제거"
   ]
  },
  {
   "cell_type": "code",
   "execution_count": 17,
   "metadata": {},
   "outputs": [
    {
     "name": "stdout",
     "output_type": "stream",
     "text": [
      "(15129, 8) (6484, 8) (15129,) (6484,)\n"
     ]
    }
   ],
   "source": [
    "feature_columns = list(data.columns.difference(['price'])) # Price를 제외한 모든 행\n",
    "X = data[feature_columns]\n",
    "y = data['price']\n",
    "train_x, test_x, train_y, test_y = train_test_split(X, y, test_size = 0.3, random_state = 42) # 학습데이터와 평가데이터의 비율을 7:3\n",
    "print(train_x.shape, test_x.shape, train_y.shape, test_y.shape) # 데이터 개수 확인"
   ]
  },
  {
   "cell_type": "code",
   "execution_count": 18,
   "metadata": {},
   "outputs": [],
   "source": [
    "# !pip install lightgbm\n",
    "import lightgbm as lgb\n",
    "start = time.time() # 시작 시간 지정\n",
    "lgb_dtrain = lgb.Dataset(data = train_x, label = train_y) # 학습 데이터를 LightGBM 모델에 맞게 변환\n",
    "lgb_param = {'max_depth': 10, # 트리 깊이\n",
    "            'learning_rate': 0.01, # Step Size\n",
    "            'n_estimators': 500, # Number of trees, 트리 생성 개수\n",
    "            'objective': 'regression'} # 파라미터 추가, Label must be in [0, num_class) -> num_class보다 1 커야한다.\n",
    "lgb_model = lgb.train(params = lgb_param, train_set = lgb_dtrain) # 학습 진행\n"
   ]
  },
  {
   "cell_type": "code",
   "execution_count": 19,
   "metadata": {},
   "outputs": [
    {
     "data": {
      "text/plain": [
       "210904.17249451784"
      ]
     },
     "execution_count": 19,
     "metadata": {},
     "output_type": "execute_result"
    }
   ],
   "source": [
    "from sklearn.metrics import mean_squared_error, r2_score\n",
    "from math import sqrt\n",
    "\n",
    "sqrt(mean_squared_error(lgb_model.predict(test_x),test_y))\n",
    "# 단일모델(LightGBM)로 했을 때 mse"
   ]
  },
  {
   "cell_type": "markdown",
   "metadata": {},
   "source": [
    "## Ensemble의 Ensemble"
   ]
  },
  {
   "cell_type": "code",
   "execution_count": 20,
   "metadata": {
    "scrolled": true
   },
   "outputs": [
    {
     "name": "stdout",
     "output_type": "stream",
     "text": [
      "9522\n"
     ]
    },
    {
     "name": "stderr",
     "output_type": "stream",
     "text": [
      "C:\\Users\\hyun\\lib\\site-packages\\lightgbm\\engine.py:148: UserWarning: Found `n_estimators` in params. Will use it instead of argument\n",
      "  warnings.warn(\"Found `{}` in params. Will use it instead of argument\".format(alias))\n"
     ]
    },
    {
     "name": "stdout",
     "output_type": "stream",
     "text": [
      "211758.6502638526\n",
      "9577\n"
     ]
    },
    {
     "name": "stderr",
     "output_type": "stream",
     "text": [
      "C:\\Users\\hyun\\lib\\site-packages\\lightgbm\\engine.py:148: UserWarning: Found `n_estimators` in params. Will use it instead of argument\n",
      "  warnings.warn(\"Found `{}` in params. Will use it instead of argument\".format(alias))\n"
     ]
    },
    {
     "name": "stdout",
     "output_type": "stream",
     "text": [
      "213806.13847698047\n",
      "9505\n"
     ]
    },
    {
     "name": "stderr",
     "output_type": "stream",
     "text": [
      "C:\\Users\\hyun\\lib\\site-packages\\lightgbm\\engine.py:148: UserWarning: Found `n_estimators` in params. Will use it instead of argument\n",
      "  warnings.warn(\"Found `{}` in params. Will use it instead of argument\".format(alias))\n"
     ]
    },
    {
     "name": "stdout",
     "output_type": "stream",
     "text": [
      "216107.50918491688\n",
      "9600\n"
     ]
    },
    {
     "name": "stderr",
     "output_type": "stream",
     "text": [
      "C:\\Users\\hyun\\lib\\site-packages\\lightgbm\\engine.py:148: UserWarning: Found `n_estimators` in params. Will use it instead of argument\n",
      "  warnings.warn(\"Found `{}` in params. Will use it instead of argument\".format(alias))\n"
     ]
    },
    {
     "name": "stdout",
     "output_type": "stream",
     "text": [
      "216999.48059726486\n",
      "9692\n"
     ]
    },
    {
     "name": "stderr",
     "output_type": "stream",
     "text": [
      "C:\\Users\\hyun\\lib\\site-packages\\lightgbm\\engine.py:148: UserWarning: Found `n_estimators` in params. Will use it instead of argument\n",
      "  warnings.warn(\"Found `{}` in params. Will use it instead of argument\".format(alias))\n"
     ]
    },
    {
     "name": "stdout",
     "output_type": "stream",
     "text": [
      "217002.70225458435\n",
      "9536\n"
     ]
    },
    {
     "name": "stderr",
     "output_type": "stream",
     "text": [
      "C:\\Users\\hyun\\lib\\site-packages\\lightgbm\\engine.py:148: UserWarning: Found `n_estimators` in params. Will use it instead of argument\n",
      "  warnings.warn(\"Found `{}` in params. Will use it instead of argument\".format(alias))\n"
     ]
    },
    {
     "name": "stdout",
     "output_type": "stream",
     "text": [
      "217026.9030733018\n",
      "9577\n"
     ]
    },
    {
     "name": "stderr",
     "output_type": "stream",
     "text": [
      "C:\\Users\\hyun\\lib\\site-packages\\lightgbm\\engine.py:148: UserWarning: Found `n_estimators` in params. Will use it instead of argument\n",
      "  warnings.warn(\"Found `{}` in params. Will use it instead of argument\".format(alias))\n"
     ]
    },
    {
     "name": "stdout",
     "output_type": "stream",
     "text": [
      "216576.00865029587\n",
      "9613\n"
     ]
    },
    {
     "name": "stderr",
     "output_type": "stream",
     "text": [
      "C:\\Users\\hyun\\lib\\site-packages\\lightgbm\\engine.py:148: UserWarning: Found `n_estimators` in params. Will use it instead of argument\n",
      "  warnings.warn(\"Found `{}` in params. Will use it instead of argument\".format(alias))\n"
     ]
    },
    {
     "name": "stdout",
     "output_type": "stream",
     "text": [
      "214102.94636245284\n",
      "9533\n"
     ]
    },
    {
     "name": "stderr",
     "output_type": "stream",
     "text": [
      "C:\\Users\\hyun\\lib\\site-packages\\lightgbm\\engine.py:148: UserWarning: Found `n_estimators` in params. Will use it instead of argument\n",
      "  warnings.warn(\"Found `{}` in params. Will use it instead of argument\".format(alias))\n"
     ]
    },
    {
     "name": "stdout",
     "output_type": "stream",
     "text": [
      "215860.94966382202\n",
      "9515\n"
     ]
    },
    {
     "name": "stderr",
     "output_type": "stream",
     "text": [
      "C:\\Users\\hyun\\lib\\site-packages\\lightgbm\\engine.py:148: UserWarning: Found `n_estimators` in params. Will use it instead of argument\n",
      "  warnings.warn(\"Found `{}` in params. Will use it instead of argument\".format(alias))\n"
     ]
    },
    {
     "name": "stdout",
     "output_type": "stream",
     "text": [
      "212283.61451317134\n",
      "9589\n"
     ]
    },
    {
     "name": "stderr",
     "output_type": "stream",
     "text": [
      "C:\\Users\\hyun\\lib\\site-packages\\lightgbm\\engine.py:148: UserWarning: Found `n_estimators` in params. Will use it instead of argument\n",
      "  warnings.warn(\"Found `{}` in params. Will use it instead of argument\".format(alias))\n"
     ]
    },
    {
     "name": "stdout",
     "output_type": "stream",
     "text": [
      "220183.4467390763\n",
      "9575\n"
     ]
    },
    {
     "name": "stderr",
     "output_type": "stream",
     "text": [
      "C:\\Users\\hyun\\lib\\site-packages\\lightgbm\\engine.py:148: UserWarning: Found `n_estimators` in params. Will use it instead of argument\n",
      "  warnings.warn(\"Found `{}` in params. Will use it instead of argument\".format(alias))\n"
     ]
    },
    {
     "name": "stdout",
     "output_type": "stream",
     "text": [
      "219028.13804595626\n",
      "9590\n"
     ]
    },
    {
     "name": "stderr",
     "output_type": "stream",
     "text": [
      "C:\\Users\\hyun\\lib\\site-packages\\lightgbm\\engine.py:148: UserWarning: Found `n_estimators` in params. Will use it instead of argument\n",
      "  warnings.warn(\"Found `{}` in params. Will use it instead of argument\".format(alias))\n"
     ]
    },
    {
     "name": "stdout",
     "output_type": "stream",
     "text": [
      "215116.69048578033\n",
      "9607\n"
     ]
    },
    {
     "name": "stderr",
     "output_type": "stream",
     "text": [
      "C:\\Users\\hyun\\lib\\site-packages\\lightgbm\\engine.py:148: UserWarning: Found `n_estimators` in params. Will use it instead of argument\n",
      "  warnings.warn(\"Found `{}` in params. Will use it instead of argument\".format(alias))\n"
     ]
    },
    {
     "name": "stdout",
     "output_type": "stream",
     "text": [
      "216013.1711882703\n",
      "9583\n"
     ]
    },
    {
     "name": "stderr",
     "output_type": "stream",
     "text": [
      "C:\\Users\\hyun\\lib\\site-packages\\lightgbm\\engine.py:148: UserWarning: Found `n_estimators` in params. Will use it instead of argument\n",
      "  warnings.warn(\"Found `{}` in params. Will use it instead of argument\".format(alias))\n"
     ]
    },
    {
     "name": "stdout",
     "output_type": "stream",
     "text": [
      "213403.19464709767\n",
      "9508\n"
     ]
    },
    {
     "name": "stderr",
     "output_type": "stream",
     "text": [
      "C:\\Users\\hyun\\lib\\site-packages\\lightgbm\\engine.py:148: UserWarning: Found `n_estimators` in params. Will use it instead of argument\n",
      "  warnings.warn(\"Found `{}` in params. Will use it instead of argument\".format(alias))\n"
     ]
    },
    {
     "name": "stdout",
     "output_type": "stream",
     "text": [
      "213079.0307909562\n",
      "9488\n"
     ]
    },
    {
     "name": "stderr",
     "output_type": "stream",
     "text": [
      "C:\\Users\\hyun\\lib\\site-packages\\lightgbm\\engine.py:148: UserWarning: Found `n_estimators` in params. Will use it instead of argument\n",
      "  warnings.warn(\"Found `{}` in params. Will use it instead of argument\".format(alias))\n"
     ]
    },
    {
     "name": "stdout",
     "output_type": "stream",
     "text": [
      "221269.596500073\n",
      "9514\n"
     ]
    },
    {
     "name": "stderr",
     "output_type": "stream",
     "text": [
      "C:\\Users\\hyun\\lib\\site-packages\\lightgbm\\engine.py:148: UserWarning: Found `n_estimators` in params. Will use it instead of argument\n",
      "  warnings.warn(\"Found `{}` in params. Will use it instead of argument\".format(alias))\n"
     ]
    },
    {
     "name": "stdout",
     "output_type": "stream",
     "text": [
      "214773.1466858169\n",
      "9627\n"
     ]
    },
    {
     "name": "stderr",
     "output_type": "stream",
     "text": [
      "C:\\Users\\hyun\\lib\\site-packages\\lightgbm\\engine.py:148: UserWarning: Found `n_estimators` in params. Will use it instead of argument\n",
      "  warnings.warn(\"Found `{}` in params. Will use it instead of argument\".format(alias))\n"
     ]
    },
    {
     "name": "stdout",
     "output_type": "stream",
     "text": [
      "214889.20441572941\n",
      "9562\n"
     ]
    },
    {
     "name": "stderr",
     "output_type": "stream",
     "text": [
      "C:\\Users\\hyun\\lib\\site-packages\\lightgbm\\engine.py:148: UserWarning: Found `n_estimators` in params. Will use it instead of argument\n",
      "  warnings.warn(\"Found `{}` in params. Will use it instead of argument\".format(alias))\n"
     ]
    },
    {
     "name": "stdout",
     "output_type": "stream",
     "text": [
      "214428.9078300507\n",
      "9582\n"
     ]
    },
    {
     "name": "stderr",
     "output_type": "stream",
     "text": [
      "C:\\Users\\hyun\\lib\\site-packages\\lightgbm\\engine.py:148: UserWarning: Found `n_estimators` in params. Will use it instead of argument\n",
      "  warnings.warn(\"Found `{}` in params. Will use it instead of argument\".format(alias))\n"
     ]
    },
    {
     "name": "stdout",
     "output_type": "stream",
     "text": [
      "211934.91997394868\n",
      "9624\n"
     ]
    },
    {
     "name": "stderr",
     "output_type": "stream",
     "text": [
      "C:\\Users\\hyun\\lib\\site-packages\\lightgbm\\engine.py:148: UserWarning: Found `n_estimators` in params. Will use it instead of argument\n",
      "  warnings.warn(\"Found `{}` in params. Will use it instead of argument\".format(alias))\n"
     ]
    },
    {
     "name": "stdout",
     "output_type": "stream",
     "text": [
      "213526.61622386414\n",
      "9544\n"
     ]
    },
    {
     "name": "stderr",
     "output_type": "stream",
     "text": [
      "C:\\Users\\hyun\\lib\\site-packages\\lightgbm\\engine.py:148: UserWarning: Found `n_estimators` in params. Will use it instead of argument\n",
      "  warnings.warn(\"Found `{}` in params. Will use it instead of argument\".format(alias))\n"
     ]
    },
    {
     "name": "stdout",
     "output_type": "stream",
     "text": [
      "212429.33530886917\n",
      "9598\n"
     ]
    },
    {
     "name": "stderr",
     "output_type": "stream",
     "text": [
      "C:\\Users\\hyun\\lib\\site-packages\\lightgbm\\engine.py:148: UserWarning: Found `n_estimators` in params. Will use it instead of argument\n",
      "  warnings.warn(\"Found `{}` in params. Will use it instead of argument\".format(alias))\n"
     ]
    },
    {
     "name": "stdout",
     "output_type": "stream",
     "text": [
      "218043.7231803401\n",
      "9602\n"
     ]
    },
    {
     "name": "stderr",
     "output_type": "stream",
     "text": [
      "C:\\Users\\hyun\\lib\\site-packages\\lightgbm\\engine.py:148: UserWarning: Found `n_estimators` in params. Will use it instead of argument\n",
      "  warnings.warn(\"Found `{}` in params. Will use it instead of argument\".format(alias))\n"
     ]
    },
    {
     "name": "stdout",
     "output_type": "stream",
     "text": [
      "214543.04225178395\n",
      "9545\n"
     ]
    },
    {
     "name": "stderr",
     "output_type": "stream",
     "text": [
      "C:\\Users\\hyun\\lib\\site-packages\\lightgbm\\engine.py:148: UserWarning: Found `n_estimators` in params. Will use it instead of argument\n",
      "  warnings.warn(\"Found `{}` in params. Will use it instead of argument\".format(alias))\n"
     ]
    },
    {
     "name": "stdout",
     "output_type": "stream",
     "text": [
      "213107.71716134524\n",
      "9604\n"
     ]
    },
    {
     "name": "stderr",
     "output_type": "stream",
     "text": [
      "C:\\Users\\hyun\\lib\\site-packages\\lightgbm\\engine.py:148: UserWarning: Found `n_estimators` in params. Will use it instead of argument\n",
      "  warnings.warn(\"Found `{}` in params. Will use it instead of argument\".format(alias))\n"
     ]
    },
    {
     "name": "stdout",
     "output_type": "stream",
     "text": [
      "214266.16528452805\n",
      "9508\n"
     ]
    },
    {
     "name": "stderr",
     "output_type": "stream",
     "text": [
      "C:\\Users\\hyun\\lib\\site-packages\\lightgbm\\engine.py:148: UserWarning: Found `n_estimators` in params. Will use it instead of argument\n",
      "  warnings.warn(\"Found `{}` in params. Will use it instead of argument\".format(alias))\n"
     ]
    },
    {
     "name": "stdout",
     "output_type": "stream",
     "text": [
      "212988.31672198008\n",
      "9533\n"
     ]
    },
    {
     "name": "stderr",
     "output_type": "stream",
     "text": [
      "C:\\Users\\hyun\\lib\\site-packages\\lightgbm\\engine.py:148: UserWarning: Found `n_estimators` in params. Will use it instead of argument\n",
      "  warnings.warn(\"Found `{}` in params. Will use it instead of argument\".format(alias))\n"
     ]
    },
    {
     "name": "stdout",
     "output_type": "stream",
     "text": [
      "211241.98986839628\n",
      "9568\n"
     ]
    },
    {
     "name": "stderr",
     "output_type": "stream",
     "text": [
      "C:\\Users\\hyun\\lib\\site-packages\\lightgbm\\engine.py:148: UserWarning: Found `n_estimators` in params. Will use it instead of argument\n",
      "  warnings.warn(\"Found `{}` in params. Will use it instead of argument\".format(alias))\n"
     ]
    },
    {
     "name": "stdout",
     "output_type": "stream",
     "text": [
      "216272.88168991246\n"
     ]
    }
   ],
   "source": [
    "# Ensemble의 Ensemble은 bagging 기법 사용 (복원추출해서 fitting하는 것 여러번 반복)\n",
    "\n",
    "import random\n",
    "bagging_predict_result = [] # 빈 리스트 생성\n",
    "for _ in range(30): \n",
    "    # for문 이유 : 샘플링을 다르게 한다거나 변수를 좀 다르게 하려고\n",
    "    # 30번 for문 돌 때마다 데이터 복원추출하고 그 데이터 통해 lgb용 데이터 만들고 모델링시키고 예측\n",
    "    \n",
    "    data_index = [data_index for data_index in range(train_x.shape[0])] # 학습 데이터의 인덱스를 리스트로 변환\n",
    "    random_data_index = np.random.choice(data_index, train_x.shape[0]) # 데이터의 1/10 크기만큼 랜덤 샘플링, // 는 소수점을 무시하기 위함\n",
    "    print(len(set(random_data_index)))\n",
    "    lgb_dtrain = lgb.Dataset(data = train_x.iloc[random_data_index], label = train_y.iloc[random_data_index]) # 학습 데이터를 LightGBM 모델에 맞게 변환\n",
    "    lgb_param = {'max_depth': 10, # 트리 깊이\n",
    "                'learning_rate': 0.01, # Step Size\n",
    "                'n_estimators': 500, # Number of trees, 트리 생성 개수\n",
    "                'objective': 'regression'} # 파라미터 추가, Label must be in [0, num_class) -> num_class보다 1 커야한다.\n",
    "    # for문 돌 때마다 하이퍼 파라미터를 다르게 설정해볼까?\n",
    "    # 데이터를 복원추출했는데 변수도 복원추출하면 더 좋아지지않을까?\n",
    "    # 이런 생각으로 실제로 경험을 해보면 실력을 쌓을 수 있겠지\n",
    "    \n",
    "    lgb_model = lgb.train(params = lgb_param, train_set = lgb_dtrain) # 학습 진행\n",
    "    # 여기에 lightgbm뿐만 아니라 xgboost, catboost넣을 수도 있고\n",
    "    # 또다른 SVM, KNN, Decision Tree, Lasso, Ridge 등도 같이 섞어서 앙상블 해볼 수 있겠지\n",
    "    # 다양함이 앙상블의 기본적인 조건이니까!\n",
    "    \n",
    "    predict1 = lgb_model.predict(test_x) # 테스트 데이터 예측\n",
    "    bagging_predict_result.append(predict1) # 반복문이 실행되기 전 빈 리스트에 결과 값 저장\n",
    "    print(sqrt(mean_squared_error(lgb_model.predict(test_x),test_y)))"
   ]
  },
  {
   "cell_type": "code",
   "execution_count": 21,
   "metadata": {},
   "outputs": [],
   "source": [
    "# Bagging을 바탕으로 예측한 결과값에 대한 평균을 계산\n",
    "bagging_predict = [] # 빈 리스트 생성\n",
    "for lst2_index in range(test_x.shape[0]): # 테스트 데이터 개수만큼의 반복\n",
    "    temp_predict = [] # 임시 빈 리스트 생성 (반복문 내 결과값 저장)\n",
    "    for lst_index in range(len(bagging_predict_result)): # Bagging 결과 리스트 반복\n",
    "        temp_predict.append(bagging_predict_result[lst_index][lst2_index]) # 각 Bagging 결과 예측한 값 중 같은 인덱스를 리스트에 저장\n",
    "    bagging_predict.append(np.mean(temp_predict)) # 해당 인덱스의 30개의 결과값에 대한 평균을 최종 리스트에 추가"
   ]
  },
  {
   "cell_type": "code",
   "execution_count": 22,
   "metadata": {},
   "outputs": [
    {
     "data": {
      "text/plain": [
       "[504218.7820307572,\n",
       " 632681.0869227976,\n",
       " 950145.1354093045,\n",
       " 1594505.4687036262,\n",
       " 637638.5702198489,\n",
       " 368742.51175494667,\n",
       " 703524.1813378875,\n",
       " 430307.44734305417,\n",
       " 463311.78064029774,\n",
       " 494963.87497308565,\n",
       " 635022.2027665002,\n",
       " 381849.71009199444,\n",
       " 299795.9230156198,\n",
       " 359537.98415135685,\n",
       " 342486.76715633646,\n",
       " 1298870.6130628025,\n",
       " 371654.6087104884,\n",
       " 1048323.5026587471,\n",
       " 317675.83934992267,\n",
       " 527702.524051179,\n",
       " 379591.6830357145,\n",
       " 1939808.497802569,\n",
       " 665632.7681158979,\n",
       " 534426.9573840115,\n",
       " 504027.29933619,\n",
       " 485463.2460633716,\n",
       " 297038.4246375748,\n",
       " 255677.09097264113,\n",
       " 477675.7980128618,\n",
       " 534210.845562278,\n",
       " 494784.7999451674,\n",
       " 471547.4072311538,\n",
       " 467397.43205417116,\n",
       " 585414.0444801948,\n",
       " 378181.18568272854,\n",
       " 1036239.8374627909,\n",
       " 899481.6954295987,\n",
       " 533543.208424743,\n",
       " 357600.11279569636,\n",
       " 1572378.8058978287,\n",
       " 394009.1495373982,\n",
       " 277440.54551530903,\n",
       " 512535.0068452253,\n",
       " 341378.83548352367,\n",
       " 252380.92818879525,\n",
       " 244647.4167346164,\n",
       " 330397.010165253,\n",
       " 330959.2888530904,\n",
       " 355019.9894553494,\n",
       " 569918.8500841784,\n",
       " 370018.8283469582,\n",
       " 339740.217188721,\n",
       " 760451.2536703874,\n",
       " 336938.96311521076,\n",
       " 467757.5564445359,\n",
       " 1725417.9920438917,\n",
       " 478188.4749629043,\n",
       " 706762.8260956985,\n",
       " 335122.5291178015,\n",
       " 648482.735619848,\n",
       " 481247.4500062105,\n",
       " 373783.73677233857,\n",
       " 298813.53261747764,\n",
       " 529333.7984399901,\n",
       " 448368.57421237946,\n",
       " 286866.25126504555,\n",
       " 384006.6274538703,\n",
       " 1603971.4430168916,\n",
       " 484284.8577917261,\n",
       " 658288.9833722736,\n",
       " 437886.39744203666,\n",
       " 300133.16751682165,\n",
       " 763360.9201482501,\n",
       " 517241.26628413907,\n",
       " 512280.6307814144,\n",
       " 1273161.225313627,\n",
       " 809966.430668172,\n",
       " 286273.2749571921,\n",
       " 456452.94817075145,\n",
       " 914468.8219320714,\n",
       " 637530.8317243722,\n",
       " 377690.6362033533,\n",
       " 653785.6752861732,\n",
       " 359834.5009301542,\n",
       " 820587.4628341016,\n",
       " 532095.2083004204,\n",
       " 513127.6434627126,\n",
       " 557744.8835576772,\n",
       " 358920.46871498163,\n",
       " 476509.49484290724,\n",
       " 350150.2930899467,\n",
       " 396454.7469458761,\n",
       " 629553.837753119,\n",
       " 1092540.8118387603,\n",
       " 430695.41300898755,\n",
       " 495676.96267729875,\n",
       " 361367.14546244405,\n",
       " 307031.74173657957,\n",
       " 813124.0372046267,\n",
       " 456096.9894132549,\n",
       " 255191.53965873047,\n",
       " 936524.7529496143,\n",
       " 996525.2911662173,\n",
       " 478522.95715662383,\n",
       " 1056508.048283456,\n",
       " 299036.3245794663,\n",
       " 492071.6180903584,\n",
       " 486489.40787744586,\n",
       " 809778.4235102164,\n",
       " 2344213.258009952,\n",
       " 552784.9719722819,\n",
       " 325751.20907732105,\n",
       " 559288.1969533949,\n",
       " 624299.9476608409,\n",
       " 551359.9525869203,\n",
       " 336836.37279630266,\n",
       " 312165.84323491546,\n",
       " 253894.89210445687,\n",
       " 322535.9347577178,\n",
       " 342486.76715633646,\n",
       " 380360.39065563626,\n",
       " 284206.09023569006,\n",
       " 338956.5571541119,\n",
       " 254554.82390274075,\n",
       " 601107.2818361312,\n",
       " 655030.1536898427,\n",
       " 277205.98918934725,\n",
       " 745873.6022198523,\n",
       " 450393.7192261232,\n",
       " 424799.0087394501,\n",
       " 533897.2070436891,\n",
       " 467217.3001922974,\n",
       " 406813.5133877741,\n",
       " 823310.0836065138,\n",
       " 377444.958113591,\n",
       " 461061.46172970836,\n",
       " 384894.59255693643,\n",
       " 351912.31790270965,\n",
       " 890095.5519970015,\n",
       " 620308.6809603237,\n",
       " 520839.6995706891,\n",
       " 780409.966756814,\n",
       " 907143.4996584888,\n",
       " 404330.64272246475,\n",
       " 257087.8167086038,\n",
       " 386980.42211056163,\n",
       " 484312.3562652276,\n",
       " 245067.58491696918,\n",
       " 412285.26796608546,\n",
       " 472911.9377758643,\n",
       " 576115.9534102187,\n",
       " 677791.6958672716,\n",
       " 537522.9188952799,\n",
       " 1122051.3146109045,\n",
       " 920507.0101110253,\n",
       " 856643.5929597609,\n",
       " 593021.7172505319,\n",
       " 650169.4350508099,\n",
       " 589911.8234191992,\n",
       " 491874.4076498674,\n",
       " 641911.5770129965,\n",
       " 368025.3135789516,\n",
       " 330959.2888530904,\n",
       " 357084.84016464127,\n",
       " 359093.30159192363,\n",
       " 346932.2450243581,\n",
       " 291396.7335701355,\n",
       " 312439.0543746337,\n",
       " 449176.75249181374,\n",
       " 463620.3510192212,\n",
       " 627856.3154599511,\n",
       " 395360.01272645534,\n",
       " 464918.4700425293,\n",
       " 571677.2890703902,\n",
       " 425840.08107962605,\n",
       " 419273.4995803368,\n",
       " 354832.7121146164,\n",
       " 672185.4497969731,\n",
       " 343427.0532760734,\n",
       " 253468.7799679054,\n",
       " 313076.63011224975,\n",
       " 478823.8229803666,\n",
       " 526726.463039974,\n",
       " 667060.3779865634,\n",
       " 474368.88112720073,\n",
       " 469707.4606706427,\n",
       " 273137.0837461342,\n",
       " 435248.19638443866,\n",
       " 351597.01084613183,\n",
       " 350491.0556763135,\n",
       " 374086.31839223474,\n",
       " 648992.200536694,\n",
       " 1509694.644828906,\n",
       " 1300438.79937477,\n",
       " 263698.8946959094,\n",
       " 488590.1421839841,\n",
       " 488821.03601546114,\n",
       " 1644392.6857099773,\n",
       " 467394.8676012534,\n",
       " 457117.93229370576,\n",
       " 324962.727538031,\n",
       " 381683.6601788024,\n",
       " 519876.9991477926,\n",
       " 753305.8772036775,\n",
       " 788343.3304496097,\n",
       " 314560.1400059819,\n",
       " 504027.29933619,\n",
       " 301924.4852555584,\n",
       " 506880.10125332937,\n",
       " 1364250.265812304,\n",
       " 361367.14546244405,\n",
       " 422996.0888297399,\n",
       " 456078.14814548224,\n",
       " 361367.14546244405,\n",
       " 331635.5777760787,\n",
       " 701858.3619502615,\n",
       " 777237.1143037871,\n",
       " 347553.9594470694,\n",
       " 364317.7670275917,\n",
       " 361649.5545572566,\n",
       " 1739403.060335781,\n",
       " 537806.0497610347,\n",
       " 501324.56740688655,\n",
       " 451329.9857277184,\n",
       " 516107.17991854623,\n",
       " 751513.5835690297,\n",
       " 345050.23765251244,\n",
       " 1248480.20177094,\n",
       " 891205.4443378854,\n",
       " 463002.13846358325,\n",
       " 354808.0574531503,\n",
       " 486050.5011592827,\n",
       " 712273.66931509,\n",
       " 299636.4876715376,\n",
       " 348618.96384446404,\n",
       " 391319.6771553096,\n",
       " 350966.8987194369,\n",
       " 355536.35293465445,\n",
       " 2462971.4721276527,\n",
       " 346461.98895250453,\n",
       " 443177.7611485611,\n",
       " 462302.7193027466,\n",
       " 591104.4369165017,\n",
       " 411077.55530746246,\n",
       " 469695.2218942911,\n",
       " 309178.2760582778,\n",
       " 528110.5875562357,\n",
       " 560355.1566973763,\n",
       " 721194.1920936289,\n",
       " 853620.7444054674,\n",
       " 533342.2387022184,\n",
       " 433588.3203979929,\n",
       " 728866.2292679982,\n",
       " 352552.64308610966,\n",
       " 350491.0556763135,\n",
       " 532045.214927188,\n",
       " 506262.71809084865,\n",
       " 468690.9380222448,\n",
       " 881224.4347830343,\n",
       " 370580.0845482517,\n",
       " 3269020.377533852,\n",
       " 632397.8163466508,\n",
       " 765612.9816536321,\n",
       " 1102446.2904231683,\n",
       " 505430.46701490815,\n",
       " 673005.7257432791,\n",
       " 924000.9324709474,\n",
       " 352809.9434434749,\n",
       " 719723.0500971106,\n",
       " 437695.792312331,\n",
       " 471324.02750982594,\n",
       " 341979.34956318955,\n",
       " 291398.1402836696,\n",
       " 439231.8949735031,\n",
       " 416582.9177540723,\n",
       " 1343381.71297354,\n",
       " 305220.0576139416,\n",
       " 343996.6147810907,\n",
       " 528150.1619255827,\n",
       " 363174.30627607,\n",
       " 312870.29499890405,\n",
       " 507253.3715474478,\n",
       " 367841.41806232475,\n",
       " 442804.2741832485,\n",
       " 487526.5800812848,\n",
       " 450653.4194733039,\n",
       " 370999.3393651982,\n",
       " 635553.3215495932,\n",
       " 352093.1325887533,\n",
       " 320271.33848022483,\n",
       " 786958.8704477769,\n",
       " 444998.7898077144,\n",
       " 257758.35866538057,\n",
       " 351299.1754891399,\n",
       " 648992.200536694,\n",
       " 649263.1515956781,\n",
       " 493058.55919817346,\n",
       " 455857.9215277687,\n",
       " 450602.2796473683,\n",
       " 576350.0209443229,\n",
       " 470872.824174211,\n",
       " 535291.8806513343,\n",
       " 335291.85372188146,\n",
       " 568499.6942519897,\n",
       " 344608.37640533916,\n",
       " 809864.0015825977,\n",
       " 449176.75249181374,\n",
       " 389216.75996231404,\n",
       " 331550.6505153462,\n",
       " 328589.8908334791,\n",
       " 366129.2012608862,\n",
       " 289346.9639710546,\n",
       " 850354.0792808239,\n",
       " 1596241.2448040547,\n",
       " 969656.4963076133,\n",
       " 448442.6947192348,\n",
       " 808988.8819223411,\n",
       " 466195.0485011697,\n",
       " 796287.1112321657,\n",
       " 344144.761932566,\n",
       " 397740.50105231314,\n",
       " 487546.3949762974,\n",
       " 263698.8946959094,\n",
       " 299375.35877714265,\n",
       " 466440.8931565635,\n",
       " 463620.3510192212,\n",
       " 572486.9505708066,\n",
       " 299659.632047969,\n",
       " 508376.42512033385,\n",
       " 254554.82390274075,\n",
       " 665078.2910572701,\n",
       " 293129.2639569687,\n",
       " 497105.53002317087,\n",
       " 301073.55124199094,\n",
       " 394958.46286369197,\n",
       " 485661.59654616105,\n",
       " 608858.5936555791,\n",
       " 476048.28775133507,\n",
       " 944464.9285631224,\n",
       " 262501.8786797511,\n",
       " 1724503.067660283,\n",
       " 472448.10781348066,\n",
       " 441380.21668970736,\n",
       " 564330.6747205347,\n",
       " 677974.4663906695,\n",
       " 621008.4048916294,\n",
       " 342006.4437934439,\n",
       " 461700.0669355859,\n",
       " 470709.9538663247,\n",
       " 723844.0722643159,\n",
       " 282353.4153941259,\n",
       " 361254.476010224,\n",
       " 475400.1320498997,\n",
       " 625495.4148270565,\n",
       " 338380.79959804553,\n",
       " 854239.3336956323,\n",
       " 560685.5384406905,\n",
       " 906547.6539566945,\n",
       " 958359.5351256903,\n",
       " 634594.2352442879,\n",
       " 370974.84411065356,\n",
       " 795939.3967737745,\n",
       " 358424.49506355455,\n",
       " 569193.8351293139,\n",
       " 677806.7212239436,\n",
       " 331853.09344089404,\n",
       " 749534.7765735297,\n",
       " 404038.3172302482,\n",
       " 989271.1143618493,\n",
       " 383578.9921752948,\n",
       " 502359.07303911145,\n",
       " 666966.3838399281,\n",
       " 574220.8030679338,\n",
       " 353474.9933552789,\n",
       " 546533.166354918,\n",
       " 377969.9665560238,\n",
       " 336697.8862688097,\n",
       " 551392.7250185221,\n",
       " 386609.5015902889,\n",
       " 419002.06474923075,\n",
       " 372652.69222718314,\n",
       " 732417.5894622293,\n",
       " 633621.2397725112,\n",
       " 434844.56976430636,\n",
       " 462523.79256275576,\n",
       " 460578.1795335949,\n",
       " 300325.59856762044,\n",
       " 494066.08673498273,\n",
       " 428659.1860105054,\n",
       " 467475.42659143166,\n",
       " 557844.4681281125,\n",
       " 386969.7238721469,\n",
       " 376906.62411680416,\n",
       " 404111.84673604334,\n",
       " 1390053.332617478,\n",
       " 383578.9921752948,\n",
       " 344231.3803114873,\n",
       " 1186795.6561016853,\n",
       " 663139.1859195874,\n",
       " 383382.0385818742,\n",
       " 437886.39744203666,\n",
       " 477945.7486787222,\n",
       " 654762.910926305,\n",
       " 455915.81010156026,\n",
       " 399864.39104387094,\n",
       " 436221.4654924517,\n",
       " 463620.3510192212,\n",
       " 424799.0087394501,\n",
       " 485882.74809515174,\n",
       " 469706.73415791994,\n",
       " 347242.3414107473,\n",
       " 473006.9880498468,\n",
       " 610888.1035575818,\n",
       " 424356.70413449063,\n",
       " 266584.4215938243,\n",
       " 380879.03594765073,\n",
       " 462613.46921561117,\n",
       " 450760.71855920006,\n",
       " 1107646.097885336,\n",
       " 454731.06205482804,\n",
       " 396643.6462323269,\n",
       " 562591.5285203401,\n",
       " 330249.8270086542,\n",
       " 667889.0253741049,\n",
       " 407819.6886601627,\n",
       " 478528.68015669734,\n",
       " 486999.53208688484,\n",
       " 471343.9865156355,\n",
       " 560295.4127098472,\n",
       " 331778.43205003365,\n",
       " 598605.9875224562,\n",
       " 522143.1228176458,\n",
       " 700890.6854109747,\n",
       " 532101.397843643,\n",
       " 512081.5529785854,\n",
       " 503223.76579285064,\n",
       " 528372.8411173348,\n",
       " 384654.37810612906,\n",
       " 361870.2556551832,\n",
       " 354644.0768486515,\n",
       " 648912.4143637295,\n",
       " 381234.8543435253,\n",
       " 361787.251234352,\n",
       " 273282.8634445738,\n",
       " 368293.5773974439,\n",
       " 382513.2640355731,\n",
       " 823310.0836065138,\n",
       " 2311093.40754033,\n",
       " 446529.11042438925,\n",
       " 1188513.2092506522,\n",
       " 502862.33038150327,\n",
       " 265132.76976300334,\n",
       " 482516.12362778053,\n",
       " 449321.0362670829,\n",
       " 433861.12003205443,\n",
       " 677514.2464843701,\n",
       " 380765.9932075814,\n",
       " 820630.8032317164,\n",
       " 373121.4407159427,\n",
       " 276687.02481239813,\n",
       " 460400.6911044145,\n",
       " 635966.1516857882,\n",
       " 993592.4927811084,\n",
       " 375633.94741184096,\n",
       " 725419.9745337272,\n",
       " 451371.00406307064,\n",
       " 354739.9269800376,\n",
       " 541075.8149050683,\n",
       " 968651.6491874243,\n",
       " 438267.7276538526,\n",
       " 476048.28775133507,\n",
       " 347242.3414107473,\n",
       " 455239.8673434387,\n",
       " 1215790.9983070574,\n",
       " 444987.8338917373,\n",
       " 497649.62007420656,\n",
       " 390331.79914377345,\n",
       " 469152.6326032103,\n",
       " 316935.85700026486,\n",
       " 453004.26637954346,\n",
       " 303104.87584456906,\n",
       " 333451.51463680825,\n",
       " 345843.60000090644,\n",
       " 395807.4994880095,\n",
       " 456548.25331388775,\n",
       " 617949.6850676804,\n",
       " 517433.31137181417,\n",
       " 332602.44598030584,\n",
       " 758302.2001964184,\n",
       " 650825.716405951,\n",
       " 702110.40084015,\n",
       " 352261.89684065845,\n",
       " 425840.08107962605,\n",
       " 650563.9063870029,\n",
       " 1884624.309984227,\n",
       " 496454.95377771615,\n",
       " 688964.2542092097,\n",
       " 368705.21965325676,\n",
       " 368685.1182593639,\n",
       " 349117.56318872434,\n",
       " 702321.2976273485,\n",
       " 481247.4500062105,\n",
       " 320988.16285558144,\n",
       " 520406.5023776349,\n",
       " 347693.8418621699,\n",
       " 564018.7111190453,\n",
       " 793054.9735564699,\n",
       " 1063476.2800756525,\n",
       " 329002.8025428745,\n",
       " 536957.8386153644,\n",
       " 1216538.344402849,\n",
       " 463620.3510192212,\n",
       " 816401.6470711741,\n",
       " 627753.7207764697,\n",
       " 461357.80824505433,\n",
       " 816592.9684679388,\n",
       " 710492.0557281397,\n",
       " 251714.90640480383,\n",
       " 373783.73677233857,\n",
       " 287018.39570128906,\n",
       " 439572.12176762905,\n",
       " 527649.1630032407,\n",
       " 336928.51808384183,\n",
       " 503414.7329790617,\n",
       " 531911.3877433029,\n",
       " 412385.9690236958,\n",
       " 501235.3359167083,\n",
       " 357883.0596217512,\n",
       " 829078.0144412369,\n",
       " 342029.95187231444,\n",
       " 375361.3711344424,\n",
       " 377623.95775725466,\n",
       " 1225928.2517969091,\n",
       " 462232.30970639264,\n",
       " 291729.68267785135,\n",
       " 287049.66222072014,\n",
       " 469021.50167652045,\n",
       " 821793.2162240277,\n",
       " 473344.9503741521,\n",
       " 674898.6885641557,\n",
       " 544950.3535987065,\n",
       " 455591.81675054354,\n",
       " 973441.4750720726,\n",
       " 280956.0065684839,\n",
       " 917944.0740959559,\n",
       " 635534.2738986968,\n",
       " 506309.63495050767,\n",
       " 1045171.1608959145,\n",
       " 459346.31562645093,\n",
       " 284538.4734802191,\n",
       " 840813.2778186206,\n",
       " 339671.3535352633,\n",
       " 628602.5497392939,\n",
       " 1414931.8542507023,\n",
       " 347297.5725993265,\n",
       " 502755.82648158196,\n",
       " 449136.63978426025,\n",
       " 367521.13793468225,\n",
       " 252817.31833651476,\n",
       " 868535.9514580384,\n",
       " 435855.9469978829,\n",
       " 292480.2116949,\n",
       " 468664.52709044976,\n",
       " 352323.22245736764,\n",
       " 288513.3406627547,\n",
       " 495162.9044642781,\n",
       " 358064.6035905056,\n",
       " 414687.3106411472,\n",
       " 392347.25522664725,\n",
       " 481372.0395825019,\n",
       " 485904.90420969366,\n",
       " 544136.1112319491,\n",
       " 778749.843376646,\n",
       " 331554.0647854339,\n",
       " 327015.9654366426,\n",
       " 381234.8543435253,\n",
       " 381683.6601788024,\n",
       " 326953.5655171018,\n",
       " 454311.0977488862,\n",
       " 761740.104384655,\n",
       " 499763.21083667135,\n",
       " 836936.5178966224,\n",
       " 836597.6770032288,\n",
       " 472413.77511744725,\n",
       " 444644.7667460499,\n",
       " 482781.8240989086,\n",
       " 314672.3405093367,\n",
       " 401431.62802787573,\n",
       " 443140.55371986865,\n",
       " 314223.868640999,\n",
       " 474172.01836006885,\n",
       " 674898.6885641557,\n",
       " 424400.97604945395,\n",
       " 409107.4268640539,\n",
       " 462561.1982824939,\n",
       " 414465.26725135406,\n",
       " 1022396.97795952,\n",
       " 794535.3781660885,\n",
       " 755404.7940761321,\n",
       " 367996.24912754085,\n",
       " 460578.1795335949,\n",
       " 398252.78424102894,\n",
       " 564746.0009666844,\n",
       " 262605.3446035921,\n",
       " 390007.06499187666,\n",
       " 353632.58111859596,\n",
       " 314599.68311473576,\n",
       " 355985.5812545967,\n",
       " 289065.2001343266,\n",
       " 412749.5015099033,\n",
       " 593114.788451985,\n",
       " 310946.58293643396,\n",
       " 440142.4550546148,\n",
       " 513133.9033747381,\n",
       " 488468.81150073843,\n",
       " 355571.1248159713,\n",
       " 334736.39934988227,\n",
       " 288702.60870250704,\n",
       " 537197.2339705073,\n",
       " 471098.7370196048,\n",
       " 1723928.9435150893,\n",
       " 461357.80824505433,\n",
       " 2226221.065571398,\n",
       " 680860.5780119457,\n",
       " 1031756.9963434511,\n",
       " 617926.7020712642,\n",
       " 418974.29724447354,\n",
       " 459997.2538402429,\n",
       " 964727.2475022069,\n",
       " 691218.4639115256,\n",
       " 479284.264509957,\n",
       " 476075.2128951207,\n",
       " 762253.0791054748,\n",
       " 501046.8928468732,\n",
       " 383153.39236109,\n",
       " 403025.493030219,\n",
       " 364242.1320090384,\n",
       " 469731.9559251874,\n",
       " 336241.27516097313,\n",
       " 729808.8682176279,\n",
       " 505808.8386236351,\n",
       " 795939.3967737745,\n",
       " 688019.9773449687,\n",
       " 505910.8609065538,\n",
       " 447542.4917229293,\n",
       " 486372.61254321074,\n",
       " 492920.2409872795,\n",
       " 509063.42616600514,\n",
       " 553807.0127290696,\n",
       " 309030.6339042479,\n",
       " 1119015.5289836163,\n",
       " 311298.6204926245,\n",
       " 578670.1534881326,\n",
       " 277051.18913258583,\n",
       " 1791913.467625186,\n",
       " 838780.311080211,\n",
       " 624031.2341070038,\n",
       " 509920.9376266838,\n",
       " 635084.7152081713,\n",
       " 560433.8078015799,\n",
       " 348397.22015263553,\n",
       " 529496.2027339912,\n",
       " 465361.3385702668,\n",
       " 1012150.8495232745,\n",
       " 373959.89755679475,\n",
       " 508733.7876528489,\n",
       " 1001605.9956926078,\n",
       " 531687.72109362,\n",
       " 455815.991896384,\n",
       " 450543.78491166554,\n",
       " 1064197.6871432646,\n",
       " 319610.99234054325,\n",
       " 632263.0789122786,\n",
       " 787542.6226044433,\n",
       " 319610.99234054325,\n",
       " 627778.3787280825,\n",
       " 594665.2884244149,\n",
       " 402282.1031423221,\n",
       " 472996.198301514,\n",
       " 633986.5672717413,\n",
       " 434998.93273717473,\n",
       " 352261.89684065845,\n",
       " 538605.227742089,\n",
       " 277051.18913258583,\n",
       " 346600.7806629491,\n",
       " 469651.0946665607,\n",
       " 530664.8242269779,\n",
       " 450259.9411350406,\n",
       " 814583.8029208112,\n",
       " 411459.6220409411,\n",
       " 299795.9230156198,\n",
       " 325862.9013057675,\n",
       " 469706.73415791994,\n",
       " 738254.1466839869,\n",
       " 744793.7540453381,\n",
       " 370580.0845482517,\n",
       " 302750.65203965065,\n",
       " 384393.2738644263,\n",
       " 271276.8498794718,\n",
       " 842820.5686852073,\n",
       " 397770.4022199111,\n",
       " 283112.514661192,\n",
       " 336735.1011353616,\n",
       " 490944.7700621133,\n",
       " 489881.2189694711,\n",
       " 469706.73415791994,\n",
       " 1146145.6774172087,\n",
       " 1069298.3331545717,\n",
       " 1197095.907284954,\n",
       " 434677.53211900464,\n",
       " 578291.1729834332,\n",
       " 372702.72617518564,\n",
       " 516567.99517811515,\n",
       " 358029.1523192724,\n",
       " 390893.0917709565,\n",
       " 345429.1032646059,\n",
       " 811740.8669408759,\n",
       " 467757.5564445359,\n",
       " 359131.55032290524,\n",
       " 393176.1609028538,\n",
       " 288777.8324855807,\n",
       " 533404.9316375914,\n",
       " 483999.4695191093,\n",
       " 427506.47399334755,\n",
       " 526160.5191797273,\n",
       " 279698.30365183554,\n",
       " 635229.6611270111,\n",
       " 525450.8318329422,\n",
       " 456452.94817075145,\n",
       " 470872.824174211,\n",
       " 299371.28365460143,\n",
       " 361725.4210314412,\n",
       " 1113085.8464257207,\n",
       " 766514.6557765893,\n",
       " 444771.012855091,\n",
       " 319628.3536814882,\n",
       " 348448.71447767323,\n",
       " 1028532.651490566,\n",
       " 552747.914873851,\n",
       " 431566.9582786272,\n",
       " 277453.3990519216,\n",
       " 379897.7946378824,\n",
       " 293601.9407181153,\n",
       " 836412.209302085,\n",
       " 251773.5239425676,\n",
       " 322138.1082216808,\n",
       " 297021.81688948406,\n",
       " 469695.2218942911,\n",
       " 482726.62177765864,\n",
       " 608286.6588563925,\n",
       " 571246.5247462197,\n",
       " 386385.1431242554,\n",
       " 477152.39421215956,\n",
       " 571546.5389694389,\n",
       " 484654.4173938932,\n",
       " 469647.3073868941,\n",
       " 620308.6809603237,\n",
       " 508583.4681007524,\n",
       " 784938.3698596653,\n",
       " 386985.3598397288,\n",
       " 310736.8236863283,\n",
       " 466048.9597693284,\n",
       " 582797.1260429926,\n",
       " 472515.79297103884,\n",
       " 493284.78664027486,\n",
       " 935323.6172258221,\n",
       " 531083.2615975499,\n",
       " 746352.1768651773,\n",
       " 618448.7797103528,\n",
       " 812919.2958222684,\n",
       " 277563.11561451736,\n",
       " 468702.9454960745,\n",
       " 467520.3432062791,\n",
       " 836523.0437585114,\n",
       " 889389.4217161967,\n",
       " 280297.1307732798,\n",
       " 257087.8167086038,\n",
       " 495231.6276704122,\n",
       " 290378.0032037765,\n",
       " 710366.7247827032,\n",
       " 390543.3799232819,\n",
       " 477961.16577157093,\n",
       " 512748.76652606187,\n",
       " 382886.79558622773,\n",
       " 297021.81688948406,\n",
       " 294716.02177950356,\n",
       " 329593.0113250644,\n",
       " 629891.9447709563,\n",
       " 287868.8456719535,\n",
       " 372195.45140072145,\n",
       " 479201.4204153147,\n",
       " 390457.1955603949,\n",
       " 528372.8411173348,\n",
       " 371353.9619958339,\n",
       " 390893.0917709565,\n",
       " 467757.5564445359,\n",
       " 353232.049779544,\n",
       " 1216864.6699177488,\n",
       " 621455.2585445974,\n",
       " 330325.0563676291,\n",
       " 454504.3929887604,\n",
       " 780062.6863632287,\n",
       " 631835.1233332808,\n",
       " 275150.39405136165,\n",
       " 469936.3802155543,\n",
       " 394958.46286369197,\n",
       " 299719.1190971261,\n",
       " 869859.3494142279,\n",
       " 475083.0277238127,\n",
       " 553694.8290963421,\n",
       " 478884.22827886353,\n",
       " 674539.54573793,\n",
       " 569321.1919535835,\n",
       " 835516.0258440058,\n",
       " 658288.9833722736,\n",
       " 782901.7815030483,\n",
       " 382200.77829508076,\n",
       " 989200.1850842865,\n",
       " 610922.617613557,\n",
       " 770360.553168271,\n",
       " 459099.708334255,\n",
       " 468471.199366301,\n",
       " 380765.9932075814,\n",
       " 467757.5564445359,\n",
       " 373783.73677233857,\n",
       " 780409.966756814,\n",
       " 518875.4344465334,\n",
       " 489137.6827387131,\n",
       " 276690.6552079312,\n",
       " 277051.18913258583,\n",
       " 299690.6635391541,\n",
       " 796493.4850211616,\n",
       " 648482.735619848,\n",
       " 461849.50071091275,\n",
       " 362562.09258669545,\n",
       " 468436.29528115265,\n",
       " 366129.2012608862,\n",
       " 649798.2795889532,\n",
       " 277374.00203200174,\n",
       " 644505.2709742085,\n",
       " 527032.2014558197,\n",
       " 351713.6810370496,\n",
       " 279447.49162585044,\n",
       " 484284.8577917261,\n",
       " 503261.3798647572,\n",
       " 379920.28196048556,\n",
       " 689993.2097687661,\n",
       " 333451.51463680825,\n",
       " 390543.3799232819,\n",
       " 547530.652043387,\n",
       " 302421.308146642,\n",
       " 565790.5085204279,\n",
       " 688573.8228042388,\n",
       " 705309.0873072124,\n",
       " 488563.5461212685,\n",
       " 425487.93065760366,\n",
       " 704274.6639854311,\n",
       " 514980.42873405037,\n",
       " 648482.735619848,\n",
       " 1537420.6416288028,\n",
       " 542703.1099887282,\n",
       " 345178.23169255053,\n",
       " 696419.1421960406,\n",
       " 817545.8497011905,\n",
       " 341430.75265534763,\n",
       " 405068.86699673184,\n",
       " 377678.81491641846,\n",
       " 295549.9108653833,\n",
       " 514387.65190982557,\n",
       " 509122.33859127853,\n",
       " 404751.8224847811,\n",
       " 486431.5995073228,\n",
       " 329976.16305949807,\n",
       " 371006.69935913634,\n",
       " 252664.92514916277,\n",
       " 351912.31790270965,\n",
       " 344231.3803114873,\n",
       " 328155.65882727527,\n",
       " 344187.5218673149,\n",
       " 329418.8939375107,\n",
       " 806397.8809313,\n",
       " 421463.4488210597,\n",
       " 438667.25110809697,\n",
       " 709660.40889708,\n",
       " 356691.9884032961,\n",
       " 251773.5239425676,\n",
       " 370232.5756807859,\n",
       " 297205.92695941194,\n",
       " 576365.5634704154,\n",
       " 301611.72958343406,\n",
       " 517935.56893803895,\n",
       " 808130.3751610519,\n",
       " 575583.4287546738,\n",
       " 565201.7248717318,\n",
       " 499337.51029170735,\n",
       " 267565.0019147367,\n",
       " 945009.4119313043,\n",
       " 637638.5702198489,\n",
       " 853620.7444054674,\n",
       " 327603.6185993732,\n",
       " 464513.481893452,\n",
       " 797475.5973691492,\n",
       " 516511.6442225145,\n",
       " 254203.46556913297,\n",
       " 1178733.95865747,\n",
       " 312918.3785760473,\n",
       " 634197.8060307156,\n",
       " 468664.52709044976,\n",
       " 759763.1432493079,\n",
       " 545436.9730332677,\n",
       " 451371.00406307064,\n",
       " 460578.1795335949,\n",
       " 448960.84690235404,\n",
       " 549856.6779591641,\n",
       " 1313811.4386359553,\n",
       " 478511.2097234857,\n",
       " 836712.7895942029,\n",
       " 484064.82895229216,\n",
       " 379857.57975378097,\n",
       " 277439.56187085377,\n",
       " 440699.29399160855,\n",
       " 540231.9348410347,\n",
       " 490511.46997600404,\n",
       " 452819.63634902134,\n",
       " 293601.9407181153,\n",
       " 364390.1599384312,\n",
       " 351739.9038731158,\n",
       " 509611.0787123604,\n",
       " 563213.8297235529,\n",
       " 287607.3920093303,\n",
       " 380764.76676044293,\n",
       " 513320.3922460657,\n",
       " 627778.3787280825,\n",
       " 977625.0740551319,\n",
       " 659381.6434933237,\n",
       " 359413.5790283885,\n",
       " 780540.772851766,\n",
       " 717642.0777533901,\n",
       " 851831.2178603866,\n",
       " 353208.13526255556,\n",
       " 2306847.5452694646,\n",
       " 370095.5960109568,\n",
       " 383091.8824523224,\n",
       " 508444.9196555894,\n",
       " 330172.42689986905,\n",
       " 355315.15606934606,\n",
       " 547758.7896952357,\n",
       " 667245.6891893018,\n",
       " 685857.0366247835,\n",
       " 277123.9225628071,\n",
       " 353474.9933552789,\n",
       " 541896.9041389031,\n",
       " 2246091.866292262,\n",
       " 553144.9651606979,\n",
       " 466089.4723042228,\n",
       " 904054.9849103343,\n",
       " 625505.6530931424,\n",
       " 548631.8426276956,\n",
       " 816932.2109527946,\n",
       " 722625.9038323094,\n",
       " 451371.00406307064,\n",
       " 294868.61495912675,\n",
       " 438614.8152713094,\n",
       " 654892.557252827,\n",
       " 555448.2864823041,\n",
       " 283518.5241174055,\n",
       " 299730.7213351317,\n",
       " 562026.3421484395,\n",
       " 413658.64729393745,\n",
       " 673189.2417695838,\n",
       " 491662.78375962394,\n",
       " 958281.4971682586,\n",
       " 379241.1357025839,\n",
       " 291343.6203721435,\n",
       " 392711.91149802174,\n",
       " 287145.9299658735,\n",
       " 361367.14546244405,\n",
       " 341430.75265534763,\n",
       " 393183.8747332035,\n",
       " 919457.1021974043,\n",
       " 582674.2272009718,\n",
       " 362024.1062076462,\n",
       " 499761.4682637753,\n",
       " 657812.674023711,\n",
       " 254764.81452872173,\n",
       " 532878.6403763803,\n",
       " 367164.02826392185,\n",
       " 639289.877293104,\n",
       " 637595.7691118888,\n",
       " 466420.50557179726,\n",
       " 292071.290785981,\n",
       " 436269.79648156354,\n",
       " 350454.05284834374,\n",
       " 877251.1242247517,\n",
       " 357556.7746842288,\n",
       " 563186.3749762387,\n",
       " 418180.146857411,\n",
       " 390331.79914377345,\n",
       " 355592.3653941955,\n",
       " 344229.7322909597,\n",
       " ...]"
      ]
     },
     "execution_count": 22,
     "metadata": {},
     "output_type": "execute_result"
    }
   ],
   "source": [
    "bagging_predict"
   ]
  },
  {
   "cell_type": "code",
   "execution_count": 23,
   "metadata": {},
   "outputs": [
    {
     "data": {
      "text/plain": [
       "210075.22678067334"
      ]
     },
     "execution_count": 23,
     "metadata": {},
     "output_type": "execute_result"
    }
   ],
   "source": [
    "sqrt(mean_squared_error(bagging_predict,test_y))\n",
    "# 위에 lbm 단일모델로 한 것보다 성능이 더 좋아졌지\n",
    "# 복원추출은 할 때마다 결과가 바뀌기때문에 여러 번 확인해봐야함\n",
    "# 강사님은 Ensemble의 Ensemble 기법을 자주 쓴대\n",
    "# 기본적으로 먼저 lgb이나 catboost, xgboost 해놓고\n",
    "# 전체데이터를 다 넣고 모델 fitting해서 성능보고 Ensemble의 Ensembled하면\n",
    "# 8~90%는 성능이 좋아짐"
   ]
  }
 ],
 "metadata": {
  "kernelspec": {
   "display_name": "Python 3",
   "language": "python",
   "name": "python3"
  },
  "language_info": {
   "codemirror_mode": {
    "name": "ipython",
    "version": 3
   },
   "file_extension": ".py",
   "mimetype": "text/x-python",
   "name": "python",
   "nbconvert_exporter": "python",
   "pygments_lexer": "ipython3",
   "version": "3.7.1"
  }
 },
 "nbformat": 4,
 "nbformat_minor": 2
}
