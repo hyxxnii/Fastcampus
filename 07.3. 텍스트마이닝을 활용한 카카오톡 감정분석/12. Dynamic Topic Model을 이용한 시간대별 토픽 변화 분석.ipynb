{
 "cells": [
  {
   "cell_type": "markdown",
   "metadata": {},
   "source": [
    "# LDA에서 Dynamic Topic Model"
   ]
  },
  {
   "cell_type": "markdown",
   "metadata": {},
   "source": [
    "<img src=\"4.PNG\">\n",
    "<img src=\"5.PNG\">"
   ]
  },
  {
   "cell_type": "markdown",
   "metadata": {},
   "source": [
    "- 뭉텅이 하나하나가 LDA 1개\n",
    "- 알파와 베타 파라미터를 공유(정확히 공유라기보단 오른쪽으로 이동)\n",
    "- 결국엔 우리가 알고 싶은 건 W -> 토픽들의 단어 분포\n",
    "- 지금 LDA가 3개 있는데, 이 3개는 DTM이 보고싶은 시간대,시기 3가지\n",
    "- DTM은 시간의 흐름을 continuous하게 본 게 아니고 discrete하게 봄\n",
    "    - ex) 작년, 3년 전, 4년 전 (작년걸로 3년 전을, 3년 전걸로 4년 전을), 더 먼 과거에서 과거를 추정하는 느낌\n",
    "- 결론 : DTM은 시간의 흐름을 특정 단위로 잘라서 보겠다, 그리고 자른 단위만큼 LDA를 돌릴 건데 LDA를 연결해놓은 것"
   ]
  },
  {
   "cell_type": "markdown",
   "metadata": {},
   "source": [
    "* LDA를 time slice 단위로 여러개를 붙인 형태\n",
    "    - 토픽을 시간의 변화에 따라 확인할 수 없을까라는 생각으로부터 시작\n",
    "    - 즉 DPM은 LDA인데 시간이 들어간 것\n",
    "    - 젤 중요한 점은 시간이 정해진 구간으로 잘려져있다 -> time slice\n",
    "* 토픽 분포에 해당하는 파라미터인 Beta값을 time slice가 넘어갈때 넘겨주는 것으로 시간대별 토픽 분포를 반영하게 함"
   ]
  },
  {
   "cell_type": "markdown",
   "metadata": {},
   "source": [
    "<img src=\"6.PNG\">"
   ]
  },
  {
   "cell_type": "markdown",
   "metadata": {},
   "source": [
    "### 1. 대화내용 불러오기"
   ]
  },
  {
   "cell_type": "code",
   "execution_count": 1,
   "metadata": {},
   "outputs": [],
   "source": [
    "import pandas as pd\n",
    "import numpy as np\n",
    "import pickle\n",
    "from pprint import pprint\n",
    "import re"
   ]
  },
  {
   "cell_type": "code",
   "execution_count": 16,
   "metadata": {},
   "outputs": [
    {
     "name": "stdout",
     "output_type": "stream",
     "text": [
      "             Date User                Message\n",
      "0  2018. 5. 3. 00  주현                엥 결국 안먹음\n",
      "1  2018. 5. 3. 00  주현    너 그 야구부 엠티는 가는거야 그래서\n",
      "2  2018. 5. 3. 00  현영                      안가\n",
      "3  2018. 5. 3. 00  현영        근엄마한테갈거라고말해놓긴햇는디\n",
      "4  2018. 5. 3. 00  현영                  보내준다허면\n",
      "<class 'pandas.core.frame.DataFrame'>\n",
      "RangeIndex: 22914 entries, 0 to 22913\n",
      "Data columns (total 3 columns):\n",
      "Date       22914 non-null object\n",
      "User       22912 non-null object\n",
      "Message    22914 non-null object\n",
      "dtypes: object(3)\n",
      "memory usage: 537.2+ KB\n",
      "None\n"
     ]
    }
   ],
   "source": [
    "with open(\"data/cleaned_data.pk\", \"rb\") as f:\n",
    "    data = pickle.load(f)\n",
    "\n",
    "data.reset_index(drop=True, inplace=True)\n",
    "print(data.head())\n",
    "print(data.info())"
   ]
  },
  {
   "cell_type": "markdown",
   "metadata": {},
   "source": [
    "Dynamic Topic Model에서 LDA와 ATM의 차이가 어떤게 있을까?\n",
    "</br></br>\n",
    "- LDA는 아무것도 없었다고 치면 ATM은 추가된 게 author2doc변수 1개\n",
    "    - 보고싶었던 게 저자별 문서 정보였으니까\n",
    "- DTM은 시간대별 무언가 보고싶은 거니까 시간대별로 잘린 정보를 추가해서 줘야해\n",
    "    - 정보가 추가되면 그게 LAD sequence model! \n",
    "    - 그 정보가 어떤 건지 알아보자"
   ]
  },
  {
   "cell_type": "markdown",
   "metadata": {},
   "source": [
    "### 2. 분석시기 설정하기"
   ]
  },
  {
   "cell_type": "code",
   "execution_count": 17,
   "metadata": {},
   "outputs": [
    {
     "data": {
      "text/html": [
       "<div>\n",
       "<style scoped>\n",
       "    .dataframe tbody tr th:only-of-type {\n",
       "        vertical-align: middle;\n",
       "    }\n",
       "\n",
       "    .dataframe tbody tr th {\n",
       "        vertical-align: top;\n",
       "    }\n",
       "\n",
       "    .dataframe thead th {\n",
       "        text-align: right;\n",
       "    }\n",
       "</style>\n",
       "<table border=\"1\" class=\"dataframe\">\n",
       "  <thead>\n",
       "    <tr style=\"text-align: right;\">\n",
       "      <th></th>\n",
       "      <th>User</th>\n",
       "      <th>Message</th>\n",
       "    </tr>\n",
       "    <tr>\n",
       "      <th>Date</th>\n",
       "      <th></th>\n",
       "      <th></th>\n",
       "    </tr>\n",
       "  </thead>\n",
       "  <tbody>\n",
       "    <tr>\n",
       "      <th>2018-05-03</th>\n",
       "      <td>주현</td>\n",
       "      <td>엥 결국 안먹음</td>\n",
       "    </tr>\n",
       "    <tr>\n",
       "      <th>2018-05-03</th>\n",
       "      <td>주현</td>\n",
       "      <td>너 그 야구부 엠티는 가는거야 그래서</td>\n",
       "    </tr>\n",
       "    <tr>\n",
       "      <th>2018-05-03</th>\n",
       "      <td>현영</td>\n",
       "      <td>안가</td>\n",
       "    </tr>\n",
       "    <tr>\n",
       "      <th>2018-05-03</th>\n",
       "      <td>현영</td>\n",
       "      <td>근엄마한테갈거라고말해놓긴햇는디</td>\n",
       "    </tr>\n",
       "    <tr>\n",
       "      <th>2018-05-03</th>\n",
       "      <td>현영</td>\n",
       "      <td>보내준다허면</td>\n",
       "    </tr>\n",
       "  </tbody>\n",
       "</table>\n",
       "</div>"
      ],
      "text/plain": [
       "           User                Message\n",
       "Date                                  \n",
       "2018-05-03  주현                엥 결국 안먹음\n",
       "2018-05-03  주현    너 그 야구부 엠티는 가는거야 그래서\n",
       "2018-05-03  현영                      안가\n",
       "2018-05-03  현영        근엄마한테갈거라고말해놓긴햇는디\n",
       "2018-05-03  현영                  보내준다허면"
      ]
     },
     "execution_count": 17,
     "metadata": {},
     "output_type": "execute_result"
    }
   ],
   "source": [
    "# 시간정보 열 datetime 정보로 변환\n",
    "data['Date'] = pd.to_datetime(data['Date'])\n",
    "\n",
    "# 인덱스 넣기\n",
    "data = data.set_index('Date')\n",
    "data.head()"
   ]
  },
  {
   "cell_type": "markdown",
   "metadata": {},
   "source": [
    "#### 연도별 대화내용 분리 (DTM 분석을 위해)"
   ]
  },
  {
   "cell_type": "code",
   "execution_count": 18,
   "metadata": {},
   "outputs": [],
   "source": [
    "# 지정된 시기별로 분리\n",
    "year2018 = data['2018-05-03' :  '2018-12-31']\n",
    "year2019 = data['2019-01-01' :  '2019-12-31']\n",
    "year2020 = data['2020-01-01' :  '2020-06-17']"
   ]
  },
  {
   "cell_type": "code",
   "execution_count": 19,
   "metadata": {},
   "outputs": [
    {
     "name": "stdout",
     "output_type": "stream",
     "text": [
      "           User                Message\n",
      "Date                                  \n",
      "2018-05-03  주현                엥 결국 안먹음\n",
      "2018-05-03  주현    너 그 야구부 엠티는 가는거야 그래서\n",
      "2018-05-03  현영                      안가\n",
      "2018-05-03  현영        근엄마한테갈거라고말해놓긴햇는디\n",
      "2018-05-03  현영                  보내준다허면\n",
      "           User                Message\n",
      "Date                                  \n",
      "2019-01-01  지이    얘두라 따랑해 새해복 많이받아❤️☺️\n",
      "2019-01-01  현영             사랑해 민나상 모두들\n",
      "2019-01-01  현영                    오메데또\n",
      "2019-01-01  현영               앗 언니자화상이다\n",
      "2019-01-01  지이                     졸귀탱\n",
      "                    User        Message\n",
      "Date                                   \n",
      "2020-01-01 00:00:00  현영            고구마 \n",
      "2020-01-15 18:00:00  영현             늼들아\n",
      "2020-01-15 18:00:00  영현    우리 설끝나고 모이자 \n",
      "2020-01-15 18:00:00  지의             그러자\n",
      "2020-01-15 18:00:00  지의              제발\n"
     ]
    }
   ],
   "source": [
    "print(year2018.head())\n",
    "print(year2019.head())\n",
    "print(year2020.head())"
   ]
  },
  {
   "cell_type": "code",
   "execution_count": 20,
   "metadata": {},
   "outputs": [
    {
     "name": "stdout",
     "output_type": "stream",
     "text": [
      "<class 'pandas.core.frame.DataFrame'>\n",
      "DatetimeIndex: 5991 entries, 2018-05-03 00:00:00 to 2018-12-31 23:00:00\n",
      "Data columns (total 2 columns):\n",
      "User       5991 non-null object\n",
      "Message    5991 non-null object\n",
      "dtypes: object(2)\n",
      "memory usage: 140.4+ KB\n",
      "None\n",
      "<class 'pandas.core.frame.DataFrame'>\n",
      "DatetimeIndex: 13858 entries, 2019-01-01 00:00:00 to 2019-12-31 23:00:00\n",
      "Data columns (total 2 columns):\n",
      "User       13856 non-null object\n",
      "Message    13858 non-null object\n",
      "dtypes: object(2)\n",
      "memory usage: 324.8+ KB\n",
      "None\n",
      "<class 'pandas.core.frame.DataFrame'>\n",
      "DatetimeIndex: 3065 entries, 2020-01-01 00:00:00 to 2020-06-17 17:00:00\n",
      "Data columns (total 2 columns):\n",
      "User       3065 non-null object\n",
      "Message    3065 non-null object\n",
      "dtypes: object(2)\n",
      "memory usage: 71.8+ KB\n",
      "None\n"
     ]
    }
   ],
   "source": [
    "print(year2018.info())\n",
    "print(year2019.info())\n",
    "print(year2020.info())"
   ]
  },
  {
   "cell_type": "markdown",
   "metadata": {},
   "source": [
    "##### 시기별로 나눠서 데이터 저장하기"
   ]
  },
  {
   "cell_type": "code",
   "execution_count": 21,
   "metadata": {},
   "outputs": [],
   "source": [
    "# time_slice별로 데이터 갯수를 저장할 리스트 생성\n",
    "time_slice = [] \n",
    "# time_slice: 각 slice별로 문서가 나눠줬다는 거 알려주는 리스트\n",
    "# 어떤식으로 gensim에서 구분하냐 -> time_slice의 가정 : 시간대별로 list에 순서대로 들어가있다\n",
    "# 즉 어디서부터 어디까지 첫번재 time_slice인지 알려주는 리스트다\n",
    "\n",
    "# 시기별 데이터 가져오기\n",
    "slice0 = list(year2018['Message'])\n",
    "slice1 = list(year2019['Message'])\n",
    "slice2 = list(year2020['Message'])\n",
    "\n",
    "# LDA 분석할 때와 비슷하게 모든 분석 대상 텍스트를 담는 리스트 생성\n",
    "tokenized_data = [msg.split() for msg in (slice0 + slice1 + slice2)]\n",
    "\n",
    "# 각 slice에 들어 있는 갯수를 원소로 갖는 리스트 생성\n",
    "time_slice.append(len(slice0))\n",
    "time_slice.append(len(slice1))\n",
    "time_slice.append(len(slice2))"
   ]
  },
  {
   "cell_type": "code",
   "execution_count": 22,
   "metadata": {},
   "outputs": [
    {
     "name": "stdout",
     "output_type": "stream",
     "text": [
      "22914\n",
      "[5991, 13858, 3065]\n",
      "[' 엥 결국 안먹음', ' 너 그 야구부 엠티는 가는거야 그래서', ' 안가', ' 근엄마한테갈거라고말해놓긴햇는디', ' 보내준다허면']\n",
      "[' 얘두라 따랑해 새해복 많이받아❤️☺️', ' 사랑해 민나상 모두들', ' 오메데또', ' 앗 언니자화상이다', ' 졸귀탱']\n",
      "[' 고구마 ', ' 늼들아', ' 우리 설끝나고 모이자 ', ' 그러자', ' 제발']\n",
      "[['엥', '결국', '안먹음'],\n",
      " ['너', '그', '야구부', '엠티는', '가는거야', '그래서'],\n",
      " ['안가'],\n",
      " ['근엄마한테갈거라고말해놓긴햇는디'],\n",
      " ['보내준다허면']]\n"
     ]
    }
   ],
   "source": [
    "print(len(tokenized_data))\n",
    "print(time_slice)\n",
    "print(slice0[:5])\n",
    "print(slice1[:5])\n",
    "print(slice2[:5])\n",
    "pprint(tokenized_data[:5])"
   ]
  },
  {
   "cell_type": "markdown",
   "metadata": {},
   "source": [
    "### 3. Dynamic Topic Model 돌리기"
   ]
  },
  {
   "cell_type": "code",
   "execution_count": 23,
   "metadata": {},
   "outputs": [],
   "source": [
    "from gensim.models import ldaseqmodel\n",
    "from gensim.corpora import Dictionary, bleicorpus\n",
    "from gensim import corpora\n",
    "\n",
    "import os"
   ]
  },
  {
   "cell_type": "markdown",
   "metadata": {},
   "source": [
    "#### dictionary와 corpus 만들기"
   ]
  },
  {
   "cell_type": "code",
   "execution_count": 26,
   "metadata": {},
   "outputs": [],
   "source": [
    "# DTM dictionary 저장.\n",
    "if not os.path.exists('kakao(DTM)_dict'):\n",
    "    dictionary = corpora.Dictionary(tokenized_data)\n",
    "    dictionary.save('kakao(DTM)_dict')\n",
    "else:\n",
    "    dictionary = Dictionary.load('kakao(DTM)_dict')\n",
    "\n",
    "# DTM Corpus 저장.\n",
    "if not os.path.exists('kakao(DTM)_corpus'):\n",
    "    corpus = [dictionary.doc2bow(doc) for doc in tokenized_data]\n",
    "    corpora.BleiCorpus.serialize('kakao(DTM)_corpus', corpus)\n",
    "else:\n",
    "    corpus = bleicorpus.BleiCorpus('kakao(DTM)_corpus')"
   ]
  },
  {
   "cell_type": "markdown",
   "metadata": {},
   "source": [
    "### Run DTM model "
   ]
  },
  {
   "cell_type": "code",
   "execution_count": null,
   "metadata": {},
   "outputs": [],
   "source": [
    "# 주의! 매우매우매우 오래걸릴지도 모릅니다... 시간과 여유가 있을때 해보세요!\n",
    "NUM_TOPICS = 4\n",
    "\n",
    "if not os.path.exists('kakao(DTM)_model'):\n",
    "    dtm_model = ldaseqmodel.LdaSeqModel(corpus=corpus,\n",
    "                                       id2word=dictionary,\n",
    "                                       time_slice=time_slice,\n",
    "                                       num_topics=NUM_TOPICS,\n",
    "                                       passes=10) # 이것도 1000정도 넘게 해줘야 성능 good\n",
    "    dtm_model.save('kakao(DTM)_model')\n",
    "else:\n",
    "    dtm_model = ldaseqmodel.LdaSeqModel.load('kakao(DTM)_model')"
   ]
  },
  {
   "cell_type": "markdown",
   "metadata": {},
   "source": [
    "##### DTM 결과 보기"
   ]
  },
  {
   "cell_type": "code",
   "execution_count": null,
   "metadata": {},
   "outputs": [],
   "source": [
    "# 고정된 시간 내에서 전체 토픽보기\n",
    "pprint(dtm_model.print_topics(time=0, top_terms=10))\n",
    "\n",
    "# 이 모델을 통해 알 수 있는 점\n",
    "# 시간이 지나도 사람들이 쓰는 단어가 비슷"
   ]
  },
  {
   "cell_type": "code",
   "execution_count": null,
   "metadata": {},
   "outputs": [],
   "source": []
  }
 ],
 "metadata": {
  "kernelspec": {
   "display_name": "Python 3",
   "language": "python",
   "name": "python3"
  },
  "language_info": {
   "codemirror_mode": {
    "name": "ipython",
    "version": 3
   },
   "file_extension": ".py",
   "mimetype": "text/x-python",
   "name": "python",
   "nbconvert_exporter": "python",
   "pygments_lexer": "ipython3",
   "version": "3.7.1"
  }
 },
 "nbformat": 4,
 "nbformat_minor": 2
}
