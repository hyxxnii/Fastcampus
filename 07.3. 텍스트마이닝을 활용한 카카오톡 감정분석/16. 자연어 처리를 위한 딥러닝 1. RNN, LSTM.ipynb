{
 "cells": [
  {
   "cell_type": "markdown",
   "metadata": {
    "colab_type": "text",
    "id": "zfiHTzhkmNwd"
   },
   "source": [
    "# RNN and LSTM with TF2.0"
   ]
  },
  {
   "cell_type": "markdown",
   "metadata": {},
   "source": [
    "- 텍스트 마이닝에서 딥러닝을 사용하기 위한 기본적인 개념, 사용하는 방법들\n",
    "- 실제로 카카오톡 대화 데이터에 적용하려면 어떻게 해야하는지 소개"
   ]
  },
  {
   "cell_type": "markdown",
   "metadata": {
    "colab_type": "text",
    "id": "QGJH5EKYoSHZ"
   },
   "source": [
    "## 라이브러리 불러오기"
   ]
  },
  {
   "cell_type": "code",
   "execution_count": 1,
   "metadata": {
    "colab": {},
    "colab_type": "code",
    "id": "wJEBe8hTlB6W"
   },
   "outputs": [],
   "source": [
    "from __future__ import absolute_import, division, print_function, unicode_literals\n",
    "\n",
    "import collections\n",
    "import matplotlib.pyplot as plt\n",
    "import numpy as np\n",
    "\n",
    "import tensorflow as tf\n",
    "from tensorflow.keras import layers"
   ]
  },
  {
   "cell_type": "markdown",
   "metadata": {
    "colab_type": "text",
    "id": "DznzjxWCilt4"
   },
   "source": [
    "## 간단한 모델 만들기 (with Sequential() )\n"
   ]
  },
  {
   "cell_type": "code",
   "execution_count": 2,
   "metadata": {
    "colab": {},
    "colab_type": "code",
    "id": "QHdAFEATnFpn"
   },
   "outputs": [
    {
     "name": "stdout",
     "output_type": "stream",
     "text": [
      "Model: \"sequential\"\n",
      "_________________________________________________________________\n",
      "Layer (type)                 Output Shape              Param #   \n",
      "=================================================================\n",
      "embedding (Embedding)        (None, None, 64)          64000     \n",
      "_________________________________________________________________\n",
      "lstm (LSTM)                  (None, 128)               98816     \n",
      "_________________________________________________________________\n",
      "dense (Dense)                (None, 10)                1290      \n",
      "=================================================================\n",
      "Total params: 164,106\n",
      "Trainable params: 164,106\n",
      "Non-trainable params: 0\n",
      "_________________________________________________________________\n"
     ]
    }
   ],
   "source": [
    "# Sequential 정의\n",
    "model = tf.keras.Sequential() # layer를 add하면 sequential하게 만들어짐\n",
    "\n",
    "# 단어는 1000개, 노드의 크기(출력 차원)은 64로\n",
    "model.add(layers.Embedding(input_dim=1000, output_dim=64))\n",
    "\n",
    "# 128개의 노드로 구성된 LSTM 생성.\n",
    "model.add(layers.LSTM(128))\n",
    "\n",
    "# 마지막 레이어는 10개의 클래스로 출력. softmax classfier를 지난다.\n",
    "model.add(layers.Dense(10, activation='softmax')) # multi classification \n",
    "\n",
    "# 모델 설명을 출력한다.\n",
    "model.summary()"
   ]
  },
  {
   "cell_type": "markdown",
   "metadata": {
    "colab_type": "text",
    "id": "uuztNezFh0BL"
   },
   "source": [
    "## MNIST 불러오기 "
   ]
  },
  {
   "cell_type": "code",
   "execution_count": 3,
   "metadata": {
    "colab": {},
    "colab_type": "code",
    "id": "m_kZTLDobchi"
   },
   "outputs": [],
   "source": [
    "mnist = tf.keras.datasets.mnist\n",
    "\n",
    "(x_train, y_train), (x_test, y_test) = mnist.load_data()\n",
    "x_train, x_test = x_train / 255.0, x_test / 255.0\n",
    "sample, sample_label = x_train[0], y_train[0]"
   ]
  },
  {
   "cell_type": "markdown",
   "metadata": {
    "colab_type": "text",
    "id": "UXF8elCuib8k"
   },
   "source": [
    "## 발전된 모델로 MNIST 분류기 만들기 "
   ]
  },
  {
   "cell_type": "code",
   "execution_count": 5,
   "metadata": {},
   "outputs": [],
   "source": [
    "# hyperparameter 세팅\n",
    "batch_size = 64\n",
    "input_dim = 28 # MNIST는 28x28이기때문에\n",
    "units = 64 # 저희가 만들 layer가 몇개냐, 노드가 몇개 들어갈거냐\n",
    "output_size = 10 # MNIST는 0~9 손글씨  "
   ]
  },
  {
   "cell_type": "code",
   "execution_count": 11,
   "metadata": {
    "colab": {},
    "colab_type": "code",
    "id": "klgv6dfK0KNb"
   },
   "outputs": [],
   "source": [
    "# model 정의\n",
    "# Sequential()안에 []형태로 선언해주면 model.add()한 것과 똑같음\n",
    "model = tf.keras.models.Sequential([\n",
    "    tf.keras.layers.LSTM(units, input_shape=(None, input_dim)), # None : 내부적으로 알아서 optimze해서 input shape결정해서 들어가기때문에 LSTM 효율적으로 사용가능\n",
    "    tf.keras.layers.BatchNormalization(), # LSTM에서 layer마다 넘어갈 때 overfitting 덜 되게끔\n",
    "    tf.keras.layers.Dense(output_size, activation='softmax')])\n",
    "    \n",
    "# model compile, multiclass-classification을 할 때 loss는 무엇일까?\n",
    "# sgd:Stochastic Gradient Descent\n",
    "# multi classification에서는 loss='sparse_categorical_crossentropy'\n",
    "model.compile(optimizer='sgd', loss='sparse_categorical_crossentropy',\n",
    "              metrics=['accuracy'])"
   ]
  },
  {
   "cell_type": "code",
   "execution_count": 12,
   "metadata": {
    "colab": {},
    "colab_type": "code",
    "id": "qzeeo65r25CU",
    "scrolled": false
   },
   "outputs": [
    {
     "name": "stdout",
     "output_type": "stream",
     "text": [
      "Train on 60000 samples, validate on 10000 samples\n",
      "Epoch 1/5\n",
      "60000/60000 [==============================] - 30s 493us/sample - loss: 0.9690 - accuracy: 0.6910 - val_loss: 0.5338 - val_accuracy: 0.8267\n",
      "Epoch 2/5\n",
      "60000/60000 [==============================] - 19s 320us/sample - loss: 0.4042 - accuracy: 0.8782 - val_loss: 0.3289 - val_accuracy: 0.8934\n",
      "Epoch 3/5\n",
      "60000/60000 [==============================] - 17s 287us/sample - loss: 0.2535 - accuracy: 0.9240 - val_loss: 0.2171 - val_accuracy: 0.9338\n",
      "Epoch 4/5\n",
      "60000/60000 [==============================] - 18s 294us/sample - loss: 0.1990 - accuracy: 0.9398 - val_loss: 0.2131 - val_accuracy: 0.9299\n",
      "Epoch 5/5\n",
      "60000/60000 [==============================] - 18s 296us/sample - loss: 0.1672 - accuracy: 0.9489 - val_loss: 0.1841 - val_accuracy: 0.9398\n"
     ]
    }
   ],
   "source": [
    "# 모델 실행.\n",
    "history = model.fit(x_train, y_train, validation_data=[x_test, y_test], batch_size=batch_size, epochs=5)"
   ]
  },
  {
   "cell_type": "code",
   "execution_count": 13,
   "metadata": {},
   "outputs": [
    {
     "name": "stdout",
     "output_type": "stream",
     "text": [
      "10000/10000 [==============================] - 1s 123us/sample - loss: 0.1841 - accuracy: 0.9398\n",
      "Test Score:  0.184082624822855\n",
      "Test Accuracy:  0.9398\n"
     ]
    }
   ],
   "source": [
    "score, acc = model.evaluate(x_test, y_test, batch_size=batch_size)\n",
    "print(\"Test Score: \", score)\n",
    "print(\"Test Accuracy: \", acc)"
   ]
  },
  {
   "cell_type": "markdown",
   "metadata": {},
   "source": [
    "## loss value 시각화 "
   ]
  },
  {
   "cell_type": "code",
   "execution_count": 14,
   "metadata": {},
   "outputs": [
    {
     "data": {
      "image/png": "[encoded data removed]",
      "text/plain": [
       "<Figure size 432x288 with 1 Axes>"
      ]
     },
     "metadata": {
      "needs_background": "light"
     },
     "output_type": "display_data"
    }
   ],
   "source": [
    "import matplotlib.pyplot as plt\n",
    "%matplotlib inline\n",
    "\n",
    "loss = history.history['loss']\n",
    "val_loss = history.history['val_loss']\n",
    "\n",
    "plt.figure()\n",
    "plt.plot(loss, 'ro-', label=\"train_loss\")\n",
    "plt.plot(val_loss, 'bo-', label=\"val_loss\")\n",
    "plt.ylabel('Cross Entropy')\n",
    "plt.xlabel('Epoch')\n",
    "plt.legend(loc=\"best\")\n",
    "plt.title('Training and Validation Loss')\n",
    "plt.show()"
   ]
  },
  {
   "cell_type": "code",
   "execution_count": null,
   "metadata": {},
   "outputs": [],
   "source": []
  }
 ],
 "metadata": {
  "colab": {
   "collapsed_sections": [],
   "name": "rnn.ipynb",
   "private_outputs": true,
   "provenance": [],
   "toc_visible": true,
   "version": "0.3.2"
  },
  "kernelspec": {
   "display_name": "Python 3",
   "language": "python",
   "name": "python3"
  },
  "language_info": {
   "codemirror_mode": {
    "name": "ipython",
    "version": 3
   },
   "file_extension": ".py",
   "mimetype": "text/x-python",
   "name": "python",
   "nbconvert_exporter": "python",
   "pygments_lexer": "ipython3",
   "version": "3.7.1"
  }
 },
 "nbformat": 4,
 "nbformat_minor": 1
}
