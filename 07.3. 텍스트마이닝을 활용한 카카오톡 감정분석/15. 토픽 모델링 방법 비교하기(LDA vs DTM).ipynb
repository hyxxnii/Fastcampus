{
 "cells": [
  {
   "cell_type": "markdown",
   "metadata": {},
   "source": [
    "### 0. 비교분석을 위해 LDA model 만들기."
   ]
  },
  {
   "cell_type": "code",
   "execution_count": 1,
   "metadata": {},
   "outputs": [],
   "source": [
    "import pandas as pd\n",
    "import numpy as np\n",
    "import pickle\n",
    "from pprint import pprint\n",
    "import re"
   ]
  },
  {
   "cell_type": "code",
   "execution_count": 2,
   "metadata": {},
   "outputs": [
    {
     "name": "stdout",
     "output_type": "stream",
     "text": [
      "             Date User                Message\n",
      "0  2018. 5. 3. 00  주현                엥 결국 안먹음\n",
      "1  2018. 5. 3. 00  주현    너 그 야구부 엠티는 가는거야 그래서\n",
      "2  2018. 5. 3. 00  현영                      안가\n",
      "3  2018. 5. 3. 00  현영        근엄마한테갈거라고말해놓긴햇는디\n",
      "4  2018. 5. 3. 00  현영                  보내준다허면\n",
      "<class 'pandas.core.frame.DataFrame'>\n",
      "RangeIndex: 22914 entries, 0 to 22913\n",
      "Data columns (total 3 columns):\n",
      "Date       22914 non-null object\n",
      "User       22912 non-null object\n",
      "Message    22914 non-null object\n",
      "dtypes: object(3)\n",
      "memory usage: 537.2+ KB\n",
      "None\n"
     ]
    }
   ],
   "source": [
    "with open(\"data/cleaned_data.pk\", \"rb\") as f:\n",
    "    data = pickle.load(f)\n",
    "\n",
    "data.reset_index(drop=True, inplace=True)\n",
    "print(data.head())\n",
    "print(data.info())"
   ]
  },
  {
   "cell_type": "markdown",
   "metadata": {},
   "source": [
    "### 2. 초록 없는 데이터 제거  및 분석시기 설정하기"
   ]
  },
  {
   "cell_type": "code",
   "execution_count": 3,
   "metadata": {},
   "outputs": [
    {
     "data": {
      "text/html": [
       "<div>\n",
       "<style scoped>\n",
       "    .dataframe tbody tr th:only-of-type {\n",
       "        vertical-align: middle;\n",
       "    }\n",
       "\n",
       "    .dataframe tbody tr th {\n",
       "        vertical-align: top;\n",
       "    }\n",
       "\n",
       "    .dataframe thead th {\n",
       "        text-align: right;\n",
       "    }\n",
       "</style>\n",
       "<table border=\"1\" class=\"dataframe\">\n",
       "  <thead>\n",
       "    <tr style=\"text-align: right;\">\n",
       "      <th></th>\n",
       "      <th>User</th>\n",
       "      <th>Message</th>\n",
       "    </tr>\n",
       "    <tr>\n",
       "      <th>Date</th>\n",
       "      <th></th>\n",
       "      <th></th>\n",
       "    </tr>\n",
       "  </thead>\n",
       "  <tbody>\n",
       "    <tr>\n",
       "      <th>2018-05-03</th>\n",
       "      <td>주현</td>\n",
       "      <td>엥 결국 안먹음</td>\n",
       "    </tr>\n",
       "    <tr>\n",
       "      <th>2018-05-03</th>\n",
       "      <td>주현</td>\n",
       "      <td>너 그 야구부 엠티는 가는거야 그래서</td>\n",
       "    </tr>\n",
       "    <tr>\n",
       "      <th>2018-05-03</th>\n",
       "      <td>현영</td>\n",
       "      <td>안가</td>\n",
       "    </tr>\n",
       "    <tr>\n",
       "      <th>2018-05-03</th>\n",
       "      <td>현영</td>\n",
       "      <td>근엄마한테갈거라고말해놓긴햇는디</td>\n",
       "    </tr>\n",
       "    <tr>\n",
       "      <th>2018-05-03</th>\n",
       "      <td>현영</td>\n",
       "      <td>보내준다허면</td>\n",
       "    </tr>\n",
       "  </tbody>\n",
       "</table>\n",
       "</div>"
      ],
      "text/plain": [
       "           User                Message\n",
       "Date                                  \n",
       "2018-05-03  주현                엥 결국 안먹음\n",
       "2018-05-03  주현    너 그 야구부 엠티는 가는거야 그래서\n",
       "2018-05-03  현영                      안가\n",
       "2018-05-03  현영        근엄마한테갈거라고말해놓긴햇는디\n",
       "2018-05-03  현영                  보내준다허면"
      ]
     },
     "execution_count": 3,
     "metadata": {},
     "output_type": "execute_result"
    }
   ],
   "source": [
    "# 시간정보 열 datetime 정보로 변환\n",
    "data['Date'] = pd.to_datetime(data['Date'])\n",
    "# 인덱스 넣기\n",
    "data = data.set_index('Date')\n",
    "data.head()"
   ]
  },
  {
   "cell_type": "code",
   "execution_count": 6,
   "metadata": {},
   "outputs": [
    {
     "name": "stdout",
     "output_type": "stream",
     "text": [
      "[['얘두라', '따랑해', '새해복', '많이받아❤️☺️'], ['사랑해', '민나상', '모두들'], ['오메데또'], ['앗', '언니자화상이다'], ['졸귀탱'], ['야'], ['얘들아'], ['제발', '도와줘'], ['혹시', '니들도'], ['프로젝트', '3했니', '파일입출력']]\n",
      "13858\n"
     ]
    }
   ],
   "source": [
    "# LDA를 위해 2019년도 데이터만 불러오기.\n",
    "year2019 = data[\"2019-01-01\" : \"2019-12-31\"]\n",
    "slice2 = list(year2019['Message'])\n",
    "\n",
    "tokenized_data = [msg.split() for msg in slice2]\n",
    "print(tokenized_data[:10])\n",
    "print(len(tokenized_data))"
   ]
  },
  {
   "cell_type": "markdown",
   "metadata": {},
   "source": [
    "### 3. LDA & Dynamic Topic Model 돌리기"
   ]
  },
  {
   "cell_type": "code",
   "execution_count": 7,
   "metadata": {},
   "outputs": [],
   "source": [
    "from gensim.models import ldamodel\n",
    "from gensim.models import ldaseqmodel\n",
    "from gensim.models import CoherenceModel\n",
    "from gensim.corpora import Dictionary, bleicorpus\n",
    "from gensim.matutils import hellinger\n",
    "from gensim import corpora\n",
    "from tqdm import tqdm_notebook\n",
    "from time import time\n",
    "\n",
    "import os"
   ]
  },
  {
   "cell_type": "markdown",
   "metadata": {},
   "source": [
    "##### dictionary와 doc2bow 만들기 ( LDA에서 2019년도 것만 사용)"
   ]
  },
  {
   "cell_type": "code",
   "execution_count": 8,
   "metadata": {},
   "outputs": [
    {
     "name": "stdout",
     "output_type": "stream",
     "text": [
      "Dictionary(15576 unique tokens: ['따랑해', '많이받아❤️☺️', '새해복', '얘두라', '모두들']...)\n"
     ]
    }
   ],
   "source": [
    "# Create Dictionary\n",
    "if not os.path.exists('kakao(LDA)_dict'):\n",
    "    dictionary = corpora.Dictionary(tokenized_data)\n",
    "    #dictionary.filter_extremes(no_below=5, no_above=500)  # 이 줄의 코드는 n회 미만 또는 n회 이상을 지울 때 사용\n",
    "    dictionary.save('kakao(LDA)_dict')\n",
    "    print(dictionary)\n",
    "else:\n",
    "    dictionary = Dictionary.load('kakao(LDA)_dict')\n",
    "\n",
    "# Term Document Frequency (convert tokenized documents into a Document-Term Matrix)    \n",
    "if not os.path.exists('kakao(LDA)_corpus'):\n",
    "    corpus = [dictionary.doc2bow(doc) for doc in tokenized_data]\n",
    "    corpora.BleiCorpus.serialize('kakao(LDA)_corpus', corpus)\n",
    "else:\n",
    "    corpus = bleicorpus.BleiCorpus('kakao(LDA)_corpus')"
   ]
  },
  {
   "cell_type": "markdown",
   "metadata": {},
   "source": [
    "##### Run LDA model "
   ]
  },
  {
   "cell_type": "code",
   "execution_count": 9,
   "metadata": {},
   "outputs": [],
   "source": [
    "# DTM 분석에서 best topic으로 나온 결과를 비교하기 위해 같은 토픽 수로 설정.\n",
    "NUM_TOPICS = 8\n",
    "\n",
    "if not os.path.exists('kakao(LDA)_model'):\n",
    "    lda_model = ldamodel.LdaModel(corpus=corpus, id2word=dictionary,\n",
    "                                 num_topics=NUM_TOPICS, passes=100)\n",
    "    lda_model.save('kakao(LDA)_model')\n",
    "else:\n",
    "    lda_model = ldamodel.LdaModel.load('kakao(LDA)_model')"
   ]
  },
  {
   "cell_type": "markdown",
   "metadata": {},
   "source": [
    "##### Run DTM Model"
   ]
  },
  {
   "cell_type": "code",
   "execution_count": null,
   "metadata": {},
   "outputs": [],
   "source": [
    "# DTM 분석에서 best topic으로 나온 결과를 비교하기 위해 같은 토픽 수로 설정.\n",
    "NUM_TOPICS = 8\n",
    "\n",
    "dtm_model = ldaseqmodel.LdaSeqModel.load('kakao_dtm_model_8')"
   ]
  },
  {
   "cell_type": "markdown",
   "metadata": {},
   "source": [
    "##### LDA와 DTM 결과 비교해보기"
   ]
  },
  {
   "cell_type": "code",
   "execution_count": 10,
   "metadata": {},
   "outputs": [
    {
     "data": {
      "text/plain": [
       "[('와', 0.026996456),\n",
       " ('지의', 0.010319685),\n",
       " ('슈발', 0.00938031),\n",
       " ('어제', 0.008536017),\n",
       " ('너무', 0.008114147),\n",
       " ('나는', 0.0075079184),\n",
       " ('내', 0.0067872196),\n",
       " ('개웃기네', 0.006454602),\n",
       " ('https', 0.005857338),\n",
       " ('데분개', 0.004585403),\n",
       " ('스발', 0.004251745),\n",
       " ('오키', 0.0034917565),\n",
       " ('휴', 0.0033159594),\n",
       " ('계속', 0.0029926023),\n",
       " ('딱', 0.0029020165),\n",
       " ('졸라', 0.0026146),\n",
       " ('하고', 0.0026077342),\n",
       " ('실습', 0.002589013),\n",
       " ('교수님이', 0.0025836434),\n",
       " ('쥑이네', 0.0024566702)]"
      ]
     },
     "execution_count": 10,
     "metadata": {},
     "output_type": "execute_result"
    }
   ],
   "source": [
    "# 해당 토픽에 대한 결과를 직접 찍어봐서 얼마나 다른가 보는거야\n",
    "\n",
    "lda_model.show_topic(topicid=0, topn=20) #show_topic이 예쁘게 나와"
   ]
  },
  {
   "cell_type": "code",
   "execution_count": null,
   "metadata": {
    "scrolled": false
   },
   "outputs": [],
   "source": [
    "dtm_model.print_topic(topic=0, time=2, top_terms=20)"
   ]
  },
  {
   "cell_type": "markdown",
   "metadata": {},
   "source": [
    "- 강사님 코드에선 패턴과 확률값 차이가 많이 났음\n",
    "- DTM은 2018, 2019년도 모델을 학습을 하고 그 흐름이 파라미터가 반영돼서 넘어옴(데이터, 토픽의 분포가 반영돼서)\n",
    "- 근데 LDA는 그냥 2019년도 데이터만 이용 "
   ]
  },
  {
   "cell_type": "markdown",
   "metadata": {},
   "source": [
    "##### coherence score 계산 비교"
   ]
  },
  {
   "cell_type": "code",
   "execution_count": 11,
   "metadata": {},
   "outputs": [],
   "source": [
    "# DTM coherence score 비교를 위해 데이터 불러오기.\n",
    "\n",
    "dtm_corpus = corpus = bleicorpus.BleiCorpus('kakao(DTM)_corpus')\n",
    "dtm_dictionary = Dictionary.load('kakao(DTM)_dict')\n",
    "processing_data = [msg.split() for msg in data['Message']]"
   ]
  },
  {
   "cell_type": "code",
   "execution_count": null,
   "metadata": {},
   "outputs": [],
   "source": [
    "# 각 모델별 coherence score 계산.\n",
    "lda_cs = CoherenceModel(model=lda_model, texts=tokenized_data,\n",
    "                        corpus=corpus, dictionary=dictionary,\n",
    "                        coherence='c_v').get_coherence()\n",
    "\n",
    "topics_dtm = dtm_model.dtm_coherence(time=2)\n",
    "dtm_cs = CohereneceModel(topics=topics_dtm, texts=processing_data,\n",
    "                        corpus=dtm_corpus, dictionary=dtm_dictionary,\n",
    "                        coherence='c_v').get_coherence()"
   ]
  },
  {
   "cell_type": "code",
   "execution_count": null,
   "metadata": {},
   "outputs": [],
   "source": [
    "# 결과 확인.\n",
    "print(\"Coherence Score for LDA : %.3f\" % lda_cs)\n",
    "print(\"Coherence Score for DTM : %.3f\" % dtm_cs)"
   ]
  },
  {
   "cell_type": "markdown",
   "metadata": {},
   "source": [
    "- 강사님은 LDA : 0.774, DTM : 0.690으로 LDA가 더 높게 나왔음\n",
    "- Coherence Score가 더 높게 나온 게 topic modeling이 더 잘된 것과는 별개, 정확히는 반대래\n",
    "- topic modeling의 score가 높은 건 말 그대로 LDA 또는 DTM model이 얼마나 데이터들의 확률값을 수렴을 잘 했느냐의 지표\n",
    "- 그것과 사람이 생각하는 topic modeling이 잘 된 건 차이가 뚜렷하지\n",
    "    - 우리가 생각하는 키워드나 도메인 지식으로 봤을 때 이런 토픽들이 중요하겠구나라고 생각하는 게 다르니까\n",
    "- LDA와 DTM에 들어있는 똑같은 2019년도 데이터라고 할지라도, LDA는 그냥 2019년도 데이터 하나를 딱 사용했지만 DTM은 2018년도부터 넘어온 파라미터에서 update된 것이기 때문에 coherence score가 2019년도 데이터에서만 영향을 받았다고 할 수 없는 것"
   ]
  },
  {
   "cell_type": "markdown",
   "metadata": {},
   "source": [
    "- **제일 중요한 건 LDA와 DTM은 차이가 확실히 있다**라는 것을 알아야 해\n",
    "- 특히 카카오톡 데이터같은 경우는 연도별 변화를 하기엔 애매\n",
    "    - 전처리가 덜 돼서 의미가 그닥 없는 데이터,,\n",
    "    - 좀 더 전처리를 해서 유의미한 단어들이 나온다고 하면, 그 단어들에 대해선 시간 변화를 주면 확실히 차이가 많이 나겠지 (ex. 논문 데이터)\n",
    "- 그리고 카카오톡 데이터는 LDA와 DTM (topic modeling)을 했을 때 유의미한 데이터가 나온다고 물으면 애매해! \n",
    "    - 소셜 데이터고, 사용한 단체 카톡방 데이터는 공식적이기보단 사적인 대화가 오가다보니 양질의 데이터가 아니지\n",
    "    - 슬랙같은 업무용 대화 데이터나 공식적, 스터디를 위해 모인 카톡방 데이터라면 확실히 차이가 많이 날 것임"
   ]
  },
  {
   "cell_type": "code",
   "execution_count": null,
   "metadata": {},
   "outputs": [],
   "source": []
  }
 ],
 "metadata": {
  "kernelspec": {
   "display_name": "Python 3",
   "language": "python",
   "name": "python3"
  },
  "language_info": {
   "codemirror_mode": {
    "name": "ipython",
    "version": 3
   },
   "file_extension": ".py",
   "mimetype": "text/x-python",
   "name": "python",
   "nbconvert_exporter": "python",
   "pygments_lexer": "ipython3",
   "version": "3.7.1"
  }
 },
 "nbformat": 4,
 "nbformat_minor": 2
}
